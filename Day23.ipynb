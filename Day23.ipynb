{
 "cells": [
  {
   "cell_type": "markdown",
   "id": "239baea7-06e2-4de7-9ccf-4674b2844ee7",
   "metadata": {},
   "source": [
    "## Object Oriented programming"
   ]
  },
  {
   "cell_type": "code",
   "execution_count": null,
   "id": "a9dba721-d33d-451b-b052-e24beba3c239",
   "metadata": {},
   "outputs": [],
   "source": [
    "-> Why OOPs is Needede??\n",
    "  Without OOPs:\n",
    "   -- you have to write separate functions for each dataset\n",
    "   -- code get messy\n",
    "   -- hard to maintain or reuse\n",
    "  With OOPs:\n",
    "   -- Makes code cleaner\n",
    "   -- Reuse "
   ]
  },
  {
   "cell_type": "code",
   "execution_count": null,
   "id": "e152d000-218b-47e1-b90f-902fc27a6a8a",
   "metadata": {},
   "outputs": [],
   "source": [
    "-> OOP is a way of organizing code around objects and classes, rather than just functions and logic"
   ]
  },
  {
   "cell_type": "code",
   "execution_count": null,
   "id": "e72074fc-b959-4376-9d9b-53e1df8116fc",
   "metadata": {},
   "outputs": [],
   "source": [
    "OOPs concepts:\n",
    "1. object\n",
    "2. class\n",
    "3. inheritence\n",
    "4. encapsulation\n",
    "5. polymorphism\n",
    "6. abstraction"
   ]
  },
  {
   "cell_type": "code",
   "execution_count": null,
   "id": "5313b1b7-6562-46fb-8ed5-87488ec9dc57",
   "metadata": {},
   "outputs": [],
   "source": [
    "-> An object is an instance of a class\n",
    "-> class:\n",
    "     a blueprint(definition) of attributes(data) and methods(behavior)\n",
    "-> object:\n",
    "     a concrete thing from a class"
   ]
  },
  {
   "cell_type": "code",
   "execution_count": null,
   "id": "fdd7b894-c2e6-40e6-b649-6e0493898080",
   "metadata": {},
   "outputs": [],
   "source": [
    "class >> method(functions) >> variables"
   ]
  },
  {
   "cell_type": "code",
   "execution_count": 7,
   "id": "9de8c69a-cf5d-49dd-acd3-56a0aa20d198",
   "metadata": {},
   "outputs": [],
   "source": [
    "# Example\n",
    "class data_cleaning:\n",
    "    variable1=\"this is example\"\n",
    "    def handling_missing_values():\n",
    "        \"code for handling missing values\"\n",
    "    def treat_outliers():\n",
    "        \"code for treating outliers\"\n",
    "data=data_cleaning()"
   ]
  },
  {
   "cell_type": "code",
   "execution_count": 3,
   "id": "28d02596-149a-4d6f-a4e9-de314acb448d",
   "metadata": {},
   "outputs": [
    {
     "data": {
      "text/plain": [
       "['__add__',\n",
       " '__class__',\n",
       " '__class_getitem__',\n",
       " '__contains__',\n",
       " '__delattr__',\n",
       " '__delitem__',\n",
       " '__dir__',\n",
       " '__doc__',\n",
       " '__eq__',\n",
       " '__format__',\n",
       " '__ge__',\n",
       " '__getattribute__',\n",
       " '__getitem__',\n",
       " '__getstate__',\n",
       " '__gt__',\n",
       " '__hash__',\n",
       " '__iadd__',\n",
       " '__imul__',\n",
       " '__init__',\n",
       " '__init_subclass__',\n",
       " '__iter__',\n",
       " '__le__',\n",
       " '__len__',\n",
       " '__lt__',\n",
       " '__mul__',\n",
       " '__ne__',\n",
       " '__new__',\n",
       " '__reduce__',\n",
       " '__reduce_ex__',\n",
       " '__repr__',\n",
       " '__reversed__',\n",
       " '__rmul__',\n",
       " '__setattr__',\n",
       " '__setitem__',\n",
       " '__sizeof__',\n",
       " '__str__',\n",
       " '__subclasshook__',\n",
       " 'append',\n",
       " 'clear',\n",
       " 'copy',\n",
       " 'count',\n",
       " 'extend',\n",
       " 'index',\n",
       " 'insert',\n",
       " 'pop',\n",
       " 'remove',\n",
       " 'reverse',\n",
       " 'sort']"
      ]
     },
     "execution_count": 3,
     "metadata": {},
     "output_type": "execute_result"
    }
   ],
   "source": [
    "dir(list)"
   ]
  },
  {
   "cell_type": "code",
   "execution_count": 9,
   "id": "fa857c1b-b543-4fe7-ba4b-5b7d521aad94",
   "metadata": {},
   "outputs": [
    {
     "name": "stdout",
     "output_type": "stream",
     "text": [
      "BMW\n",
      "Black\n"
     ]
    }
   ],
   "source": [
    "# Example\n",
    "class car():\n",
    "    def brand(self): # self is used to get the data \n",
    "        print(\"BMW\")\n",
    "    def color(self):\n",
    "        print(\"Black\")\n",
    "car1=car()\n",
    "car1.brand()\n",
    "car1.color()"
   ]
  },
  {
   "cell_type": "code",
   "execution_count": null,
   "id": "5acfbcf0-1da6-4522-a45d-86b9b894f6e0",
   "metadata": {},
   "outputs": [],
   "source": [
    "-> self: it is used to represent an instance of the given class\n",
    "-> if we don't use self, python won't know which object's data to use\n",
    "-> functions are called as methods and variables are called as attributes"
   ]
  },
  {
   "cell_type": "markdown",
   "id": "7d25c943-1b86-4fa7-8e50-7a79be2cd19d",
   "metadata": {},
   "source": [
    "## init method"
   ]
  },
  {
   "cell_type": "code",
   "execution_count": null,
   "id": "61cb67fc-ae03-4fcd-806c-f13ac65f58b2",
   "metadata": {},
   "outputs": [],
   "source": [
    "-> init method is called as constructor\n",
    "-> it will automatically executed whenever we create new object\n",
    "-> it iniatilize the object's attributes (give them initial value)"
   ]
  },
  {
   "cell_type": "code",
   "execution_count": 10,
   "id": "603751dc-a4f7-4d6f-846e-a0aa5162360b",
   "metadata": {},
   "outputs": [
    {
     "name": "stdout",
     "output_type": "stream",
     "text": [
      "tata is driving\n"
     ]
    }
   ],
   "source": [
    "# Example\n",
    "class car():\n",
    "    def __init__(self,color,model):\n",
    "        self.color=color  # attribute\n",
    "        self.model=model\n",
    "    def drive(self):\n",
    "        print(f\"{self.model} is driving\")\n",
    "my_car=car(\"red\",\"tata\")\n",
    "my_car.drive()"
   ]
  },
  {
   "cell_type": "code",
   "execution_count": 14,
   "id": "8ab5f7bd-417b-4dff-8d71-24ad97b58ae5",
   "metadata": {},
   "outputs": [
    {
     "data": {
      "text/plain": [
       "120"
      ]
     },
     "execution_count": 14,
     "metadata": {},
     "output_type": "execute_result"
    }
   ],
   "source": [
    "# Example\n",
    "class calculator:\n",
    "    def __init__(self,a,b):\n",
    "        self.a=a\n",
    "        self.b=b\n",
    "    def add(self):\n",
    "        return self.a+self.b\n",
    "    def multiply(self):\n",
    "        return self.a*self.b\n",
    "    def sub(self):\n",
    "        return self.a-self.b\n",
    "answer=calculator(12,10)\n",
    "answer.add()\n",
    "answer.multiply()"
   ]
  },
  {
   "cell_type": "markdown",
   "id": "e57fcae9-3ef4-4b7b-952a-f6fe30a362f1",
   "metadata": {},
   "source": [
    "## Inheritance"
   ]
  },
  {
   "cell_type": "code",
   "execution_count": null,
   "id": "0143c692-2de5-444a-ac31-3f5fd7c7c689",
   "metadata": {},
   "outputs": [],
   "source": [
    "-> Reusability: reuse code from parent class\n",
    "-> Add new features without modifying existing code"
   ]
  },
  {
   "cell_type": "code",
   "execution_count": null,
   "id": "083bdd66-b965-40b1-9024-75020cb711ce",
   "metadata": {},
   "outputs": [],
   "source": [
    "Parent class (Base class): has common methods/attributes\n",
    "Child class (Derived class): inherits from parent + adds its own features"
   ]
  },
  {
   "cell_type": "code",
   "execution_count": 32,
   "id": "819983f2-9e2e-4a1a-97dd-ab06a3599e5b",
   "metadata": {},
   "outputs": [],
   "source": [
    "# Example\n",
    "class BasicCalculator:\n",
    "    def add(self,a,b):\n",
    "        return a+b\n",
    "    def subtract(self,a,b):\n",
    "        return a-b    "
   ]
  },
  {
   "cell_type": "code",
   "execution_count": 33,
   "id": "9e406dd1-4d6e-4658-aa18-c74a2498dd71",
   "metadata": {},
   "outputs": [],
   "source": [
    "class ScientificCalculator(BasicCalculator):\n",
    "    def square(self,a):\n",
    "        return a*a\n",
    "    def power(self,a,b):\n",
    "        return a**a"
   ]
  },
  {
   "cell_type": "code",
   "execution_count": 35,
   "id": "f9d12d59-42f2-4dd9-82ff-f2f4bbf5b487",
   "metadata": {},
   "outputs": [
    {
     "name": "stdout",
     "output_type": "stream",
     "text": [
      "100\n",
      "25\n"
     ]
    }
   ],
   "source": [
    "calc=ScientificCalculator()\n",
    "print(calc.square(10))\n",
    "print(calc.add(10,15))"
   ]
  },
  {
   "cell_type": "markdown",
   "id": "e55939da-36bb-4c26-a027-ae54fec98c20",
   "metadata": {},
   "source": [
    "## Types of Inheritance with Examples"
   ]
  },
  {
   "cell_type": "markdown",
   "id": "aaf92d03-0b3a-4918-a685-4b027304bbfd",
   "metadata": {},
   "source": [
    "## 1. single inheritance"
   ]
  },
  {
   "cell_type": "code",
   "execution_count": null,
   "id": "a247d500-6c18-43de-a783-0e9f11984f50",
   "metadata": {},
   "outputs": [],
   "source": [
    "1. single inheritance\n",
    "one parent class, one child class"
   ]
  },
  {
   "cell_type": "code",
   "execution_count": 36,
   "id": "2343ecb8-af44-4ccd-ac4b-8fffec094b77",
   "metadata": {},
   "outputs": [
    {
     "name": "stdout",
     "output_type": "stream",
     "text": [
      "21\n",
      "10\n"
     ]
    }
   ],
   "source": [
    "# Example\n",
    "class MathOperations:\n",
    "    def add(self,a,b):\n",
    "        return a+b\n",
    "class Multiplication(MathOperations):\n",
    "    def multiply(self,a,b):\n",
    "        return a*b\n",
    "calc=Multiplication()\n",
    "print(calc.add(10,11))\n",
    "print(calc.multiply(2,5))"
   ]
  },
  {
   "cell_type": "markdown",
   "id": "eab072e7-ccfb-4f08-ab88-29aace5cca46",
   "metadata": {},
   "source": [
    "## 2. multiple inheritance"
   ]
  },
  {
   "cell_type": "code",
   "execution_count": null,
   "id": "d594fc3c-31e7-4765-9fe0-87ce938a25ab",
   "metadata": {},
   "outputs": [],
   "source": [
    "-> one child class, multiple parent class"
   ]
  },
  {
   "cell_type": "code",
   "execution_count": 37,
   "id": "4b403b4e-4bdb-4bca-9fb0-7d5ce5648b19",
   "metadata": {},
   "outputs": [
    {
     "name": "stdout",
     "output_type": "stream",
     "text": [
      "8\n",
      "15\n"
     ]
    }
   ],
   "source": [
    "# Example\n",
    "class Addition:\n",
    "    def add(self,a,b):\n",
    "        return a+b\n",
    "class Multiplication:\n",
    "    def multiply(self,a,b):\n",
    "        return a*b\n",
    "class Calculator(Addition,Multiplication):\n",
    "    pass\n",
    "calc=Calculator()\n",
    "print(calc.add(5,3))\n",
    "print(calc.multiply(5,3))"
   ]
  },
  {
   "cell_type": "markdown",
   "id": "76a13dd2-7fcb-4ab3-bed3-313a271db6cd",
   "metadata": {},
   "source": [
    "## 3. multilevel inheritance"
   ]
  },
  {
   "cell_type": "code",
   "execution_count": null,
   "id": "1305ad84-00c6-4e9b-b8e9-62a69ef940e2",
   "metadata": {},
   "outputs": [],
   "source": [
    "-> chain of inheritance (Grandparent >> Parent >> Child)"
   ]
  },
  {
   "cell_type": "code",
   "execution_count": 3,
   "id": "e5a9ea14-72f9-4838-a27f-5cdaa2fad687",
   "metadata": {},
   "outputs": [
    {
     "name": "stdout",
     "output_type": "stream",
     "text": [
      "Breathing...\n",
      "Walking...\n",
      "Barking...\n"
     ]
    }
   ],
   "source": [
    "# Example\n",
    "class Animal:\n",
    "    def breathe(self):\n",
    "        print(\"Breathing...\")\n",
    "class Mammal(Animal):\n",
    "    def walk(self):\n",
    "        print(\"Walking...\")\n",
    "class Dog(Mammal):\n",
    "    def bark(self):\n",
    "        print(\"Barking...\")\n",
    "my_dog=Dog()\n",
    "my_dog.breathe()\n",
    "my_dog.walk()\n",
    "my_dog.bark()"
   ]
  },
  {
   "cell_type": "markdown",
   "id": "4f54ecdc-2208-4e6e-85ff-7725dbaf9617",
   "metadata": {},
   "source": [
    "## 4. Hierarchical inheritance"
   ]
  },
  {
   "cell_type": "code",
   "execution_count": null,
   "id": "02d7b758-75d5-4ee9-aafc-86d0ee77777c",
   "metadata": {},
   "outputs": [],
   "source": [
    "-> one parent, multiple children"
   ]
  },
  {
   "cell_type": "code",
   "execution_count": 4,
   "id": "78371ca7-c639-498e-9f9a-5b39c0625c37",
   "metadata": {},
   "outputs": [
    {
     "name": "stdout",
     "output_type": "stream",
     "text": [
      "8\n",
      "6\n",
      "14\n"
     ]
    }
   ],
   "source": [
    "# Example\n",
    "class Calculator:\n",
    "    def do_math(self, a, b):\n",
    "        print(\"Basic math operation\")\n",
    "\n",
    "# Child Class 1\n",
    "class Adder(Calculator):\n",
    "    def add(self, a, b):\n",
    "        return a + b\n",
    "\n",
    "# Child Class 2\n",
    "class Subtractor(Calculator):\n",
    "    def subtract(self, a, b):\n",
    "        return a - b\n",
    "\n",
    "# Child Class 3\n",
    "class Multiplier(Calculator):\n",
    "    def multiply(self, a, b):\n",
    "        return a * b\n",
    "\n",
    "# Usage\n",
    "adder = Adder()\n",
    "print(adder.add(5, 3))  \n",
    "\n",
    "subtractor = Subtractor()\n",
    "print(subtractor.subtract(10, 4)) \n",
    "\n",
    "multiplier = Multiplier()\n",
    "print(multiplier.multiply(7, 2)) "
   ]
  },
  {
   "cell_type": "markdown",
   "id": "5853f49a-6ddb-4bee-a9ef-e71032b2ac95",
   "metadata": {},
   "source": [
    "## 5. hybrid inheritance"
   ]
  },
  {
   "cell_type": "code",
   "execution_count": null,
   "id": "bd156c41-da26-4abd-ab51-d787090a4631",
   "metadata": {},
   "outputs": [],
   "source": [
    "-> mix of multiple and multilevel inheritance\n",
    "-> child inherits from two parents who themselves inherited from a grandparent"
   ]
  },
  {
   "cell_type": "code",
   "execution_count": 5,
   "id": "093a852b-d2ec-409c-9dc4-a5304d14537d",
   "metadata": {},
   "outputs": [
    {
     "name": "stdout",
     "output_type": "stream",
     "text": [
      "Basic math: addition, subtraction\n",
      "Advanced math: exponents, roots\n",
      "Logical math: AND, OR\n",
      "Super math: AI-powered calculations\n"
     ]
    }
   ],
   "source": [
    "# Example\n",
    "# Grandparent Class\n",
    "class BasicMath:\n",
    "    def basic_op(self):\n",
    "        print(\"Basic math: addition, subtraction\")\n",
    "\n",
    "# Parent Class 1\n",
    "class AdvancedMath(BasicMath):\n",
    "    def advanced_op(self):\n",
    "        print(\"Advanced math: exponents, roots\")\n",
    "\n",
    "# Parent Class 2\n",
    "class LogicalMath:\n",
    "    def logical_op(self):\n",
    "        print(\"Logical math: AND, OR\")\n",
    "\n",
    "# Hybrid Child Class\n",
    "class SuperCalculator(AdvancedMath, LogicalMath):\n",
    "    def new_op(self):\n",
    "        print(\"Super math: AI-powered calculations\")\n",
    "\n",
    "# Usage\n",
    "calc = SuperCalculator()\n",
    "calc.basic_op()       # From BasicMath (multilevel)\n",
    "calc.advanced_op()    # From AdvancedMath (parent)\n",
    "calc.logical_op()     # From LogicalMath (multiple)\n",
    "calc.new_op()         # Own method"
   ]
  },
  {
   "cell_type": "markdown",
   "id": "6f895577-bd7c-449c-b0fe-91e810bc5adc",
   "metadata": {},
   "source": [
    "## Encapsulation"
   ]
  },
  {
   "cell_type": "code",
   "execution_count": null,
   "id": "1b794ad9-f507-4fdc-9b38-61e304361e23",
   "metadata": {},
   "outputs": [],
   "source": [
    "-> whenever we want to restrict data, methods/functions,variables we use encapsulation\n",
    "-> used to restrict the access of methods and variables\n",
    "-> protect data from modification\n",
    "-> when we use __ \"double underscore\" it will become private variable\n",
    "var1=\"python\" #global \n",
    "__var1=\"python\"  # private"
   ]
  },
  {
   "cell_type": "code",
   "execution_count": 6,
   "id": "b0550821-5b14-47a8-929a-c3ad97c861b1",
   "metadata": {},
   "outputs": [
    {
     "name": "stdout",
     "output_type": "stream",
     "text": [
      "None\n",
      "None\n",
      "5\n"
     ]
    }
   ],
   "source": [
    "# Example\n",
    "class Calculator:\n",
    "    def __init__(self):\n",
    "        self.__result=0\n",
    "    def add(self,value):\n",
    "        self.__result+=value\n",
    "    def subtract(self,value):\n",
    "        self.__result-=value\n",
    "    def get_result(self):\n",
    "        return self.__result\n",
    "\n",
    "calc=Calculator()\n",
    "print(calc.add(10))\n",
    "print(calc.subtract(5))\n",
    "print(calc.get_result())"
   ]
  },
  {
   "cell_type": "markdown",
   "id": "481d5011-bddf-492d-a1d0-9c5925d59fc7",
   "metadata": {},
   "source": [
    "## Polymorphism"
   ]
  },
  {
   "cell_type": "code",
   "execution_count": null,
   "id": "59380800-81b5-4b0e-8b9e-646c5342ce6e",
   "metadata": {},
   "outputs": [],
   "source": [
    "-> poly means many\n",
    "-> Morphism means forms\n",
    "-> Polymorphism means many forms\n",
    "-> same function name is used in many class"
   ]
  },
  {
   "cell_type": "code",
   "execution_count": 8,
   "id": "5a6bce44-36cb-4d5a-9fb4-b37ebf698a7d",
   "metadata": {},
   "outputs": [],
   "source": [
    "# example\n",
    "class Shape:\n",
    "    def area(self):\n",
    "        pass"
   ]
  },
  {
   "cell_type": "code",
   "execution_count": 10,
   "id": "e0e40319-43e4-4a6a-86ef-d83468e1ca4b",
   "metadata": {},
   "outputs": [
    {
     "name": "stdout",
     "output_type": "stream",
     "text": [
      "78.5\n",
      "16\n"
     ]
    }
   ],
   "source": [
    "class Circle(Shape):\n",
    "    def __init__(self, radius):\n",
    "        self.radius = radius\n",
    "\n",
    "    def area(self):\n",
    "        return 3.14 * self.radius * self.radius  # Circle's version\n",
    "\n",
    "class Square(Shape):\n",
    "    def __init__(self, side):\n",
    "        self.side = side\n",
    "\n",
    "    def area(self):\n",
    "        return self.side * self.side  # Square's version\n",
    "\n",
    "circle = Circle(5)\n",
    "square = Square(4)\n",
    "print(circle.area())\n",
    "print(square.area())"
   ]
  },
  {
   "cell_type": "markdown",
   "id": "5ce0aca5-8125-495a-aaa9-7575031f71f0",
   "metadata": {},
   "source": [
    "## Abstraction"
   ]
  },
  {
   "cell_type": "code",
   "execution_count": null,
   "id": "5e68d21f-eebf-4035-87af-635c1cdef2d1",
   "metadata": {},
   "outputs": [],
   "source": [
    "-> hiding complex details and only showing essential features of an object"
   ]
  },
  {
   "cell_type": "markdown",
   "id": "2750985b-6097-45ed-af21-554bfca3557d",
   "metadata": {},
   "source": [
    "Blueprint of your project\n",
    "Blueprint for other Classes\n",
    "\n",
    ">> It is used to hide the internal functionality of your project\n",
    ">> Abstract Class is only used for declearation, not for implementaion\n",
    ">> we can not create an object of Abstract class\n",
    "\n",
    ">> Abstract class contains one or more abstract method\n",
    "\n",
    "from abc import abstractmethod,ABC\n",
    "\n",
    "@abstractmethod  Decorator is  used to define abstract method\n",
    "ABC is used for abstract class"
   ]
  },
  {
   "cell_type": "code",
   "execution_count": 11,
   "id": "f749df10-ea9e-4612-a107-de2edd657468",
   "metadata": {},
   "outputs": [],
   "source": [
    "from abc import abstractmethod, ABC"
   ]
  },
  {
   "cell_type": "code",
   "execution_count": null,
   "id": "d70bc686-498c-4e65-808c-b6ba4c6f2af1",
   "metadata": {},
   "outputs": [],
   "source": [
    "abc>>module\n",
    "ABC>> abstract base class"
   ]
  },
  {
   "cell_type": "code",
   "execution_count": 12,
   "id": "e09c0b9b-cd08-4cd2-8081-03b1a61d5b3b",
   "metadata": {},
   "outputs": [],
   "source": [
    "class project_blueprint(ABC):\n",
    "    @abstractmethod\n",
    "    def registration(Self):\n",
    "        pass"
   ]
  },
  {
   "cell_type": "code",
   "execution_count": 14,
   "id": "dcc0dd7c-831a-4607-874e-3bea141dc69c",
   "metadata": {},
   "outputs": [
    {
     "data": {
      "text/plain": [
       "'Car is moving'"
      ]
     },
     "execution_count": 14,
     "metadata": {},
     "output_type": "execute_result"
    }
   ],
   "source": [
    "class car(ABC):\n",
    "    @abstractmethod\n",
    "    def start(self):\n",
    "        pass\n",
    "    @abstractmethod\n",
    "    def drive(self):\n",
    "        pass\n",
    "class Tata(car):\n",
    "    def start(self):\n",
    "        return \"Car is started by using starter\"\n",
    "    def drive(self):\n",
    "        return \"Car is moving\"\n",
    "\n",
    "my_car=Tata()\n",
    "my_car.start()\n",
    "my_car.drive()"
   ]
  },
  {
   "cell_type": "code",
   "execution_count": null,
   "id": "86630d76-135c-414b-b008-8997eaab6be8",
   "metadata": {},
   "outputs": [],
   "source": []
  }
 ],
 "metadata": {
  "kernelspec": {
   "display_name": "Python 3 (ipykernel)",
   "language": "python",
   "name": "python3"
  },
  "language_info": {
   "codemirror_mode": {
    "name": "ipython",
    "version": 3
   },
   "file_extension": ".py",
   "mimetype": "text/x-python",
   "name": "python",
   "nbconvert_exporter": "python",
   "pygments_lexer": "ipython3",
   "version": "3.13.5"
  }
 },
 "nbformat": 4,
 "nbformat_minor": 5
}
