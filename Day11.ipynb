{
 "cells": [
  {
   "cell_type": "markdown",
   "id": "62924b8e-973f-4593-920f-1727306fbd4a",
   "metadata": {},
   "source": [
    "## List"
   ]
  },
  {
   "cell_type": "code",
   "execution_count": null,
   "id": "5257b5cd-48a2-4357-ab14-427587b24465",
   "metadata": {},
   "outputs": [],
   "source": [
    "-> collection of items\n",
    "-> can add any datatypes in list\n",
    "-> int, float,str,complex,list,dict,tuple,frozenset,set,panda series"
   ]
  },
  {
   "cell_type": "code",
   "execution_count": 2,
   "id": "7fd8ee14-8609-4b0f-8df8-edd39da32288",
   "metadata": {},
   "outputs": [
    {
     "data": {
      "text/plain": [
       "list"
      ]
     },
     "execution_count": 2,
     "metadata": {},
     "output_type": "execute_result"
    }
   ],
   "source": [
    "# example\n",
    "list1=[1,2,3,4]\n",
    "type(list1)\n",
    "list2=[\"ratna\",\"deepthi\",\"anjitha\"]\n",
    "type(list2)"
   ]
  },
  {
   "cell_type": "code",
   "execution_count": 3,
   "id": "28566a1f-72a2-458c-93fe-636c5f09c045",
   "metadata": {},
   "outputs": [
    {
     "data": {
      "text/plain": [
       "4"
      ]
     },
     "execution_count": 3,
     "metadata": {},
     "output_type": "execute_result"
    }
   ],
   "source": [
    "l=[1,2,[3,4],5]\n",
    "len(l)   # [3,4] is taken as single one"
   ]
  },
  {
   "cell_type": "code",
   "execution_count": 8,
   "id": "9c740d7a-d613-4372-a87a-bb7d4a6bf71d",
   "metadata": {},
   "outputs": [
    {
     "name": "stdout",
     "output_type": "stream",
     "text": [
      "<class 'str'>\n",
      "<class 'int'>\n",
      "<class 'float'>\n",
      "<class 'complex'>\n",
      "4\n"
     ]
    }
   ],
   "source": [
    "list1=[\"ratna\",1,2.0,(3+4j)]\n",
    "type(list1)\n",
    "print(type(list1[0]))\n",
    "print(type(list1[1]))\n",
    "print(type(list1[2]))\n",
    "print(type(list1[3]))\n",
    "print(len(list1))"
   ]
  },
  {
   "cell_type": "markdown",
   "id": "cbfb921c-820d-4268-9c48-ea6c032f47cf",
   "metadata": {},
   "source": [
    "## Properties of list datatype"
   ]
  },
  {
   "cell_type": "code",
   "execution_count": null,
   "id": "c281ecc7-e5d5-48fd-ae73-76950181a8c2",
   "metadata": {},
   "outputs": [],
   "source": [
    "-> mutable - changable(add,delete,update)\n",
    "-> ordered datatypes\n",
    "-> duplicate items are allowed\n",
    "-> enclosed by []\n",
    "-> heterogeneous\n",
    "-> comma separated"
   ]
  },
  {
   "cell_type": "code",
   "execution_count": 9,
   "id": "d7ca2b60-d4c7-45b1-8fe8-cbcaf37e4533",
   "metadata": {},
   "outputs": [
    {
     "name": "stdout",
     "output_type": "stream",
     "text": [
      "['ratna', 1, 2.3, (4+5j)]\n",
      "['list', 1, 2.3, (4+5j)]\n"
     ]
    }
   ],
   "source": [
    "# Example\n",
    "list1=[\"ratna\",1,2.3,4+5j]\n",
    "print(list1)\n",
    "list1[0]=\"list\"\n",
    "print(list1)"
   ]
  },
  {
   "cell_type": "markdown",
   "id": "181bb32e-82e4-41e4-bb9f-476a153907df",
   "metadata": {},
   "source": [
    "## Indexing"
   ]
  },
  {
   "cell_type": "code",
   "execution_count": null,
   "id": "ec291a3e-810b-4c7f-9b7a-26df56e26e25",
   "metadata": {},
   "outputs": [],
   "source": [
    "-> starts from zero(left to right) - positive indexing\n",
    "-> starts from -1(right to left) - negative indexing"
   ]
  },
  {
   "cell_type": "code",
   "execution_count": 10,
   "id": "bda93534-425b-4004-a9d9-60cc99a17f3e",
   "metadata": {},
   "outputs": [
    {
     "name": "stdout",
     "output_type": "stream",
     "text": [
      "r\n",
      "a\n"
     ]
    }
   ],
   "source": [
    "list1=['r','a','t','n','a']\n",
    "print(list1[0])\n",
    "print(list1[-1])"
   ]
  },
  {
   "cell_type": "markdown",
   "id": "cc2de533-a1f6-491d-9e86-464d4eb3ca83",
   "metadata": {},
   "source": [
    "## Slicing"
   ]
  },
  {
   "cell_type": "code",
   "execution_count": null,
   "id": "d1cf6e65-9df5-4278-96b5-f9f5c7d93ff3",
   "metadata": {},
   "outputs": [],
   "source": [
    "-> syntax:\n",
    "        List[start:end:stepsize]"
   ]
  },
  {
   "cell_type": "code",
   "execution_count": 11,
   "id": "5fc5f1dd-ad0b-4f15-adc1-411a4d34ab9e",
   "metadata": {},
   "outputs": [
    {
     "data": {
      "text/plain": [
       "[2, 4, 6, 8, 10]"
      ]
     },
     "execution_count": 11,
     "metadata": {},
     "output_type": "execute_result"
    }
   ],
   "source": [
    "# Example\n",
    "list1=[1,2,3,4,5,6,7,8,9,10]\n",
    "list1[1:10:2]"
   ]
  },
  {
   "cell_type": "code",
   "execution_count": 12,
   "id": "5b7c4e50-1892-43fa-8d5f-095cb3bf9c2c",
   "metadata": {},
   "outputs": [
    {
     "data": {
      "text/plain": [
       "[1, 3, 5, 7, 9]"
      ]
     },
     "execution_count": 12,
     "metadata": {},
     "output_type": "execute_result"
    }
   ],
   "source": [
    "list1[::2] #stepsize"
   ]
  },
  {
   "cell_type": "code",
   "execution_count": 13,
   "id": "6284b626-f543-4bd4-b89a-d060a1822c6c",
   "metadata": {},
   "outputs": [
    {
     "data": {
      "text/plain": [
       "[2, 8]"
      ]
     },
     "execution_count": 13,
     "metadata": {},
     "output_type": "execute_result"
    }
   ],
   "source": [
    "list1[1::6] # start::stepsize"
   ]
  },
  {
   "cell_type": "code",
   "execution_count": 15,
   "id": "95ee50cb-b1a5-414b-9cbb-1cb74cb8651a",
   "metadata": {},
   "outputs": [
    {
     "name": "stdout",
     "output_type": "stream",
     "text": [
      "[1, 3, 5, 7, 9]\n",
      "[9, 8, 7, 6, 5, 4, 3, 2, 1]\n"
     ]
    }
   ],
   "source": [
    "list1=[1,2,3,4,5,6,7,8,9]\n",
    "print(list1[::2])  # alternate items from the list1\n",
    "print(list1[::-1]) # reversed list"
   ]
  },
  {
   "cell_type": "code",
   "execution_count": 19,
   "id": "034c06c7-08d1-44b5-8009-8568a3ac6950",
   "metadata": {},
   "outputs": [
    {
     "name": "stdout",
     "output_type": "stream",
     "text": [
      "[4, 5, 6]\n",
      "[5, 6]\n"
     ]
    }
   ],
   "source": [
    "list1=[1,2,3,[4,5,6],[7,8,9]]\n",
    "print(list1[3]) # sublist\n",
    "print(list1[3][1:]) # accessing the sublist items"
   ]
  },
  {
   "cell_type": "code",
   "execution_count": 21,
   "id": "707f5e8e-2ec5-42ce-9143-a77cb7182509",
   "metadata": {},
   "outputs": [
    {
     "name": "stdout",
     "output_type": "stream",
     "text": [
      "[12, 56, 98]\n"
     ]
    }
   ],
   "source": [
    "# akternate numbers from item with index number 5\n",
    "list1=[1,2,3,[44,55,66],[777,888,999],[12,34,56,78,98]]\n",
    "print(list1[5][::2])"
   ]
  },
  {
   "cell_type": "markdown",
   "id": "d8c522e5-0706-4421-b432-4469531d4da1",
   "metadata": {},
   "source": [
    "## Accessing the list by using for loop"
   ]
  },
  {
   "cell_type": "code",
   "execution_count": 23,
   "id": "10fd99de-f8e4-4532-ba12-2a4dcb02d130",
   "metadata": {},
   "outputs": [
    {
     "name": "stdout",
     "output_type": "stream",
     "text": [
      "1\n",
      "2\n",
      "3\n",
      "4\n",
      "5\n"
     ]
    }
   ],
   "source": [
    "list2=[1,2,3,4,5]\n",
    "for i in list2:\n",
    "    print(i)"
   ]
  },
  {
   "cell_type": "code",
   "execution_count": 25,
   "id": "6f8d393e-b294-41af-8d22-28d2f5463ba2",
   "metadata": {},
   "outputs": [
    {
     "name": "stdout",
     "output_type": "stream",
     "text": [
      "Area name is  MARTHA\n",
      "**********\n",
      "Area name is  KUNDANA\n",
      "**********\n",
      "Area name is  JALA\n",
      "**********\n"
     ]
    }
   ],
   "source": [
    "list2=['martha','kundana','jala']\n",
    "for i in list2:\n",
    "    print(\"Area name is \",i.upper())\n",
    "    print(\"*\"*10)"
   ]
  },
  {
   "cell_type": "code",
   "execution_count": null,
   "id": "6ec27311-aae6-41b8-bf7d-4252be9abc36",
   "metadata": {},
   "outputs": [],
   "source": []
  }
 ],
 "metadata": {
  "kernelspec": {
   "display_name": "Python 3 (ipykernel)",
   "language": "python",
   "name": "python3"
  },
  "language_info": {
   "codemirror_mode": {
    "name": "ipython",
    "version": 3
   },
   "file_extension": ".py",
   "mimetype": "text/x-python",
   "name": "python",
   "nbconvert_exporter": "python",
   "pygments_lexer": "ipython3",
   "version": "3.13.5"
  }
 },
 "nbformat": 4,
 "nbformat_minor": 5
}
