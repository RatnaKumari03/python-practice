{
 "cells": [
  {
   "cell_type": "markdown",
   "id": "3eb1a75b-9a3b-4709-985c-ba109b839c88",
   "metadata": {},
   "source": [
    "## Q1. Create a list of 5 numbers. Print the first and last elements using indexing."
   ]
  },
  {
   "cell_type": "code",
   "execution_count": 2,
   "id": "dd36b506-7838-451d-952f-7096e42f26ac",
   "metadata": {},
   "outputs": [
    {
     "name": "stdout",
     "output_type": "stream",
     "text": [
      "The First element is:  19\n",
      "The Last elemnet is:  10\n"
     ]
    }
   ],
   "source": [
    "list1=[19,3,20,29,10]\n",
    "print(\"The First element is: \",list1[0])\n",
    "print(\"The Last elemnet is: \",list1[-1])"
   ]
  },
  {
   "cell_type": "markdown",
   "id": "d223b1d2-e5c9-4d45-a82a-cc19904a5c14",
   "metadata": {},
   "source": [
    "## Q2. Print the list in reverse using slicing."
   ]
  },
  {
   "cell_type": "code",
   "execution_count": 4,
   "id": "a8d907a4-3601-4fff-9102-2b67feefe7b3",
   "metadata": {},
   "outputs": [
    {
     "name": "stdout",
     "output_type": "stream",
     "text": [
      "[19, 3, 20, 29, 10]\n",
      "The list in reverse order:  [10, 29, 20, 3, 19]\n"
     ]
    }
   ],
   "source": [
    "print(list1)\n",
    "print(\"The list in reverse order: \",list1[::-1])"
   ]
  },
  {
   "cell_type": "markdown",
   "id": "e621aeba-bd86-40a9-9282-c5f73e554b66",
   "metadata": {},
   "source": [
    "## Q3. Print the elements from index 1 to 3 (inclusive)."
   ]
  },
  {
   "cell_type": "code",
   "execution_count": 5,
   "id": "371862ff-9e67-4f48-9b52-54e7db4abf3c",
   "metadata": {},
   "outputs": [
    {
     "name": "stdout",
     "output_type": "stream",
     "text": [
      "[19, 3, 20, 29, 10]\n",
      "The elements from index 1 to 3 are:  [3, 20, 29]\n"
     ]
    }
   ],
   "source": [
    "print(list1)\n",
    "print(\"The elements from index 1 to 3 are: \",list1[1:4])"
   ]
  },
  {
   "cell_type": "markdown",
   "id": "b415305f-18bb-41d4-ba8b-699f58edb463",
   "metadata": {},
   "source": [
    "## Q4. Find the sum of all elements in the list using a for loop."
   ]
  },
  {
   "cell_type": "code",
   "execution_count": 8,
   "id": "a5b69a35-d729-410b-9451-3cc512eb6d89",
   "metadata": {},
   "outputs": [
    {
     "name": "stdout",
     "output_type": "stream",
     "text": [
      "The sum of all elements in the list is:  81\n"
     ]
    }
   ],
   "source": [
    "count=0\n",
    "for i in list1:\n",
    "    count+=i\n",
    "print(\"The sum of all elements in the list is: \",count)"
   ]
  },
  {
   "cell_type": "markdown",
   "id": "f8fd196d-01f1-4e34-aea8-9444c27958d0",
   "metadata": {},
   "source": [
    "## Q5. Count how many even numbers are present in the list."
   ]
  },
  {
   "cell_type": "code",
   "execution_count": 15,
   "id": "adf64851-f5ac-404f-b5a8-6edc9382e4a6",
   "metadata": {},
   "outputs": [
    {
     "name": "stdout",
     "output_type": "stream",
     "text": [
      "[19, 3, 20, 29, 10]\n",
      "The even numbers present in the list are:  2\n"
     ]
    }
   ],
   "source": [
    "print(list1)\n",
    "count=0\n",
    "for i in list1:\n",
    "    if i%2==0:\n",
    "        count+=1\n",
    "print(\"The even numbers present in the list are: \",count)"
   ]
  },
  {
   "cell_type": "markdown",
   "id": "35cd746b-0175-4914-bcba-cc071f047a96",
   "metadata": {},
   "source": [
    "## Q6. Print only the elements at even index positions."
   ]
  },
  {
   "cell_type": "code",
   "execution_count": 18,
   "id": "2912a313-943c-4ab4-9bb8-0a7183ad7213",
   "metadata": {},
   "outputs": [
    {
     "name": "stdout",
     "output_type": "stream",
     "text": [
      "[19, 3, 20, 29, 10]\n",
      "[19, 20, 10]\n"
     ]
    }
   ],
   "source": [
    "print(list1)\n",
    "print(list1[0::2])"
   ]
  },
  {
   "cell_type": "markdown",
   "id": "3e0ee0f8-2911-4864-989d-3bfe2ad86232",
   "metadata": {},
   "source": [
    "## Q7. Create a list of 5 names. Print each name in uppercase using a for loop."
   ]
  },
  {
   "cell_type": "code",
   "execution_count": 20,
   "id": "0f9df110-41cb-4d54-b3f4-f9543b635cf1",
   "metadata": {},
   "outputs": [
    {
     "name": "stdout",
     "output_type": "stream",
     "text": [
      "RATNA\n",
      "GAYATHRI\n",
      "BHAVANA\n",
      "SUNITHA\n",
      "ANJITHA\n"
     ]
    }
   ],
   "source": [
    "list2=[\"ratna\",\"gayathri\",\"bhavana\",\"sunitha\",\"anjitha\"]\n",
    "for i in list2:\n",
    "    print(i.upper())"
   ]
  },
  {
   "cell_type": "markdown",
   "id": "0fd81337-4cee-4df1-8a6a-1c5bb3176e53",
   "metadata": {},
   "source": [
    "## Q8. Print the length of the list using len() function."
   ]
  },
  {
   "cell_type": "code",
   "execution_count": 22,
   "id": "01cbf4d3-5fe7-44f9-9935-48771614c601",
   "metadata": {},
   "outputs": [
    {
     "name": "stdout",
     "output_type": "stream",
     "text": [
      "['ratna', 'gayathri', 'bhavana', 'sunitha', 'anjitha']\n",
      "5\n"
     ]
    }
   ],
   "source": [
    "print(list2)\n",
    "print(len(list2))"
   ]
  },
  {
   "cell_type": "markdown",
   "id": "3c9ee8a1-d4ef-4883-a1a0-03ca48f38f88",
   "metadata": {},
   "source": [
    "## Q9. Replace the 3rd element of the list with a new value."
   ]
  },
  {
   "cell_type": "code",
   "execution_count": 26,
   "id": "c60c5e60-8ec7-4abc-830e-74229676614e",
   "metadata": {},
   "outputs": [
    {
     "name": "stdout",
     "output_type": "stream",
     "text": [
      "['ratna', 'gayathri', 'bhavana', 'sunitha', 'anjitha']\n",
      "['ratna', 'gayathri', 'bhavs', 'sunitha', 'anjitha']\n"
     ]
    }
   ],
   "source": [
    "print(list2)\n",
    "list2[2]=\"bhavs\"\n",
    "print(list2)"
   ]
  },
  {
   "cell_type": "code",
   "execution_count": null,
   "id": "0b5236fb-67cb-4dce-8640-6a1f04bd6701",
   "metadata": {},
   "outputs": [],
   "source": []
  }
 ],
 "metadata": {
  "kernelspec": {
   "display_name": "Python 3 (ipykernel)",
   "language": "python",
   "name": "python3"
  },
  "language_info": {
   "codemirror_mode": {
    "name": "ipython",
    "version": 3
   },
   "file_extension": ".py",
   "mimetype": "text/x-python",
   "name": "python",
   "nbconvert_exporter": "python",
   "pygments_lexer": "ipython3",
   "version": "3.13.5"
  }
 },
 "nbformat": 4,
 "nbformat_minor": 5
}
