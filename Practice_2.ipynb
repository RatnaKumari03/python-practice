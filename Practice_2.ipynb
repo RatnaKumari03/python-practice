{
 "cells": [
  {
   "cell_type": "markdown",
   "id": "62f7fca9-f0c2-494c-9323-dc768f67b633",
   "metadata": {},
   "source": [
    "### 1.What is type casting? Give an example."
   ]
  },
  {
   "cell_type": "code",
   "execution_count": null,
   "id": "49b3c7f3-e9fc-4cb1-9d46-209b4fb68f22",
   "metadata": {},
   "outputs": [],
   "source": [
    "-> Type casting is used to specify variable type\n",
    "-> we can convert variable from one datatype to another datatype.\n",
    "-> int-float,float-int,int-complex,etc...\n",
    "-> Not all Conversions are possible."
   ]
  },
  {
   "cell_type": "code",
   "execution_count": 3,
   "id": "fd84140d-4f93-4294-ba60-659bc3792a62",
   "metadata": {},
   "outputs": [
    {
     "name": "stdout",
     "output_type": "stream",
     "text": [
      "num1= 11 <class 'int'>\n",
      "num2= 11.0 <class 'float'>\n"
     ]
    }
   ],
   "source": [
    "#Example converting int to float\n",
    "num1=11\n",
    "num2=float(num1)\n",
    "print(\"num1=\",num1,type(num1))\n",
    "print(\"num2=\",num2,type(num2))"
   ]
  },
  {
   "cell_type": "markdown",
   "id": "75d59225-caa9-4d83-a820-9dd000821b4f",
   "metadata": {},
   "source": [
    "## 2.Convert the following:"
   ]
  },
  {
   "cell_type": "markdown",
   "id": "afb58ed4-cda7-4602-8b91-349876853cb5",
   "metadata": {},
   "source": [
    "### a.  \"123\" to integer."
   ]
  },
  {
   "cell_type": "code",
   "execution_count": 7,
   "id": "b94b7712-77d7-4b55-9d6a-a6239657b018",
   "metadata": {},
   "outputs": [
    {
     "name": "stdout",
     "output_type": "stream",
     "text": [
      "<class 'str'>\n",
      "<class 'int'>\n"
     ]
    }
   ],
   "source": [
    "a=\"123\"\n",
    "b=int(a)\n",
    "print(type(a))\n",
    "print(type(b))"
   ]
  },
  {
   "cell_type": "markdown",
   "id": "b0bce19f-e41c-4965-a0ba-60ab41327354",
   "metadata": {},
   "source": [
    "### b. 25 to string."
   ]
  },
  {
   "cell_type": "code",
   "execution_count": 16,
   "id": "a26ec428-cec8-4fb0-861f-18ffd6cfac12",
   "metadata": {},
   "outputs": [
    {
     "name": "stdout",
     "output_type": "stream",
     "text": [
      "<class 'int'>\n",
      "<class 'str'>\n"
     ]
    }
   ],
   "source": [
    "a=25\n",
    "b=str(a)\n",
    "print(type(a))\n",
    "print(type(b))"
   ]
  },
  {
   "cell_type": "markdown",
   "id": "335e036f-2c76-4dba-a161-9534282743c9",
   "metadata": {},
   "source": [
    "### c. \"3.14\" to float."
   ]
  },
  {
   "cell_type": "code",
   "execution_count": 19,
   "id": "85da5ba1-7dc4-4b40-8d81-3bda7ada2947",
   "metadata": {},
   "outputs": [
    {
     "name": "stdout",
     "output_type": "stream",
     "text": [
      "<class 'str'>\n",
      "<class 'float'>\n"
     ]
    }
   ],
   "source": [
    "a=\"3.14\"\n",
    "b=float(a)\n",
    "print(type(a))\n",
    "print(type(b))"
   ]
  },
  {
   "cell_type": "markdown",
   "id": "d4efbf87-c0c6-4392-b664-e1ffbce57fa4",
   "metadata": {},
   "source": [
    "## 3.What error occurs if you try int(\"abc\")? Why? correct it."
   ]
  },
  {
   "cell_type": "code",
   "execution_count": 20,
   "id": "55e015e5-dacb-4eb3-bbbe-05769445e240",
   "metadata": {},
   "outputs": [
    {
     "ename": "ValueError",
     "evalue": "invalid literal for int() with base 10: 'abc'",
     "output_type": "error",
     "traceback": [
      "\u001b[1;31m---------------------------------------------------------------------------\u001b[0m",
      "\u001b[1;31mValueError\u001b[0m                                Traceback (most recent call last)",
      "Cell \u001b[1;32mIn[20], line 2\u001b[0m\n\u001b[0;32m      1\u001b[0m a\u001b[38;5;241m=\u001b[39m\u001b[38;5;124m\"\u001b[39m\u001b[38;5;124mabc\u001b[39m\u001b[38;5;124m\"\u001b[39m\n\u001b[1;32m----> 2\u001b[0m b\u001b[38;5;241m=\u001b[39m\u001b[38;5;28mint\u001b[39m(a)\n\u001b[0;32m      3\u001b[0m \u001b[38;5;28mprint\u001b[39m(b)\n",
      "\u001b[1;31mValueError\u001b[0m: invalid literal for int() with base 10: 'abc'"
     ]
    }
   ],
   "source": [
    "a=\"abc\"\n",
    "b=int(a)\n",
    "print(b)"
   ]
  },
  {
   "cell_type": "code",
   "execution_count": null,
   "id": "95c426ab-a6b8-45d3-9b12-f7358e10f41a",
   "metadata": {},
   "outputs": [],
   "source": [
    "ValueError occurs.\n",
    "-> Here we are converting \"abc\" which is a string to integer.\n",
    "-> int() only converts a value to integers which means the above string should contain integer values(\"10\",\"1234\",etc)\n",
    "-> Here \"abc\" is not a number so it cannot be converted to integer."
   ]
  },
  {
   "cell_type": "markdown",
   "id": "df2bce83-490f-44b7-9b07-6d3bb3b3f7b4",
   "metadata": {},
   "source": [
    "## 4.How do you create a multi-line string in Python?"
   ]
  },
  {
   "cell_type": "code",
   "execution_count": 22,
   "id": "9998ab3c-798d-4c75-acac-8736d8c54a17",
   "metadata": {},
   "outputs": [
    {
     "name": "stdout",
     "output_type": "stream",
     "text": [
      "creating multi-line string\n",
      "in Python in Jupyter notebook\n"
     ]
    }
   ],
   "source": [
    "# Multi line string can be created using \"\"\" or '''\n",
    "str1='''creating multi-line string\n",
    "in Python in Jupyter notebook'''\n",
    "print(str1)"
   ]
  },
  {
   "cell_type": "markdown",
   "id": "32aa6579-ffcd-4117-aace-a4dc2d57542c",
   "metadata": {},
   "source": [
    "## 5.How do you include a quote inside a string?"
   ]
  },
  {
   "cell_type": "code",
   "execution_count": 23,
   "id": "5c3ab8d9-2aa5-4e6f-bf89-3639bd350255",
   "metadata": {},
   "outputs": [
    {
     "name": "stdout",
     "output_type": "stream",
     "text": [
      "Including a \"quote\" inside a string\n"
     ]
    }
   ],
   "source": [
    "# we can use escape character to include a quote inside a string(backslash-> '\\')\n",
    "str1='Including a \\\"quote\\\" inside a string'\n",
    "print(str1)"
   ]
  },
  {
   "cell_type": "markdown",
   "id": "d7da6112-1f32-43e6-a40f-41908d6605a8",
   "metadata": {},
   "source": [
    "## 6. Convert price = \"99.99\" to a float."
   ]
  },
  {
   "cell_type": "code",
   "execution_count": 26,
   "id": "5510397d-0388-41a5-b793-2f4c85f1069c",
   "metadata": {},
   "outputs": [
    {
     "name": "stdout",
     "output_type": "stream",
     "text": [
      "<class 'str'>\n",
      "<class 'float'>\n"
     ]
    }
   ],
   "source": [
    "price=\"99.99\"\n",
    "price_f=float(price)\n",
    "print(type(price))\n",
    "print(type(price_f))"
   ]
  },
  {
   "cell_type": "markdown",
   "id": "f75e8202-1478-4237-94d3-062d61254730",
   "metadata": {},
   "source": [
    "## 7. Create a string: I'm learning \"Python\" use escape charachers to print"
   ]
  },
  {
   "cell_type": "code",
   "execution_count": 35,
   "id": "2ec190a4-d8c9-4594-ba80-ec11a60c189b",
   "metadata": {},
   "outputs": [
    {
     "name": "stdout",
     "output_type": "stream",
     "text": [
      " I'm learning \"Python\"\n"
     ]
    }
   ],
   "source": [
    "str1=\"\"\" I'm learning \\\"Python\\\"\"\"\" #here we used escape character \\\"___\\\"\n",
    "print(str1)"
   ]
  },
  {
   "cell_type": "code",
   "execution_count": 36,
   "id": "cbd858a9-b30f-4f55-bb9f-4daca9643b4d",
   "metadata": {},
   "outputs": [
    {
     "name": "stdout",
     "output_type": "stream",
     "text": [
      " I'm learning \"Python\"\n"
     ]
    }
   ],
   "source": [
    "str2=''' I\\'m learning \\\"Python\\\"''' #here we used escape characters \\' and \\\"___\\\"\n",
    "print(str2)"
   ]
  },
  {
   "cell_type": "markdown",
   "id": "30997563-aa29-4912-b8ff-4777b23d23f2",
   "metadata": {},
   "source": [
    "## 8.what is raw string? what is its use?"
   ]
  },
  {
   "cell_type": "code",
   "execution_count": 37,
   "id": "03f4032f-ef11-4f8d-9369-d1886bd4eeb6",
   "metadata": {},
   "outputs": [],
   "source": [
    "-> Raw string is used to give file path\n",
    "#path = r\"C:\\\\Users\\\\Documents\\\\file.txt\"  "
   ]
  },
  {
   "cell_type": "code",
   "execution_count": null,
   "id": "8b745f52-bb0e-4113-a27d-5bebb7ca1023",
   "metadata": {},
   "outputs": [],
   "source": []
  }
 ],
 "metadata": {
  "kernelspec": {
   "display_name": "Python 3 (ipykernel)",
   "language": "python",
   "name": "python3"
  },
  "language_info": {
   "codemirror_mode": {
    "name": "ipython",
    "version": 3
   },
   "file_extension": ".py",
   "mimetype": "text/x-python",
   "name": "python",
   "nbconvert_exporter": "python",
   "pygments_lexer": "ipython3",
   "version": "3.13.5"
  }
 },
 "nbformat": 4,
 "nbformat_minor": 5
}
