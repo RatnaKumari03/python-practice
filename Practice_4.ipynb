{
 "cells": [
  {
   "cell_type": "markdown",
   "id": "72c944dc-3e47-4360-8fd1-f0e5cb8c700b",
   "metadata": {},
   "source": [
    "## Question 1"
   ]
  },
  {
   "cell_type": "code",
   "execution_count": 1,
   "id": "819d14c0-2d7a-49c8-b369-6eed80815ef9",
   "metadata": {},
   "outputs": [
    {
     "name": "stdin",
     "output_type": "stream",
     "text": [
      "Enter the year:  1996\n"
     ]
    },
    {
     "name": "stdout",
     "output_type": "stream",
     "text": [
      "1996 is a leap year\n"
     ]
    }
   ],
   "source": [
    "# program that takes year as input and determines whether it is a leap year\n",
    "year=int(input(\"Enter the year: \"))\n",
    "if (year%4==0 and year%100!=0) or year%400==0:\n",
    "    print(f\"{year} is a leap year\")\n",
    "else:\n",
    "    print(f\"{year} is not a leap year\")"
   ]
  },
  {
   "cell_type": "markdown",
   "id": "cc4a6ad8-148c-4e72-b02b-636fbf6a2960",
   "metadata": {},
   "source": [
    "## Question 2"
   ]
  },
  {
   "cell_type": "code",
   "execution_count": 26,
   "id": "dd797035-81d2-4e7a-9787-e46c6c466c6b",
   "metadata": {},
   "outputs": [
    {
     "name": "stdin",
     "output_type": "stream",
     "text": [
      "Enter the number:  9\n"
     ]
    },
    {
     "name": "stdout",
     "output_type": "stream",
     "text": [
      "The number is divisible by 3 only\n"
     ]
    }
   ],
   "source": [
    "# program that takes integer as input and checks if it is divisible by 3 only\n",
    "num=int(input(\"Enter the number: \"))\n",
    "if num%3==0 and num%2!=0 and num%5!=0:\n",
    "    print(\"The number is divisible by 3 only\")\n",
    "else:\n",
    "    print(\"The number is not divisible by 3 only\")"
   ]
  },
  {
   "cell_type": "markdown",
   "id": "59fc8772-e482-414e-a86c-cf06b904ca4f",
   "metadata": {},
   "source": [
    "## Question 3"
   ]
  },
  {
   "cell_type": "code",
   "execution_count": 4,
   "id": "4ad51ee3-1cbb-4428-93c5-26e964abfc0a",
   "metadata": {},
   "outputs": [
    {
     "name": "stdin",
     "output_type": "stream",
     "text": [
      "First number:  10\n",
      "Second number:  5\n"
     ]
    },
    {
     "name": "stdout",
     "output_type": "stream",
     "text": [
      "5\n"
     ]
    }
   ],
   "source": [
    "# program that takes two numbers as input and prints the smaller of two\n",
    "num1=int(input(\"First number: \"))\n",
    "num2=int(input(\"Second number: \"))\n",
    "if num1>num2:\n",
    "    print(num2)\n",
    "else:\n",
    "    print(num1)"
   ]
  },
  {
   "cell_type": "markdown",
   "id": "e4ed3609-c44b-4e99-8b9b-9c50ed058750",
   "metadata": {},
   "source": [
    "## Question 4"
   ]
  },
  {
   "cell_type": "code",
   "execution_count": 5,
   "id": "f17ebac1-5bf4-4199-b5fe-e30840970916",
   "metadata": {},
   "outputs": [
    {
     "name": "stdin",
     "output_type": "stream",
     "text": [
      "First number:  10\n",
      "Second number:  20\n"
     ]
    },
    {
     "name": "stdout",
     "output_type": "stream",
     "text": [
      "20\n"
     ]
    }
   ],
   "source": [
    "# # program that takes two numbers as input and prints the larger of two\n",
    "num1=int(input(\"First number: \"))\n",
    "num2=int(input(\"Second number: \"))\n",
    "if num1>num2:\n",
    "    print(num1)\n",
    "else:\n",
    "    print(num2)"
   ]
  },
  {
   "cell_type": "markdown",
   "id": "6670cc31-ddb0-4b4a-b6ca-5697a57623db",
   "metadata": {},
   "source": [
    "## Question 5"
   ]
  },
  {
   "cell_type": "code",
   "execution_count": 16,
   "id": "147cf11d-7336-4cdf-85b7-72fd16c48372",
   "metadata": {},
   "outputs": [
    {
     "name": "stdin",
     "output_type": "stream",
     "text": [
      " b\n"
     ]
    },
    {
     "name": "stdout",
     "output_type": "stream",
     "text": [
      "b is consonant\n"
     ]
    }
   ],
   "source": [
    "# program that takes a single letter as input. \n",
    "# Determine if it's a vowel (a, e, i, o, u - consider both uppercase and lowercase)  or a consonant\n",
    "letter=input()\n",
    "if len(letter)==1:\n",
    "    if letter=='aeiou' or letter=='AEIOU':\n",
    "        print(f\"{letter} is vowel\")\n",
    "    else:\n",
    "        print(f\"{letter} is consonant\")\n",
    "else:\n",
    "    print(\"Given input is not a single character\")"
   ]
  },
  {
   "cell_type": "markdown",
   "id": "de280e1b-526e-4195-a25d-c9e54e7030b8",
   "metadata": {},
   "source": [
    "## Question 6"
   ]
  },
  {
   "cell_type": "code",
   "execution_count": 19,
   "id": "4c75d7f0-da81-4179-9c91-a13fdb35a253",
   "metadata": {},
   "outputs": [
    {
     "name": "stdin",
     "output_type": "stream",
     "text": [
      "Enter age:  22\n"
     ]
    },
    {
     "name": "stdout",
     "output_type": "stream",
     "text": [
      "Adult\n"
     ]
    }
   ],
   "source": [
    "# program that takes a person's age as input and prints their age\n",
    "#category: \"Child\" (0-12), \"Teenager\" (13-19), \"Adult\" (20-64), or \"Senior\" (65 and above).\n",
    "age=int(input(\"Enter age: \"))\n",
    "if age>=0 and age<=12:\n",
    "    print(\"Child\")\n",
    "elif age>=13 and age<=19:\n",
    "    print(\"Teenager\")\n",
    "elif age>=20 and age<=64:\n",
    "    print(\"Adult\")\n",
    "else:\n",
    "    print(\"Senior\")"
   ]
  },
  {
   "cell_type": "markdown",
   "id": "a2d384cb-5788-42b8-b49d-125e76b2b707",
   "metadata": {},
   "source": [
    "## Question 7"
   ]
  },
  {
   "cell_type": "code",
   "execution_count": 23,
   "id": "a11c53c9-41af-4bb3-9efa-5c67f5cb1b95",
   "metadata": {},
   "outputs": [
    {
     "name": "stdin",
     "output_type": "stream",
     "text": [
      "Enter the password:  pract123\n"
     ]
    },
    {
     "name": "stdout",
     "output_type": "stream",
     "text": [
      "Strong Password\n"
     ]
    }
   ],
   "source": [
    "#program that takes a password as input.\n",
    "# If the length of the password is 8 or more characters, print \"Strong password\"; \n",
    "# otherwise, print \"Weak password.\"\n",
    "password=input(\"Enter the password: \")\n",
    "if len(password)>=8:\n",
    "    print(\"Strong Password\")\n",
    "else:\n",
    "    print(\"Weak Password\")"
   ]
  },
  {
   "cell_type": "code",
   "execution_count": null,
   "id": "d2d21afd-1ce1-452d-9d24-75946f50ebdf",
   "metadata": {},
   "outputs": [],
   "source": []
  }
 ],
 "metadata": {
  "kernelspec": {
   "display_name": "Python 3 (ipykernel)",
   "language": "python",
   "name": "python3"
  },
  "language_info": {
   "codemirror_mode": {
    "name": "ipython",
    "version": 3
   },
   "file_extension": ".py",
   "mimetype": "text/x-python",
   "name": "python",
   "nbconvert_exporter": "python",
   "pygments_lexer": "ipython3",
   "version": "3.13.5"
  }
 },
 "nbformat": 4,
 "nbformat_minor": 5
}
