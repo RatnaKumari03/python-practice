{
 "cells": [
  {
   "cell_type": "markdown",
   "id": "2eddcf9e-3c31-4d50-9427-112a436ccf0a",
   "metadata": {},
   "source": [
    "## OS Module"
   ]
  },
  {
   "cell_type": "code",
   "execution_count": null,
   "id": "8bf9f54e-4500-464f-8c49-a32aff82f9aa",
   "metadata": {},
   "outputs": [],
   "source": [
    "-> os - operating system\n",
    "-> import os\n",
    "   import shutil"
   ]
  },
  {
   "cell_type": "code",
   "execution_count": 1,
   "id": "64e5e459-bce8-456a-bd46-e90bc71e7085",
   "metadata": {},
   "outputs": [],
   "source": [
    "import os\n",
    "import shutil"
   ]
  },
  {
   "cell_type": "code",
   "execution_count": 3,
   "id": "d3922ffb-38c0-4f20-891a-371b47b2f3a7",
   "metadata": {},
   "outputs": [
    {
     "data": {
      "text/plain": [
       "'C:\\\\Users\\\\Dell\\\\PRK'"
      ]
     },
     "execution_count": 3,
     "metadata": {},
     "output_type": "execute_result"
    }
   ],
   "source": [
    "os.getcwd()  # cwd - current working directory"
   ]
  },
  {
   "cell_type": "markdown",
   "id": "18de3660-2e8b-47a0-83af-b824891a27c6",
   "metadata": {},
   "source": [
    "## various functions in os module:"
   ]
  },
  {
   "cell_type": "code",
   "execution_count": null,
   "id": "83ac0a80-10d2-429e-8b34-887095c8afba",
   "metadata": {},
   "outputs": [],
   "source": [
    "OS Module:\n",
    "    1. os.rename()  # to rename or move files\n",
    "    2. os.remove()  # to remove the file\n",
    "    3. os.path.exists()  # to check the file/folder exists or not\n",
    "    4. os.mkdir()  # to create folder\n",
    "    5. os.makedirs()  # to create multiple folders\n",
    "    6. os.listdirs()"
   ]
  },
  {
   "cell_type": "markdown",
   "id": "bf4eec3e-5ebf-4346-8166-2db2e2f4aab9",
   "metadata": {},
   "source": [
    "## 1. Rename/Move"
   ]
  },
  {
   "cell_type": "code",
   "execution_count": null,
   "id": "2b65c656-949a-4c65-b2d8-64980833e5e5",
   "metadata": {},
   "outputs": [],
   "source": [
    "syntax:\n",
    "     os.rename(source_file_path,destination_file_path)\n",
    "-> rename the file or to move the file from one location to another location"
   ]
  },
  {
   "cell_type": "code",
   "execution_count": 4,
   "id": "6568fde6-4e50-439f-a061-7cd31e148b4b",
   "metadata": {},
   "outputs": [],
   "source": [
    "with open('machine.txt','w') as f:\n",
    "    f.write('This is Rename FUnction')"
   ]
  },
  {
   "cell_type": "code",
   "execution_count": null,
   "id": "50ed42ff-b93f-4141-858f-2773c5b267e5",
   "metadata": {},
   "outputs": [],
   "source": [
    "os.rename('machine.txt','machine_learning.txt')"
   ]
  },
  {
   "cell_type": "code",
   "execution_count": 6,
   "id": "3c7bcb66-1681-4f72-9255-d9c16bcc8701",
   "metadata": {},
   "outputs": [],
   "source": [
    "source_file_path=r'C:\\Users\\Dell\\PRK\\machine.txt'\n",
    "destination_file_path=r'C:\\Users\\Dell\\OneDrive\\Desktop\\Python Besant\\machine.txt'\n",
    "os.rename(source_file_path,destination_file_path)"
   ]
  },
  {
   "cell_type": "markdown",
   "id": "50a37119-e7c6-41df-a8f5-d3ecaa4baf95",
   "metadata": {},
   "source": [
    "## 2. Remove"
   ]
  },
  {
   "cell_type": "code",
   "execution_count": null,
   "id": "7ab0fd91-5d10-4e70-9da5-fce2e86bd07e",
   "metadata": {},
   "outputs": [],
   "source": [
    "syntax:\n",
    "     os.remove(file_path)"
   ]
  },
  {
   "cell_type": "code",
   "execution_count": 7,
   "id": "717512e6-8485-4bf2-95f8-e65f2e953356",
   "metadata": {},
   "outputs": [],
   "source": [
    "with open('Data.txt','w') as f:\n",
    "    f.write('This is Remove function')"
   ]
  },
  {
   "cell_type": "code",
   "execution_count": null,
   "id": "1bec4175-a460-471c-a9ec-7330f7a42663",
   "metadata": {},
   "outputs": [],
   "source": [
    "os.remove('Data.txt')"
   ]
  },
  {
   "cell_type": "code",
   "execution_count": 8,
   "id": "0835c292-babb-48e5-aa75-f857226c1d70",
   "metadata": {},
   "outputs": [],
   "source": [
    "file_path=r'C:\\Users\\Dell\\PRK\\Data.txt'\n",
    "os.remove(file_path)"
   ]
  },
  {
   "cell_type": "markdown",
   "id": "8dc58140-ebbd-41e8-bdb3-1eeff8b1c31a",
   "metadata": {},
   "source": [
    "## Path Exists"
   ]
  },
  {
   "cell_type": "code",
   "execution_count": null,
   "id": "16f4d490-79ef-4b62-a8c3-7577a156b6b8",
   "metadata": {},
   "outputs": [],
   "source": [
    "syntax:\n",
    "      os.path.exists(file_path)"
   ]
  },
  {
   "cell_type": "code",
   "execution_count": 9,
   "id": "6bc595a1-7990-468a-bc4d-91b8aa4ab568",
   "metadata": {},
   "outputs": [
    {
     "data": {
      "text/plain": [
       "False"
      ]
     },
     "execution_count": 9,
     "metadata": {},
     "output_type": "execute_result"
    }
   ],
   "source": [
    "file_path=r'C:\\Users\\Dell\\PRK\\Data.txt'\n",
    "os.path.exists(file_path)"
   ]
  },
  {
   "cell_type": "code",
   "execution_count": 10,
   "id": "506f2071-be41-4c43-9a5e-2feb2f4d83c1",
   "metadata": {},
   "outputs": [
    {
     "data": {
      "text/plain": [
       "True"
      ]
     },
     "execution_count": 10,
     "metadata": {},
     "output_type": "execute_result"
    }
   ],
   "source": [
    "os.path.exists(r'C:\\Users\\Dell\\OneDrive\\Desktop\\Python Besant\\machine.txt')"
   ]
  },
  {
   "cell_type": "markdown",
   "id": "82263363-ade6-46ef-8cbc-259831200efc",
   "metadata": {},
   "source": [
    "## 4. create folder"
   ]
  },
  {
   "cell_type": "code",
   "execution_count": null,
   "id": "0aa0c0c8-f2b6-4981-a3ec-0f954556029f",
   "metadata": {},
   "outputs": [],
   "source": [
    "syntax:\n",
    "    os.mkdir('File/folder_name')  # to create a single file or folder"
   ]
  },
  {
   "cell_type": "markdown",
   "id": "aec2acde-1c23-40ee-acad-22fdbf4816c6",
   "metadata": {},
   "source": [
    "## 5. os.makedirs"
   ]
  },
  {
   "cell_type": "code",
   "execution_count": null,
   "id": "ad73e3d9-c38f-4906-9c72-1802c69a6db3",
   "metadata": {},
   "outputs": [],
   "source": [
    "syntax:\n",
    "     os.makedirs('folders_path')  # to create multiple folders"
   ]
  },
  {
   "cell_type": "markdown",
   "id": "4814ac52-2af5-44d4-9313-be185f8065d5",
   "metadata": {},
   "source": [
    "## 6. delete directory"
   ]
  },
  {
   "cell_type": "code",
   "execution_count": null,
   "id": "f307dcfc-ab72-45a0-b0f4-d27771549712",
   "metadata": {},
   "outputs": [],
   "source": [
    "syntax:\n",
    "     os.rmdir('folder_path')"
   ]
  },
  {
   "cell_type": "markdown",
   "id": "28776e35-cc2b-4264-b18c-900d9ad33e97",
   "metadata": {},
   "source": [
    "## shutil.rmtree"
   ]
  },
  {
   "cell_type": "code",
   "execution_count": null,
   "id": "2032bbb2-9fa8-4ebb-b57f-4f03fafc49cc",
   "metadata": {},
   "outputs": [],
   "source": [
    "-> used for deleting non-empty directories"
   ]
  },
  {
   "cell_type": "markdown",
   "id": "95f89874-83a5-4fdc-929c-3508a767e603",
   "metadata": {},
   "source": [
    "## check file or folder in directory"
   ]
  },
  {
   "cell_type": "code",
   "execution_count": null,
   "id": "163adc94-34b8-468b-b0aa-5ba476481528",
   "metadata": {},
   "outputs": [],
   "source": [
    "syntax:\n",
    "    os.listdir(folder_path)"
   ]
  },
  {
   "cell_type": "code",
   "execution_count": 11,
   "id": "e5244f58-3604-448b-8654-207609c8712f",
   "metadata": {},
   "outputs": [
    {
     "data": {
      "text/plain": [
       "['machine.txt', 'New folder', 'py']"
      ]
     },
     "execution_count": 11,
     "metadata": {},
     "output_type": "execute_result"
    }
   ],
   "source": [
    "os.listdir(r'C:\\Users\\Dell\\OneDrive\\Desktop\\Python Besant')"
   ]
  },
  {
   "cell_type": "code",
   "execution_count": 12,
   "id": "43c4303b-8b95-47b5-827c-761c0820bf37",
   "metadata": {},
   "outputs": [
    {
     "data": {
      "text/plain": [
       "['.ipynb_checkpoints',\n",
       " 'Day10.ipynb',\n",
       " 'Day11.ipynb',\n",
       " 'Day12.ipynb',\n",
       " 'Day13.ipynb',\n",
       " 'Day14.ipynb',\n",
       " 'Day15.ipynb',\n",
       " 'Day16.ipynb',\n",
       " 'Day17.ipynb',\n",
       " 'Day18.ipynb',\n",
       " 'Day19.ipynb',\n",
       " 'Day20.ipynb',\n",
       " 'Day4.ipynb',\n",
       " 'Day5.ipynb',\n",
       " 'Day7.ipynb',\n",
       " 'Day8.ipynb',\n",
       " 'Day9.ipynb',\n",
       " 'emp_data.json',\n",
       " 'My_first_notebook_day1,2,3.ipynb',\n",
       " 'new_file.txt',\n",
       " 'Practice_1.ipynb',\n",
       " 'Practice_2.ipynb',\n",
       " 'Practice_4.ipynb',\n",
       " 'Practice_5.ipynb',\n",
       " 'Practice_6.ipynb',\n",
       " 'Practice_7.ipynb',\n",
       " 'Practice_8.ipynb',\n",
       " 'Practice_9.ipynb',\n",
       " 'sample.txt',\n",
       " 'testing.txt',\n",
       " 'Untitled.ipynb',\n",
       " 'Untitled1.ipynb',\n",
       " 'Week_1_Assignment.ipynb',\n",
       " 'Week_2_Assignment.ipynb']"
      ]
     },
     "execution_count": 12,
     "metadata": {},
     "output_type": "execute_result"
    }
   ],
   "source": [
    "os.listdir(r'C:\\Users\\Dell\\PRK')"
   ]
  },
  {
   "cell_type": "markdown",
   "id": "b5f9db73-f169-41fd-897e-ed8c448cbd0e",
   "metadata": {},
   "source": [
    "## 8. current working directory"
   ]
  },
  {
   "cell_type": "code",
   "execution_count": 13,
   "id": "d8f67c0c-3964-4b14-b1cf-eb98e2b88c38",
   "metadata": {},
   "outputs": [
    {
     "data": {
      "text/plain": [
       "'C:\\\\Users\\\\Dell\\\\PRK'"
      ]
     },
     "execution_count": 13,
     "metadata": {},
     "output_type": "execute_result"
    }
   ],
   "source": [
    "os.getcwd()"
   ]
  },
  {
   "cell_type": "code",
   "execution_count": null,
   "id": "ed7f33e8-bd68-4f59-9284-48934b0a766b",
   "metadata": {},
   "outputs": [],
   "source": []
  },
  {
   "cell_type": "code",
   "execution_count": null,
   "id": "2cf2078a-00eb-4fa7-9c17-50e4f4b7847c",
   "metadata": {},
   "outputs": [],
   "source": []
  }
 ],
 "metadata": {
  "kernelspec": {
   "display_name": "Python 3 (ipykernel)",
   "language": "python",
   "name": "python3"
  },
  "language_info": {
   "codemirror_mode": {
    "name": "ipython",
    "version": 3
   },
   "file_extension": ".py",
   "mimetype": "text/x-python",
   "name": "python",
   "nbconvert_exporter": "python",
   "pygments_lexer": "ipython3",
   "version": "3.13.5"
  }
 },
 "nbformat": 4,
 "nbformat_minor": 5
}
