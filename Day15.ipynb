{
 "cells": [
  {
   "cell_type": "code",
   "execution_count": null,
   "id": "e544125b-2cd0-4ab6-9fee-21f4a982e01e",
   "metadata": {},
   "outputs": [],
   "source": [
    "-> str: immutable, ordered,duplicates allowed, '',\"\"\n",
    "-> list: mutable,ordered,duplicates allowed, []\n",
    "-> tuple: immutable,ordered,duplicates allowed, ()\n",
    "-> set: mutable,unordered,duplicates not allowed,indexing not allowed, set(),{}\n",
    "-> frozenset: immutable version of set,unordered, duplicates not allowed, indexing not allowed, frozenset(),{}"
   ]
  },
  {
   "cell_type": "markdown",
   "id": "d54044f6-1276-4115-a754-b255ec35eac4",
   "metadata": {},
   "source": [
    "## Dictionary"
   ]
  },
  {
   "cell_type": "code",
   "execution_count": null,
   "id": "cb087594-c162-4ca6-8dd1-19a946cf65ce",
   "metadata": {},
   "outputs": [],
   "source": [
    "-> ordered collection of data key-value pairs\n",
    "-> each key in dictionary must be unique and immutable(like str,numbers,tuples), while corresponding value can be of any datatype\n",
    "-> defined by enclosing key-value pairs by curly braces{}.\n",
    "-> each pair separated by colon : and the the pairs themselves are separated by comma ,"
   ]
  },
  {
   "cell_type": "code",
   "execution_count": null,
   "id": "020eaaa8-87e4-40fd-b3ea-5a7287546750",
   "metadata": {},
   "outputs": [],
   "source": [
    "dict1={\"Ratna\":22,\"Mani\":24,\"Sai\":18}\n",
    "keys -> Ratna,Mani,Sai\n",
    "values -> 22,24,18"
   ]
  },
  {
   "cell_type": "code",
   "execution_count": null,
   "id": "98e7d8bf-a11f-48e0-a6b4-c358f2597605",
   "metadata": {},
   "outputs": [],
   "source": [
    "Properties:\n",
    "  -- mutable\n",
    "  -- collection of key and value pairs\n",
    "  -- cannot use indexing\n",
    "  -- duplicate values are allowed\n",
    "  -- duplicate keys are not allowed\n",
    "  -- enclosed by {},pairs are separated by ,\n",
    "  -- ordered\n",
    "-> keys : int,float,str,complex,tuple,frozenset(immutable data type)\n",
    "-> values: int,float,str,complex,tuple,frozenset,set,list,dict"
   ]
  },
  {
   "cell_type": "code",
   "execution_count": 2,
   "id": "9b6079e0-c01d-4aca-a9ad-e5fd508b580e",
   "metadata": {},
   "outputs": [
    {
     "name": "stdout",
     "output_type": "stream",
     "text": [
      "{1: 'R', 2: 'a', 3: 't', 4: 'n', 5: 'a'}\n"
     ]
    },
    {
     "data": {
      "text/plain": [
       "dict"
      ]
     },
     "execution_count": 2,
     "metadata": {},
     "output_type": "execute_result"
    }
   ],
   "source": [
    "# Example\n",
    "dict1={1:\"R\",2:\"a\",3:\"t\",4:\"n\",5:\"a\"}\n",
    "print(dict1)\n",
    "type(dict1)"
   ]
  },
  {
   "cell_type": "code",
   "execution_count": 6,
   "id": "90f3e8f4-511f-4c61-a5ab-d824d6464267",
   "metadata": {},
   "outputs": [
    {
     "name": "stdout",
     "output_type": "stream",
     "text": [
      "{1: 'R', 2: 'a', 3: 'n', 5: 'a'}\n"
     ]
    },
    {
     "data": {
      "text/plain": [
       "dict"
      ]
     },
     "execution_count": 6,
     "metadata": {},
     "output_type": "execute_result"
    }
   ],
   "source": [
    "dict1={1:\"R\",2:\"a\",3:\"t\",3:\"n\",5:\"a\"}\n",
    "print(dict1) # doesn't allow duplicates in keys\n",
    "type(dict1)"
   ]
  },
  {
   "cell_type": "markdown",
   "id": "f6e51376-2e5a-4fd8-99a9-e7fc5a4f187c",
   "metadata": {},
   "source": [
    "## How to access items from dictionary:"
   ]
  },
  {
   "cell_type": "code",
   "execution_count": null,
   "id": "ece00554-0003-43ed-a4ff-560f7c330a4e",
   "metadata": {},
   "outputs": [],
   "source": [
    "-> we have to use keys to access the values"
   ]
  },
  {
   "cell_type": "code",
   "execution_count": 8,
   "id": "ee906ec5-1d10-4a33-8cce-c11b51dca1b9",
   "metadata": {},
   "outputs": [
    {
     "name": "stdout",
     "output_type": "stream",
     "text": [
      "100\n"
     ]
    },
    {
     "data": {
      "text/plain": [
       "int"
      ]
     },
     "execution_count": 8,
     "metadata": {},
     "output_type": "execute_result"
    }
   ],
   "source": [
    "dict1={'A':100,'B':200,'C':300,'D':400}\n",
    "print(dict1['A'])\n",
    "type(dict1['A'])"
   ]
  },
  {
   "cell_type": "code",
   "execution_count": 9,
   "id": "331ddd4a-f893-48d9-941d-24307e40d655",
   "metadata": {},
   "outputs": [
    {
     "ename": "KeyError",
     "evalue": "0",
     "output_type": "error",
     "traceback": [
      "\u001b[1;31m---------------------------------------------------------------------------\u001b[0m",
      "\u001b[1;31mKeyError\u001b[0m                                  Traceback (most recent call last)",
      "Cell \u001b[1;32mIn[9], line 2\u001b[0m\n\u001b[0;32m      1\u001b[0m dict1\u001b[38;5;241m=\u001b[39m{\u001b[38;5;124m'\u001b[39m\u001b[38;5;124mA\u001b[39m\u001b[38;5;124m'\u001b[39m:\u001b[38;5;241m100\u001b[39m,\u001b[38;5;124m'\u001b[39m\u001b[38;5;124mB\u001b[39m\u001b[38;5;124m'\u001b[39m:\u001b[38;5;241m200\u001b[39m,\u001b[38;5;124m'\u001b[39m\u001b[38;5;124mC\u001b[39m\u001b[38;5;124m'\u001b[39m:\u001b[38;5;241m300\u001b[39m,\u001b[38;5;124m'\u001b[39m\u001b[38;5;124mD\u001b[39m\u001b[38;5;124m'\u001b[39m:\u001b[38;5;241m400\u001b[39m}\n\u001b[1;32m----> 2\u001b[0m dict1[\u001b[38;5;241m0\u001b[39m]\n",
      "\u001b[1;31mKeyError\u001b[0m: 0"
     ]
    }
   ],
   "source": [
    "dict1={'A':100,'B':200,'C':300,'D':400}\n",
    "dict1[0] # indexing is not allowed, it shows error"
   ]
  },
  {
   "cell_type": "markdown",
   "id": "719a234f-e26e-4233-b8b0-e4863438b652",
   "metadata": {},
   "source": [
    "## Functions in dictionary"
   ]
  },
  {
   "cell_type": "code",
   "execution_count": null,
   "id": "88655963-4458-4ebb-8ca3-85258088748d",
   "metadata": {},
   "outputs": [],
   "source": [
    "-> .get()"
   ]
  },
  {
   "cell_type": "markdown",
   "id": "4712fc51-cb5e-4ca2-aff5-6bed32fb6607",
   "metadata": {},
   "source": [
    "## 1. .get(key,default=None)"
   ]
  },
  {
   "cell_type": "code",
   "execution_count": null,
   "id": "4b15c01b-cfe4-475c-b524-e17b69bf3e34",
   "metadata": {},
   "outputs": [],
   "source": [
    "-> returns the value for the specified key"
   ]
  },
  {
   "cell_type": "code",
   "execution_count": 11,
   "id": "0a0909c7-7523-41d4-9a09-769416437496",
   "metadata": {},
   "outputs": [
    {
     "name": "stdout",
     "output_type": "stream",
     "text": [
      "ratna\n",
      "22\n"
     ]
    }
   ],
   "source": [
    "# Example\n",
    "dict1={\"name\": \"ratna\",\"age\":22}\n",
    "print(dict1.get(\"name\"))\n",
    "print(dict1.get(\"age\"))"
   ]
  },
  {
   "cell_type": "markdown",
   "id": "c228025f-4c79-485b-8066-e5a014e6400d",
   "metadata": {},
   "source": [
    "## 2. .keys()"
   ]
  },
  {
   "cell_type": "code",
   "execution_count": null,
   "id": "e8fa8d89-907b-4c6c-be09-446d75f601e8",
   "metadata": {},
   "outputs": [],
   "source": [
    "-> returns a view object that displays a list of all the keys in the dictionary\n",
    "-> if we make changes in the original dictionary then view will also change"
   ]
  },
  {
   "cell_type": "code",
   "execution_count": 13,
   "id": "3d8b7feb-967a-42e4-ac36-0642d67cf49a",
   "metadata": {},
   "outputs": [
    {
     "name": "stdout",
     "output_type": "stream",
     "text": [
      "dict_keys(['name', 'age'])\n",
      "['name', 'age']\n"
     ]
    }
   ],
   "source": [
    "# Example\n",
    "dict1={\"name\": \"ratna\",\"age\":22}\n",
    "keys=dict1.keys()\n",
    "print(keys)\n",
    "print(list(keys))"
   ]
  },
  {
   "cell_type": "markdown",
   "id": "03356508-b4bd-4a3b-ac56-95181b64b311",
   "metadata": {},
   "source": [
    "## 3. .values()"
   ]
  },
  {
   "cell_type": "code",
   "execution_count": null,
   "id": "0475ecf7-9a8e-490b-bc18-e9950512b4b9",
   "metadata": {},
   "outputs": [],
   "source": [
    "-> returns a view object that displays a list of all the values in the dictionary"
   ]
  },
  {
   "cell_type": "code",
   "execution_count": 15,
   "id": "5caf7e42-0cd6-4917-b6a8-442f8078daa5",
   "metadata": {},
   "outputs": [
    {
     "name": "stdout",
     "output_type": "stream",
     "text": [
      "dict_values(['ratna', 22])\n",
      "['ratna', 22]\n"
     ]
    }
   ],
   "source": [
    "# Example\n",
    "dict1={\"name\": \"ratna\",\"age\":22}\n",
    "values=dict1.values()\n",
    "print(values)\n",
    "print(list(values))"
   ]
  },
  {
   "cell_type": "markdown",
   "id": "fa6ac108-7e39-45d8-bd67-ae5fdb8c4652",
   "metadata": {},
   "source": [
    "## 4. .items()"
   ]
  },
  {
   "cell_type": "code",
   "execution_count": null,
   "id": "517656be-1c87-46a5-b812-0235fbbdfa3e",
   "metadata": {},
   "outputs": [],
   "source": [
    "-> returns a view object that displays a list of all the key-value pairs as tuples"
   ]
  },
  {
   "cell_type": "code",
   "execution_count": 17,
   "id": "2dcb20b6-4dac-4b14-a3c9-7958a6a9f233",
   "metadata": {},
   "outputs": [
    {
     "name": "stdout",
     "output_type": "stream",
     "text": [
      "dict_items([('name', 'ratna'), ('age', 22)])\n",
      "[('name', 'ratna'), ('age', 22)]\n"
     ]
    }
   ],
   "source": [
    "# Example\n",
    "dict1={\"name\": \"ratna\",\"age\":22}\n",
    "items=dict1.items()\n",
    "print(items)\n",
    "print(list(items))"
   ]
  },
  {
   "cell_type": "code",
   "execution_count": 18,
   "id": "9c25e3c7-ae6c-4216-b405-befec4de6994",
   "metadata": {},
   "outputs": [
    {
     "name": "stdout",
     "output_type": "stream",
     "text": [
      "ratna\n",
      "dict_keys(['name', 'age', 'city'])\n",
      "dict_values(['ratna', 22, 'Bengaluru'])\n",
      "dict_items([('name', 'ratna'), ('age', 22), ('city', 'Bengaluru')])\n"
     ]
    }
   ],
   "source": [
    "# Example of get(),keys(),values(),items()\n",
    "dict1={\"name\": \"ratna\",\"age\":22,\"city\":\"Bengaluru\"}\n",
    "print(dict1.get(\"name\"))\n",
    "print(dict1.keys())\n",
    "print(dict1.values())\n",
    "print(dict1.items())"
   ]
  },
  {
   "cell_type": "markdown",
   "id": "576f9329-73cf-432d-bfae-6e8451e970c6",
   "metadata": {},
   "source": [
    "## 5. .update()"
   ]
  },
  {
   "cell_type": "code",
   "execution_count": null,
   "id": "35e56983-3e87-4133-a4a5-9e0300f44853",
   "metadata": {},
   "outputs": [],
   "source": [
    "-> it updates all the values in the dictionary"
   ]
  },
  {
   "cell_type": "code",
   "execution_count": 21,
   "id": "70788e22-bc3f-4f07-813a-aa9e36ece210",
   "metadata": {},
   "outputs": [
    {
     "name": "stdout",
     "output_type": "stream",
     "text": [
      "Original dictionary:  {}\n",
      "After updating:  {4: 16, 5: 25, 6: 36}\n"
     ]
    }
   ],
   "source": [
    "# Example\n",
    "dict1={}\n",
    "dict2={4:16,5:25,6:36}\n",
    "print(\"Original dictionary: \",dict1)\n",
    "dict1.update(dict2)\n",
    "print(\"After updating: \",dict1)"
   ]
  },
  {
   "cell_type": "code",
   "execution_count": 23,
   "id": "af2e446e-3faf-4874-a9dd-f52a5f00f1d2",
   "metadata": {},
   "outputs": [
    {
     "name": "stdout",
     "output_type": "stream",
     "text": [
      "{'name': 'ratna', 'age': 22, 'city': 'Bengaluru'}\n"
     ]
    }
   ],
   "source": [
    "# Another way\n",
    "dict1={\"name\": \"ratna\",\"age\":22}\n",
    "dict1.update({\"city\":\"Bengaluru\"})\n",
    "print(dict1)"
   ]
  },
  {
   "cell_type": "markdown",
   "id": "89e35f6f-18ba-4d9a-bc57-201e753230c3",
   "metadata": {},
   "source": [
    "## 6. .fromkeys()"
   ]
  },
  {
   "cell_type": "code",
   "execution_count": null,
   "id": "4fbc9498-9b50-4704-8065-f6c60d7089de",
   "metadata": {},
   "outputs": [],
   "source": [
    "-> This method is a quick way to create a new dictionary where all keys have the same initial value\n",
    "-> Synatx:\n",
    "      dict.fromkeys(keys,values)"
   ]
  },
  {
   "cell_type": "code",
   "execution_count": 32,
   "id": "d24dc592-aa83-494d-9ec9-f49134e326d9",
   "metadata": {},
   "outputs": [
    {
     "data": {
      "text/plain": [
       "{'name': 0, 'email': 0, 'phone': 0}"
      ]
     },
     "execution_count": 32,
     "metadata": {},
     "output_type": "execute_result"
    }
   ],
   "source": [
    "# Example\n",
    "user_data_keys=[\"name\",\"email\",\"phone\"]\n",
    "dict1=dict.fromkeys(user_data_keys,0)\n",
    "dict1"
   ]
  },
  {
   "cell_type": "markdown",
   "id": "98ab98d1-6f9b-499b-862c-65eb73ea2809",
   "metadata": {},
   "source": [
    "## 7. zip()"
   ]
  },
  {
   "cell_type": "code",
   "execution_count": null,
   "id": "210ffff5-fc24-478d-ba80-cb8392cd4529",
   "metadata": {},
   "outputs": [],
   "source": [
    "-> used to pair up items from two or more lists\n",
    "-> it is useful for creating a dictionary when you have keys in one list \n",
    "    and values in another\n",
    "-> it zips two lists together, pairing first item of first list \n",
    "    with the first item of the second list and so on"
   ]
  },
  {
   "cell_type": "code",
   "execution_count": 33,
   "id": "dc469f68-2372-4ce8-8c0d-ee7eb82f1178",
   "metadata": {},
   "outputs": [
    {
     "data": {
      "text/plain": [
       "{'name': 'ratna', 'age': 22, 'city': 'bengaluru'}"
      ]
     },
     "execution_count": 33,
     "metadata": {},
     "output_type": "execute_result"
    }
   ],
   "source": [
    "# Example\n",
    "keys_list=[\"name\",\"age\",\"city\"]\n",
    "values_list=[\"ratna\",22,\"bengaluru\"]\n",
    "combined_dict=dict(zip(keys_list,values_list))\n",
    "combined_dict"
   ]
  },
  {
   "cell_type": "markdown",
   "id": "fb5d53c5-ab1f-41ca-9c88-849ec58e54d5",
   "metadata": {},
   "source": [
    "## Nested Dictionary"
   ]
  },
  {
   "cell_type": "code",
   "execution_count": null,
   "id": "a042626b-eaa3-4f09-8d7c-b58f4c85ed59",
   "metadata": {},
   "outputs": [],
   "source": [
    "-> Dict in dict"
   ]
  },
  {
   "cell_type": "code",
   "execution_count": 38,
   "id": "c81c199f-d219-4374-a248-8835782c11ad",
   "metadata": {},
   "outputs": [
    {
     "data": {
      "text/plain": [
       "'Ratna'"
      ]
     },
     "execution_count": 38,
     "metadata": {},
     "output_type": "execute_result"
    }
   ],
   "source": [
    "emp_details={'1':{\"Name\":\"Ratna\",\n",
    "             \"Age\":22,\n",
    "             \"Designation\":\"Full stack developer\",\n",
    "             \"Location\":\"Bengaluru\"},\n",
    "             '2':{\"Name\":\"Anjitha\",\n",
    "             \"Age\":21,\n",
    "             \"Designation\":\"Data Analytics\",\n",
    "             \"Location\":\"Kundanahalli\"}}\n",
    "emp_details['1']['Name']"
   ]
  },
  {
   "cell_type": "code",
   "execution_count": 39,
   "id": "dd963e88-52c0-4c41-9f9b-d9fd5d7a06f1",
   "metadata": {},
   "outputs": [
    {
     "data": {
      "text/plain": [
       "'Kundanahalli'"
      ]
     },
     "execution_count": 39,
     "metadata": {},
     "output_type": "execute_result"
    }
   ],
   "source": [
    "emp_details['2']['Location']"
   ]
  },
  {
   "cell_type": "markdown",
   "id": "4ffbacec-702c-40c4-a2bb-a597f1d7479a",
   "metadata": {},
   "source": [
    "## How to delete items from dictionary"
   ]
  },
  {
   "cell_type": "code",
   "execution_count": null,
   "id": "341f6f49-0232-459e-874d-1095dbcece18",
   "metadata": {},
   "outputs": [],
   "source": [
    "--pop()\n",
    "--popitem()\n",
    "--clear()\n",
    "--del keyword"
   ]
  },
  {
   "cell_type": "markdown",
   "id": "79ed2564-8fbe-4321-b28c-53131aae95eb",
   "metadata": {},
   "source": [
    "## 1. .pop()"
   ]
  },
  {
   "cell_type": "code",
   "execution_count": null,
   "id": "c4fd8631-78ec-499b-92d5-85598e75f0ce",
   "metadata": {},
   "outputs": [],
   "source": [
    "-> removes element with specified key"
   ]
  },
  {
   "cell_type": "code",
   "execution_count": 24,
   "id": "e19f6f7c-605f-47dd-872d-d5809a984723",
   "metadata": {},
   "outputs": [
    {
     "data": {
      "text/plain": [
       "{'Name': 'Ratna', 'Age': 22, 'Designation': 'Full stack developer'}"
      ]
     },
     "execution_count": 24,
     "metadata": {},
     "output_type": "execute_result"
    }
   ],
   "source": [
    "# Example for pop()\n",
    "emp_details={\"Name\":\"Ratna\",\n",
    "             \"Age\":22,\n",
    "             \"Designation\":\"Full stack developer\",\n",
    "             \"Location\":\"Bengaluru\"}\n",
    "emp_details.pop('Location')\n",
    "emp_details"
   ]
  },
  {
   "cell_type": "markdown",
   "id": "71f02e1e-994a-443e-b53d-03d53126f018",
   "metadata": {},
   "source": [
    "## 2. .popitem()"
   ]
  },
  {
   "cell_type": "code",
   "execution_count": null,
   "id": "b882339e-5d66-4479-8fdc-1dc93f0a5a4d",
   "metadata": {},
   "outputs": [],
   "source": [
    "-> used to remove/delete the last inserted item"
   ]
  },
  {
   "cell_type": "code",
   "execution_count": 25,
   "id": "871a3147-6cbc-4b3a-a332-6f78b81bd340",
   "metadata": {},
   "outputs": [
    {
     "data": {
      "text/plain": [
       "{'Name': 'Ratna', 'Age': 22, 'Designation': 'Full stack developer'}"
      ]
     },
     "execution_count": 25,
     "metadata": {},
     "output_type": "execute_result"
    }
   ],
   "source": [
    "# Example\n",
    "emp_details={\"Name\":\"Ratna\",\n",
    "             \"Age\":22,\n",
    "             \"Designation\":\"Full stack developer\",\n",
    "             \"Location\":\"Bengaluru\"}\n",
    "emp_details.popitem() # removes last item (key-value)\n",
    "emp_details"
   ]
  },
  {
   "cell_type": "markdown",
   "id": "5f793bd0-fd53-4e14-8b0f-4204c96d3c02",
   "metadata": {},
   "source": [
    "## 3. .clear()"
   ]
  },
  {
   "cell_type": "code",
   "execution_count": null,
   "id": "3a107ad4-e00e-49fc-96a8-f72dacc6def7",
   "metadata": {},
   "outputs": [],
   "source": [
    "-> used to remove all element from dictionary"
   ]
  },
  {
   "cell_type": "code",
   "execution_count": 26,
   "id": "aad513af-d290-466a-bff1-652c91496869",
   "metadata": {},
   "outputs": [
    {
     "data": {
      "text/plain": [
       "{}"
      ]
     },
     "execution_count": 26,
     "metadata": {},
     "output_type": "execute_result"
    }
   ],
   "source": [
    "# Example\n",
    "emp_details={\"Name\":\"Ratna\",\n",
    "             \"Age\":22,\n",
    "             \"Designation\":\"Full stack developer\",\n",
    "             \"Location\":\"Bengaluru\"}\n",
    "emp_details.clear() # clears all the key-value pairs\n",
    "emp_details"
   ]
  },
  {
   "cell_type": "markdown",
   "id": "3e979931-0339-47b8-8fdc-feeb97219210",
   "metadata": {},
   "source": [
    "## 4. del keyword"
   ]
  },
  {
   "cell_type": "code",
   "execution_count": null,
   "id": "58eeb205-9c72-4932-814d-2576782fb1e4",
   "metadata": {},
   "outputs": [],
   "source": [
    "-> used to delete whole variable and also key-value pairs"
   ]
  },
  {
   "cell_type": "code",
   "execution_count": 27,
   "id": "83a9d189-a404-4a9b-af2d-74b2bae19271",
   "metadata": {},
   "outputs": [
    {
     "ename": "NameError",
     "evalue": "name 'emp_details' is not defined",
     "output_type": "error",
     "traceback": [
      "\u001b[1;31m---------------------------------------------------------------------------\u001b[0m",
      "\u001b[1;31mNameError\u001b[0m                                 Traceback (most recent call last)",
      "Cell \u001b[1;32mIn[27], line 7\u001b[0m\n\u001b[0;32m      2\u001b[0m emp_details\u001b[38;5;241m=\u001b[39m{\u001b[38;5;124m\"\u001b[39m\u001b[38;5;124mName\u001b[39m\u001b[38;5;124m\"\u001b[39m:\u001b[38;5;124m\"\u001b[39m\u001b[38;5;124mRatna\u001b[39m\u001b[38;5;124m\"\u001b[39m,\n\u001b[0;32m      3\u001b[0m              \u001b[38;5;124m\"\u001b[39m\u001b[38;5;124mAge\u001b[39m\u001b[38;5;124m\"\u001b[39m:\u001b[38;5;241m22\u001b[39m,\n\u001b[0;32m      4\u001b[0m              \u001b[38;5;124m\"\u001b[39m\u001b[38;5;124mDesignation\u001b[39m\u001b[38;5;124m\"\u001b[39m:\u001b[38;5;124m\"\u001b[39m\u001b[38;5;124mFull stack developer\u001b[39m\u001b[38;5;124m\"\u001b[39m,\n\u001b[0;32m      5\u001b[0m              \u001b[38;5;124m\"\u001b[39m\u001b[38;5;124mLocation\u001b[39m\u001b[38;5;124m\"\u001b[39m:\u001b[38;5;124m\"\u001b[39m\u001b[38;5;124mBengaluru\u001b[39m\u001b[38;5;124m\"\u001b[39m}\n\u001b[0;32m      6\u001b[0m \u001b[38;5;28;01mdel\u001b[39;00m emp_details\n\u001b[1;32m----> 7\u001b[0m emp_details\n",
      "\u001b[1;31mNameError\u001b[0m: name 'emp_details' is not defined"
     ]
    }
   ],
   "source": [
    "# Example\n",
    "emp_details={\"Name\":\"Ratna\",\n",
    "             \"Age\":22,\n",
    "             \"Designation\":\"Full stack developer\",\n",
    "             \"Location\":\"Bengaluru\"}\n",
    "del emp_details\n",
    "emp_details #we already deleted the dictionary earlier so that's why it is showing error"
   ]
  },
  {
   "cell_type": "code",
   "execution_count": 29,
   "id": "0f6cafa3-e220-4576-ae15-d3232ce3591b",
   "metadata": {},
   "outputs": [
    {
     "name": "stdout",
     "output_type": "stream",
     "text": [
      "{'name': 'ratna', 'age': 22}\n"
     ]
    }
   ],
   "source": [
    "# create empty dictionary named my_info. then add key-value pairs \"name\":\"ratna\" and \"age\":24 to it. Print the dictionary.\n",
    "my_info={}\n",
    "my_info.update({\"name\":\"ratna\",\"age\":22})\n",
    "print(my_info)"
   ]
  },
  {
   "cell_type": "code",
   "execution_count": null,
   "id": "7ce84719-e222-476c-a8d4-c3d2c06aaf80",
   "metadata": {},
   "outputs": [],
   "source": []
  }
 ],
 "metadata": {
  "kernelspec": {
   "display_name": "Python 3 (ipykernel)",
   "language": "python",
   "name": "python3"
  },
  "language_info": {
   "codemirror_mode": {
    "name": "ipython",
    "version": 3
   },
   "file_extension": ".py",
   "mimetype": "text/x-python",
   "name": "python",
   "nbconvert_exporter": "python",
   "pygments_lexer": "ipython3",
   "version": "3.13.5"
  }
 },
 "nbformat": 4,
 "nbformat_minor": 5
}
