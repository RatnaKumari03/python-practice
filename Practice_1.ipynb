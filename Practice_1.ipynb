{
 "cells": [
  {
   "cell_type": "markdown",
   "id": "082e2a77-0853-4c53-9aba-eceb07b47cc3",
   "metadata": {},
   "source": [
    "### 1.Assigning a value to a variable named \"number\""
   ]
  },
  {
   "cell_type": "code",
   "execution_count": 2,
   "id": "cafb1d88-4be9-4275-82b9-6e4a9ad48206",
   "metadata": {},
   "outputs": [],
   "source": [
    "number=10"
   ]
  },
  {
   "cell_type": "markdown",
   "id": "251ea9cf-2ae8-4f18-8c5a-04076feaf9a4",
   "metadata": {},
   "source": [
    "### 2.Assigning the string \"Hello\" to a variable named 'greeting'"
   ]
  },
  {
   "cell_type": "code",
   "execution_count": 3,
   "id": "8c22cae8-a0e3-497a-9aa9-c326bd2ea9cf",
   "metadata": {},
   "outputs": [],
   "source": [
    "greeting=\"Hello\""
   ]
  },
  {
   "cell_type": "markdown",
   "id": "b3cb4231-1b78-484b-90ab-9bfbd2bf6980",
   "metadata": {},
   "source": [
    "### Printing the values of the above variables (Que.1, 2)"
   ]
  },
  {
   "cell_type": "code",
   "execution_count": 4,
   "id": "c1639dd8-9ca7-405c-9054-b25e0ca046fe",
   "metadata": {},
   "outputs": [
    {
     "name": "stdout",
     "output_type": "stream",
     "text": [
      "10\n",
      "Hello\n"
     ]
    }
   ],
   "source": [
    "print(number)\n",
    "print(greeting)"
   ]
  },
  {
   "cell_type": "markdown",
   "id": "41d741e5-8b7e-4497-a1f3-760137665d87",
   "metadata": {},
   "source": [
    "### Printing data type of above variables (Que.1,2)"
   ]
  },
  {
   "cell_type": "code",
   "execution_count": 5,
   "id": "f33f893d-e969-48fc-965a-fa17ed519c87",
   "metadata": {},
   "outputs": [
    {
     "name": "stdout",
     "output_type": "stream",
     "text": [
      "<class 'int'>\n",
      "<class 'str'>\n"
     ]
    }
   ],
   "source": [
    "print(type(number))\n",
    "print(type(greeting))"
   ]
  },
  {
   "cell_type": "code",
   "execution_count": null,
   "id": "cf954026-70b8-457f-9c2b-fe87f4239dbb",
   "metadata": {},
   "outputs": [],
   "source": []
  }
 ],
 "metadata": {
  "kernelspec": {
   "display_name": "Python 3 (ipykernel)",
   "language": "python",
   "name": "python3"
  },
  "language_info": {
   "codemirror_mode": {
    "name": "ipython",
    "version": 3
   },
   "file_extension": ".py",
   "mimetype": "text/x-python",
   "name": "python",
   "nbconvert_exporter": "python",
   "pygments_lexer": "ipython3",
   "version": "3.13.5"
  }
 },
 "nbformat": 4,
 "nbformat_minor": 5
}
