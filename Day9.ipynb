{
 "cells": [
  {
   "cell_type": "markdown",
   "id": "b3b572c4-ca95-4448-b265-bd0a38e472ad",
   "metadata": {},
   "source": [
    "## String function/Methods"
   ]
  },
  {
   "cell_type": "code",
   "execution_count": null,
   "id": "89434e7d-478b-4e44-a150-66dffdf98079",
   "metadata": {},
   "outputs": [],
   "source": [
    "-> data cleaning\n",
    "-> feature engineering\n",
    "-> to extract particular text from data\n",
    "->"
   ]
  },
  {
   "cell_type": "markdown",
   "id": "2054a787-34af-481f-aa1d-7d002638cfbd",
   "metadata": {},
   "source": [
    "### capitalize()"
   ]
  },
  {
   "cell_type": "code",
   "execution_count": null,
   "id": "2cd12348-0db8-4d04-8d18-032e0eb09d6a",
   "metadata": {},
   "outputs": [],
   "source": [
    "-> capitilizes the first character of string (i.e., zero index character)\n",
    "-> syntax:\n",
    "      variable_name.capitalize()"
   ]
  },
  {
   "cell_type": "code",
   "execution_count": 3,
   "id": "cbaeb2ac-d0e2-4764-b289-e9b83ffcdd0a",
   "metadata": {},
   "outputs": [
    {
     "data": {
      "text/plain": [
       "'Ratna'"
      ]
     },
     "execution_count": 3,
     "metadata": {},
     "output_type": "execute_result"
    }
   ],
   "source": [
    "string=\"ratna\"\n",
    "string.capitalize()"
   ]
  },
  {
   "cell_type": "code",
   "execution_count": 2,
   "id": "cd3764c3-8303-4db3-9d72-2f6492b595e7",
   "metadata": {},
   "outputs": [
    {
     "name": "stdout",
     "output_type": "stream",
     "text": [
      "Hello! world\n"
     ]
    }
   ],
   "source": [
    "#Example of capitalize()\n",
    "str1=\"hello! world\"\n",
    "print(str1.capitalize())"
   ]
  },
  {
   "cell_type": "markdown",
   "id": "72a75979-8afe-46ae-88d9-6ea0d5e84f66",
   "metadata": {},
   "source": [
    "### lower() and upper()"
   ]
  },
  {
   "cell_type": "code",
   "execution_count": null,
   "id": "1d232ad6-a581-470f-b1e8-b20258fd9496",
   "metadata": {},
   "outputs": [],
   "source": [
    "-> returns lower case string - lower()\n",
    "-> returns upper case string - upper()\n",
    "-> syntax:\n",
    "     variable_name.lower()"
   ]
  },
  {
   "cell_type": "code",
   "execution_count": 5,
   "id": "55bafaa6-ca2f-45f0-a4e9-0ff48c8c2655",
   "metadata": {},
   "outputs": [
    {
     "data": {
      "text/plain": [
       "'ratna'"
      ]
     },
     "execution_count": 5,
     "metadata": {},
     "output_type": "execute_result"
    }
   ],
   "source": [
    "str1=\"RAtNa\"\n",
    "str1.lower()"
   ]
  },
  {
   "cell_type": "markdown",
   "id": "bcbc60b1-9314-438a-8d09-9a3f9d8ac6b9",
   "metadata": {},
   "source": [
    "### title()"
   ]
  },
  {
   "cell_type": "raw",
   "id": "c8518f2e-9e35-4155-95a3-7b852e570efb",
   "metadata": {},
   "source": [
    "-> returns first character of every word in string\n",
    "-> syntax:\n",
    "       variable_name.title()"
   ]
  },
  {
   "cell_type": "code",
   "execution_count": null,
   "id": "be831e40-23d9-4f94-8c61-fb36f5a254ac",
   "metadata": {},
   "outputs": [],
   "source": []
  },
  {
   "cell_type": "markdown",
   "id": "2da2325f-4467-4e76-a5cc-f277b2778fa6",
   "metadata": {},
   "source": [
    "### lstrip() and rstrip()"
   ]
  },
  {
   "cell_type": "code",
   "execution_count": null,
   "id": "7416f44d-fa3d-48d0-9756-76dd3537f81f",
   "metadata": {},
   "outputs": [],
   "source": [
    "-> strip means removing white spaces\n",
    "lstrip():\n",
    "-> removes white spaces at the start and returns left strim version string\n",
    "syntax:\n",
    "     variable_name.lstrip()\n",
    "\n",
    "rstrip():\n",
    "-> removes white spaces at the end and returns right strim version string\n",
    "syntax:\n",
    "     variable_name.rstrip()"
   ]
  },
  {
   "cell_type": "code",
   "execution_count": 11,
   "id": "4d429945-343c-4b75-a03c-32bb0b52a3e1",
   "metadata": {},
   "outputs": [
    {
     "name": "stdout",
     "output_type": "stream",
     "text": [
      "Hello\n",
      "     Hello\n",
      "World     \n",
      "World\n"
     ]
    }
   ],
   "source": [
    "# example of lstrip() and rstrip()\n",
    "str1=\"     Hello\"\n",
    "str2=\"World     \"\n",
    "print(str1.lstrip())\n",
    "print(str1.rstrip())\n",
    "print(str2.lstrip())\n",
    "print(str2.rstrip())"
   ]
  },
  {
   "cell_type": "markdown",
   "id": "8cbb7b1b-d735-4bc0-bf56-438fca4a05f1",
   "metadata": {},
   "source": [
    "### strip()"
   ]
  },
  {
   "cell_type": "code",
   "execution_count": 12,
   "id": "787c6b6b-2fad-4653-af71-3fe7ec06eda1",
   "metadata": {},
   "outputs": [
    {
     "data": {
      "text/plain": [
       "'This is     Python    Class'"
      ]
     },
     "execution_count": 12,
     "metadata": {},
     "output_type": "execute_result"
    }
   ],
   "source": [
    "str1=\"   This is     Python    Class    \"\n",
    "str1.strip() # strip is combo of lstrip + rstrip"
   ]
  },
  {
   "cell_type": "markdown",
   "id": "7759b15e-844c-4eea-bc1c-4a2af871e3c8",
   "metadata": {},
   "source": [
    "### replace()"
   ]
  },
  {
   "cell_type": "code",
   "execution_count": null,
   "id": "c81cca93-fac8-4421-aa29-bcdc4d740b13",
   "metadata": {},
   "outputs": [],
   "source": [
    "-> it will return a string where a substring is replaced with that value \n",
    "-> syntax:  \n",
    "         string.replace(old_substring,new_substring,occurances)\n",
    "-> occurances is how many we want to replace\n",
    "-> if we dont give occurences input, by default it replace all the old ones with new characters"
   ]
  },
  {
   "cell_type": "code",
   "execution_count": 22,
   "id": "600af202-b907-41e7-9e9c-add78b669728",
   "metadata": {},
   "outputs": [
    {
     "name": "stdout",
     "output_type": "stream",
     "text": [
      "AAABBBBCCCCDDDDD\n",
      "AAABBBBCCCCDDEEE\n"
     ]
    }
   ],
   "source": [
    "str1=\"AAABBBBCCCCEEEEE\"\n",
    "print(str1.replace(\"E\",\"D\"))\n",
    "print(str1.replace(\"E\",\"D\",2))"
   ]
  },
  {
   "cell_type": "code",
   "execution_count": 25,
   "id": "3a5a0e4c-2e03-4dd2-b715-fcf966c1a144",
   "metadata": {},
   "outputs": [
    {
     "name": "stdout",
     "output_type": "stream",
     "text": [
      "AABBBBCCDD\n",
      "AAZZBBCCDD\n",
      "AAZZZZCCDD\n"
     ]
    }
   ],
   "source": [
    "# Example\n",
    "str1=\"AABBBBCCDD\"\n",
    "s1=str1.replace(\"B\",\"Z\",2) # replacing first 2 characters of B with Z\n",
    "s2=str1.replace(\"B\",\"Z\")   # replacing all characters of B with Z\n",
    "print(str1)\n",
    "print(s1)\n",
    "print(s2)"
   ]
  },
  {
   "cell_type": "code",
   "execution_count": 26,
   "id": "7eee2298-c740-4930-8145-cee67a2ac59e",
   "metadata": {},
   "outputs": [
    {
     "data": {
      "text/plain": [
       "'This is Python class and it is in Besant'"
      ]
     },
     "execution_count": 26,
     "metadata": {},
     "output_type": "execute_result"
    }
   ],
   "source": [
    "str1=\"This is Python class , it is in Besant\"\n",
    "str1.replace(\",\",\"and\")"
   ]
  },
  {
   "cell_type": "markdown",
   "id": "85bb1775-7a30-46b8-807e-c6f4da8cae68",
   "metadata": {},
   "source": [
    "### count()"
   ]
  },
  {
   "cell_type": "code",
   "execution_count": null,
   "id": "379b2bd6-a3b5-47b6-88a3-1f6d15de7723",
   "metadata": {},
   "outputs": [],
   "source": [
    "-> counts the occurance of character in the whole string\n",
    "-> syntax:\n",
    "         string.count(\"character\") # we can also give range (start,stop)"
   ]
  },
  {
   "cell_type": "code",
   "execution_count": 30,
   "id": "3cf1752b-86fd-411c-b520-13ed9adc2431",
   "metadata": {},
   "outputs": [
    {
     "data": {
      "text/plain": [
       "5"
      ]
     },
     "execution_count": 30,
     "metadata": {},
     "output_type": "execute_result"
    }
   ],
   "source": [
    "str1=\"This is Python class , it is in Besant\"\n",
    "str1.count(\"i\")"
   ]
  },
  {
   "cell_type": "code",
   "execution_count": null,
   "id": "91e51ac2-0edd-4ba5-9f47-9d1987cf3025",
   "metadata": {},
   "outputs": [],
   "source": []
  },
  {
   "cell_type": "code",
   "execution_count": null,
   "id": "b5d57160-22c0-4b5f-9199-eb8f7076f9bd",
   "metadata": {},
   "outputs": [],
   "source": []
  }
 ],
 "metadata": {
  "kernelspec": {
   "display_name": "Python 3 (ipykernel)",
   "language": "python",
   "name": "python3"
  },
  "language_info": {
   "codemirror_mode": {
    "name": "ipython",
    "version": 3
   },
   "file_extension": ".py",
   "mimetype": "text/x-python",
   "name": "python",
   "nbconvert_exporter": "python",
   "pygments_lexer": "ipython3",
   "version": "3.13.5"
  }
 },
 "nbformat": 4,
 "nbformat_minor": 5
}
