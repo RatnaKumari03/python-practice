{
 "cells": [
  {
   "cell_type": "markdown",
   "id": "c6afd7c2-6ec0-4b5f-83dd-3dc09bc3468a",
   "metadata": {},
   "source": [
    "## Questions "
   ]
  },
  {
   "cell_type": "markdown",
   "id": "9f0180c1-5057-48f5-90f6-f9e07cb04f4d",
   "metadata": {},
   "source": [
    "## Question 1"
   ]
  },
  {
   "cell_type": "code",
   "execution_count": 1,
   "id": "38f8e98b-8868-49d4-8dc1-960394db0377",
   "metadata": {},
   "outputs": [
    {
     "name": "stdin",
     "output_type": "stream",
     "text": [
      "Enter the string:  dude\n"
     ]
    },
    {
     "name": "stdout",
     "output_type": "stream",
     "text": [
      "Dude\n"
     ]
    }
   ],
   "source": [
    "# capitalize()\n",
    "str1=input(\"Enter the string: \")\n",
    "print(str1.capitalize())"
   ]
  },
  {
   "cell_type": "markdown",
   "id": "8303c742-bdb3-4422-93c7-bbbd31f5f9b3",
   "metadata": {},
   "source": [
    "## Question 2"
   ]
  },
  {
   "cell_type": "code",
   "execution_count": 2,
   "id": "ce7c75b0-370b-4512-a5e0-1dcc3a378e02",
   "metadata": {},
   "outputs": [
    {
     "name": "stdin",
     "output_type": "stream",
     "text": [
      "Enter the string:  LOWER\n"
     ]
    },
    {
     "name": "stdout",
     "output_type": "stream",
     "text": [
      "lower\n"
     ]
    }
   ],
   "source": [
    "# lowercase\n",
    "str1=input(\"Enter the string: \")\n",
    "print(str1.lower())"
   ]
  },
  {
   "cell_type": "markdown",
   "id": "6b25b8c2-693f-4a7f-bff3-ecd9d1935497",
   "metadata": {},
   "source": [
    "## Question 3"
   ]
  },
  {
   "cell_type": "code",
   "execution_count": 3,
   "id": "0fdf68c6-b46a-4481-9af5-c4733d013d30",
   "metadata": {},
   "outputs": [
    {
     "name": "stdin",
     "output_type": "stream",
     "text": [
      "Enter the string:  upper\n"
     ]
    },
    {
     "name": "stdout",
     "output_type": "stream",
     "text": [
      "UPPER\n"
     ]
    }
   ],
   "source": [
    "# uppercase\n",
    "str1=input(\"Enter the string: \")\n",
    "print(str1.upper())"
   ]
  },
  {
   "cell_type": "markdown",
   "id": "512b0376-703c-4a53-a948-a284d641d391",
   "metadata": {},
   "source": [
    "## Question 4"
   ]
  },
  {
   "cell_type": "code",
   "execution_count": 4,
   "id": "f616bb30-3661-432d-ada3-44a237401dbd",
   "metadata": {},
   "outputs": [
    {
     "name": "stdin",
     "output_type": "stream",
     "text": [
      " this is python practice\n"
     ]
    },
    {
     "name": "stdout",
     "output_type": "stream",
     "text": [
      "This Is Python Practice\n"
     ]
    }
   ],
   "source": [
    "# title()\n",
    "str1=input()\n",
    "print(str1.title())"
   ]
  },
  {
   "cell_type": "markdown",
   "id": "e663031d-8af6-4f9a-aa09-31519b089817",
   "metadata": {},
   "source": [
    "## Question 5"
   ]
  },
  {
   "cell_type": "code",
   "execution_count": 5,
   "id": "59f31118-1d87-4007-a4c7-aea9f07a2948",
   "metadata": {},
   "outputs": [
    {
     "name": "stdin",
     "output_type": "stream",
     "text": [
      "      This is Python practice\n"
     ]
    },
    {
     "name": "stdout",
     "output_type": "stream",
     "text": [
      "This is Python practice\n"
     ]
    }
   ],
   "source": [
    "# leading spaces (lstrip)\n",
    "str1=input()\n",
    "print(str1.lstrip())"
   ]
  },
  {
   "cell_type": "markdown",
   "id": "801e76a8-d5ee-4669-9a87-0b92b20ef648",
   "metadata": {},
   "source": [
    "## Question 6"
   ]
  },
  {
   "cell_type": "code",
   "execution_count": 8,
   "id": "c4d3f35b-db5c-4584-b8d7-02cfe9bccf50",
   "metadata": {},
   "outputs": [
    {
     "name": "stdout",
     "output_type": "stream",
     "text": [
      "Python Practice\n"
     ]
    }
   ],
   "source": [
    "# trailing spaces (rstrip)\n",
    "str1=\"Python Practice     \"\n",
    "print(str1.rstrip())"
   ]
  },
  {
   "cell_type": "markdown",
   "id": "7e0322de-0198-4bf5-b5cb-953fadd9d395",
   "metadata": {},
   "source": [
    "## Question 7"
   ]
  },
  {
   "cell_type": "code",
   "execution_count": 9,
   "id": "cada3a8e-b763-431a-952e-6a4ee150f73b",
   "metadata": {},
   "outputs": [
    {
     "name": "stdin",
     "output_type": "stream",
     "text": [
      "      This is strip() function    \n"
     ]
    },
    {
     "name": "stdout",
     "output_type": "stream",
     "text": [
      "This is strip() function\n"
     ]
    }
   ],
   "source": [
    "# strip() (both lstrip + rstrip)\n",
    "str1=input()\n",
    "print(str1.strip())"
   ]
  },
  {
   "cell_type": "markdown",
   "id": "27f2de4e-a93d-4cc0-91dd-176c3d158173",
   "metadata": {},
   "source": [
    "## Question 8"
   ]
  },
  {
   "cell_type": "code",
   "execution_count": 1,
   "id": "efb6526b-f6be-4a0e-9ebc-40c6325a5baf",
   "metadata": {},
   "outputs": [
    {
     "name": "stdout",
     "output_type": "stream",
     "text": [
      "This is python notebook\n",
      "This is python practice\n"
     ]
    }
   ],
   "source": [
    "# replace()\n",
    "old_str=\"This is python notebook\"\n",
    "new_str=\"practice\"\n",
    "print(old_str)\n",
    "print(old_str.replace(\"notebook\",new_str))"
   ]
  },
  {
   "cell_type": "code",
   "execution_count": 16,
   "id": "110232fd-c844-43b8-96c8-ad26c0b784d0",
   "metadata": {},
   "outputs": [
    {
     "name": "stdout",
     "output_type": "stream",
     "text": [
      "this is jupyter notebook\n"
     ]
    }
   ],
   "source": [
    "# replace() \n",
    "str1=\"this is python notebook\"\n",
    "print(str1.replace(\"python\",\"jupyter\"))"
   ]
  },
  {
   "cell_type": "markdown",
   "id": "44370552-70ce-424c-8f18-eaff16baf2a3",
   "metadata": {},
   "source": [
    "## Question 9"
   ]
  },
  {
   "cell_type": "code",
   "execution_count": 29,
   "id": "f2e69d6b-2a51-4896-8f2a-84d2e77a399b",
   "metadata": {},
   "outputs": [
    {
     "name": "stdout",
     "output_type": "stream",
     "text": [
      "Occurance of 'i' is  3\n"
     ]
    }
   ],
   "source": [
    "# count() using loop and conditional statements\n",
    "str1=\"This is python practice\"\n",
    "count=0\n",
    "for char in str1:\n",
    "    if char=='i':\n",
    "        count+=1\n",
    "print(\"Occurance of 'i' is \",count)"
   ]
  },
  {
   "cell_type": "code",
   "execution_count": 30,
   "id": "8178e525-e3bd-4608-b50c-a2821e298699",
   "metadata": {},
   "outputs": [
    {
     "name": "stdout",
     "output_type": "stream",
     "text": [
      "Occurance of 'i' is  3\n"
     ]
    }
   ],
   "source": [
    "# count()\n",
    "str1=\"This is python practice\"\n",
    "s1=str1.lower()\n",
    "print(\"Occurance of 'i' is \",s1.count(\"i\"))"
   ]
  },
  {
   "cell_type": "markdown",
   "id": "5951c59f-0ad2-40e0-8fff-4bdaa78c837a",
   "metadata": {},
   "source": [
    "## Question 10"
   ]
  },
  {
   "cell_type": "code",
   "execution_count": 10,
   "id": "443b2c5a-55e1-41e5-b205-35309984f1e6",
   "metadata": {},
   "outputs": [
    {
     "name": "stdout",
     "output_type": "stream",
     "text": [
      "Substring is found\n",
      " First occurance 16\n"
     ]
    }
   ],
   "source": [
    "# find()\n",
    "str1=\"This program is used to find string or substrings\"\n",
    "str2=\"used\"\n",
    "if str1.find(str2):\n",
    "    print(\"Substring is found\")\n",
    "    print(f\" First occurance {str1.find(str2)}\")\n",
    "else:\n",
    "    print(\"Substring is not found\")"
   ]
  },
  {
   "cell_type": "markdown",
   "id": "29f498e3-f3d3-4296-a10c-c48967d9b6fa",
   "metadata": {},
   "source": [
    "## Question 11"
   ]
  },
  {
   "cell_type": "code",
   "execution_count": 13,
   "id": "d6373c77-88b9-4a6d-bb44-74328622aa97",
   "metadata": {},
   "outputs": [
    {
     "name": "stdout",
     "output_type": "stream",
     "text": [
      "Index: 7\n"
     ]
    }
   ],
   "source": [
    "# using while loop and find()\n",
    "str1=\"This program contains while loop and find method\"\n",
    "sub_str=\"o\"\n",
    "index=str1.find(sub_str)\n",
    "while index!=-1:\n",
    "    print(f\"Index: {index}\")\n",
    "    break"
   ]
  },
  {
   "cell_type": "markdown",
   "id": "54fbd819-3b7b-467e-bd6b-3d51a132282b",
   "metadata": {},
   "source": [
    "## Question 12"
   ]
  },
  {
   "cell_type": "code",
   "execution_count": 19,
   "id": "0804317c-965b-4f72-a9b1-65fedde8af84",
   "metadata": {},
   "outputs": [
    {
     "name": "stdin",
     "output_type": "stream",
     "text": [
      " This is split method\n"
     ]
    },
    {
     "name": "stdout",
     "output_type": "stream",
     "text": [
      "['This', 'is', 'split', 'method']\n",
      "This\n",
      "is\n",
      "split\n",
      "method\n"
     ]
    }
   ],
   "source": [
    "# split()\n",
    "str1=input()\n",
    "str2=str1.split()\n",
    "print(str2)\n",
    "for i in str2:\n",
    "    print(i)"
   ]
  },
  {
   "cell_type": "markdown",
   "id": "6f6a223f-276f-455c-a164-9a4a79e619e1",
   "metadata": {},
   "source": [
    "## Question 13"
   ]
  },
  {
   "cell_type": "code",
   "execution_count": 21,
   "id": "2bdffdc0-2d68-4cf3-b2e6-35aafa1e7664",
   "metadata": {},
   "outputs": [
    {
     "name": "stdin",
     "output_type": "stream",
     "text": [
      "Enter file name:  ratna.txt\n"
     ]
    },
    {
     "name": "stdout",
     "output_type": "stream",
     "text": [
      "This is a text file\n"
     ]
    }
   ],
   "source": [
    "# endswith()\n",
    "str1=input(\"Enter file name: \")\n",
    "if str1.endswith(\".txt\"):\n",
    "    print(\"This is a text file\")\n",
    "else:\n",
    "    print(\"This is not necessarily a text file\")"
   ]
  },
  {
   "cell_type": "markdown",
   "id": "5dcb1d4b-c732-4a78-ba78-783e2883da98",
   "metadata": {},
   "source": [
    "## Question 14"
   ]
  },
  {
   "cell_type": "code",
   "execution_count": 24,
   "id": "1fbaeb48-25f1-47a6-9276-4970b18ef728",
   "metadata": {},
   "outputs": [
    {
     "name": "stdin",
     "output_type": "stream",
     "text": [
      "Enter input:  Subject: \n"
     ]
    },
    {
     "name": "stdout",
     "output_type": "stream",
     "text": [
      "This line is likely an email subject\n"
     ]
    }
   ],
   "source": [
    "# startswith()\n",
    "str1=input(\"Enter input: \")\n",
    "if str1.startswith(\"Subject: \"):\n",
    "    print(\"This line is likely an email subject\")\n",
    "else:\n",
    "    print(\"This line does not appear to be an email\")"
   ]
  },
  {
   "cell_type": "markdown",
   "id": "3b56aab4-c61c-4e8c-b8f6-9b0001d2856c",
   "metadata": {},
   "source": [
    "## Question 15"
   ]
  },
  {
   "cell_type": "code",
   "execution_count": 27,
   "id": "3f011923-152e-4d22-a00f-66eb7bbdb2d3",
   "metadata": {},
   "outputs": [
    {
     "name": "stdin",
     "output_type": "stream",
     "text": [
      " abcdAA123\n"
     ]
    },
    {
     "name": "stdout",
     "output_type": "stream",
     "text": [
      "Alphanumeric string\n"
     ]
    }
   ],
   "source": [
    "# isalnum()\n",
    "str1=input()\n",
    "if str1.isalnum():\n",
    "    print(\"Alphanumeric string\")\n",
    "else:\n",
    "    print(\"Not an alphanumeric string\")"
   ]
  },
  {
   "cell_type": "markdown",
   "id": "853afaac-e722-4e98-929b-9efbc78e6d70",
   "metadata": {},
   "source": [
    "## Question 16"
   ]
  },
  {
   "cell_type": "code",
   "execution_count": 28,
   "id": "ab3cbddb-8b47-45ff-bc94-0d35b7f55c6e",
   "metadata": {},
   "outputs": [
    {
     "name": "stdin",
     "output_type": "stream",
     "text": [
      " ratna123\n"
     ]
    },
    {
     "name": "stdout",
     "output_type": "stream",
     "text": [
      "Not an alphabetic string\n"
     ]
    }
   ],
   "source": [
    "# isalpha()\n",
    "str1=input()\n",
    "if str1.isalpha():\n",
    "    print(\"Alphabetic string\")\n",
    "else:\n",
    "    print(\"Not an alphabetic string\")"
   ]
  },
  {
   "cell_type": "markdown",
   "id": "161d296f-9a2e-4bc1-a5a5-df7d14d93e86",
   "metadata": {},
   "source": [
    "## Question 17"
   ]
  },
  {
   "cell_type": "code",
   "execution_count": 31,
   "id": "28882b05-651e-4f2e-b21a-eeedc293454e",
   "metadata": {},
   "outputs": [
    {
     "name": "stdin",
     "output_type": "stream",
     "text": [
      " 123432\n"
     ]
    },
    {
     "name": "stdout",
     "output_type": "stream",
     "text": [
      "Decimal string\n"
     ]
    }
   ],
   "source": [
    "# isdecimal()\n",
    "str1=input()\n",
    "if str1.isdecimal():\n",
    "    print(\"Decimal string\")\n",
    "else:\n",
    "    print(\"Not a decimal string\")"
   ]
  },
  {
   "cell_type": "markdown",
   "id": "c75d57a0-32c0-486f-8be6-4371af5465cf",
   "metadata": {},
   "source": [
    "## Question 18"
   ]
  },
  {
   "cell_type": "code",
   "execution_count": 36,
   "id": "2811be42-a83c-4dc2-afa7-86323b2e7ca2",
   "metadata": {},
   "outputs": [
    {
     "name": "stdin",
     "output_type": "stream",
     "text": [
      " 123A\n"
     ]
    },
    {
     "name": "stdout",
     "output_type": "stream",
     "text": [
      "Not a digit string\n"
     ]
    }
   ],
   "source": [
    "# isdigit()\n",
    "str1=input()\n",
    "if str1.isdigit():\n",
    "    print(\"Digit string\")\n",
    "else:\n",
    "    print(\"Not a digit string\")"
   ]
  },
  {
   "cell_type": "markdown",
   "id": "244845db-d38c-45f0-bbeb-a3c6e77a501b",
   "metadata": {},
   "source": [
    "## Question 19"
   ]
  },
  {
   "cell_type": "code",
   "execution_count": 39,
   "id": "49722e90-e3d8-44f0-86ff-bd4843392f56",
   "metadata": {},
   "outputs": [
    {
     "name": "stdin",
     "output_type": "stream",
     "text": [
      " 1234\n"
     ]
    },
    {
     "name": "stdout",
     "output_type": "stream",
     "text": [
      "Numeric string\n"
     ]
    }
   ],
   "source": [
    "# isnumeric()\n",
    "str1=input()\n",
    "if str1.isnumeric():\n",
    "    print(\"Numeric string\")\n",
    "else:\n",
    "    print(\"Not a numeric string\")"
   ]
  },
  {
   "cell_type": "markdown",
   "id": "dc304d02-215e-44aa-9f6d-db7787f2b52d",
   "metadata": {},
   "source": [
    "## Question 20"
   ]
  },
  {
   "cell_type": "code",
   "execution_count": 40,
   "id": "e88f3415-0e87-48f2-b0d4-f47664ebb364",
   "metadata": {},
   "outputs": [
    {
     "name": "stdin",
     "output_type": "stream",
     "text": [
      " sahW\n"
     ]
    },
    {
     "name": "stdout",
     "output_type": "stream",
     "text": [
      "Not all lowercase\n"
     ]
    }
   ],
   "source": [
    "# islower()\n",
    "str1=input()\n",
    "if str1.islower():\n",
    "    print(\"All lowercase\")\n",
    "else:\n",
    "    print(\"Not all lowercase\")"
   ]
  },
  {
   "cell_type": "markdown",
   "id": "a02f4886-5380-436c-b5a0-67846b1a1002",
   "metadata": {},
   "source": [
    "## Question 21"
   ]
  },
  {
   "cell_type": "code",
   "execution_count": 41,
   "id": "4f2e0d19-64ca-4856-8cd0-fe6cd414c953",
   "metadata": {},
   "outputs": [
    {
     "name": "stdin",
     "output_type": "stream",
     "text": [
      " UPPER\n"
     ]
    },
    {
     "name": "stdout",
     "output_type": "stream",
     "text": [
      "All uppercase\n"
     ]
    }
   ],
   "source": [
    "# isupper()\n",
    "str1=input()\n",
    "if str1.isupper():\n",
    "    print(\"All uppercase\")\n",
    "else:\n",
    "    print(\"Not all uppercase\")"
   ]
  },
  {
   "cell_type": "markdown",
   "id": "ffac7e62-2753-49d3-959d-e27a3051313a",
   "metadata": {},
   "source": [
    "## Question 22"
   ]
  },
  {
   "cell_type": "code",
   "execution_count": 43,
   "id": "c6679ebf-3c50-4c20-911f-6203e14e9466",
   "metadata": {},
   "outputs": [
    {
     "name": "stdin",
     "output_type": "stream",
     "text": [
      "Enter a string:  Hello EVeryone\n"
     ]
    },
    {
     "name": "stdout",
     "output_type": "stream",
     "text": [
      "Not a title case string\n"
     ]
    }
   ],
   "source": [
    "# istitle()\n",
    "str1=input(\"Enter a string: \")\n",
    "if str1.istitle():\n",
    "    print(\"Title case string\")\n",
    "else:\n",
    "    print(\"Not a title case string\")"
   ]
  },
  {
   "cell_type": "markdown",
   "id": "5ab457d5-3bb7-4962-95b8-166ea26de50a",
   "metadata": {},
   "source": [
    "## Question 23"
   ]
  },
  {
   "cell_type": "code",
   "execution_count": 44,
   "id": "44bb692d-2542-46d4-b433-0ce827df8596",
   "metadata": {},
   "outputs": [
    {
     "name": "stdin",
     "output_type": "stream",
     "text": [
      "      \n"
     ]
    },
    {
     "name": "stdout",
     "output_type": "stream",
     "text": [
      "Whitespace string\n"
     ]
    }
   ],
   "source": [
    "# isspace()\n",
    "str1=input()\n",
    "if str1.isspace():\n",
    "    print(\"Whitespace string\")\n",
    "else:\n",
    "    print(\"Not a whitespace string\")"
   ]
  },
  {
   "cell_type": "markdown",
   "id": "2399f5a4-81a1-476a-9903-08c5a53002f1",
   "metadata": {},
   "source": [
    "## Question 24"
   ]
  },
  {
   "cell_type": "code",
   "execution_count": 46,
   "id": "1648c7d5-28ca-4241-83f4-878d4a1ad0f0",
   "metadata": {},
   "outputs": [
    {
     "name": "stdin",
     "output_type": "stream",
     "text": [
      " 12345\n"
     ]
    },
    {
     "name": "stdout",
     "output_type": "stream",
     "text": [
      "0000012345\n"
     ]
    }
   ],
   "source": [
    "# zfill()\n",
    "str1=input()\n",
    "print(str1.zfill(10))"
   ]
  },
  {
   "cell_type": "markdown",
   "id": "2ec3de7c-f437-40be-8f55-30f8af23f5d3",
   "metadata": {},
   "source": [
    "## Question 25"
   ]
  },
  {
   "cell_type": "code",
   "execution_count": 50,
   "id": "a46582aa-2ea8-4924-b075-2f0a25cb00ab",
   "metadata": {},
   "outputs": [
    {
     "name": "stdin",
     "output_type": "stream",
     "text": [
      " ratna\n"
     ]
    },
    {
     "name": "stdout",
     "output_type": "stream",
     "text": [
      "**ratna**\n"
     ]
    }
   ],
   "source": [
    "# center()\n",
    "str1=input()\n",
    "print(str1.center(9,\"*\"))"
   ]
  },
  {
   "cell_type": "markdown",
   "id": "d41d7127-984f-46ab-90d4-091f2b76c4a1",
   "metadata": {},
   "source": []
  }
 ],
 "metadata": {
  "kernelspec": {
   "display_name": "Python 3 (ipykernel)",
   "language": "python",
   "name": "python3"
  },
  "language_info": {
   "codemirror_mode": {
    "name": "ipython",
    "version": 3
   },
   "file_extension": ".py",
   "mimetype": "text/x-python",
   "name": "python",
   "nbconvert_exporter": "python",
   "pygments_lexer": "ipython3",
   "version": "3.13.5"
  }
 },
 "nbformat": 4,
 "nbformat_minor": 5
}
