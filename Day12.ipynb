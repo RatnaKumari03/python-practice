{
 "cells": [
  {
   "cell_type": "markdown",
   "id": "cd12e64b-0ef7-4232-92de-cf96e591cc98",
   "metadata": {},
   "source": [
    "## List Constructor"
   ]
  },
  {
   "cell_type": "code",
   "execution_count": null,
   "id": "c216f12b-8eaf-462a-869b-ed2044539c0e",
   "metadata": {},
   "outputs": [],
   "source": [
    "-> purpose of list() constructor is to create a new list from iteration\n",
    "->syntax:\n",
    "        new_list=list(iterable)"
   ]
  },
  {
   "cell_type": "code",
   "execution_count": 1,
   "id": "2a084734-d06e-4c8e-8781-c0dec4d84ac6",
   "metadata": {},
   "outputs": [
    {
     "data": {
      "text/plain": [
       "['a', 'j', 'h', 'a', 'g', 's', 'a', 'h', '@', '%', '&', '1', '2', '3']"
      ]
     },
     "execution_count": 1,
     "metadata": {},
     "output_type": "execute_result"
    }
   ],
   "source": [
    "# Example\n",
    "l1=\"ajhagsah@%&123\"\n",
    "list(l1) # creating a new list"
   ]
  },
  {
   "cell_type": "markdown",
   "id": "9eee5ba7-ed69-496a-be67-70b51a1d6768",
   "metadata": {},
   "source": [
    "## list functions/methods"
   ]
  },
  {
   "cell_type": "markdown",
   "id": "cb9531b6-a49d-4f1e-9ed4-f182d7b6fb27",
   "metadata": {},
   "source": [
    "## 1. append()"
   ]
  },
  {
   "cell_type": "code",
   "execution_count": null,
   "id": "aefaa54f-8bcf-493b-9ed4-b681444ac8e6",
   "metadata": {},
   "outputs": [],
   "source": [
    "-> adds an item to the end of the list\n",
    "-> syntax:\n",
    "        List.append(item)"
   ]
  },
  {
   "cell_type": "code",
   "execution_count": 2,
   "id": "2298b484-6f27-4038-89aa-871a7713265a",
   "metadata": {},
   "outputs": [
    {
     "name": "stdout",
     "output_type": "stream",
     "text": [
      "['apple', 'banana', 'kiwi']\n"
     ]
    }
   ],
   "source": [
    "# Example\n",
    "fruits=[\"apple\",\"banana\"]\n",
    "fruits.append(\"kiwi\")\n",
    "print(fruits)"
   ]
  },
  {
   "cell_type": "code",
   "execution_count": 11,
   "id": "fb430c61-6894-4027-baf3-f7f9ff791f4d",
   "metadata": {},
   "outputs": [
    {
     "name": "stdout",
     "output_type": "stream",
     "text": [
      "[1, 2, 3, [4, 5, 6]]\n",
      "4\n"
     ]
    }
   ],
   "source": [
    "var1=[1,2,3]\n",
    "var2=[4,5,6]    # this will be considered as single item\n",
    "var3=var1.append(var2)\n",
    "print(var1)\n",
    "print(len(var1))"
   ]
  },
  {
   "cell_type": "code",
   "execution_count": 15,
   "id": "e976462a-78b4-41b8-ac4c-3cccd3ae2748",
   "metadata": {},
   "outputs": [
    {
     "name": "stdout",
     "output_type": "stream",
     "text": [
      "Even List is  [12, 4, 56, 98]\n",
      "Odd List is  [23, 67, 87, 87]\n"
     ]
    }
   ],
   "source": [
    "# write a program tp filter out odd and even numbers from the list, create two lists containing odd and even numbers.\n",
    "ls=[12,4,23,56,67,87,87,98]\n",
    "odd_list=[]\n",
    "even_list=[]\n",
    "for i in ls:\n",
    "    if i%2==0:\n",
    "        even_list.append(i)\n",
    "    else:\n",
    "        odd_list.append(i)\n",
    "print(\"Even List is \",even_list)\n",
    "print(\"Odd List is \",odd_list)"
   ]
  },
  {
   "cell_type": "markdown",
   "id": "b8fc9be4-5fe1-40fa-af8a-6f99d9b1f37b",
   "metadata": {},
   "source": [
    "## 2. extend()"
   ]
  },
  {
   "cell_type": "code",
   "execution_count": 16,
   "id": "d1a4fc12-0949-4847-a259-1211cb7d7796",
   "metadata": {},
   "outputs": [
    {
     "name": "stdout",
     "output_type": "stream",
     "text": [
      "[1, 2, 3, 4, 5, 6]\n",
      "6\n"
     ]
    }
   ],
   "source": [
    "list1=[1,2,3]\n",
    "list2=[4,5,6]\n",
    "list1.extend(list2)\n",
    "print(list1)\n",
    "print(len(list1))"
   ]
  },
  {
   "cell_type": "markdown",
   "id": "3abb9000-4a85-46b7-a992-b863fc596885",
   "metadata": {},
   "source": [
    "## 3. insert()"
   ]
  },
  {
   "cell_type": "code",
   "execution_count": null,
   "id": "915fd1bb-737a-4e48-a274-28b1c0ad1379",
   "metadata": {},
   "outputs": [],
   "source": [
    "-> when we want to add an item at a particular index\n",
    "-> it only adds that item at particular index but not delete or remove the already existing item\n",
    "-> syntax:\n",
    "        List.insert(index,item)"
   ]
  },
  {
   "cell_type": "code",
   "execution_count": 17,
   "id": "8c53c196-32a4-4b23-bcb3-3cafbeb1d694",
   "metadata": {},
   "outputs": [
    {
     "name": "stdout",
     "output_type": "stream",
     "text": [
      "[10, 20, 30, 40]\n"
     ]
    }
   ],
   "source": [
    "# Example\n",
    "list1=[10,20,40]\n",
    "list1.insert(-1,30)\n",
    "print(list1)"
   ]
  },
  {
   "cell_type": "markdown",
   "id": "f6df3caf-86ea-4ca0-966e-22a01a5ca3db",
   "metadata": {},
   "source": [
    "## 4. remove()"
   ]
  },
  {
   "cell_type": "code",
   "execution_count": 18,
   "id": "5daedf32-a618-4e8a-88f5-bd0675ff15f1",
   "metadata": {},
   "outputs": [
    {
     "name": "stdout",
     "output_type": "stream",
     "text": [
      "[1, 2, 3, 4, 5, 6]\n"
     ]
    }
   ],
   "source": [
    "list1=[1,2,3,4,4,5,6]\n",
    "list1.remove(4)\n",
    "print(list1)"
   ]
  },
  {
   "cell_type": "code",
   "execution_count": 21,
   "id": "14bd5260-8157-44d0-a36e-2e9865119b10",
   "metadata": {},
   "outputs": [
    {
     "name": "stdout",
     "output_type": "stream",
     "text": [
      "Item deleted\n",
      "['Phy', 'Che', 'Eng', 'Bio']\n"
     ]
    }
   ],
   "source": [
    "# remove item \"Math\" from the list\n",
    "list1=['Phy','Che','Math','Eng','Bio']\n",
    "val='Math'\n",
    "if val in list1:\n",
    "    list1.remove(val)\n",
    "    print(\"Item deleted\")\n",
    "else:\n",
    "    print(\"Item not found\")\n",
    "print(list1)"
   ]
  },
  {
   "cell_type": "markdown",
   "id": "3a24a918-a5e5-4c75-8961-d085e02cbc6f",
   "metadata": {},
   "source": [
    "## 5. pop()"
   ]
  },
  {
   "cell_type": "code",
   "execution_count": null,
   "id": "59da6a07-9e6e-4685-b16c-dbd00d41c74c",
   "metadata": {},
   "outputs": [],
   "source": [
    "-> removes and returns the item at the index (default: last item)\n",
    "-> syntax:\n",
    "        List.pop()"
   ]
  },
  {
   "cell_type": "code",
   "execution_count": 34,
   "id": "120ffb7c-4d6b-4d96-b891-b98d3541e15d",
   "metadata": {},
   "outputs": [
    {
     "name": "stdout",
     "output_type": "stream",
     "text": [
      "[1, 2, 3, 4, 5]\n"
     ]
    }
   ],
   "source": [
    "# Example\n",
    "list1=[1,2,3,4,5,6]\n",
    "list1.pop()\n",
    "print(list1)"
   ]
  },
  {
   "cell_type": "markdown",
   "id": "7a68e60e-cf61-4e96-96be-9c83ae374738",
   "metadata": {},
   "source": [
    "## 6. clear()"
   ]
  },
  {
   "cell_type": "code",
   "execution_count": null,
   "id": "58f99d4c-598d-404e-a0a9-98c6640a7c04",
   "metadata": {},
   "outputs": [],
   "source": [
    "-> it will clear all the items in the list"
   ]
  },
  {
   "cell_type": "code",
   "execution_count": 39,
   "id": "1d5e2711-8bbc-4945-9b82-ecc50538cdba",
   "metadata": {},
   "outputs": [
    {
     "data": {
      "text/plain": [
       "[]"
      ]
     },
     "execution_count": 39,
     "metadata": {},
     "output_type": "execute_result"
    }
   ],
   "source": [
    "# Example\n",
    "list1.clear()  # clears all items in the list\n",
    "list1"
   ]
  },
  {
   "cell_type": "markdown",
   "id": "60bfc90a-cf03-4b5c-9289-284104d538ec",
   "metadata": {},
   "source": [
    "## 7. del keyword"
   ]
  },
  {
   "cell_type": "code",
   "execution_count": null,
   "id": "d8e3a352-31e6-4f70-8a16-d2bbb2e22b34",
   "metadata": {},
   "outputs": [],
   "source": [
    "-> deletes particular item in the list"
   ]
  },
  {
   "cell_type": "code",
   "execution_count": 1,
   "id": "9d1b2d37-9c2d-4303-bc6b-d7f4562fecb1",
   "metadata": {},
   "outputs": [
    {
     "data": {
      "text/plain": [
       "['a', 'b', 'c', 'e']"
      ]
     },
     "execution_count": 1,
     "metadata": {},
     "output_type": "execute_result"
    }
   ],
   "source": [
    "list1=['a','b','c','d','e']\n",
    "del list1[3]\n",
    "list1"
   ]
  },
  {
   "cell_type": "markdown",
   "id": "a49fe3a2-2aed-496d-b204-d3136f4326c2",
   "metadata": {},
   "source": [
    "## 8. sort()"
   ]
  },
  {
   "cell_type": "code",
   "execution_count": 2,
   "id": "5b62472e-61bc-40c9-9f76-989f2ebe05ca",
   "metadata": {},
   "outputs": [],
   "source": [
    "-> sorts the list in ascending or descending order\n",
    "-> syntax:\n",
    "         list.sort() # for ascending order\n",
    "         list.sort(reverse=True) # for descending order"
   ]
  },
  {
   "cell_type": "code",
   "execution_count": 7,
   "id": "22522cf2-b301-4ba4-bef0-78858a99fd9c",
   "metadata": {},
   "outputs": [
    {
     "name": "stdout",
     "output_type": "stream",
     "text": [
      "[0, 1, 2, 3, 4]\n",
      "[4, 3, 2, 1, 0]\n"
     ]
    }
   ],
   "source": [
    "list1=[1,3,2,0,4]\n",
    "list1.sort() # Ascending order\n",
    "print(list1) \n",
    "list1.sort(reverse=True)  # Descending order\n",
    "print(list1)"
   ]
  },
  {
   "cell_type": "markdown",
   "id": "ad0a7ec6-b8bf-4b3d-bf17-a44517034c84",
   "metadata": {},
   "source": [
    "## 9. reverse()"
   ]
  },
  {
   "cell_type": "code",
   "execution_count": null,
   "id": "8dffc4b2-a52c-4341-8668-d8304699ba24",
   "metadata": {},
   "outputs": [],
   "source": [
    "-> reverses the list in place\n",
    "-> syntax:\n",
    "        List.reverse()"
   ]
  },
  {
   "cell_type": "code",
   "execution_count": 9,
   "id": "5e10d8cf-445c-4a55-978b-ad4db08234f4",
   "metadata": {},
   "outputs": [
    {
     "name": "stdout",
     "output_type": "stream",
     "text": [
      "['a', 'n', 't', 'a', 'r']\n"
     ]
    }
   ],
   "source": [
    "# Example\n",
    "list1=['r','a','t','n','a']\n",
    "list1.reverse()\n",
    "print(list1)"
   ]
  },
  {
   "cell_type": "markdown",
   "id": "d1f0c7bf-e11a-48fd-8781-9cf3276c8f90",
   "metadata": {},
   "source": [
    "## 10. index()"
   ]
  },
  {
   "cell_type": "code",
   "execution_count": null,
   "id": "c0db76fc-c724-480d-b67b-a42c559dd047",
   "metadata": {},
   "outputs": [],
   "source": [
    "-> returns the index of the first occurence of item\n",
    "-> syntax:\n",
    "        List.index(item)"
   ]
  },
  {
   "cell_type": "code",
   "execution_count": 10,
   "id": "e7d56152-db8e-46e1-ba2c-ff39d1ad1581",
   "metadata": {},
   "outputs": [
    {
     "data": {
      "text/plain": [
       "1"
      ]
     },
     "execution_count": 10,
     "metadata": {},
     "output_type": "execute_result"
    }
   ],
   "source": [
    "# Example\n",
    "list1=['r','a','t','n','a']\n",
    "list1.index('a')"
   ]
  },
  {
   "cell_type": "markdown",
   "id": "052db8ac-c6c4-414d-882d-2888dab14edb",
   "metadata": {},
   "source": [
    "## 11. count()"
   ]
  },
  {
   "cell_type": "code",
   "execution_count": null,
   "id": "b7aeaa29-be2e-45ae-872d-4f7090f76420",
   "metadata": {},
   "outputs": [],
   "source": [
    "-> returns the number of times item appears in the list\n",
    "-> syntax:\n",
    "        List.count(item)"
   ]
  },
  {
   "cell_type": "code",
   "execution_count": 11,
   "id": "815e2102-9947-4888-bb57-754d59dc625c",
   "metadata": {},
   "outputs": [
    {
     "data": {
      "text/plain": [
       "3"
      ]
     },
     "execution_count": 11,
     "metadata": {},
     "output_type": "execute_result"
    }
   ],
   "source": [
    "# Example\n",
    "list1=[10,20,30,20,50,20]\n",
    "list1.count(20)"
   ]
  },
  {
   "cell_type": "markdown",
   "id": "234344a5-c888-4464-9433-f524719adac6",
   "metadata": {},
   "source": [
    "## Built-in functions with examples"
   ]
  },
  {
   "cell_type": "code",
   "execution_count": null,
   "id": "a58d5935-4c3f-4463-ba1a-085cd7e50ac2",
   "metadata": {},
   "outputs": [],
   "source": [
    "-> len,min,max,sum,sorted,reversed,sum"
   ]
  },
  {
   "cell_type": "markdown",
   "id": "caa9803e-b37a-40e4-9d8f-543fa2937f4b",
   "metadata": {},
   "source": [
    "## 1. len(list)"
   ]
  },
  {
   "cell_type": "code",
   "execution_count": null,
   "id": "ae32ab7c-7486-45e1-b3e4-bc33e13b7222",
   "metadata": {},
   "outputs": [],
   "source": [
    "-> returns the length of the list\n",
    "-> syntax:\n",
    "        len(list_name)"
   ]
  },
  {
   "cell_type": "code",
   "execution_count": 12,
   "id": "3df64b95-fd38-4ccd-9a1e-5fe3fa00b393",
   "metadata": {},
   "outputs": [
    {
     "name": "stdout",
     "output_type": "stream",
     "text": [
      "5\n"
     ]
    }
   ],
   "source": [
    "list1=[10,20,30,40,50]\n",
    "print(len(list1))"
   ]
  },
  {
   "cell_type": "markdown",
   "id": "2cc44980-28fe-4f53-aaa1-c80bdd544fdb",
   "metadata": {},
   "source": [
    "## 2. sorted(iterable)"
   ]
  },
  {
   "cell_type": "code",
   "execution_count": null,
   "id": "8d21297a-f497-499a-b56b-85c0cb72bf5f",
   "metadata": {},
   "outputs": [],
   "source": [
    "-> returns a new sorted list from the items in the iterable\n",
    "(doesn't modify the original list)\n",
    "-> syntax:\n",
    "        sorted(list_name)"
   ]
  },
  {
   "cell_type": "code",
   "execution_count": 13,
   "id": "31fbdf92-116e-4275-a555-62d690c52353",
   "metadata": {},
   "outputs": [
    {
     "name": "stdout",
     "output_type": "stream",
     "text": [
      "[2, 4, 3, 1, 9, 7, 8, 4]\n",
      "[1, 2, 3, 4, 4, 7, 8, 9]\n"
     ]
    }
   ],
   "source": [
    "# Example\n",
    "list1=[2,4,3,1,9,7,8,4]\n",
    "sorted_list=sorted(list1)\n",
    "print(list1)\n",
    "print(sorted_list)"
   ]
  },
  {
   "cell_type": "markdown",
   "id": "4c0c8352-670a-4095-aca9-3715e1becd9b",
   "metadata": {},
   "source": [
    "## 3. sum(list)"
   ]
  },
  {
   "cell_type": "code",
   "execution_count": 1,
   "id": "50a075a9-a2b3-4de4-bf95-c90369586fba",
   "metadata": {},
   "outputs": [
    {
     "data": {
      "text/plain": [
       "10"
      ]
     },
     "execution_count": 1,
     "metadata": {},
     "output_type": "execute_result"
    }
   ],
   "source": [
    "# Example\n",
    "list1=[1,2,3,4]\n",
    "sum(list1)"
   ]
  },
  {
   "cell_type": "markdown",
   "id": "fe8e7f24-53ba-45ee-940a-c878da115cb1",
   "metadata": {},
   "source": [
    "## 4. min(list)"
   ]
  },
  {
   "cell_type": "code",
   "execution_count": 2,
   "id": "051d230c-e7bf-46bb-8b1f-910f869c1922",
   "metadata": {},
   "outputs": [
    {
     "data": {
      "text/plain": [
       "1"
      ]
     },
     "execution_count": 2,
     "metadata": {},
     "output_type": "execute_result"
    }
   ],
   "source": [
    "# Example\n",
    "list1=[10,2,4,9,1]\n",
    "min(list1)"
   ]
  },
  {
   "cell_type": "markdown",
   "id": "8a360541-cf65-46fe-bafe-9cd1a7ea6796",
   "metadata": {},
   "source": [
    "## 5. max(list)"
   ]
  },
  {
   "cell_type": "code",
   "execution_count": 3,
   "id": "131f5b26-cb3a-4784-bfcd-aef0bc6bae93",
   "metadata": {},
   "outputs": [
    {
     "data": {
      "text/plain": [
       "10"
      ]
     },
     "execution_count": 3,
     "metadata": {},
     "output_type": "execute_result"
    }
   ],
   "source": [
    "# Example\n",
    "lsit1=[1,10,4,9,2]\n",
    "max(list1)"
   ]
  },
  {
   "cell_type": "markdown",
   "id": "b775a51e-6a34-4969-bfb9-64dddc0868e1",
   "metadata": {},
   "source": [
    "## Nested list"
   ]
  },
  {
   "cell_type": "code",
   "execution_count": null,
   "id": "6b3ae5f1-89d6-405e-80bd-a401fa8abfcc",
   "metadata": {},
   "outputs": [],
   "source": [
    "-> list inside list"
   ]
  },
  {
   "cell_type": "code",
   "execution_count": 4,
   "id": "50080fdf-7fc8-4d4c-adc1-6ee543251dcf",
   "metadata": {},
   "outputs": [
    {
     "data": {
      "text/plain": [
       "3"
      ]
     },
     "execution_count": 4,
     "metadata": {},
     "output_type": "execute_result"
    }
   ],
   "source": [
    "# Example\n",
    "list1=[1,2,[3,4]]\n",
    "len(list1)"
   ]
  },
  {
   "cell_type": "code",
   "execution_count": 5,
   "id": "ff27eb15-e7fe-4f09-b172-796fbeffa99e",
   "metadata": {},
   "outputs": [
    {
     "data": {
      "text/plain": [
       "4"
      ]
     },
     "execution_count": 5,
     "metadata": {},
     "output_type": "execute_result"
    }
   ],
   "source": [
    "# slicing\n",
    "list1=[1,2,[3,4],5]\n",
    "list1[2][1]"
   ]
  },
  {
   "cell_type": "code",
   "execution_count": null,
   "id": "c0fe1941-f2b7-4dff-8e07-bb63de208ec4",
   "metadata": {},
   "outputs": [],
   "source": []
  }
 ],
 "metadata": {
  "kernelspec": {
   "display_name": "Python 3 (ipykernel)",
   "language": "python",
   "name": "python3"
  },
  "language_info": {
   "codemirror_mode": {
    "name": "ipython",
    "version": 3
   },
   "file_extension": ".py",
   "mimetype": "text/x-python",
   "name": "python",
   "nbconvert_exporter": "python",
   "pygments_lexer": "ipython3",
   "version": "3.13.5"
  }
 },
 "nbformat": 4,
 "nbformat_minor": 5
}
