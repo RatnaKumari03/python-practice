{
 "cells": [
  {
   "cell_type": "markdown",
   "id": "ef94174c-aa87-4774-b355-1135423e41d8",
   "metadata": {},
   "source": [
    "### Q1. Create a dictionary of 5 students with their marks. Print the dictionary."
   ]
  },
  {
   "cell_type": "code",
   "execution_count": 1,
   "id": "22c9fd15-17b4-4b54-a618-337f2db771b2",
   "metadata": {},
   "outputs": [
    {
     "name": "stdout",
     "output_type": "stream",
     "text": [
      "{'student1': 10, 'student2': 20, 'student3': 30, 'student4': 40, 'student5': 50}\n"
     ]
    }
   ],
   "source": [
    "student_marks={\"student1\":10,\"student2\":20,\"student3\":30,\"student4\":40,\"student5\":50}\n",
    "print(student_marks)"
   ]
  },
  {
   "cell_type": "markdown",
   "id": "b6b2bf5f-8b5b-44fe-a5e1-de424e9aacb0",
   "metadata": {},
   "source": [
    "### Q2. Access the value of a specific key from a dictionary."
   ]
  },
  {
   "cell_type": "code",
   "execution_count": 2,
   "id": "d21131b7-9e2b-4e52-ab11-92d298ad27c9",
   "metadata": {},
   "outputs": [
    {
     "name": "stdout",
     "output_type": "stream",
     "text": [
      "10\n"
     ]
    }
   ],
   "source": [
    "print(student_marks[\"student1\"])"
   ]
  },
  {
   "cell_type": "markdown",
   "id": "21384bfb-5f92-4415-a4e9-123396ea0cc9",
   "metadata": {},
   "source": [
    "### Q3. Add a new key–value pair in the dictionary."
   ]
  },
  {
   "cell_type": "code",
   "execution_count": 3,
   "id": "2e2b61bd-74e4-42f7-836a-433f37f18ced",
   "metadata": {},
   "outputs": [
    {
     "name": "stdout",
     "output_type": "stream",
     "text": [
      "{'student1': 10, 'student2': 20, 'student3': 30, 'student4': 40, 'student5': 50, 'student6': 60}\n"
     ]
    }
   ],
   "source": [
    "student_marks.update({\"student6\":60})\n",
    "print(student_marks)"
   ]
  },
  {
   "cell_type": "markdown",
   "id": "3747792a-4774-4962-b9fa-6de11c49d46e",
   "metadata": {},
   "source": [
    "### Q4. Update the value of an existing key in the dictionary."
   ]
  },
  {
   "cell_type": "code",
   "execution_count": 4,
   "id": "99a35b2c-f431-40b4-8f46-06dcdb0cba62",
   "metadata": {},
   "outputs": [
    {
     "name": "stdout",
     "output_type": "stream",
     "text": [
      "{'student1': 10, 'student2': 20, 'student3': 30, 'student4': 40, 'student5': 50, 'student6': 50}\n"
     ]
    }
   ],
   "source": [
    "student_marks.update({'student6':50})\n",
    "print(student_marks)"
   ]
  },
  {
   "cell_type": "markdown",
   "id": "02ceb061-4720-400f-95bc-251b41e0f4f7",
   "metadata": {},
   "source": [
    "### Q5. Remove a key–value pair from the dictionary using pop()."
   ]
  },
  {
   "cell_type": "code",
   "execution_count": 6,
   "id": "5eac397f-c929-4269-aaf8-0b83b69b6bd9",
   "metadata": {},
   "outputs": [
    {
     "name": "stdout",
     "output_type": "stream",
     "text": [
      "{'student1': 10, 'student2': 20, 'student3': 30, 'student4': 40, 'student5': 50}\n"
     ]
    }
   ],
   "source": [
    "student_marks.pop('student6')\n",
    "print(student_marks)"
   ]
  },
  {
   "cell_type": "markdown",
   "id": "99c91ae0-9187-4e61-b5d2-99174a9285f5",
   "metadata": {},
   "source": [
    "### Q6. Get all keys of a dictionary using .keys() function."
   ]
  },
  {
   "cell_type": "code",
   "execution_count": 7,
   "id": "29d208b7-5e70-42de-9a87-bad1e42c223c",
   "metadata": {},
   "outputs": [
    {
     "name": "stdout",
     "output_type": "stream",
     "text": [
      "dict_keys(['student1', 'student2', 'student3', 'student4', 'student5'])\n"
     ]
    }
   ],
   "source": [
    "keys=student_marks.keys()\n",
    "print(keys)"
   ]
  },
  {
   "cell_type": "markdown",
   "id": "2106b498-1f55-4b33-8fda-cf54f8e767e8",
   "metadata": {},
   "source": [
    "### Q7. Get all values of a dictionary using .values() function."
   ]
  },
  {
   "cell_type": "code",
   "execution_count": 8,
   "id": "5368d5d3-fec7-4e6a-bdae-f70339e724ea",
   "metadata": {},
   "outputs": [
    {
     "name": "stdout",
     "output_type": "stream",
     "text": [
      "dict_values([10, 20, 30, 40, 50])\n"
     ]
    }
   ],
   "source": [
    "values=student_marks.values()\n",
    "print(values)"
   ]
  },
  {
   "cell_type": "markdown",
   "id": "507cafbb-71a5-47f1-b686-b55cf173f03f",
   "metadata": {},
   "source": [
    "### Q8. Get all key–value pairs from a dictionary using .items()."
   ]
  },
  {
   "cell_type": "code",
   "execution_count": 9,
   "id": "93ac907a-89d9-49bc-9ae7-3b1051241f54",
   "metadata": {},
   "outputs": [
    {
     "name": "stdout",
     "output_type": "stream",
     "text": [
      "dict_items([('student1', 10), ('student2', 20), ('student3', 30), ('student4', 40), ('student5', 50)])\n"
     ]
    }
   ],
   "source": [
    "items=student_marks.items()\n",
    "print(items)"
   ]
  },
  {
   "cell_type": "markdown",
   "id": "f54ccb5d-0e3a-4427-b07c-ff00c9a73d5e",
   "metadata": {},
   "source": [
    "### Q9. Check if a given key exists in the dictionary."
   ]
  },
  {
   "cell_type": "code",
   "execution_count": 11,
   "id": "cd12cf55-d071-45ae-95f7-b4f14bf2b1ec",
   "metadata": {},
   "outputs": [
    {
     "name": "stdout",
     "output_type": "stream",
     "text": [
      "student3 exists in the dictionary\n"
     ]
    }
   ],
   "source": [
    "key=\"student3\"\n",
    "if key in student_marks:\n",
    "    print(f\"{key} exists in the dictionary\")\n",
    "else:\n",
    "    print(f\"{key} does not exist in the dictionary\")"
   ]
  },
  {
   "cell_type": "markdown",
   "id": "f743b34c-9bb7-4da5-8ffc-797320403c65",
   "metadata": {},
   "source": [
    "### Q10. Create a dictionary and print only keys using a loop."
   ]
  },
  {
   "cell_type": "code",
   "execution_count": 17,
   "id": "faad5db3-f1a5-4eb8-b357-3066b26ee05b",
   "metadata": {},
   "outputs": [
    {
     "name": "stdout",
     "output_type": "stream",
     "text": [
      "Name\n",
      "Age\n",
      "City\n"
     ]
    }
   ],
   "source": [
    "dict1={\"Name\":\"Ratna\",\"Age\":22,\"City\":\"Bengaluru\"}\n",
    "for key in dict1.keys():\n",
    "    print(key)"
   ]
  },
  {
   "cell_type": "markdown",
   "id": "a45026df-cd90-4642-b9b7-0b492f9e9e4a",
   "metadata": {},
   "source": [
    "### Q11. Create a dictionary and print only values using a loop."
   ]
  },
  {
   "cell_type": "code",
   "execution_count": 16,
   "id": "48006a3b-1335-4498-a2d9-f4ca293e8d2c",
   "metadata": {},
   "outputs": [
    {
     "name": "stdout",
     "output_type": "stream",
     "text": [
      "Ratna\n",
      "22\n",
      "Bengaluru\n"
     ]
    }
   ],
   "source": [
    "dict1={\"Name\":\"Ratna\",\"Age\":22,\"City\":\"Bengaluru\"}\n",
    "for values in dict1.values():\n",
    "    print(values)"
   ]
  },
  {
   "cell_type": "markdown",
   "id": "162d9999-51ab-4cd7-86a8-9bf91c2a02c5",
   "metadata": {},
   "source": [
    "### Q12. Merge two dictionaries."
   ]
  },
  {
   "cell_type": "code",
   "execution_count": 18,
   "id": "0bf01e95-4614-4c6d-b6a3-01688fbec951",
   "metadata": {},
   "outputs": [
    {
     "name": "stdout",
     "output_type": "stream",
     "text": [
      "{'A': 1, 'B': 2, 'C': 3, 'D': 4, 'E': 5, 'F': 6}\n"
     ]
    }
   ],
   "source": [
    "dict1={'A':1,'B':2,'C':3}\n",
    "dict2={'D':4,'E':5,'F':6}\n",
    "dict1.update(dict2)\n",
    "print(dict1)"
   ]
  },
  {
   "cell_type": "markdown",
   "id": "37e611e5-1891-4cad-a953-89c70c0683f9",
   "metadata": {},
   "source": [
    "### Q13. Write a program to find the key with the maximum value in a dictionary."
   ]
  },
  {
   "cell_type": "code",
   "execution_count": 22,
   "id": "dfcbff16-e878-40ab-91b3-1a7ae43bce11",
   "metadata": {},
   "outputs": [
    {
     "name": "stdout",
     "output_type": "stream",
     "text": [
      "C\n"
     ]
    }
   ],
   "source": [
    "dict1={'A':1,'B':3,'C':21,'D':14,'E':5}\n",
    "max_key=max(dict1,key=dict1.get)\n",
    "print(max_key)"
   ]
  },
  {
   "cell_type": "markdown",
   "id": "dc1ebfbc-5cd2-4f11-8cd3-b21cfb983203",
   "metadata": {},
   "source": [
    "### Q14. Create a nested dictionary and access the inner dictionary value."
   ]
  },
  {
   "cell_type": "code",
   "execution_count": 23,
   "id": "f817bb83-9900-4199-84e5-4d90862cb49d",
   "metadata": {},
   "outputs": [
    {
     "data": {
      "text/plain": [
       "'Kundanahalli'"
      ]
     },
     "execution_count": 23,
     "metadata": {},
     "output_type": "execute_result"
    }
   ],
   "source": [
    "nested_dict={'1':{\"Name\":\"Ratna\",\n",
    "                  \"Age\":22,\n",
    "                  \"City\":\"Bengaluru\"},\n",
    "             '2':{\"Name\":\"Chitti\",\n",
    "                  \"Age\":23,\n",
    "                  \"City\":\"Kundanahalli\"}}\n",
    "nested_dict['2']['City']"
   ]
  },
  {
   "cell_type": "markdown",
   "id": "56213762-9ba1-4810-a7f4-a2ce9de92d0f",
   "metadata": {},
   "source": [
    "### Q15. Create two lists: one with names and one with marks. Use zip() to combine them into a dictionary."
   ]
  },
  {
   "cell_type": "code",
   "execution_count": 26,
   "id": "fa74cc81-d2f1-4c2c-ba5e-c5555c05dec5",
   "metadata": {},
   "outputs": [
    {
     "data": {
      "text/plain": [
       "{'Ratna': 20, 'Sunitha': 30, 'Bhavana': 40}"
      ]
     },
     "execution_count": 26,
     "metadata": {},
     "output_type": "execute_result"
    }
   ],
   "source": [
    "list1=['Ratna','Sunitha','Bhavana']\n",
    "list2=[20,30,40]\n",
    "combined_dict=dict(zip(list1,list2))\n",
    "combined_dict"
   ]
  },
  {
   "cell_type": "markdown",
   "id": "1d0fcab0-b7d9-4327-b50c-5c25608d902d",
   "metadata": {},
   "source": [
    "### Q16. Create a dictionary using fromkeys() with a list of keys and the same default value."
   ]
  },
  {
   "cell_type": "code",
   "execution_count": 27,
   "id": "42fef3d7-1e6f-457a-b625-f7e261dcae07",
   "metadata": {},
   "outputs": [
    {
     "data": {
      "text/plain": [
       "{'Ratna': 0, 'Bhavana': 0, 'Sunitha': 0}"
      ]
     },
     "execution_count": 27,
     "metadata": {},
     "output_type": "execute_result"
    }
   ],
   "source": [
    "keys=[\"Ratna\",\"Bhavana\",\"Sunitha\"]\n",
    "dict1=dict.fromkeys(keys,0)\n",
    "dict1"
   ]
  },
  {
   "cell_type": "code",
   "execution_count": null,
   "id": "44c4467e-4937-4f48-9b2c-4e398059c4d6",
   "metadata": {},
   "outputs": [],
   "source": []
  }
 ],
 "metadata": {
  "kernelspec": {
   "display_name": "Python 3 (ipykernel)",
   "language": "python",
   "name": "python3"
  },
  "language_info": {
   "codemirror_mode": {
    "name": "ipython",
    "version": 3
   },
   "file_extension": ".py",
   "mimetype": "text/x-python",
   "name": "python",
   "nbconvert_exporter": "python",
   "pygments_lexer": "ipython3",
   "version": "3.13.5"
  }
 },
 "nbformat": 4,
 "nbformat_minor": 5
}
