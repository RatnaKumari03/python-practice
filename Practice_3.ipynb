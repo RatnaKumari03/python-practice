{
 "cells": [
  {
   "cell_type": "markdown",
   "id": "0ecbe14f-77fb-4058-9ec7-23a549fe90b4",
   "metadata": {},
   "source": [
    "## Question 1"
   ]
  },
  {
   "cell_type": "code",
   "execution_count": 3,
   "id": "482c9dc3-7f63-447d-856e-37a40d4d5e1e",
   "metadata": {},
   "outputs": [
    {
     "name": "stdin",
     "output_type": "stream",
     "text": [
      " Welcome to Python Class\n"
     ]
    },
    {
     "name": "stdout",
     "output_type": "stream",
     "text": [
      "The length of the string is:  23\n"
     ]
    }
   ],
   "source": [
    "# printing the length of a string\n",
    "str1=input()\n",
    "print(\"The length of the string is: \",len(str1))"
   ]
  },
  {
   "cell_type": "markdown",
   "id": "77b82bbf-480a-4523-bcff-5be73d73561a",
   "metadata": {},
   "source": [
    "## Question 2"
   ]
  },
  {
   "cell_type": "code",
   "execution_count": 22,
   "id": "16e14d48-be81-49e0-8202-5f69216c40b3",
   "metadata": {},
   "outputs": [
    {
     "name": "stdout",
     "output_type": "stream",
     "text": [
      "abcde\n",
      "nop\n",
      "cdefgh\n",
      "acegikmo\n",
      "ponmlkjihgfedcba\n"
     ]
    }
   ],
   "source": [
    "data=\"abcdefghijklmnop\"\n",
    "print(data[0:5]) # A. getting the first 5 characters\n",
    "print(data[13:16]) # B. getting the last 3 characters\n",
    "print(data[2:8])  # C. getting characters from index 2 to 7\n",
    "print(data[0:16:2]) # D. getting every second character \n",
    "print(data[::-1])   # E. reversing the string"
   ]
  },
  {
   "cell_type": "markdown",
   "id": "0561474f-fff4-419c-b5a4-1719d44c1bda",
   "metadata": {},
   "source": [
    "## Question 3"
   ]
  },
  {
   "cell_type": "code",
   "execution_count": 27,
   "id": "06890395-896b-419d-9824-f735831fdc1b",
   "metadata": {},
   "outputs": [
    {
     "data": {
      "text/plain": [
       "'long'"
      ]
     },
     "execution_count": 27,
     "metadata": {},
     "output_type": "execute_result"
    }
   ],
   "source": [
    "input_str=\"This is a long sentence.\"\n",
    "input_str[10:14] #extracting the word \"long\" by using slicing"
   ]
  },
  {
   "cell_type": "markdown",
   "id": "4f16e072-e421-499b-9451-c55e2768b977",
   "metadata": {},
   "source": [
    "## Question 4"
   ]
  },
  {
   "cell_type": "code",
   "execution_count": 47,
   "id": "3d1a26c7-6398-43ec-9a8a-19ae4cff72d4",
   "metadata": {},
   "outputs": [
    {
     "name": "stdin",
     "output_type": "stream",
     "text": [
      " Python\n"
     ]
    },
    {
     "name": "stdout",
     "output_type": "stream",
     "text": [
      "P\n",
      "y\n",
      "t\n",
      "h\n",
      "o\n",
      "n\n"
     ]
    }
   ],
   "source": [
    "# printing each character of the string on a new line using for loop\n",
    "input_str=input()\n",
    "for char in input_str:\n",
    "    print(char)"
   ]
  },
  {
   "cell_type": "markdown",
   "id": "084a764f-fa14-4ee9-9225-4b97b829452c",
   "metadata": {},
   "source": [
    "## Question 5"
   ]
  },
  {
   "cell_type": "code",
   "execution_count": 2,
   "id": "96b946a2-fe62-4f5a-b700-db9f461b15a7",
   "metadata": {},
   "outputs": [
    {
     "name": "stdin",
     "output_type": "stream",
     "text": [
      " character\n"
     ]
    },
    {
     "name": "stdout",
     "output_type": "stream",
     "text": [
      "0 c\n",
      "1 h\n",
      "2 a\n",
      "3 r\n",
      "4 a\n",
      "5 c\n",
      "6 t\n",
      "7 e\n",
      "8 r\n"
     ]
    }
   ],
   "source": [
    "# also printing index of each character alongside the\n",
    "input_str=input()\n",
    "for i,char in enumerate(input_str):\n",
    "    print(i,char)"
   ]
  },
  {
   "cell_type": "markdown",
   "id": "6f8db5d2-af57-46f5-a5f7-a75f2781fadb",
   "metadata": {},
   "source": [
    "## Question 6"
   ]
  },
  {
   "cell_type": "code",
   "execution_count": 39,
   "id": "d981809f-3d75-47d2-b0ae-39a2b1b9c5af",
   "metadata": {},
   "outputs": [
    {
     "name": "stdout",
     "output_type": "stream",
     "text": [
      "The Laptop costs 60000.\n"
     ]
    }
   ],
   "source": [
    "# using f-string to print sentence\n",
    "product=\"Laptop\"\n",
    "price=60000\n",
    "print(f\"The {product} costs {price}.\")"
   ]
  },
  {
   "cell_type": "markdown",
   "id": "1dc1df58-703a-4702-83f9-56f626fd8901",
   "metadata": {},
   "source": [
    "## Question 7"
   ]
  },
  {
   "cell_type": "code",
   "execution_count": 43,
   "id": "cc243c23-2b82-4915-9502-11c8eaada59c",
   "metadata": {},
   "outputs": [
    {
     "name": "stdout",
     "output_type": "stream",
     "text": [
      "vikas's score is 85.\n"
     ]
    }
   ],
   "source": [
    "# using f-string to print\n",
    "name=\"vikas\"\n",
    "score=85\n",
    "print(f\"{name}\\'s score is {score}.\")"
   ]
  },
  {
   "cell_type": "markdown",
   "id": "9fbabc7c-e983-487a-942d-135e26f20c88",
   "metadata": {},
   "source": [
    "## Question 8"
   ]
  },
  {
   "cell_type": "code",
   "execution_count": 44,
   "id": "d8300016-0443-4f20-ae80-87b624f023a2",
   "metadata": {},
   "outputs": [
    {
     "name": "stdout",
     "output_type": "stream",
     "text": [
      "The Laptop costs 60000.\n"
     ]
    }
   ],
   "source": [
    "# using dot for method to create same o/p as in Question 6\n",
    "product=\"Laptop\"\n",
    "price=60000\n",
    "print(\"The {} costs {}.\" .format(product,price))"
   ]
  },
  {
   "cell_type": "markdown",
   "id": "e28439c2-ad7b-46bc-99eb-a661c48f9d6c",
   "metadata": {},
   "source": [
    "## Question 9"
   ]
  },
  {
   "cell_type": "code",
   "execution_count": 46,
   "id": "c2829c9e-1cb4-4b1c-83a8-de0fb234313e",
   "metadata": {},
   "outputs": [
    {
     "name": "stdin",
     "output_type": "stream",
     "text": [
      " Enumerate\n"
     ]
    },
    {
     "name": "stdout",
     "output_type": "stream",
     "text": [
      "Index 0: E\n",
      "Index 1: n\n",
      "Index 2: u\n",
      "Index 3: m\n",
      "Index 4: e\n",
      "Index 5: r\n",
      "Index 6: a\n",
      "Index 7: t\n",
      "Index 8: e\n"
     ]
    }
   ],
   "source": [
    "# using enumerate function to print each character along with its index\n",
    "input_str=input()\n",
    "for index,char in enumerate(input_str):\n",
    "    print(f'Index {index}: {char}')"
   ]
  },
  {
   "cell_type": "markdown",
   "id": "5797e46f-32f1-4501-853c-62f5534953f1",
   "metadata": {},
   "source": [
    "## Question 10"
   ]
  },
  {
   "cell_type": "code",
   "execution_count": 12,
   "id": "ca483f05-d6dc-485c-993b-02c47093680c",
   "metadata": {},
   "outputs": [
    {
     "name": "stdin",
     "output_type": "stream",
     "text": [
      " reverse\n"
     ]
    },
    {
     "name": "stdout",
     "output_type": "stream",
     "text": [
      "e\n",
      "s\n",
      "r\n",
      "e\n",
      "v\n",
      "e\n",
      "r\n"
     ]
    }
   ],
   "source": [
    "input_str=input()\n",
    "length=len(input_str)\n",
    "for i in range((length-1),-1,-1): #range(start,stop,stepsize)\n",
    "    print(input_str[i])"
   ]
  },
  {
   "cell_type": "code",
   "execution_count": null,
   "id": "79cb47d6-ebde-4710-96a8-a5eb719614d0",
   "metadata": {},
   "outputs": [],
   "source": []
  }
 ],
 "metadata": {
  "kernelspec": {
   "display_name": "Python 3 (ipykernel)",
   "language": "python",
   "name": "python3"
  },
  "language_info": {
   "codemirror_mode": {
    "name": "ipython",
    "version": 3
   },
   "file_extension": ".py",
   "mimetype": "text/x-python",
   "name": "python",
   "nbconvert_exporter": "python",
   "pygments_lexer": "ipython3",
   "version": "3.13.5"
  }
 },
 "nbformat": 4,
 "nbformat_minor": 5
}
