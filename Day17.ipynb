{
 "cells": [
  {
   "cell_type": "markdown",
   "id": "9a1c04a5-87cd-41ff-b799-d0629e3916c2",
   "metadata": {},
   "source": [
    "## Arguments"
   ]
  },
  {
   "cell_type": "code",
   "execution_count": null,
   "id": "b64af608-7ffa-49de-82bc-3c5fbaa39b31",
   "metadata": {},
   "outputs": [],
   "source": [
    "-> my_function(arguments)"
   ]
  },
  {
   "cell_type": "code",
   "execution_count": null,
   "id": "e5b1c19b-3d1d-4448-a013-91a04630b947",
   "metadata": {},
   "outputs": [],
   "source": [
    "-> Arguments are inputs we provide to a function so it can perform some specific task\n",
    "-> "
   ]
  },
  {
   "cell_type": "markdown",
   "id": "00ca746e-f401-446f-9ae7-a3318f6a446d",
   "metadata": {},
   "source": [
    "## Functions Arguments"
   ]
  },
  {
   "cell_type": "code",
   "execution_count": null,
   "id": "741da37f-c38b-429e-b67c-d946fb386d6f",
   "metadata": {},
   "outputs": [],
   "source": [
    "->Positional Arguments\n",
    "-> Keyword Arguments\n",
    "-> Default Arguments\n",
    "-> Arbitrary positional arguments\n",
    "-> Arbitrary keyword arguments"
   ]
  },
  {
   "cell_type": "markdown",
   "id": "b52876ff-9c77-465c-8f7e-503224dedfe3",
   "metadata": {},
   "source": [
    "## 1. Positional Arguments"
   ]
  },
  {
   "cell_type": "code",
   "execution_count": null,
   "id": "19895555-7c8b-4a41-ad70-42ca5209cef5",
   "metadata": {},
   "outputs": [],
   "source": [
    "-> number of parameters== number of arguments\n",
    "->my_fun(arg1,arg2)\n",
    "-> the number of parameters and arguments must be equal, i.e., we must pass the parameters based on number of arguments\n",
    "-> no.of arguments require no.of parameters"
   ]
  },
  {
   "cell_type": "code",
   "execution_count": 1,
   "id": "aca44ec6-a34e-45a7-a4a4-f6c3f0397ff7",
   "metadata": {},
   "outputs": [
    {
     "name": "stdout",
     "output_type": "stream",
     "text": [
      "a==10,b==12\n"
     ]
    },
    {
     "data": {
      "text/plain": [
       "22"
      ]
     },
     "execution_count": 1,
     "metadata": {},
     "output_type": "execute_result"
    }
   ],
   "source": [
    "# Example\n",
    "def addition(a,b):\n",
    "    print(f\"a=={a},b=={b}\")\n",
    "    sum=a+b\n",
    "    return sum\n",
    "addition(10,12)"
   ]
  },
  {
   "cell_type": "code",
   "execution_count": 3,
   "id": "9aba7372-eee7-46fa-95d8-cc3934212951",
   "metadata": {},
   "outputs": [
    {
     "name": "stdout",
     "output_type": "stream",
     "text": [
      "Ratna Perugu\n"
     ]
    }
   ],
   "source": [
    "# Example\n",
    "def greeting(first_name,last_name):\n",
    "    print(f\"{first_name} {last_name}\")\n",
    "greeting(\"Ratna\",\"Perugu\")"
   ]
  },
  {
   "cell_type": "markdown",
   "id": "197681bb-4894-49ca-820a-f5defadd142f",
   "metadata": {},
   "source": [
    "## 2. Keyword Arguments"
   ]
  },
  {
   "cell_type": "code",
   "execution_count": null,
   "id": "0a45c41b-3328-458a-ae5b-27a3a19256e7",
   "metadata": {},
   "outputs": [],
   "source": [
    "-> explicitly name the arguments when you call the functions\n",
    "-> when you use keyword arguments, the order no longer matters"
   ]
  },
  {
   "cell_type": "code",
   "execution_count": 6,
   "id": "38cd9404-32ea-4d22-99b6-0d1ee7562e7e",
   "metadata": {},
   "outputs": [
    {
     "name": "stdout",
     "output_type": "stream",
     "text": [
      "I have a Dog\n",
      "And its pet name is Bruno\n"
     ]
    }
   ],
   "source": [
    "def animal(animal_type,pet_name):\n",
    "    print(f\"I have a {animal_type}\")\n",
    "    print(f\"And its pet name is {pet_name}\")\n",
    "animal(\"Dog\",\"Bruno\")"
   ]
  },
  {
   "cell_type": "code",
   "execution_count": 7,
   "id": "5f477435-8a7a-4b3e-b796-719faa7da527",
   "metadata": {},
   "outputs": [
    {
     "name": "stdout",
     "output_type": "stream",
     "text": [
      "I have a Dog\n",
      "And its pet name is Bruno\n"
     ]
    }
   ],
   "source": [
    "animal(pet_name=\"Bruno\",animal_type=\"Dog\")  # we can give arguments like this too,here order is changed and it doesn't matter"
   ]
  },
  {
   "cell_type": "markdown",
   "id": "64a479ce-f08b-4953-866b-3a05ba86ac5d",
   "metadata": {},
   "source": [
    "## 3. Default Arguments"
   ]
  },
  {
   "cell_type": "code",
   "execution_count": null,
   "id": "f25f5be0-a976-4fdc-b832-44b3e99c654a",
   "metadata": {},
   "outputs": [],
   "source": [
    "-> have predefined values in the function definition\n",
    "-> if no value is provided during the function call, it takes the default value"
   ]
  },
  {
   "cell_type": "code",
   "execution_count": 12,
   "id": "409dfc83-1e54-4b1c-bd16-c93161ff3727",
   "metadata": {},
   "outputs": [
    {
     "name": "stdout",
     "output_type": "stream",
     "text": [
      "a==10,b==20,c==30\n",
      "Sum of a,b,c is :  60\n"
     ]
    }
   ],
   "source": [
    "# Example\n",
    "def addition(a,b=20,c=30):\n",
    "    print(f\"a=={a},b=={b},c=={c}\")\n",
    "    sum=a+b+c\n",
    "    print(\"Sum of a,b,c is : \",sum)\n",
    "addition(10,b=20,c=30)"
   ]
  },
  {
   "cell_type": "markdown",
   "id": "2db57901-cca0-4fa8-9550-e8fd3af197ab",
   "metadata": {},
   "source": [
    "## positional arguments>>default arguments"
   ]
  },
  {
   "cell_type": "markdown",
   "id": "e2cd40c3-54e9-4b96-89d9-7371ca92d0a7",
   "metadata": {},
   "source": [
    "## 4. Arbitrary positional Argument"
   ]
  },
  {
   "cell_type": "code",
   "execution_count": null,
   "id": "df08c57c-ba31-4aa5-88d8-e696b0b9a001",
   "metadata": {},
   "outputs": [],
   "source": [
    "-> *args--> *arguments\n",
    "-> if we don't know the number of parameters to be passed, then we use this arbitrary positional arguments\n",
    "-> datatype of args is tuple"
   ]
  },
  {
   "cell_type": "code",
   "execution_count": 14,
   "id": "fd0d7b26-de3b-4371-8a2a-bf86b64e93c1",
   "metadata": {},
   "outputs": [
    {
     "name": "stdout",
     "output_type": "stream",
     "text": [
      "args>>  (10, 20, 30, 40, 50, 60)\n",
      "Sum of all items is :  210\n"
     ]
    }
   ],
   "source": [
    "# Example\n",
    "def addition(*args):\n",
    "    print(\"args>> \",args)\n",
    "    sum=0\n",
    "    for i in args:\n",
    "        sum+=i\n",
    "    print(\"Sum of all items is : \",sum)\n",
    "addition(10,20,30,40,50,60)"
   ]
  },
  {
   "cell_type": "markdown",
   "id": "d20bf9c9-8266-46c5-b945-3de492569c75",
   "metadata": {},
   "source": [
    "## 5. Arbitrary keyword Arguments"
   ]
  },
  {
   "cell_type": "code",
   "execution_count": null,
   "id": "3e7605a4-4cf4-4943-b7d0-074707ddfe90",
   "metadata": {},
   "outputs": [],
   "source": [
    "-> **kwargs --> keyword arguments\n",
    "-> if we don't know how many number of keyword agruments to be passed, we use this arbitrary keyword arguments\n",
    "-> default datatype of kwargs is dict"
   ]
  },
  {
   "cell_type": "code",
   "execution_count": 15,
   "id": "e0095565-9a2d-426b-a970-2c5e6b8b916e",
   "metadata": {},
   "outputs": [
    {
     "name": "stdout",
     "output_type": "stream",
     "text": [
      "kwargs >>  {'phy': 90, 'che': 45, 'math': 95, 'bio': 50}\n",
      "Average:  70.0\n"
     ]
    }
   ],
   "source": [
    "# Example\n",
    "def result(**kwargs):\n",
    "    print(\"kwargs >> \",kwargs)\n",
    "    avg=sum(kwargs.values())/len(kwargs)\n",
    "    print(\"Average: \",avg)\n",
    "result(phy=90,che=45,math=95,bio=50)"
   ]
  },
  {
   "cell_type": "code",
   "execution_count": null,
   "id": "81ca950e-4dae-4587-8031-a7d59409daec",
   "metadata": {},
   "outputs": [],
   "source": [
    "position arg>>arbitrary position arg>>default arg>>arbitrary keyword arg>>positional arg"
   ]
  },
  {
   "cell_type": "code",
   "execution_count": null,
   "id": "7843950a-f8a5-4d41-ace2-b5cd7f400bd9",
   "metadata": {},
   "outputs": [],
   "source": [
    "# Example of all arguments\n",
    "def all_arguments(a,b,c,*args,x=10,y=20,**kwargs):\n",
    "    print(\"Positional args: \",a,b,c)\n",
    "    "
   ]
  },
  {
   "cell_type": "markdown",
   "id": "487efccf-b25e-425f-8b07-8319443a9bd1",
   "metadata": {},
   "source": [
    "## Lambda Function"
   ]
  },
  {
   "cell_type": "code",
   "execution_count": null,
   "id": "2eb1246e-5c25-4f30-b727-8ac4965b5796",
   "metadata": {},
   "outputs": [],
   "source": [
    "-> it is used for quick operations\n",
    "-> It is an anonymous function\n",
    "-> function without name\n",
    "-> syntax:\n",
    "        lambda arguments: expression\n",
    "    -- arguments : a,b,c,x,y etc...\n",
    "    -- expression : operations(+,-,*,/, etc...)\n",
    "-> small and anomymous function"
   ]
  },
  {
   "cell_type": "code",
   "execution_count": 16,
   "id": "84e77d67-c15a-4314-bb8e-80b51395f155",
   "metadata": {},
   "outputs": [
    {
     "data": {
      "text/plain": [
       "200"
      ]
     },
     "execution_count": 16,
     "metadata": {},
     "output_type": "execute_result"
    }
   ],
   "source": [
    "# Example\n",
    "def multiplication(a,b):\n",
    "    multiply=a*b\n",
    "    return multiply\n",
    "multiplication(10,20)"
   ]
  },
  {
   "cell_type": "code",
   "execution_count": 17,
   "id": "9c69a45d-f5bc-475e-a3b8-46fae60003d7",
   "metadata": {},
   "outputs": [
    {
     "data": {
      "text/plain": [
       "6"
      ]
     },
     "execution_count": 17,
     "metadata": {},
     "output_type": "execute_result"
    }
   ],
   "source": [
    "# above program using lambda function\n",
    "x=lambda a,b :a*b\n",
    "x(2,3)"
   ]
  },
  {
   "cell_type": "code",
   "execution_count": 19,
   "id": "43233bc9-b527-40a7-9134-e5f05113b8ba",
   "metadata": {},
   "outputs": [
    {
     "name": "stdout",
     "output_type": "stream",
     "text": [
      "1002\n",
      "1020\n",
      "1200\n"
     ]
    }
   ],
   "source": [
    "mul=lambda a,b: a+1000\n",
    "print(mul(2,3))\n",
    "print(mul(20,30))\n",
    "print(mul(200,300))"
   ]
  },
  {
   "cell_type": "code",
   "execution_count": null,
   "id": "bdb43899-9dac-4720-9354-0f10478aff8c",
   "metadata": {},
   "outputs": [],
   "source": []
  }
 ],
 "metadata": {
  "kernelspec": {
   "display_name": "Python 3 (ipykernel)",
   "language": "python",
   "name": "python3"
  },
  "language_info": {
   "codemirror_mode": {
    "name": "ipython",
    "version": 3
   },
   "file_extension": ".py",
   "mimetype": "text/x-python",
   "name": "python",
   "nbconvert_exporter": "python",
   "pygments_lexer": "ipython3",
   "version": "3.13.5"
  }
 },
 "nbformat": 4,
 "nbformat_minor": 5
}
