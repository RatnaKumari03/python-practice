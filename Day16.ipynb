{
 "cells": [
  {
   "cell_type": "markdown",
   "id": "fb42b327-4429-43bd-a402-bd69b2917a3a",
   "metadata": {},
   "source": [
    "## Function"
   ]
  },
  {
   "cell_type": "code",
   "execution_count": null,
   "id": "47cd3263-4b93-42d5-897a-66e524b16753",
   "metadata": {},
   "outputs": [],
   "source": [
    "-> DATA CLEANING\n",
    "treating outlies\n",
    "handling missing values\n",
    "encoding\n",
    "# to avoid above things we will define a function() to handle those things\n",
    "# we don't have to write the same code again and again\n",
    "# we have 4 types of functions"
   ]
  },
  {
   "cell_type": "code",
   "execution_count": null,
   "id": "e9e5809f-f874-45dc-b4b5-799684521556",
   "metadata": {},
   "outputs": [],
   "source": [
    "Types of functions:\n",
    "  -> Built-in functions: already available in python (Ex: print(),len(),sum(),min(0,max())\n",
    "  -> User-defined functions: created by users using def\n",
    "  -> Lambda functions: small anonymous functions (used for quick tasks)\n",
    "  -> Recursive functions: functions that call themselves (Ex: factorials,calculating)"
   ]
  },
  {
   "cell_type": "code",
   "execution_count": null,
   "id": "e7a5d3d5-35a8-4251-befd-1da2dbcaf439",
   "metadata": {},
   "outputs": [],
   "source": [
    "-> functions are resuable block of code that performs a specific, single task\n",
    "and can use multiple times\n",
    "-> def keyword is used to define a function\n",
    "-> function runs when it is called\n",
    "-> syntax:\n",
    "        def function_name(parameter):\n",
    "            statements\n",
    "            ..\n",
    "            ..\n",
    "            ..\n",
    "            return statement\n",
    "        function_name(argument)"
   ]
  },
  {
   "cell_type": "code",
   "execution_count": 1,
   "id": "03405d7c-7c96-4d66-9c47-76d4a78e051c",
   "metadata": {},
   "outputs": [
    {
     "name": "stdout",
     "output_type": "stream",
     "text": [
      "Hello Ratna! welcome to our website\n"
     ]
    }
   ],
   "source": [
    "# Example\n",
    "print(\"Hello Ratna! welcome to our website\")\n",
    "# when different people enter the website their names should be displayed\n",
    "# we can't write evrey single person name\n",
    "# so we define a function() and call it"
   ]
  },
  {
   "cell_type": "code",
   "execution_count": 9,
   "id": "aa6d376b-1ddd-491a-aa48-14fbbb660d2f",
   "metadata": {},
   "outputs": [
    {
     "name": "stdout",
     "output_type": "stream",
     "text": [
      "Hello Ratna!, Welcome to our website\n"
     ]
    }
   ],
   "source": [
    "def greeting(name):\n",
    "    print(f\"Hello {name}!, Welcome to our website\")\n",
    "greeting(\"Ratna\")"
   ]
  },
  {
   "cell_type": "code",
   "execution_count": 10,
   "id": "8e328952-b394-42a5-8c44-e18d83427bb1",
   "metadata": {},
   "outputs": [
    {
     "name": "stdout",
     "output_type": "stream",
     "text": [
      "Hello Dude!, Welcome to our website\n"
     ]
    }
   ],
   "source": [
    "greeting(\"Dude\")"
   ]
  },
  {
   "cell_type": "markdown",
   "id": "6c1a82da-d57b-40cc-9ac7-614da4e3c963",
   "metadata": {},
   "source": [
    "## program to calculate the average of 3 numbers"
   ]
  },
  {
   "cell_type": "code",
   "execution_count": 11,
   "id": "0307fde6-f943-476b-9e45-c13f1fd29cb1",
   "metadata": {},
   "outputs": [
    {
     "name": "stdout",
     "output_type": "stream",
     "text": [
      "20.0\n",
      "Average of 3 numbers is :  20.0\n"
     ]
    }
   ],
   "source": [
    "a=10\n",
    "b=20\n",
    "c=30\n",
    "Avg=(a+b+c)/3\n",
    "print(Avg)\n",
    "print(\"Average of 3 numbers is : \",Avg)"
   ]
  },
  {
   "cell_type": "code",
   "execution_count": 15,
   "id": "513e5a1f-22fb-44ef-ba7a-190955a56878",
   "metadata": {},
   "outputs": [
    {
     "name": "stdout",
     "output_type": "stream",
     "text": [
      "a==1,b==2,c==3\n"
     ]
    },
    {
     "data": {
      "text/plain": [
       "2.0"
      ]
     },
     "execution_count": 15,
     "metadata": {},
     "output_type": "execute_result"
    }
   ],
   "source": [
    "# to write the above program using function\n",
    "def average(a,b,c):\n",
    "    print(f\"a=={a},b=={b},c=={c}\")\n",
    "    avg=(a+b+c)/3\n",
    "    return avg\n",
    "average(1,2,3)\n",
    "#average(10,20,60)"
   ]
  },
  {
   "cell_type": "code",
   "execution_count": 19,
   "id": "822ae2b2-ef2f-470e-a922-26c64d36f910",
   "metadata": {},
   "outputs": [
    {
     "name": "stdout",
     "output_type": "stream",
     "text": [
      "a==10,b==20,c==30\n",
      "60\n"
     ]
    }
   ],
   "source": [
    "# addition program of 3 numbers using def function\n",
    "def addition(a,b,c):\n",
    "    print(f\"a=={a},b=={b},c=={c}\")\n",
    "    add=a+b+c\n",
    "    print(add)\n",
    "    #return add\n",
    "addition(10,20,30)"
   ]
  },
  {
   "cell_type": "code",
   "execution_count": null,
   "id": "13bdea90-0316-49d1-ae39-9ee784d01fe5",
   "metadata": {},
   "outputs": [],
   "source": [
    "-> return statement sends a value back from a function.\n",
    "   This value can then be used in others parts of our code\n",
    "-> print statement displays the information on the screen."
   ]
  },
  {
   "cell_type": "code",
   "execution_count": 21,
   "id": "16881aa4-67f3-48fe-b15b-bb6095e867f9",
   "metadata": {},
   "outputs": [
    {
     "name": "stdout",
     "output_type": "stream",
     "text": [
      "a==10,b==20,c==30\n"
     ]
    },
    {
     "data": {
      "text/plain": [
       "60"
      ]
     },
     "execution_count": 21,
     "metadata": {},
     "output_type": "execute_result"
    }
   ],
   "source": [
    "def addition(a,b,c):\n",
    "    print(f\"a=={a},b=={b},c=={c}\")\n",
    "    add=a+b+c\n",
    "    return add\n",
    "addition(10,20,30)"
   ]
  },
  {
   "cell_type": "markdown",
   "id": "5636eb94-6308-4987-9b80-4f9687e17c30",
   "metadata": {},
   "source": [
    "## Factorial"
   ]
  },
  {
   "cell_type": "code",
   "execution_count": 25,
   "id": "53e9c99c-838f-4eec-bfba-b2cc124faf60",
   "metadata": {},
   "outputs": [
    {
     "name": "stdout",
     "output_type": "stream",
     "text": [
      "The factorial of 5 is : 120\n"
     ]
    }
   ],
   "source": [
    "# program to print factorial of number\n",
    "num=5\n",
    "fact=1\n",
    "if num<0:\n",
    "    print(\"Factorial doen't exist\")\n",
    "else:\n",
    "    for i in range(1,num+1):\n",
    "        fact*=i\n",
    "    print(f\"The factorial of {num} is :\",fact)"
   ]
  },
  {
   "cell_type": "code",
   "execution_count": 31,
   "id": "4c8e9399-f549-4b94-b470-9241d94e2ae3",
   "metadata": {},
   "outputs": [
    {
     "name": "stdout",
     "output_type": "stream",
     "text": [
      "720\n"
     ]
    }
   ],
   "source": [
    "# factorial using function\n",
    "def factorial(num):\n",
    "    \"\"\" this is documentation of program factorial\"\"\"\n",
    "    fact=1\n",
    "    if num<0:\n",
    "        print(\"Factorial does not exist\")\n",
    "    else:\n",
    "        for i in range(1,num+1):\n",
    "            fact*=i\n",
    "        print(fact)\n",
    "factorial(6)"
   ]
  },
  {
   "cell_type": "code",
   "execution_count": 32,
   "id": "1e093513-fa79-4407-947f-43a31594cb5e",
   "metadata": {},
   "outputs": [
    {
     "name": "stdout",
     "output_type": "stream",
     "text": [
      "5040\n",
      "this is documentation of program factorial\n"
     ]
    }
   ],
   "source": [
    "factorial(7)\n",
    "print(factorial.__doc__)"
   ]
  },
  {
   "cell_type": "code",
   "execution_count": null,
   "id": "8d2203f3-fc26-4fd4-acc7-acde53f2fd63",
   "metadata": {},
   "outputs": [],
   "source": []
  }
 ],
 "metadata": {
  "kernelspec": {
   "display_name": "Python 3 (ipykernel)",
   "language": "python",
   "name": "python3"
  },
  "language_info": {
   "codemirror_mode": {
    "name": "ipython",
    "version": 3
   },
   "file_extension": ".py",
   "mimetype": "text/x-python",
   "name": "python",
   "nbconvert_exporter": "python",
   "pygments_lexer": "ipython3",
   "version": "3.13.5"
  }
 },
 "nbformat": 4,
 "nbformat_minor": 5
}
