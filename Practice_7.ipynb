{
 "cells": [
  {
   "cell_type": "markdown",
   "id": "07996dcc-ba4d-4b37-81cd-984347b2cc4f",
   "metadata": {},
   "source": [
    "### Q1.write a programming to Reverse a list without using the reverse() method (use slicing or a loop)."
   ]
  },
  {
   "cell_type": "code",
   "execution_count": 1,
   "id": "db7f67c4-3ea6-4c60-98e8-590d74184ea4",
   "metadata": {},
   "outputs": [
    {
     "name": "stdout",
     "output_type": "stream",
     "text": [
      "['r', 'e', 'v', 'e', 'r', 's', 'e']\n",
      "Reversed list is:  ['e', 's', 'r', 'e', 'v', 'e', 'r']\n"
     ]
    }
   ],
   "source": [
    "list1=['r','e','v','e','r','s','e']\n",
    "print(list1)\n",
    "print(\"Reversed list is: \",list1[::-1])"
   ]
  },
  {
   "cell_type": "markdown",
   "id": "7824c5a6-c11b-44d3-967c-f0c7ab4c14d0",
   "metadata": {},
   "source": [
    "### Q2.Remove all occurrences of a specific element from a list."
   ]
  },
  {
   "cell_type": "code",
   "execution_count": 12,
   "id": "933ad23d-08f2-4854-afb5-77eccaa6a2b8",
   "metadata": {},
   "outputs": [
    {
     "name": "stdout",
     "output_type": "stream",
     "text": [
      "[1, 3, 4, 5, 6]\n"
     ]
    }
   ],
   "source": [
    "list1=[1,2,3,2,4,5,6]\n",
    "val=2\n",
    "while val in list1:  \n",
    "    list1.remove(val)\n",
    "print(list1)"
   ]
  },
  {
   "cell_type": "markdown",
   "id": "f4d48eab-7998-4ee0-8aa7-951499365197",
   "metadata": {},
   "source": [
    "### Q3.write a program to Find the second largest number in a list."
   ]
  },
  {
   "cell_type": "code",
   "execution_count": 19,
   "id": "1a731399-01dd-47b8-bdaa-7032644fd7d2",
   "metadata": {},
   "outputs": [
    {
     "name": "stdout",
     "output_type": "stream",
     "text": [
      "Sorted list is :  [1, 2, 3, 4, 5]\n",
      "Second largest number in the list is:  4\n"
     ]
    }
   ],
   "source": [
    "list1=[3,1,4,5,2]\n",
    "list1.sort()\n",
    "print(\"Sorted list is : \",list1)\n",
    "print(\"Second largest number in the list is: \",list1[-2])"
   ]
  },
  {
   "cell_type": "markdown",
   "id": "1f7c4e45-5c03-4285-a642-f6e8e60cc77a",
   "metadata": {},
   "source": [
    "### Q4. Use list comprehension to create a list of all even numbers between 1 and 20 (inclusive)."
   ]
  },
  {
   "cell_type": "code",
   "execution_count": 24,
   "id": "1bd8fee2-5efb-4356-b1c7-9941030ad0b4",
   "metadata": {},
   "outputs": [
    {
     "name": "stdout",
     "output_type": "stream",
     "text": [
      "[2, 4, 6, 8, 10, 12, 14, 16, 18, 20]\n"
     ]
    }
   ],
   "source": [
    "list1=[]\n",
    "for i in range(1,21):\n",
    "    if i%2==0:\n",
    "        list1.append(i)\n",
    "print(list1)"
   ]
  },
  {
   "cell_type": "markdown",
   "id": "4f4b7980-36f1-46de-8458-b65989c0ead7",
   "metadata": {},
   "source": [
    "### Q5. Given a list of numbers, use list comprehension to create a new list containing only the numbers greater than 5."
   ]
  },
  {
   "cell_type": "code",
   "execution_count": 2,
   "id": "12ac9a54-22a4-4c41-aac0-20345f1e79ea",
   "metadata": {},
   "outputs": [
    {
     "name": "stdout",
     "output_type": "stream",
     "text": [
      "[6, 7, 8, 9, 10, 11, 12, 13, 14, 15]\n"
     ]
    }
   ],
   "source": [
    "list1=[1,2,3,4,5,6,7,8,9,10,11,12,13,14,15]\n",
    "list2=[i for i in list1 if i>5]\n",
    "print(list2)"
   ]
  },
  {
   "cell_type": "markdown",
   "id": "7690f714-494a-4f46-8fbb-32ca5b60f5b1",
   "metadata": {},
   "source": [
    "### Q6. Given a list, remove a specific range of elements (defined by start and end indices) using the del keyword and slicing."
   ]
  },
  {
   "cell_type": "code",
   "execution_count": 4,
   "id": "79340ccf-0de0-4e83-a4ca-d26e4fab1a92",
   "metadata": {},
   "outputs": [
    {
     "name": "stdout",
     "output_type": "stream",
     "text": [
      "[1, 2, 3, 4, 5, 10]\n"
     ]
    }
   ],
   "source": [
    "list1=[1,2,3,4,5,6,7,8,9,10]\n",
    "del list1[5:9]\n",
    "print(list1)"
   ]
  },
  {
   "cell_type": "markdown",
   "id": "09264c52-414f-4a50-9ac6-081e81684d02",
   "metadata": {},
   "source": [
    "### Q7. Given a list of words, use list comprehension to create a new list containing the length of each word."
   ]
  },
  {
   "cell_type": "code",
   "execution_count": 5,
   "id": "6c824bb4-790d-4563-9336-0adbb3511566",
   "metadata": {},
   "outputs": [
    {
     "name": "stdout",
     "output_type": "stream",
     "text": [
      "[5, 7, 7]\n"
     ]
    }
   ],
   "source": [
    "list1=['ratna','anjitha','deepthi']\n",
    "list2=[len(i) for i in list1]\n",
    "print(list2)"
   ]
  },
  {
   "cell_type": "markdown",
   "id": "b34b8f2f-de8a-4654-b872-b0e9adec004e",
   "metadata": {},
   "source": [
    "### Q8. Write a function that takes a list and a value as input and removes all occurrences of that value from the list in-place."
   ]
  },
  {
   "cell_type": "code",
   "execution_count": 9,
   "id": "bc6bcfc0-d5c1-4daa-8faa-17ea210ab581",
   "metadata": {},
   "outputs": [
    {
     "name": "stdout",
     "output_type": "stream",
     "text": [
      "[1, 3, 5]\n"
     ]
    }
   ],
   "source": [
    "list1=[1,2,3,2,5,2]\n",
    "value=2\n",
    "while value in list1:\n",
    "    list1.remove(value)\n",
    "print(list1)"
   ]
  },
  {
   "cell_type": "markdown",
   "id": "57eef28c-6038-4857-8d19-b16f3dfdbc9d",
   "metadata": {},
   "source": [
    "### Q9. Write a program that takes a string as input, converts it into a list of characters, reverses the list, and then joins the characters back into a reversed string. Print the reversed string."
   ]
  },
  {
   "cell_type": "code",
   "execution_count": 20,
   "id": "7d7ef73a-3745-4049-9ff9-819cc9b1fd4a",
   "metadata": {},
   "outputs": [
    {
     "name": "stdout",
     "output_type": "stream",
     "text": [
      "antar\n"
     ]
    }
   ],
   "source": [
    "str1=(\"ratna\")\n",
    "list1=list(str1)\n",
    "# print(list1)\n",
    "list2=list1[::-1]\n",
    "reversed_str=\"\".join(list2)\n",
    "print(reversed_str)"
   ]
  },
  {
   "cell_type": "markdown",
   "id": "c723ee66-fb3a-4cec-b09d-b036172959c3",
   "metadata": {},
   "source": [
    "### Q10. Write a program that takes a sentence as input. Split the sentence into a list of words. Then, iterate through the list of words and count the total number of vowels (a, e, i, o, u - case-insensitive) in all the words combined. Print the total vowel count."
   ]
  },
  {
   "cell_type": "code",
   "execution_count": 3,
   "id": "228e88b9-48d6-42da-a4e1-5b23aabcaa25",
   "metadata": {},
   "outputs": [
    {
     "name": "stdin",
     "output_type": "stream",
     "text": [
      " this is python class\n"
     ]
    },
    {
     "name": "stdout",
     "output_type": "stream",
     "text": [
      "['this', 'is', 'python', 'class']\n",
      "4\n"
     ]
    }
   ],
   "source": [
    "str1=input()\n",
    "list1=str1.split()\n",
    "print(list1)\n",
    "count=0\n",
    "vowels=\"aeiouAEIOU\"\n",
    "for word in list1:\n",
    "    for i in word:\n",
    "        if i in vowels:\n",
    "            count+=1\n",
    "print(count)"
   ]
  },
  {
   "cell_type": "code",
   "execution_count": null,
   "id": "60f8e7ca-1103-4064-824d-d4ac4e4bc774",
   "metadata": {},
   "outputs": [],
   "source": []
  }
 ],
 "metadata": {
  "kernelspec": {
   "display_name": "Python 3 (ipykernel)",
   "language": "python",
   "name": "python3"
  },
  "language_info": {
   "codemirror_mode": {
    "name": "ipython",
    "version": 3
   },
   "file_extension": ".py",
   "mimetype": "text/x-python",
   "name": "python",
   "nbconvert_exporter": "python",
   "pygments_lexer": "ipython3",
   "version": "3.13.5"
  }
 },
 "nbformat": 4,
 "nbformat_minor": 5
}
