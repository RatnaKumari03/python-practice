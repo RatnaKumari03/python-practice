{
 "cells": [
  {
   "cell_type": "markdown",
   "id": "e5e8b525-987b-4649-9e43-d1cb43876ba3",
   "metadata": {},
   "source": [
    "## 7. np.full()"
   ]
  },
  {
   "cell_type": "code",
   "execution_count": 2,
   "id": "74a94e49-7021-4ed9-b213-6c4e2c2b18fa",
   "metadata": {},
   "outputs": [],
   "source": [
    "import numpy as np"
   ]
  },
  {
   "cell_type": "code",
   "execution_count": 3,
   "id": "9e4116e5-344b-45cb-8b9e-23df79e3bfcb",
   "metadata": {},
   "outputs": [
    {
     "data": {
      "text/plain": [
       "array([[11, 11],\n",
       "       [11, 11]])"
      ]
     },
     "execution_count": 3,
     "metadata": {},
     "output_type": "execute_result"
    }
   ],
   "source": [
    "a1=np.full((2,2),11)\n",
    "a1"
   ]
  },
  {
   "cell_type": "code",
   "execution_count": 4,
   "id": "f19ffd0c-66ac-49c9-9076-21bc103b8be8",
   "metadata": {},
   "outputs": [
    {
     "data": {
      "text/plain": [
       "array(['A', 'A', 'A', 'A'], dtype='<U1')"
      ]
     },
     "execution_count": 4,
     "metadata": {},
     "output_type": "execute_result"
    }
   ],
   "source": [
    "a1=np.full(4,\"A\",dtype=str)\n",
    "a1"
   ]
  },
  {
   "cell_type": "markdown",
   "id": "61eae047-e1f1-4a8f-a7e1-27ac9c71f7ed",
   "metadata": {},
   "source": [
    "## 8. np.eye() / np.identity()"
   ]
  },
  {
   "cell_type": "code",
   "execution_count": 5,
   "id": "b4db052d-6cf2-4164-92bf-1f852f2c8d6d",
   "metadata": {},
   "outputs": [
    {
     "name": "stdout",
     "output_type": "stream",
     "text": [
      "[[1. 0. 0.]\n",
      " [0. 1. 0.]\n",
      " [0. 0. 1.]]\n"
     ]
    }
   ],
   "source": [
    "a1=np.eye(3)\n",
    "print(a1)"
   ]
  },
  {
   "cell_type": "markdown",
   "id": "dfaca9f7-dab3-4495-908e-8e2b512a9c66",
   "metadata": {},
   "source": [
    "## 9. np.diag()"
   ]
  },
  {
   "cell_type": "code",
   "execution_count": 6,
   "id": "1badc92d-a7f9-41c0-866f-16617edbc84f",
   "metadata": {},
   "outputs": [
    {
     "name": "stdout",
     "output_type": "stream",
     "text": [
      "[[1 0 0]\n",
      " [0 2 0]\n",
      " [0 0 3]]\n"
     ]
    }
   ],
   "source": [
    "a1=np.diag([1,2,3])\n",
    "print(a1)"
   ]
  },
  {
   "cell_type": "markdown",
   "id": "caca8226-58a5-407b-bd13-cc82b7afadf1",
   "metadata": {},
   "source": [
    "## Array Manipulation"
   ]
  },
  {
   "cell_type": "code",
   "execution_count": null,
   "id": "4506047c-0712-41fe-a630-2c9953fe4ba4",
   "metadata": {},
   "outputs": [],
   "source": [
    "-> functions to modify array shape, size ,structure and content"
   ]
  },
  {
   "cell_type": "markdown",
   "id": "74900374-9e76-4229-b9f9-736f1b54986a",
   "metadata": {},
   "source": [
    "## 2.1 reshape()"
   ]
  },
  {
   "cell_type": "code",
   "execution_count": null,
   "id": "4698b2c8-909e-49b4-919b-b50551085474",
   "metadata": {},
   "outputs": [],
   "source": [
    "-> change array dimensions without altering data"
   ]
  },
  {
   "cell_type": "code",
   "execution_count": 11,
   "id": "4a9b232b-01a1-490d-a42a-9f35c3668212",
   "metadata": {},
   "outputs": [
    {
     "name": "stdout",
     "output_type": "stream",
     "text": [
      "[ 0  1  2  3  4  5  6  7  8  9 10 11]\n",
      "[[ 0  1  2]\n",
      " [ 3  4  5]\n",
      " [ 6  7  8]\n",
      " [ 9 10 11]]\n"
     ]
    }
   ],
   "source": [
    "a1=np.arange(12)\n",
    "print(a1)\n",
    "a1.size\n",
    "reshaped1=a1.reshape(4,3)\n",
    "print(reshaped1)"
   ]
  },
  {
   "cell_type": "markdown",
   "id": "14a709a3-a011-49ea-929d-f3d9e2df6631",
   "metadata": {},
   "source": [
    "## 2.2 resize()"
   ]
  },
  {
   "cell_type": "code",
   "execution_count": null,
   "id": "7e00f07d-6daa-4d32-8c71-eb14fb19e483",
   "metadata": {},
   "outputs": [],
   "source": [
    "-> change array size (repeats elements if new size is larger)"
   ]
  },
  {
   "cell_type": "code",
   "execution_count": 14,
   "id": "86d5cdcc-b4f4-478c-9b39-ac37ad3558d2",
   "metadata": {},
   "outputs": [
    {
     "name": "stdout",
     "output_type": "stream",
     "text": [
      "[1 2 3]\n",
      "[[1 2]\n",
      " [3 1]\n",
      " [2 3]]\n"
     ]
    }
   ],
   "source": [
    "a1=np.array([1,2,3])\n",
    "print(a1)\n",
    "a2=np.resize(a1,(3,2))\n",
    "print(a2)"
   ]
  },
  {
   "cell_type": "markdown",
   "id": "c11d9d34-ed2a-445b-bd64-528b02a1ce82",
   "metadata": {},
   "source": [
    "## 2.3 flatten()"
   ]
  },
  {
   "cell_type": "code",
   "execution_count": null,
   "id": "1d622aa1-67d6-44ea-9cbf-104b5ec08c0d",
   "metadata": {},
   "outputs": [],
   "source": [
    "-> to convert N-dimensional arrays to 1-D\n",
    "-> flatten(): returns a copy"
   ]
  },
  {
   "cell_type": "code",
   "execution_count": 16,
   "id": "a084180c-eabc-45e4-b077-ec8430124436",
   "metadata": {},
   "outputs": [
    {
     "name": "stdout",
     "output_type": "stream",
     "text": [
      "[[1 2]\n",
      " [3 4]]\n",
      "[1 2 3 4]\n"
     ]
    }
   ],
   "source": [
    "a1=np.array([[1,2],[3,4]])\n",
    "print(a1)\n",
    "flat=a1.flatten()\n",
    "print(flat)"
   ]
  },
  {
   "cell_type": "markdown",
   "id": "3e949645-c8f6-41ec-8cce-3b13d9c529d2",
   "metadata": {},
   "source": [
    "## 2.4 transpose()"
   ]
  },
  {
   "cell_type": "code",
   "execution_count": null,
   "id": "f09dfdb6-b15a-4b7c-a034-9ae8f77c0611",
   "metadata": {},
   "outputs": [],
   "source": [
    "-> reverse or permute array axes\n",
    "-> arr.transpose() or arr.T"
   ]
  },
  {
   "cell_type": "code",
   "execution_count": 17,
   "id": "e848353e-37aa-49d3-a208-0165483ac7ee",
   "metadata": {},
   "outputs": [
    {
     "name": "stdout",
     "output_type": "stream",
     "text": [
      "[[1 2 3]\n",
      " [4 5 6]]\n",
      "[[1 4]\n",
      " [2 5]\n",
      " [3 6]]\n"
     ]
    }
   ],
   "source": [
    "a1=np.array([[1,2,3],[4,5,6]])\n",
    "print(a1)\n",
    "transposed=a1.transpose()\n",
    "print(transposed)"
   ]
  },
  {
   "cell_type": "markdown",
   "id": "f7b2f2ae-329a-467c-9817-c7617b2b9a7b",
   "metadata": {},
   "source": [
    "## 2.5 concatenate()"
   ]
  },
  {
   "cell_type": "code",
   "execution_count": null,
   "id": "3a5e0fd5-d74c-4d63-bc95-01491d733503",
   "metadata": {},
   "outputs": [],
   "source": [
    "-> joins arrays along an existing axis"
   ]
  },
  {
   "cell_type": "code",
   "execution_count": 19,
   "id": "e848a71a-ce5b-4d24-8b39-4e2ac04968ce",
   "metadata": {},
   "outputs": [
    {
     "name": "stdout",
     "output_type": "stream",
     "text": [
      "[[1 2]\n",
      " [3 4]\n",
      " [5 6]\n",
      " [7 8]]\n"
     ]
    }
   ],
   "source": [
    "a1=np.array([[1,2],[3,4]])\n",
    "a2=np.array([[5,6],[7,8]])\n",
    "concat=np.concatenate((a1,a2),axis=0)\n",
    "print(concat)"
   ]
  },
  {
   "cell_type": "markdown",
   "id": "a6e104aa-ad68-4caf-9615-30e4a78d55fd",
   "metadata": {},
   "source": [
    "## 2.6 append()"
   ]
  },
  {
   "cell_type": "code",
   "execution_count": null,
   "id": "848ea21f-451e-4009-aee3-51ad89b90e54",
   "metadata": {},
   "outputs": [],
   "source": [
    "-> add values to the end of an array"
   ]
  },
  {
   "cell_type": "code",
   "execution_count": 20,
   "id": "c032f854-e9bc-4f89-851a-0d72432e24f8",
   "metadata": {},
   "outputs": [
    {
     "name": "stdout",
     "output_type": "stream",
     "text": [
      "[1 2 3 4 5]\n"
     ]
    }
   ],
   "source": [
    "a1=np.array([1,2,3])\n",
    "new_a1=np.append(a1,[4,5])\n",
    "print(new_a1)"
   ]
  },
  {
   "cell_type": "markdown",
   "id": "b6c55cf1-0695-4b96-bd30-fc7a22fe6989",
   "metadata": {},
   "source": [
    "## 2.7 insert()"
   ]
  },
  {
   "cell_type": "code",
   "execution_count": null,
   "id": "bf8c8e89-9016-4cbb-b96f-572879f07c8e",
   "metadata": {},
   "outputs": [],
   "source": [
    "-> insert values at a specific position"
   ]
  },
  {
   "cell_type": "code",
   "execution_count": 22,
   "id": "1a9c0dd6-9469-4633-bc8a-7b0beaf08d39",
   "metadata": {},
   "outputs": [
    {
     "name": "stdout",
     "output_type": "stream",
     "text": [
      "[1 2 3 4]\n"
     ]
    }
   ],
   "source": [
    "a1=np.array([1,2,4])\n",
    "new_a1=np.insert(a1,2,3)  # inserts 3 at index no '2'\n",
    "print(new_a1)"
   ]
  },
  {
   "cell_type": "markdown",
   "id": "ef2d5a60-d3ec-44ee-bbd5-b87829f55222",
   "metadata": {},
   "source": [
    "## 2.8 delete()"
   ]
  },
  {
   "cell_type": "code",
   "execution_count": null,
   "id": "44ea35d8-cefc-4cb3-9fe3-a0f4f2f75db4",
   "metadata": {},
   "outputs": [],
   "source": [
    "-> remove elements along an axis"
   ]
  },
  {
   "cell_type": "code",
   "execution_count": 24,
   "id": "feab9c65-0bdb-4eb8-9bb5-1ae0307c7205",
   "metadata": {},
   "outputs": [
    {
     "name": "stdout",
     "output_type": "stream",
     "text": [
      "[1 2 3]\n"
     ]
    }
   ],
   "source": [
    "a1=np.array([1,2,3,4])\n",
    "new_a1=np.delete(a1,3)\n",
    "print(new_a1)"
   ]
  },
  {
   "cell_type": "markdown",
   "id": "48d5bb30-3fe2-4019-9cd5-e3619fbf12f1",
   "metadata": {},
   "source": [
    "## 2.9 sort()"
   ]
  },
  {
   "cell_type": "code",
   "execution_count": null,
   "id": "fe2f3718-7b73-42c3-b0d1-1a56803ceacf",
   "metadata": {},
   "outputs": [],
   "source": [
    "-> sort array elements"
   ]
  },
  {
   "cell_type": "code",
   "execution_count": 25,
   "id": "52c8a72c-e9af-4e2c-a7cb-46e66aa2f546",
   "metadata": {},
   "outputs": [
    {
     "name": "stdout",
     "output_type": "stream",
     "text": [
      "[ 0  2  5 54]\n"
     ]
    }
   ],
   "source": [
    "a1=np.array([2,54,5,0])\n",
    "sorted_a1=np.sort(a1)\n",
    "print(sorted_a1)"
   ]
  },
  {
   "cell_type": "markdown",
   "id": "d760ac16-5174-4f3b-9651-557ba33e1e09",
   "metadata": {},
   "source": [
    "## Mathematical Operations"
   ]
  },
  {
   "cell_type": "markdown",
   "id": "80897a2b-c501-40b5-bef5-41c70858520d",
   "metadata": {},
   "source": [
    "## 3.1 np.sum()"
   ]
  },
  {
   "cell_type": "code",
   "execution_count": 27,
   "id": "ddb5c2cd-bec9-4273-96ac-5966ea11f43f",
   "metadata": {},
   "outputs": [
    {
     "name": "stdout",
     "output_type": "stream",
     "text": [
      "61\n"
     ]
    }
   ],
   "source": [
    "a1_sum=np.sum(a1)\n",
    "print(a1_sum)"
   ]
  },
  {
   "cell_type": "markdown",
   "id": "8e7b7251-bfaa-45ce-bb35-607f3e16f95d",
   "metadata": {},
   "source": [
    "## 3.2 np.mean()"
   ]
  },
  {
   "cell_type": "code",
   "execution_count": 28,
   "id": "2cdd51e2-1515-487a-adf0-3dfe35e49ec2",
   "metadata": {},
   "outputs": [
    {
     "name": "stdout",
     "output_type": "stream",
     "text": [
      "15.25\n"
     ]
    }
   ],
   "source": [
    "a1_avg=np.mean(a1)\n",
    "print(a1_avg)"
   ]
  },
  {
   "cell_type": "markdown",
   "id": "5eb0b374-bdee-4292-9226-2e3debe664ce",
   "metadata": {},
   "source": [
    "## 3.3 np.max() & np.min()"
   ]
  },
  {
   "cell_type": "code",
   "execution_count": 29,
   "id": "71199840-de16-4da5-b086-ef1dabb2cb45",
   "metadata": {},
   "outputs": [
    {
     "name": "stdout",
     "output_type": "stream",
     "text": [
      "54\n",
      "0\n"
     ]
    }
   ],
   "source": [
    "a1_max=np.max(a1)\n",
    "print(a1_max)\n",
    "a1_min=np.min(a1)\n",
    "print(a1_min)"
   ]
  },
  {
   "cell_type": "markdown",
   "id": "33a1002f-3ad7-4c21-bb03-843f72e1ceaf",
   "metadata": {},
   "source": [
    "## 3.4 np.std() & np.var()"
   ]
  },
  {
   "cell_type": "code",
   "execution_count": 31,
   "id": "297e2e84-a181-4cf5-8840-301cdde38790",
   "metadata": {},
   "outputs": [
    {
     "name": "stdout",
     "output_type": "stream",
     "text": [
      "22.442983313276336\n",
      "503.6875\n"
     ]
    }
   ],
   "source": [
    "print(np.std(a1))\n",
    "print(np.var(a1))"
   ]
  },
  {
   "cell_type": "markdown",
   "id": "deac7151-4316-421e-ae22-a37fd1315f11",
   "metadata": {},
   "source": [
    "## 3.5 np.sqrt() & np.power()"
   ]
  },
  {
   "cell_type": "code",
   "execution_count": 33,
   "id": "89f36571-72d3-4f6f-8a6f-e02102721bc0",
   "metadata": {},
   "outputs": [
    {
     "name": "stdout",
     "output_type": "stream",
     "text": [
      "[1.41421356 7.34846923 2.23606798 0.        ]\n",
      "[   4 2916   25    0]\n"
     ]
    }
   ],
   "source": [
    "print(np.sqrt(a1))\n",
    "print(np.power(a1,2))"
   ]
  },
  {
   "cell_type": "markdown",
   "id": "70536835-8dbc-4304-aa7c-2673675dcd93",
   "metadata": {},
   "source": [
    "## 3.6 np.dot()"
   ]
  },
  {
   "cell_type": "code",
   "execution_count": 34,
   "id": "22bc7dc1-f6e3-4db3-bcee-ccd29d5b2740",
   "metadata": {},
   "outputs": [
    {
     "name": "stdout",
     "output_type": "stream",
     "text": [
      "32\n"
     ]
    }
   ],
   "source": [
    "a1=np.array([1,2,3])\n",
    "a2=np.array([4,5,6])\n",
    "print(np.dot(a1,a2))"
   ]
  },
  {
   "cell_type": "markdown",
   "id": "145d8a36-8ffb-48f5-aeca-6d7e164bb5ec",
   "metadata": {},
   "source": [
    "## 3.7 np.add(), np.subtract(),np.multiply(),np.divide()"
   ]
  },
  {
   "cell_type": "code",
   "execution_count": 36,
   "id": "14283100-3226-4759-ab6d-f10814426824",
   "metadata": {},
   "outputs": [
    {
     "name": "stdout",
     "output_type": "stream",
     "text": [
      "[4 6]\n",
      "[2 2]\n",
      "[3 8]\n",
      "[3. 2.]\n"
     ]
    }
   ],
   "source": [
    "a=np.array([1,2])\n",
    "b=np.array([3,4])\n",
    "print(np.add(a,b))\n",
    "print(np.subtract(b,a))\n",
    "print(np.multiply(a,b))\n",
    "print(np.divide(b,a))"
   ]
  },
  {
   "cell_type": "markdown",
   "id": "f1dc7934-2a44-4a31-b8e5-b735b2d1d162",
   "metadata": {},
   "source": [
    "## 3.8 np,round()"
   ]
  },
  {
   "cell_type": "code",
   "execution_count": 39,
   "id": "68f7cf7e-ddd0-404f-a6e4-0c1120a3af5e",
   "metadata": {},
   "outputs": [
    {
     "name": "stdout",
     "output_type": "stream",
     "text": [
      "[1. 3. 6.]\n"
     ]
    }
   ],
   "source": [
    "a1=np.array([1.2,3.4,5.6])\n",
    "print(np.round(a1))"
   ]
  },
  {
   "cell_type": "markdown",
   "id": "038ebfb5-ce3c-4748-9fb8-6066882c614c",
   "metadata": {},
   "source": [
    "## Logical & Indexing"
   ]
  },
  {
   "cell_type": "code",
   "execution_count": null,
   "id": "bbae4708-34a9-4249-92ed-3c13cc7a46f5",
   "metadata": {},
   "outputs": [],
   "source": [
    "-> returns indices or values based on a condition\n",
    "-> returns indices where condition is True"
   ]
  },
  {
   "cell_type": "code",
   "execution_count": 40,
   "id": "2f714d9c-7d7e-44fe-8b90-730aa101d0d0",
   "metadata": {},
   "outputs": [
    {
     "name": "stdout",
     "output_type": "stream",
     "text": [
      "(array([4]),)\n"
     ]
    }
   ],
   "source": [
    "a1=np.array([1,4,2,5,8])\n",
    "result=np.where(a1>5)\n",
    "print(result)  # we will get index numbers"
   ]
  },
  {
   "cell_type": "code",
   "execution_count": null,
   "id": "1e7568a1-f84f-4f1a-b7e6-2a3bf988424f",
   "metadata": {},
   "outputs": [],
   "source": [
    "-> to check if any element satisfies a condition, we use np.any()"
   ]
  },
  {
   "cell_type": "code",
   "execution_count": 42,
   "id": "7ab74a0d-df25-471c-b193-427be4f03830",
   "metadata": {},
   "outputs": [
    {
     "name": "stdout",
     "output_type": "stream",
     "text": [
      "True\n"
     ]
    }
   ],
   "source": [
    "a1=np.array([1,2,3,45,6])\n",
    "print(np.any(a1>0))"
   ]
  },
  {
   "cell_type": "markdown",
   "id": "af0ef93c-4d88-4ff3-82ef-b92cc677ff3f",
   "metadata": {},
   "source": [
    "## np.unique()"
   ]
  },
  {
   "cell_type": "code",
   "execution_count": 44,
   "id": "a1cfb895-17ce-41dc-a9d0-bab1b170b86d",
   "metadata": {},
   "outputs": [
    {
     "name": "stdout",
     "output_type": "stream",
     "text": [
      "[1 2 3 4 5]\n"
     ]
    }
   ],
   "source": [
    "a1=np.array([1,3,4,5,3,2])\n",
    "print(np.unique(a1))"
   ]
  },
  {
   "cell_type": "code",
   "execution_count": null,
   "id": "a388ea22-e975-4a90-81bb-e50749cb3bfc",
   "metadata": {},
   "outputs": [],
   "source": []
  }
 ],
 "metadata": {
  "kernelspec": {
   "display_name": "Python 3 (ipykernel)",
   "language": "python",
   "name": "python3"
  },
  "language_info": {
   "codemirror_mode": {
    "name": "ipython",
    "version": 3
   },
   "file_extension": ".py",
   "mimetype": "text/x-python",
   "name": "python",
   "nbconvert_exporter": "python",
   "pygments_lexer": "ipython3",
   "version": "3.13.5"
  }
 },
 "nbformat": 4,
 "nbformat_minor": 5
}
