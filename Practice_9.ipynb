{
 "cells": [
  {
   "cell_type": "markdown",
   "id": "395f047b-1b9a-49ab-b335-a3abe3458e0e",
   "metadata": {},
   "source": [
    "### Q1. Write a function to print \"Hello, World!\"."
   ]
  },
  {
   "cell_type": "code",
   "execution_count": 2,
   "id": "7fbd91b3-b391-45d7-b80a-8483a005afc7",
   "metadata": {},
   "outputs": [
    {
     "name": "stdout",
     "output_type": "stream",
     "text": [
      "Hello, World!\n"
     ]
    }
   ],
   "source": [
    "def greeting():\n",
    "    print(\"Hello, World!\")\n",
    "greeting()"
   ]
  },
  {
   "cell_type": "markdown",
   "id": "69364878-882a-43b7-bfb6-4864ed234bab",
   "metadata": {},
   "source": [
    "### Q2. Write a function that takes your name as input and prints a greeting message."
   ]
  },
  {
   "cell_type": "code",
   "execution_count": 4,
   "id": "b53fb2f9-794e-483e-b6e2-9dc606568300",
   "metadata": {},
   "outputs": [
    {
     "name": "stdout",
     "output_type": "stream",
     "text": [
      "Hello Ratna!, Welcome to Python Class\n"
     ]
    }
   ],
   "source": [
    "def greeting(name):\n",
    "    print(f\"Hello {name}!, Welcome to Python Class\")\n",
    "greeting(\"Ratna\")"
   ]
  },
  {
   "cell_type": "markdown",
   "id": "0b84faa4-26c1-422f-836c-166273e0f494",
   "metadata": {},
   "source": [
    "### Q3. Write a function to find the sum of two numbers (take input from user)."
   ]
  },
  {
   "cell_type": "code",
   "execution_count": 5,
   "id": "df1bff79-d55a-453d-bafc-20acfc248481",
   "metadata": {},
   "outputs": [
    {
     "name": "stdout",
     "output_type": "stream",
     "text": [
      "a==10,b==20\n"
     ]
    },
    {
     "data": {
      "text/plain": [
       "30"
      ]
     },
     "execution_count": 5,
     "metadata": {},
     "output_type": "execute_result"
    }
   ],
   "source": [
    "def add(a,b):\n",
    "    print(f\"a=={a},b=={b}\")\n",
    "    sum=a+b\n",
    "    return sum\n",
    "add(10,20)"
   ]
  },
  {
   "cell_type": "markdown",
   "id": "5ccf5db3-354c-4fa5-b5ad-fc7ad5486247",
   "metadata": {},
   "source": [
    "### Q4. Write a function to return the square of a number."
   ]
  },
  {
   "cell_type": "code",
   "execution_count": 7,
   "id": "179e9bf1-1490-43fe-aef7-37ce8335d012",
   "metadata": {},
   "outputs": [
    {
     "name": "stdout",
     "output_type": "stream",
     "text": [
      "Square of 3 is :  9\n"
     ]
    }
   ],
   "source": [
    "def square(num):\n",
    "    print(f\"Square of {num} is : \",num**2)\n",
    "square(3)"
   ]
  },
  {
   "cell_type": "markdown",
   "id": "80f2a0f9-9de6-45ca-862c-c7fc53b9e9eb",
   "metadata": {},
   "source": [
    "### Q5. Write a function to check if a number is even or odd."
   ]
  },
  {
   "cell_type": "code",
   "execution_count": 9,
   "id": "78bef672-73a9-44a1-af67-d501bbe8b983",
   "metadata": {},
   "outputs": [
    {
     "name": "stdout",
     "output_type": "stream",
     "text": [
      "5 is odd number\n"
     ]
    }
   ],
   "source": [
    "def even_odd(num):\n",
    "    if num%2==0:\n",
    "        print(f\"{num} is even number\")\n",
    "    else:\n",
    "        print(f\"{num} is odd number\")\n",
    "even_odd(5)"
   ]
  },
  {
   "cell_type": "markdown",
   "id": "54a178bb-bbcf-4eb4-85fa-28135ba5b67e",
   "metadata": {},
   "source": [
    "### Q6. Write a function to find the factorial of a given number."
   ]
  },
  {
   "cell_type": "code",
   "execution_count": 10,
   "id": "d5257f3a-bfec-4bb5-a7f7-f3e86a9d1d83",
   "metadata": {},
   "outputs": [
    {
     "name": "stdout",
     "output_type": "stream",
     "text": [
      "The factorial of 10 is :  3628800\n"
     ]
    }
   ],
   "source": [
    "def factorial(num):\n",
    "    fact=1\n",
    "    if num<0:\n",
    "        print(\"Factorial does not exist\")\n",
    "    elif num==0:\n",
    "        print(\"Factorial of 0 is 1\")\n",
    "    else:\n",
    "        for i in range(1,num+1):\n",
    "            fact*=i\n",
    "        print(f\"The factorial of {num} is : \",fact)\n",
    "factorial(10)"
   ]
  },
  {
   "cell_type": "markdown",
   "id": "10bb3359-9b72-46da-96db-de4bc8e842fd",
   "metadata": {},
   "source": [
    "### Q7. Write a function that takes a list and returns the sum of all its elements."
   ]
  },
  {
   "cell_type": "code",
   "execution_count": 15,
   "id": "fd760334-e31e-4d2a-9377-0102b7742ce7",
   "metadata": {},
   "outputs": [
    {
     "data": {
      "text/plain": [
       "10"
      ]
     },
     "execution_count": 15,
     "metadata": {},
     "output_type": "execute_result"
    }
   ],
   "source": [
    "def add_list(list):\n",
    "    sum=0\n",
    "    for i in list:\n",
    "        sum+=i\n",
    "    return sum\n",
    "#list=[1,2,3,4]\n",
    "add_list([1,2,3,4])"
   ]
  },
  {
   "cell_type": "markdown",
   "id": "5f38c8db-64c3-4432-bb72-912bcaa393b3",
   "metadata": {},
   "source": [
    "### Q8. Write a function that takes a list and returns a new list with only even numbers."
   ]
  },
  {
   "cell_type": "code",
   "execution_count": 17,
   "id": "5f426d2b-9a27-45ed-9333-9b1b67cd8706",
   "metadata": {},
   "outputs": [
    {
     "data": {
      "text/plain": [
       "[2, 0, 4, 6]"
      ]
     },
     "execution_count": 17,
     "metadata": {},
     "output_type": "execute_result"
    }
   ],
   "source": [
    "def even_list(list):\n",
    "    even=[]\n",
    "    for i in list:\n",
    "        if i%2==0:\n",
    "            even.append(i)\n",
    "    return even\n",
    "even_list([1,2,0,5,4,6,9,3])"
   ]
  },
  {
   "cell_type": "markdown",
   "id": "946f5bb4-25be-4711-9471-62163398c3d0",
   "metadata": {},
   "source": [
    "### Q9. Write a function that takes two strings and returns the longer one."
   ]
  },
  {
   "cell_type": "code",
   "execution_count": 22,
   "id": "0bb0985c-f058-4345-9c64-0000e1060296",
   "metadata": {},
   "outputs": [
    {
     "name": "stdout",
     "output_type": "stream",
     "text": [
      "Python class\n"
     ]
    }
   ],
   "source": [
    "def longer_str(str1,str2):\n",
    "    if len(str1)>len(str2):\n",
    "        print(str1)\n",
    "    else:\n",
    "        print(str2)\n",
    "str1=\"Ratna\"\n",
    "str2=\"Python class\"\n",
    "longer_str(str1,str2)"
   ]
  },
  {
   "cell_type": "markdown",
   "id": "b4d724c1-89dd-468d-8cb4-2fa926eac924",
   "metadata": {},
   "source": [
    "### Q10. Write a function that converts Celsius temperature to Fahrenheit."
   ]
  },
  {
   "cell_type": "code",
   "execution_count": 25,
   "id": "ca8d727f-6713-4406-83c3-10ae623ce2e0",
   "metadata": {},
   "outputs": [
    {
     "name": "stdout",
     "output_type": "stream",
     "text": [
      "10.0 Celsius\n"
     ]
    },
    {
     "data": {
      "text/plain": [
       "'50.0 fahrenheit'"
      ]
     },
     "execution_count": 25,
     "metadata": {},
     "output_type": "execute_result"
    }
   ],
   "source": [
    "def cel_fah(cel):\n",
    "    print(f\"{cel} Celsius\")\n",
    "    fah=((cel)*(9/5))+32\n",
    "    return (f\"{fah} fahrenheit\")\n",
    "cel_fah(10.0)"
   ]
  },
  {
   "cell_type": "code",
   "execution_count": null,
   "id": "8fe5b52b-c843-4081-adb4-a0d1d10af04f",
   "metadata": {},
   "outputs": [],
   "source": []
  }
 ],
 "metadata": {
  "kernelspec": {
   "display_name": "Python 3 (ipykernel)",
   "language": "python",
   "name": "python3"
  },
  "language_info": {
   "codemirror_mode": {
    "name": "ipython",
    "version": 3
   },
   "file_extension": ".py",
   "mimetype": "text/x-python",
   "name": "python",
   "nbconvert_exporter": "python",
   "pygments_lexer": "ipython3",
   "version": "3.13.5"
  }
 },
 "nbformat": 4,
 "nbformat_minor": 5
}
