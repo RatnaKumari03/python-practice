{
 "cells": [
  {
   "cell_type": "markdown",
   "id": "3bf536d5-d52b-47e8-88ec-87f83d39005b",
   "metadata": {},
   "source": [
    "## File Handling"
   ]
  },
  {
   "cell_type": "code",
   "execution_count": null,
   "id": "0586b77b-584e-48d9-8952-de5c9c71ec7c",
   "metadata": {},
   "outputs": [],
   "source": [
    "-> text "
   ]
  },
  {
   "cell_type": "code",
   "execution_count": null,
   "id": "107dc685-d753-416d-acc1-eb6c3c3ed664",
   "metadata": {},
   "outputs": [],
   "source": [
    "-> TEXT\n",
    "JSON\n",
    "ML Model(pickle)"
   ]
  },
  {
   "cell_type": "code",
   "execution_count": null,
   "id": "c4691d7f-cbcc-4d0c-ac88-8349c74cc470",
   "metadata": {},
   "outputs": [],
   "source": [
    "-> three main steps:\n",
    "  -- opening a file\n",
    "  -- performing an action(reading or writing)\n",
    "  -- closing the file"
   ]
  },
  {
   "cell_type": "markdown",
   "id": "74d0798e-5157-475b-8718-04835afe2fba",
   "metadata": {},
   "source": [
    "## open function"
   ]
  },
  {
   "cell_type": "code",
   "execution_count": null,
   "id": "891ec578-a292-4593-8977-e70a2d74f33a",
   "metadata": {},
   "outputs": [],
   "source": [
    "-> syntax:\n",
    "       open(file_name or file_path,mode='r')\n",
    "# we need to close the function\n",
    "close()"
   ]
  },
  {
   "cell_type": "markdown",
   "id": "bfa0380a-503c-4c30-8715-210e01218cdd",
   "metadata": {},
   "source": [
    "## Modes:"
   ]
  },
  {
   "cell_type": "code",
   "execution_count": null,
   "id": "334d8200-f8ac-4d5a-868b-8c192f8a884d",
   "metadata": {},
   "outputs": [],
   "source": [
    "1. read mode --> 'r'\n",
    "2. write mode -->'w'\n",
    "3. write mode -->'x' \n",
    "4. append mode -->'a'\n",
    "5. read bytes -->'rb'\n",
    "6. write bytes -->'wb'"
   ]
  },
  {
   "cell_type": "markdown",
   "id": "c99a8591-1513-403f-b419-26d0636dbde2",
   "metadata": {},
   "source": [
    "## write mode"
   ]
  },
  {
   "cell_type": "code",
   "execution_count": null,
   "id": "eed81f69-1db7-4751-a2db-445a41d02e01",
   "metadata": {},
   "outputs": [],
   "source": [
    "-> write mode 'w'\n",
    "-> it will create a new file, if not exists\n",
    "-> it will overwrite a text, if file is already exists"
   ]
  },
  {
   "cell_type": "code",
   "execution_count": 1,
   "id": "2396f2d3-6c5f-4b26-ae4b-9601ce5c7a4c",
   "metadata": {},
   "outputs": [],
   "source": [
    "f=open('sample.txt','w')\n",
    "f.write('We are learning File Handling')  # it will automatically create a file and write into it\n",
    "f.close()"
   ]
  },
  {
   "cell_type": "code",
   "execution_count": null,
   "id": "94b8e66c-be5e-462a-af58-e62102b245f9",
   "metadata": {},
   "outputs": [],
   "source": [
    "f=open('sample.txt','w')\n",
    "f.write('We are learning Full Stack')\n",
    "f.close()"
   ]
  },
  {
   "cell_type": "code",
   "execution_count": 5,
   "id": "f7ccf427-84a5-474f-8e37-187e1b441522",
   "metadata": {},
   "outputs": [],
   "source": [
    "text=\"\"\"We are learning File Handling.\n",
    "      We are learning Full Stack\"\"\"\n",
    "f=open('sample.txt','w')\n",
    "f.write(text)\n",
    "f.close()"
   ]
  },
  {
   "cell_type": "markdown",
   "id": "82ad0c37-e356-4b20-b9d4-0012cbcb234f",
   "metadata": {},
   "source": [
    "## append mode"
   ]
  },
  {
   "cell_type": "code",
   "execution_count": null,
   "id": "0f0fb1a7-db30-42e2-8c3d-f6c7c7121fb5",
   "metadata": {},
   "outputs": [],
   "source": [
    "-> append mode 'a'\n",
    "-> adds data to an existing file\n",
    "-> otherwise it will create a new file if not exists"
   ]
  },
  {
   "cell_type": "code",
   "execution_count": 6,
   "id": "e94020a2-9d5f-4d12-ade5-f1f718b94fdf",
   "metadata": {},
   "outputs": [],
   "source": [
    "f=open('new_file.txt','a')\n",
    "f.write('We are learning python')\n",
    "f.close()"
   ]
  },
  {
   "cell_type": "code",
   "execution_count": 7,
   "id": "942d81de-ea7b-464b-8bf6-60f29d98d622",
   "metadata": {},
   "outputs": [],
   "source": [
    "f=open('new_file.txt','a')\n",
    "f.write('\\nWe are learning file handling')\n",
    "f.close()"
   ]
  },
  {
   "cell_type": "code",
   "execution_count": 8,
   "id": "8501664f-1a07-428c-b774-fd7a05ef4b5e",
   "metadata": {},
   "outputs": [],
   "source": [
    "f=open('new_file.txt','a')\n",
    "f.write('\\nWe are learning append mode')\n",
    "f.close()"
   ]
  },
  {
   "cell_type": "markdown",
   "id": "eab7f389-b140-4e53-9233-6c78aee10f9f",
   "metadata": {},
   "source": [
    "## read mode"
   ]
  },
  {
   "cell_type": "code",
   "execution_count": null,
   "id": "2b477f6f-14c3-47ae-a4ff-eb89bab19f96",
   "metadata": {},
   "outputs": [],
   "source": [
    "-> read mode 'r'\n",
    "-> just to read the file"
   ]
  },
  {
   "cell_type": "code",
   "execution_count": 11,
   "id": "9ff265bb-8a33-48c1-b8b7-8c61de8a8c32",
   "metadata": {},
   "outputs": [
    {
     "name": "stdout",
     "output_type": "stream",
     "text": [
      "We are learning pythonWe are learning python\n",
      "We are learning file handling\n",
      "We are learning append mode\n"
     ]
    }
   ],
   "source": [
    "f=open('new_file.txt','r')\n",
    "data=f.read()\n",
    "f.close()\n",
    "print(data)"
   ]
  },
  {
   "cell_type": "markdown",
   "id": "93510cec-3612-4bb2-8b75-fbab19667097",
   "metadata": {},
   "source": [
    "## write()"
   ]
  },
  {
   "cell_type": "code",
   "execution_count": null,
   "id": "17c90aab-8127-40e3-9a8d-6bc39fbe8d98",
   "metadata": {},
   "outputs": [],
   "source": [
    "-> write mode 'x'\n",
    "-> it creates a new file, if not exists\n",
    "-> it avoids overwriting"
   ]
  },
  {
   "cell_type": "code",
   "execution_count": 12,
   "id": "554e2a56-4917-4216-b558-ee42ffee8e26",
   "metadata": {},
   "outputs": [],
   "source": [
    "f=open('testing.txt','x')\n",
    "f.write('We are learning file handling')\n",
    "f.close()"
   ]
  },
  {
   "cell_type": "code",
   "execution_count": 13,
   "id": "8eddf22b-2c54-4f71-bd81-d24659aad2da",
   "metadata": {},
   "outputs": [
    {
     "ename": "FileExistsError",
     "evalue": "[Errno 17] File exists: 'testing.txt'",
     "output_type": "error",
     "traceback": [
      "\u001b[1;31m---------------------------------------------------------------------------\u001b[0m",
      "\u001b[1;31mFileExistsError\u001b[0m                           Traceback (most recent call last)",
      "Cell \u001b[1;32mIn[13], line 1\u001b[0m\n\u001b[1;32m----> 1\u001b[0m f\u001b[38;5;241m=\u001b[39m\u001b[38;5;28mopen\u001b[39m(\u001b[38;5;124m'\u001b[39m\u001b[38;5;124mtesting.txt\u001b[39m\u001b[38;5;124m'\u001b[39m,\u001b[38;5;124m'\u001b[39m\u001b[38;5;124mx\u001b[39m\u001b[38;5;124m'\u001b[39m)\n\u001b[0;32m      2\u001b[0m f\u001b[38;5;241m.\u001b[39mwrite(\u001b[38;5;124m'\u001b[39m\u001b[38;5;124mWe are learning write mode\u001b[39m\u001b[38;5;124m'\u001b[39m)\n\u001b[0;32m      3\u001b[0m f\u001b[38;5;241m.\u001b[39mclose()\n",
      "File \u001b[1;32m~\\OneDrive\\Desktop\\New folder\\Lib\\site-packages\\IPython\\core\\interactiveshell.py:324\u001b[0m, in \u001b[0;36m_modified_open\u001b[1;34m(file, *args, **kwargs)\u001b[0m\n\u001b[0;32m    317\u001b[0m \u001b[38;5;28;01mif\u001b[39;00m file \u001b[38;5;129;01min\u001b[39;00m {\u001b[38;5;241m0\u001b[39m, \u001b[38;5;241m1\u001b[39m, \u001b[38;5;241m2\u001b[39m}:\n\u001b[0;32m    318\u001b[0m     \u001b[38;5;28;01mraise\u001b[39;00m \u001b[38;5;167;01mValueError\u001b[39;00m(\n\u001b[0;32m    319\u001b[0m         \u001b[38;5;124mf\u001b[39m\u001b[38;5;124m\"\u001b[39m\u001b[38;5;124mIPython won\u001b[39m\u001b[38;5;124m'\u001b[39m\u001b[38;5;124mt let you open fd=\u001b[39m\u001b[38;5;132;01m{\u001b[39;00mfile\u001b[38;5;132;01m}\u001b[39;00m\u001b[38;5;124m by default \u001b[39m\u001b[38;5;124m\"\u001b[39m\n\u001b[0;32m    320\u001b[0m         \u001b[38;5;124m\"\u001b[39m\u001b[38;5;124mas it is likely to crash IPython. If you know what you are doing, \u001b[39m\u001b[38;5;124m\"\u001b[39m\n\u001b[0;32m    321\u001b[0m         \u001b[38;5;124m\"\u001b[39m\u001b[38;5;124myou can use builtins\u001b[39m\u001b[38;5;124m'\u001b[39m\u001b[38;5;124m open.\u001b[39m\u001b[38;5;124m\"\u001b[39m\n\u001b[0;32m    322\u001b[0m     )\n\u001b[1;32m--> 324\u001b[0m \u001b[38;5;28;01mreturn\u001b[39;00m io_open(file, \u001b[38;5;241m*\u001b[39margs, \u001b[38;5;241m*\u001b[39m\u001b[38;5;241m*\u001b[39mkwargs)\n",
      "\u001b[1;31mFileExistsError\u001b[0m: [Errno 17] File exists: 'testing.txt'"
     ]
    }
   ],
   "source": [
    "f=open('testing.txt','x')\n",
    "f.write('We are learning write mode')\n",
    "f.close()"
   ]
  },
  {
   "cell_type": "markdown",
   "id": "b88264f2-63d9-43bc-bddf-d7156774a865",
   "metadata": {},
   "source": [
    "## with open statement "
   ]
  },
  {
   "cell_type": "code",
   "execution_count": null,
   "id": "c22b34cd-ad18-4446-bc25-c7fa42d49ad8",
   "metadata": {},
   "outputs": [],
   "source": [
    "-> we don't have open the file traditionally\n",
    "-> using with open we can also open the files"
   ]
  },
  {
   "cell_type": "code",
   "execution_count": 15,
   "id": "a6d1ad05-eedd-4aae-8bd6-6dfd81be1acb",
   "metadata": {},
   "outputs": [],
   "source": [
    "f=open('testing.txt','w')\n",
    "f.write('We are learning file handling')\n",
    "f.close()"
   ]
  },
  {
   "cell_type": "code",
   "execution_count": 17,
   "id": "eca22c26-bcd1-4d3e-aec3-59e18cabf85d",
   "metadata": {},
   "outputs": [],
   "source": [
    "with open('sample.txt','r') as f:\n",
    "    text=f.read()    "
   ]
  },
  {
   "cell_type": "markdown",
   "id": "f80dcb5e-2ce5-439f-beba-c3fa787edb6c",
   "metadata": {},
   "source": [
    "## JSON files"
   ]
  },
  {
   "cell_type": "code",
   "execution_count": null,
   "id": "e53a6362-4a20-4d6e-8f63-dee407be413b",
   "metadata": {},
   "outputs": [],
   "source": [
    "-> JavaScript Object Notation"
   ]
  },
  {
   "cell_type": "code",
   "execution_count": 18,
   "id": "3c971d52-06af-4388-9628-ecff83109ce6",
   "metadata": {},
   "outputs": [],
   "source": [
    "import json"
   ]
  },
  {
   "cell_type": "code",
   "execution_count": 28,
   "id": "2df756b9-aca2-4e53-98fd-d6f15b4c1e8b",
   "metadata": {},
   "outputs": [],
   "source": [
    "dict1={'key':'value'}\n",
    "data={'Name':'Virat','Age':29,\n",
    "          'Designation':'Full stack developer'}\n",
    "with open('emp_data.json','w')as f:\n",
    "    json.dump(data,f)"
   ]
  },
  {
   "cell_type": "code",
   "execution_count": null,
   "id": "e8e9ef8e-b746-411f-a3e1-74e01abcd61a",
   "metadata": {},
   "outputs": [],
   "source": []
  },
  {
   "cell_type": "code",
   "execution_count": null,
   "id": "e72cfc27-1057-4360-970c-f73a2a857240",
   "metadata": {},
   "outputs": [],
   "source": []
  },
  {
   "cell_type": "code",
   "execution_count": null,
   "id": "299b291c-d529-4a8f-821f-c8ec033686a0",
   "metadata": {},
   "outputs": [],
   "source": []
  },
  {
   "cell_type": "code",
   "execution_count": null,
   "id": "be88844d-39e9-4605-9570-689fe8a3d797",
   "metadata": {},
   "outputs": [],
   "source": []
  },
  {
   "cell_type": "code",
   "execution_count": null,
   "id": "4d27566c-abea-4161-961c-2d292b093576",
   "metadata": {},
   "outputs": [],
   "source": []
  }
 ],
 "metadata": {
  "kernelspec": {
   "display_name": "Python 3 (ipykernel)",
   "language": "python",
   "name": "python3"
  },
  "language_info": {
   "codemirror_mode": {
    "name": "ipython",
    "version": 3
   },
   "file_extension": ".py",
   "mimetype": "text/x-python",
   "name": "python",
   "nbconvert_exporter": "python",
   "pygments_lexer": "ipython3",
   "version": "3.13.5"
  }
 },
 "nbformat": 4,
 "nbformat_minor": 5
}
