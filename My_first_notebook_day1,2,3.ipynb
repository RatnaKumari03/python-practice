{
 "cells": [
  {
   "cell_type": "code",
   "execution_count": 1,
   "id": "57b7becf-3218-4bf6-8761-8eaca8814343",
   "metadata": {},
   "outputs": [
    {
     "name": "stdout",
     "output_type": "stream",
     "text": [
      "Hello\n"
     ]
    }
   ],
   "source": [
    "print(\"Hello\")"
   ]
  },
  {
   "cell_type": "markdown",
   "id": "2ff909f5-39a0-4b2a-9975-2c9e07120d22",
   "metadata": {},
   "source": [
    "# hello"
   ]
  },
  {
   "cell_type": "code",
   "execution_count": null,
   "id": "a13baa48-4699-41fc-a40b-abfcb9be56a2",
   "metadata": {},
   "outputs": [],
   "source": [
    "comments:\n",
    "for single line - \"#\" put '#' at the beginning\n",
    "for multi lines -\"select ctrl + '/' \n",
    "---> comments make code readable\n",
    "---> explains the logic behind the code\n",
    "---> temporarily disables parts of code for debugging"
   ]
  },
  {
   "cell_type": "code",
   "execution_count": null,
   "id": "80d335a8-5d77-4c68-9ca9-d7c926fd6a88",
   "metadata": {},
   "outputs": [],
   "source": [
    "a - gives cell above\n",
    "b - gives cell below\n",
    "x - deletes cell\n",
    "uses \"markdown\" for headings"
   ]
  },
  {
   "cell_type": "markdown",
   "id": "dd54e083-f052-4f10-8aa8-585e81ef5fcc",
   "metadata": {},
   "source": [
    "# hello"
   ]
  },
  {
   "cell_type": "markdown",
   "id": "f2a0495a-def6-4c73-80fd-add0390b8dbe",
   "metadata": {},
   "source": [
    "## hello"
   ]
  },
  {
   "cell_type": "markdown",
   "id": "8de42b85-848a-41d1-b535-4f15a5c90a06",
   "metadata": {},
   "source": [
    "### hello"
   ]
  },
  {
   "cell_type": "markdown",
   "id": "6514f0e2-9741-4824-90f0-c0d3ee901e28",
   "metadata": {},
   "source": [
    "# Variable"
   ]
  },
  {
   "cell_type": "code",
   "execution_count": null,
   "id": "b62b5905-be04-4cd3-97ef-7a5c439c4a6c",
   "metadata": {},
   "outputs": [],
   "source": [
    "Rules for defining variables:\n",
    "  ->start with a letter/underscore\n",
    "  ->cannot start with a number\n",
    "  ->case sensitive\n",
    "  ->avoid using python keywords(if,else,for ,while,print, etc) as variables names\n",
    "  -> variable names should be meaningful(not a rule)"
   ]
  },
  {
   "cell_type": "code",
   "execution_count": 15,
   "id": "fbe53fa5-6521-4d0e-acb7-edd8a186deee",
   "metadata": {},
   "outputs": [
    {
     "name": "stdout",
     "output_type": "stream",
     "text": [
      "this is variable\n"
     ]
    },
    {
     "data": {
      "text/plain": [
       "str"
      ]
     },
     "execution_count": 15,
     "metadata": {},
     "output_type": "execute_result"
    }
   ],
   "source": [
    "variable1=\"this is variable\"\n",
    "variable1\n",
    "print(variable1)\n",
    "type(variable1)"
   ]
  },
  {
   "cell_type": "code",
   "execution_count": 4,
   "id": "811b8a2b-c1c0-4c10-8b3a-89ce3ef2c341",
   "metadata": {},
   "outputs": [
    {
     "name": "stdout",
     "output_type": "stream",
     "text": [
      "this is variable\n"
     ]
    }
   ],
   "source": [
    "print(variable1)"
   ]
  },
  {
   "cell_type": "code",
   "execution_count": 7,
   "id": "ade8f66e-0e2c-4f40-b7c9-613e637f4c5d",
   "metadata": {},
   "outputs": [
    {
     "name": "stdout",
     "output_type": "stream",
     "text": [
      "this is variable\n"
     ]
    },
    {
     "data": {
      "text/plain": [
       "[1, 2, 3]"
      ]
     },
     "execution_count": 7,
     "metadata": {},
     "output_type": "execute_result"
    }
   ],
   "source": [
    "variable2=[1,2,3]\n",
    "print(variable1)\n",
    "variable2"
   ]
  },
  {
   "cell_type": "code",
   "execution_count": 17,
   "id": "267c7237-4c8b-4dde-80a2-8e465f2a216c",
   "metadata": {},
   "outputs": [
    {
     "data": {
      "text/plain": [
       "list"
      ]
     },
     "execution_count": 17,
     "metadata": {},
     "output_type": "execute_result"
    }
   ],
   "source": [
    "#type(variable1)\n",
    "type(variable2)"
   ]
  },
  {
   "cell_type": "code",
   "execution_count": 18,
   "id": "c4d7a28a-345a-4aae-b7c2-6e5d615dc2f9",
   "metadata": {},
   "outputs": [
    {
     "name": "stdout",
     "output_type": "stream",
     "text": [
      "<class 'list'>\n"
     ]
    }
   ],
   "source": [
    "print(type(variable2))"
   ]
  },
  {
   "cell_type": "markdown",
   "id": "6bce2434-bbe9-467e-b964-b9f96aa939eb",
   "metadata": {},
   "source": [
    "Input"
   ]
  },
  {
   "cell_type": "code",
   "execution_count": 19,
   "id": "e194b2cd-07b0-49f0-a375-309cca954baf",
   "metadata": {},
   "outputs": [
    {
     "name": "stdin",
     "output_type": "stream",
     "text": [
      "User name is:  Ratna\n"
     ]
    }
   ],
   "source": [
    "a=input(\"User name is: \")"
   ]
  },
  {
   "cell_type": "code",
   "execution_count": 20,
   "id": "a1e9361f-65d6-4b2e-af8b-e9cbfcae30a8",
   "metadata": {},
   "outputs": [
    {
     "name": "stdin",
     "output_type": "stream",
     "text": [
      "User's age is:  22\n"
     ]
    }
   ],
   "source": [
    "b=input(\"User's age is: \")"
   ]
  },
  {
   "cell_type": "code",
   "execution_count": 21,
   "id": "cfba37fe-b012-4ed5-a3ae-de26ae9285a5",
   "metadata": {},
   "outputs": [
    {
     "name": "stdin",
     "output_type": "stream",
     "text": [
      "Enter Name:  Ratna\n",
      "Enter Age:  22\n"
     ]
    }
   ],
   "source": [
    "var1=input(\"Enter Name: \")\n",
    "var2=input(\"Enter Age: \")"
   ]
  },
  {
   "cell_type": "code",
   "execution_count": null,
   "id": "f3d9382b-9f72-40da-a0d1-86e9b2434cac",
   "metadata": {},
   "outputs": [],
   "source": [
    "del is used delete variables"
   ]
  },
  {
   "cell_type": "markdown",
   "id": "d52e1613-63a0-40d6-8676-2aa2b45ed480",
   "metadata": {},
   "source": [
    "# Data Type"
   ]
  },
  {
   "cell_type": "code",
   "execution_count": 5,
   "id": "55ab4ae0-a265-4eb7-9526-12b8aa9ad783",
   "metadata": {},
   "outputs": [
    {
     "data": {
      "text/plain": [
       "int"
      ]
     },
     "execution_count": 5,
     "metadata": {},
     "output_type": "execute_result"
    }
   ],
   "source": [
    "num1=20\n",
    "type(num1)\n",
    "#print(type(num1))"
   ]
  },
  {
   "cell_type": "markdown",
   "id": "e9e75fe4-0cfd-48c7-8cc7-a8b3755c5182",
   "metadata": {},
   "source": [
    "# Python Type Casting"
   ]
  },
  {
   "cell_type": "code",
   "execution_count": null,
   "id": "28f0dfa0-3d29-4a92-89c2-ab47be1d5fbd",
   "metadata": {},
   "outputs": [],
   "source": [
    "--> converting one datatype to another datatype\n",
    "--> not all conversions are possible"
   ]
  },
  {
   "cell_type": "markdown",
   "id": "d7ff78b5-11b8-4dec-a375-1757d17ffa1b",
   "metadata": {},
   "source": [
    "### int to float"
   ]
  },
  {
   "cell_type": "code",
   "execution_count": 6,
   "id": "8f9706c1-f449-4545-bd4b-9ef7814e1c14",
   "metadata": {},
   "outputs": [
    {
     "name": "stdout",
     "output_type": "stream",
     "text": [
      "a= 10 <class 'int'>\n",
      "b= 10.0 <class 'float'>\n"
     ]
    }
   ],
   "source": [
    "a=10\n",
    "b=float(a)\n",
    "print(\"a=\",a,type(a))\n",
    "print(\"b=\",b,type(b))"
   ]
  },
  {
   "cell_type": "markdown",
   "id": "b599144e-d25c-4535-ac04-a16b5b10e78b",
   "metadata": {},
   "source": [
    "### float to int"
   ]
  },
  {
   "cell_type": "code",
   "execution_count": 7,
   "id": "7fe6f7c6-8194-4cfc-aad7-5fe91decfb4b",
   "metadata": {},
   "outputs": [
    {
     "name": "stdout",
     "output_type": "stream",
     "text": [
      "a1= 30.0 <class 'float'>\n",
      "b1= 30 <class 'int'>\n"
     ]
    }
   ],
   "source": [
    "a1=30.0\n",
    "b1=int(a1)\n",
    "print(\"a1=\",a1,type(a1))\n",
    "print(\"b1=\",b1,type(b1))"
   ]
  },
  {
   "cell_type": "markdown",
   "id": "81b77084-4865-4350-b7bd-a196e2a2e5f9",
   "metadata": {},
   "source": [
    "### int to complex"
   ]
  },
  {
   "cell_type": "code",
   "execution_count": 8,
   "id": "f450f313-c836-4a70-bbf3-ae07d73cc221",
   "metadata": {},
   "outputs": [
    {
     "name": "stdout",
     "output_type": "stream",
     "text": [
      "a= -10 <class 'int'>\n",
      "b= (-10+0j) <class 'complex'>\n"
     ]
    }
   ],
   "source": [
    "a=-10\n",
    "b=complex(a)\n",
    "print(\"a=\",a,type(a))\n",
    "print(\"b=\",b,type(b))"
   ]
  },
  {
   "cell_type": "markdown",
   "id": "05c8ac1f-74da-4bc8-9635-2635406287fc",
   "metadata": {},
   "source": [
    "### float to complex"
   ]
  },
  {
   "cell_type": "code",
   "execution_count": 1,
   "id": "57ce1775-353c-4372-b145-1178cb402bf8",
   "metadata": {},
   "outputs": [
    {
     "name": "stdout",
     "output_type": "stream",
     "text": [
      "a= 10.0 <class 'float'>\n",
      "b= (10+0j) <class 'complex'>\n"
     ]
    }
   ],
   "source": [
    "a=10.0\n",
    "b=complex(a)\n",
    "print(\"a=\",a,type(a))\n",
    "print(\"b=\",b,type(b))"
   ]
  },
  {
   "cell_type": "markdown",
   "id": "f09fe664-e5f5-4e4e-a40e-e724c3e97641",
   "metadata": {},
   "source": [
    "### complex to int"
   ]
  },
  {
   "cell_type": "code",
   "execution_count": 2,
   "id": "dedec736-af5b-41e9-8781-dbf304335427",
   "metadata": {},
   "outputs": [
    {
     "ename": "TypeError",
     "evalue": "int() argument must be a string, a bytes-like object or a real number, not 'complex'",
     "output_type": "error",
     "traceback": [
      "\u001b[1;31m---------------------------------------------------------------------------\u001b[0m",
      "\u001b[1;31mTypeError\u001b[0m                                 Traceback (most recent call last)",
      "Cell \u001b[1;32mIn[2], line 3\u001b[0m\n\u001b[0;32m      1\u001b[0m \u001b[38;5;66;03m#typeError will be shown\u001b[39;00m\n\u001b[0;32m      2\u001b[0m a\u001b[38;5;241m=\u001b[39m\u001b[38;5;241m2\u001b[39m\u001b[38;5;241m+\u001b[39m\u001b[38;5;241m4\u001b[39mj\n\u001b[1;32m----> 3\u001b[0m b\u001b[38;5;241m=\u001b[39m\u001b[38;5;28mint\u001b[39m(a)\n\u001b[0;32m      4\u001b[0m \u001b[38;5;28mprint\u001b[39m(\u001b[38;5;124m\"\u001b[39m\u001b[38;5;124ma=\u001b[39m\u001b[38;5;124m\"\u001b[39m,a,\u001b[38;5;28mtype\u001b[39m(a))\n\u001b[0;32m      5\u001b[0m \u001b[38;5;28mprint\u001b[39m(\u001b[38;5;124m\"\u001b[39m\u001b[38;5;124mb=\u001b[39m\u001b[38;5;124m\"\u001b[39m,b,\u001b[38;5;28mtype\u001b[39m(b))\n",
      "\u001b[1;31mTypeError\u001b[0m: int() argument must be a string, a bytes-like object or a real number, not 'complex'"
     ]
    }
   ],
   "source": [
    "#typeError will be shown\n",
    "a=2+4j\n",
    "b=int(a)\n",
    "print(\"a=\",a,type(a))\n",
    "print(\"b=\",b,type(b))"
   ]
  },
  {
   "cell_type": "markdown",
   "id": "54055759-c2fa-4336-bf4f-1ef1b157833b",
   "metadata": {},
   "source": [
    "## complex to float also same typeError will be shown"
   ]
  },
  {
   "cell_type": "markdown",
   "id": "bc517e0a-da05-4df5-bc80-33eaa009d82e",
   "metadata": {},
   "source": [
    "### complex to string"
   ]
  },
  {
   "cell_type": "code",
   "execution_count": 4,
   "id": "909f01f3-759c-4ab5-9bab-eee4ccc4ca1a",
   "metadata": {},
   "outputs": [
    {
     "name": "stdout",
     "output_type": "stream",
     "text": [
      "a= (2+4j) <class 'complex'>\n",
      "b= (2+4j) <class 'str'>\n"
     ]
    },
    {
     "data": {
      "text/plain": [
       "'(2+4j)'"
      ]
     },
     "execution_count": 4,
     "metadata": {},
     "output_type": "execute_result"
    }
   ],
   "source": [
    "a=2+4j\n",
    "b=str(a)\n",
    "print(\"a=\",a,type(a))\n",
    "print(\"b=\",b,type(b))\n",
    "b"
   ]
  },
  {
   "cell_type": "markdown",
   "id": "ca9dce02-8b22-4f95-a872-24a5027bcd56",
   "metadata": {},
   "source": [
    "# String"
   ]
  },
  {
   "cell_type": "code",
   "execution_count": null,
   "id": "14b9b093-f1a4-4662-a99b-8d289b0ac4cf",
   "metadata": {},
   "outputs": [],
   "source": [
    "-> it is a sequence of characters enclosed in quotes\n",
    "-> represents textual data\n",
    "-> immutable\n",
    "-> uses \"\" or '' to create a single-line string\n",
    "-> for multi-lines \"\"\" or '''"
   ]
  },
  {
   "cell_type": "code",
   "execution_count": 10,
   "id": "e44f7de3-9c5c-4d4c-9251-d90c698973a6",
   "metadata": {},
   "outputs": [
    {
     "name": "stdout",
     "output_type": "stream",
     "text": [
      "Hello\n"
     ]
    }
   ],
   "source": [
    "str1='Hello'\n",
    "print(str1)"
   ]
  },
  {
   "cell_type": "code",
   "execution_count": null,
   "id": "902e36dd-525f-416d-8fdb-1b006dcfb713",
   "metadata": {},
   "outputs": [],
   "source": []
  },
  {
   "cell_type": "markdown",
   "id": "96c406ac-6b69-424a-ae89-515d67b41aab",
   "metadata": {},
   "source": [
    "## Escape Character"
   ]
  },
  {
   "cell_type": "code",
   "execution_count": null,
   "id": "cc906fae-6223-4c96-b7a6-bdf9d6a4fcc7",
   "metadata": {},
   "outputs": [],
   "source": [
    "-> are special sequence of characters starting with backslash - '\\'"
   ]
  },
  {
   "cell_type": "code",
   "execution_count": null,
   "id": "41df616f-031d-4917-ac1d-71a57e1d38c8",
   "metadata": {},
   "outputs": [],
   "source": [
    "Newline -> '\\n'"
   ]
  },
  {
   "cell_type": "code",
   "execution_count": 12,
   "id": "3d5a9dde-d72f-476b-ae4a-180a613c0447",
   "metadata": {},
   "outputs": [
    {
     "name": "stdout",
     "output_type": "stream",
     "text": [
      "Hello\n",
      "World\n"
     ]
    }
   ],
   "source": [
    "str1=\"Hello\\nWorld\"\n",
    "print(str1)"
   ]
  },
  {
   "cell_type": "code",
   "execution_count": null,
   "id": "88c66352-2ba5-4650-8e4e-1f2c3fa08707",
   "metadata": {},
   "outputs": [],
   "source": [
    "Tab -> '\\t'"
   ]
  },
  {
   "cell_type": "code",
   "execution_count": 13,
   "id": "416082ff-00f6-49a0-b5b6-f61205e11dc5",
   "metadata": {},
   "outputs": [
    {
     "name": "stdout",
     "output_type": "stream",
     "text": [
      "Hello\tWorld\n"
     ]
    }
   ],
   "source": [
    "str1=\"Hello\\tWorld\"\n",
    "print(str1)"
   ]
  },
  {
   "cell_type": "markdown",
   "id": "70c8e9ea-cd16-4e0e-9c26-6919aa1e258e",
   "metadata": {},
   "source": [
    "# Raw string"
   ]
  },
  {
   "cell_type": "code",
   "execution_count": null,
   "id": "cdd14f1f-5a8b-4092-84e6-b38d98d7e184",
   "metadata": {},
   "outputs": [],
   "source": [
    "-> to give file path"
   ]
  },
  {
   "cell_type": "markdown",
   "id": "6c3eecce-3041-4141-8033-b891bcab6671",
   "metadata": {},
   "source": [
    "# Indexing"
   ]
  },
  {
   "cell_type": "code",
   "execution_count": null,
   "id": "d3e10f2e-cafd-420b-8234-0f1fd6a34613",
   "metadata": {},
   "outputs": [],
   "source": [
    "-> it is used to access only one character/particular characters from string\n",
    "-> two types of indexing:\n",
    "   -positive indexing: starts at 0 (left to right)\n",
    "   -negative indexing: starts at -1(right to left)\n",
    "-> immutable (can't change/modify means add or del numbers or characters from the string)\n",
    "-> use [] to print particular string item"
   ]
  },
  {
   "cell_type": "code",
   "execution_count": 14,
   "id": "b2f2801c-1585-4f1b-9b24-4a0dedcb5fbb",
   "metadata": {},
   "outputs": [
    {
     "name": "stdout",
     "output_type": "stream",
     "text": [
      "p\n"
     ]
    }
   ],
   "source": [
    "sample=\"python\"\n",
    "print(sample[0])"
   ]
  },
  {
   "cell_type": "code",
   "execution_count": 15,
   "id": "a45e7b0c-ca7b-45b9-93a7-f5b2f8ca42d0",
   "metadata": {},
   "outputs": [
    {
     "name": "stdout",
     "output_type": "stream",
     "text": [
      "n\n"
     ]
    }
   ],
   "source": [
    "print(sample[5])"
   ]
  },
  {
   "cell_type": "code",
   "execution_count": 18,
   "id": "5c0d9440-d910-4a41-94dd-08f9a29fc28b",
   "metadata": {},
   "outputs": [
    {
     "name": "stdout",
     "output_type": "stream",
     "text": [
      "p\n",
      "y\n",
      "t\n",
      "h\n",
      "o\n",
      "n\n"
     ]
    }
   ],
   "source": [
    "print(sample[0])\n",
    "print(sample[1])\n",
    "print(sample[2])\n",
    "print(sample[3])\n",
    "print(sample[4])\n",
    "print(sample[5])"
   ]
  },
  {
   "cell_type": "code",
   "execution_count": null,
   "id": "a2a41e18-34ef-42d6-90fa-a5fc3fa3c481",
   "metadata": {},
   "outputs": [],
   "source": []
  }
 ],
 "metadata": {
  "kernelspec": {
   "display_name": "Python 3 (ipykernel)",
   "language": "python",
   "name": "python3"
  },
  "language_info": {
   "codemirror_mode": {
    "name": "ipython",
    "version": 3
   },
   "file_extension": ".py",
   "mimetype": "text/x-python",
   "name": "python",
   "nbconvert_exporter": "python",
   "pygments_lexer": "ipython3",
   "version": "3.13.5"
  }
 },
 "nbformat": 4,
 "nbformat_minor": 5
}
