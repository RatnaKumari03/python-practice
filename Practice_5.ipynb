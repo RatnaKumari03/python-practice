{
 "cells": [
  {
   "cell_type": "markdown",
   "id": "e4e2d4aa-6a82-4405-9b94-6e03bd737103",
   "metadata": {},
   "source": [
    "### Q1. What is a for loop in Python, and when would you typically use it?"
   ]
  },
  {
   "cell_type": "code",
   "execution_count": null,
   "id": "4c9d7638-4cf7-459d-a55b-d39fb4b40e39",
   "metadata": {},
   "outputs": [],
   "source": [
    "-> for loop in python is used to iterate over a sequence for each item at a time\n",
    "-> sequences like list, tuple, strings, range() functions\n",
    "-> It is a block of code executed repeatedly for given number of times\n",
    "-> We use for loop when we have to execute a block of repeatedly, to look for each item \n",
    "   in a sequence,etc..      "
   ]
  },
  {
   "cell_type": "markdown",
   "id": "f7bfa3f6-631d-4ecf-bdf0-2f5068187c3c",
   "metadata": {},
   "source": [
    "### Q2. Explain the syntax of a basic for loop in Python."
   ]
  },
  {
   "cell_type": "code",
   "execution_count": null,
   "id": "fddc8142-f3ae-4f81-a67b-7a74ca09b713",
   "metadata": {},
   "outputs": [],
   "source": [
    "-> Syntax of for loop:\n",
    "for char in variable_name:\n",
    "    #print statements\n",
    "# Here char is temporary variable\n",
    "# Variable_name is the list/string/tuple whaterver we took to iterate\n",
    "# after colon(:), in the next line we can print our statements"
   ]
  },
  {
   "cell_type": "markdown",
   "id": "f1acd203-3d02-411a-8541-2124f46e1d05",
   "metadata": {},
   "source": [
    "### Q3. What is an iterable? Give a few examples of built-in iterables in Python that are commonly used with for loops."
   ]
  },
  {
   "cell_type": "code",
   "execution_count": null,
   "id": "9b8bb764-33fe-4b7d-ac23-431337919210",
   "metadata": {},
   "outputs": [],
   "source": [
    "-> Iterable is any object that can return each item at a time in a loop\n",
    "-> These are generally seen in for loops\n",
    "-> some of built-in iterables are list,tuple,string,dictionary,range(),etc.."
   ]
  },
  {
   "cell_type": "code",
   "execution_count": 4,
   "id": "601a50f6-8242-44d9-950e-9ab39961a4f3",
   "metadata": {},
   "outputs": [
    {
     "name": "stdout",
     "output_type": "stream",
     "text": [
      "1 2 3 4 5 "
     ]
    }
   ],
   "source": [
    "# Example of list\n",
    "List=[1,2,3,4,5]\n",
    "for i in List:\n",
    "    print(i,end=\" \")"
   ]
  },
  {
   "cell_type": "code",
   "execution_count": 5,
   "id": "fffe9aea-5e8f-46fd-9dcf-7883a3e96d22",
   "metadata": {},
   "outputs": [
    {
     "name": "stdout",
     "output_type": "stream",
     "text": [
      "I t e r a b l e s "
     ]
    }
   ],
   "source": [
    "# Example of string\n",
    "string=\"Iterables\"\n",
    "for char in string:\n",
    "    print(char,end=\" \")"
   ]
  },
  {
   "cell_type": "code",
   "execution_count": 7,
   "id": "d925e5d1-b6da-4330-b4db-5d89cf15ddbb",
   "metadata": {
    "scrolled": true
   },
   "outputs": [
    {
     "name": "stdout",
     "output_type": "stream",
     "text": [
      "0 1 2 3 4 "
     ]
    }
   ],
   "source": [
    "# Example of range()\n",
    "for i in range(0,5):\n",
    "    print(i,end=\" \")"
   ]
  },
  {
   "cell_type": "markdown",
   "id": "a13c595d-c9b1-4567-8217-72d532e4070b",
   "metadata": {},
   "source": [
    "### Q4. How can you iterate through the characters of a string using a for loop?"
   ]
  },
  {
   "cell_type": "code",
   "execution_count": 1,
   "id": "561ab528-171a-45d1-b24e-b54009071b56",
   "metadata": {},
   "outputs": [
    {
     "name": "stdout",
     "output_type": "stream",
     "text": [
      "L\n",
      "o\n",
      "o\n",
      "p\n",
      "s\n"
     ]
    }
   ],
   "source": [
    "# Example\n",
    "string=\"Loops\"\n",
    "for char in string: # it returns each character at a time\n",
    "    print(char)"
   ]
  },
  {
   "cell_type": "markdown",
   "id": "b69b4a83-dc41-4ba5-b4e2-1c9407cc6952",
   "metadata": {},
   "source": [
    "### Q5. What is the purpose of the range() function when used with a for loop? Give a simple example."
   ]
  },
  {
   "cell_type": "code",
   "execution_count": 8,
   "id": "c6d54b48-8ae8-416c-928d-5edda8b2c92d",
   "metadata": {},
   "outputs": [
    {
     "name": "stdout",
     "output_type": "stream",
     "text": [
      "0 2 4 6 8 "
     ]
    }
   ],
   "source": [
    "# example for range\n",
    "for i in range(0,10,2):\n",
    "    print(i,end=\" \")\n",
    "# Here in range() start,stop,stepsize is given\n",
    "# So the range function checks the start and stop point and gives the output of given stepsize\n",
    "# it is generally used to generate a sequence of numbers for a finite number of times"
   ]
  },
  {
   "cell_type": "markdown",
   "id": "7bddbdf3-f954-4fb3-b76b-e32f38f28350",
   "metadata": {},
   "source": [
    "### Q6. Can you have a for loop inside another for loop? If so, what is this called?"
   ]
  },
  {
   "cell_type": "code",
   "execution_count": null,
   "id": "3fab89bd-3d32-49f3-a287-7710433117ff",
   "metadata": {},
   "outputs": [],
   "source": [
    "-> Yes, we can have for loop inside a for loop.\n",
    "-> It is called nested for loop."
   ]
  },
  {
   "cell_type": "markdown",
   "id": "c9ea0503-1665-4f25-8484-85de3d72e45e",
   "metadata": {},
   "source": [
    "### Q7. What is a while loop in Python, and when would you typically use it?"
   ]
  },
  {
   "cell_type": "code",
   "execution_count": null,
   "id": "bb541aaa-2848-4945-ba7b-6c24d399c8e8",
   "metadata": {},
   "outputs": [],
   "source": [
    "-> While loop in python is control flow statement and it is a block of code executed\n",
    "  when a certain condition is True.\n",
    "-> It is used when we don't know in advance how many times the loop should run"
   ]
  },
  {
   "cell_type": "markdown",
   "id": "12437622-aa66-4ce6-9051-d7bdec6b288a",
   "metadata": {},
   "source": [
    "### Q8. Explain the syntax of a basic while loop in Python. What is the condition?"
   ]
  },
  {
   "cell_type": "code",
   "execution_count": null,
   "id": "7197923a-8a79-4954-b0f4-6894c085dcb1",
   "metadata": {},
   "outputs": [],
   "source": [
    "-> Syntax of while loop:\n",
    "while condition:\n",
    "    #code we want to repeat or statements\n",
    "-> condition here is boolean expression\n",
    "-> if condition is True, the loop runs\n",
    "-> if condition is False, it terminates the loop"
   ]
  },
  {
   "cell_type": "markdown",
   "id": "fa52e17d-90f4-48e1-ad41-61898be917ea",
   "metadata": {},
   "source": [
    "### Q9. What is an infinite loop? How can you accidentally create one with a while loop, and how can you prevent it?"
   ]
  },
  {
   "cell_type": "code",
   "execution_count": null,
   "id": "6e59455d-caf9-43e2-89f2-857eef25f484",
   "metadata": {},
   "outputs": [],
   "source": [
    "-> Infinite loop is where the loop runs non-stop without breaking\n",
    "-> It happens in while loops when the condition doesn't become False\n",
    "-> When we dont give Increment or Decrement inside the loop, these will be created.\n",
    "-> we can prevent infinite loop by using break,Increment or Decrement"
   ]
  },
  {
   "cell_type": "markdown",
   "id": "cdd0e979-433e-4977-a2b2-6379f144b305",
   "metadata": {},
   "source": [
    "### Q10. How do the break and continue statements work within a while loop?"
   ]
  },
  {
   "cell_type": "code",
   "execution_count": 13,
   "id": "d4ef09fb-b86e-43be-b76e-f88e87bd1ed1",
   "metadata": {},
   "outputs": [
    {
     "name": "stdout",
     "output_type": "stream",
     "text": [
      "6\n"
     ]
    }
   ],
   "source": [
    "# example of break statement\n",
    "num=6\n",
    "while num>=1:\n",
    "    if num==6:\n",
    "        break # if we didn't give break here it goes to infinite loop\n",
    "print(num)    "
   ]
  },
  {
   "cell_type": "code",
   "execution_count": 17,
   "id": "a1bebc0c-a67c-4d57-a8d5-a61f3eeed6ad",
   "metadata": {},
   "outputs": [
    {
     "name": "stdout",
     "output_type": "stream",
     "text": [
      "2\n",
      "3\n",
      "5\n",
      "6\n"
     ]
    }
   ],
   "source": [
    "# example of continue statement\n",
    "count=1\n",
    "while count<=5:\n",
    "    count+=1\n",
    "    if count==4:\n",
    "        continue # here it skips '4' and goes to next iteration numbers\n",
    "    print(count)"
   ]
  },
  {
   "cell_type": "code",
   "execution_count": null,
   "id": "00934488-f1af-47ce-a8cb-eaa9cb6b8466",
   "metadata": {},
   "outputs": [],
   "source": []
  }
 ],
 "metadata": {
  "kernelspec": {
   "display_name": "Python 3 (ipykernel)",
   "language": "python",
   "name": "python3"
  },
  "language_info": {
   "codemirror_mode": {
    "name": "ipython",
    "version": 3
   },
   "file_extension": ".py",
   "mimetype": "text/x-python",
   "name": "python",
   "nbconvert_exporter": "python",
   "pygments_lexer": "ipython3",
   "version": "3.13.5"
  }
 },
 "nbformat": 4,
 "nbformat_minor": 5
}
