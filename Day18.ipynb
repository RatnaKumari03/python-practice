{
 "cells": [
  {
   "cell_type": "markdown",
   "id": "343e3fdb-4627-42c0-ba06-b5f98ae2dfb9",
   "metadata": {},
   "source": [
    "## Modules,Libraries,Packages"
   ]
  },
  {
   "cell_type": "code",
   "execution_count": null,
   "id": "28f09b30-04ae-40a8-b99f-44515c3c1e74",
   "metadata": {},
   "outputs": [],
   "source": [
    "-> Module:\n",
    "   -- It is the .py, extension of python file\n",
    "   -- we can import this module into another script"
   ]
  },
  {
   "cell_type": "code",
   "execution_count": null,
   "id": "d27c1d03-b171-4f57-8bd6-c09feb23b245",
   "metadata": {},
   "outputs": [],
   "source": [
    "# how to import modules\n",
    "#import math_operations\n",
    "# first we create the module and then import that "
   ]
  },
  {
   "cell_type": "code",
   "execution_count": null,
   "id": "2ee7a77d-59a6-4acd-b1cf-0ec084267d34",
   "metadata": {},
   "outputs": [],
   "source": [
    "-> modules help us to use the code in other codes"
   ]
  },
  {
   "cell_type": "code",
   "execution_count": null,
   "id": "3f6cb3b6-2e48-4b33-a838-3bf1a2dc1172",
   "metadata": {},
   "outputs": [],
   "source": [
    "-> Package:\n",
    "     -- it is a folder containing different modules and __init__ file\n",
    "     -- from package import module"
   ]
  },
  {
   "cell_type": "code",
   "execution_count": null,
   "id": "6ffdd823-bdea-4b99-bc9f-b70b7088b2dd",
   "metadata": {},
   "outputs": [],
   "source": [
    "-> Library:\n",
    "       -- collection of multiple packages and modules for specific tasks\n",
    "       -- Numpy,pandas,Matplotlib,SciPy,statsmodels,Scikit-learn"
   ]
  },
  {
   "cell_type": "code",
   "execution_count": null,
   "id": "274156cc-9bde-4fec-a014-8853f5fe1492",
   "metadata": {},
   "outputs": [],
   "source": [
    "-> NumPy: numerical computations in python\n",
    "          provides support for large,multi-dimensional arrays and matrices\n",
    "          along with collection of high level mathematical"
   ]
  },
  {
   "cell_type": "code",
   "execution_count": 12,
   "id": "2dc2db13-e36a-48fc-9325-a73f71bc87a7",
   "metadata": {},
   "outputs": [
    {
     "name": "stdout",
     "output_type": "stream",
     "text": [
      "C:\\Users\\Dell\\OneDrive\\Desktop\\New folder\\python.exe\n"
     ]
    }
   ],
   "source": [
    "import sys\n",
    "print(sys.executable)"
   ]
  },
  {
   "cell_type": "code",
   "execution_count": null,
   "id": "56d6554b-7520-454a-b9b2-74e31f89d83b",
   "metadata": {},
   "outputs": [],
   "source": []
  },
  {
   "cell_type": "code",
   "execution_count": null,
   "id": "9caa1db7-865c-49fd-8f85-3c6908ff1bb7",
   "metadata": {},
   "outputs": [],
   "source": []
  },
  {
   "cell_type": "code",
   "execution_count": null,
   "id": "eaf4e3fa-7083-446c-bb3c-68d4ce5ceac5",
   "metadata": {},
   "outputs": [],
   "source": []
  },
  {
   "cell_type": "code",
   "execution_count": null,
   "id": "11363ead-53c5-4555-b02d-fdad57ffaa3a",
   "metadata": {},
   "outputs": [],
   "source": []
  },
  {
   "cell_type": "code",
   "execution_count": null,
   "id": "d2cb0345-79a1-4200-8662-9443982d030c",
   "metadata": {},
   "outputs": [],
   "source": []
  }
 ],
 "metadata": {
  "kernelspec": {
   "display_name": "Python 3 (ipykernel)",
   "language": "python",
   "name": "python3"
  },
  "language_info": {
   "codemirror_mode": {
    "name": "ipython",
    "version": 3
   },
   "file_extension": ".py",
   "mimetype": "text/x-python",
   "name": "python",
   "nbconvert_exporter": "python",
   "pygments_lexer": "ipython3",
   "version": "3.13.5"
  }
 },
 "nbformat": 4,
 "nbformat_minor": 5
}
