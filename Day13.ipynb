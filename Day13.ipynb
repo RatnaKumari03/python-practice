{
 "cells": [
  {
   "cell_type": "markdown",
   "id": "8b672f5f-48fd-4bad-9d66-5b8a92732f75",
   "metadata": {},
   "source": [
    "## List comprehension"
   ]
  },
  {
   "cell_type": "code",
   "execution_count": null,
   "id": "a56d917f-f08f-49a8-b9f2-c282db5cc9e9",
   "metadata": {},
   "outputs": [],
   "source": [
    "-> is a compact, readable way to create lists by applying expression to each item in an iterable\n",
    "   (ex: list,string,range)\n",
    "-> syntax:\n",
    "        [expression for item in iterable if condition]\n",
    "-> expression -- operation applied to each item\n"
   ]
  },
  {
   "cell_type": "code",
   "execution_count": 1,
   "id": "29c5d039-04fd-4ebe-b59a-13a0214e1d9d",
   "metadata": {},
   "outputs": [
    {
     "name": "stdout",
     "output_type": "stream",
     "text": [
      "[1, 2, 3, 4]\n"
     ]
    }
   ],
   "source": [
    "# Example\n",
    "list1=[1,2,3,4]\n",
    "sqr_list=[]\n",
    "for i in list1:\n",
    "    sqr_list.append(i)\n",
    "print(sqr_list)  #we can write this code in 1 single line like \"[expression for item in iterable if condition]\""
   ]
  },
  {
   "cell_type": "code",
   "execution_count": 2,
   "id": "1670ad9a-f6bc-47e3-91a2-a85ab7eee126",
   "metadata": {},
   "outputs": [
    {
     "data": {
      "text/plain": [
       "[1, 2, 3, 4]"
      ]
     },
     "execution_count": 2,
     "metadata": {},
     "output_type": "execute_result"
    }
   ],
   "source": [
    "sqr_list=[i for i in list1]\n",
    "sqr_list"
   ]
  },
  {
   "cell_type": "code",
   "execution_count": 9,
   "id": "868ce5be-7dda-4752-b134-61a76b9eae8b",
   "metadata": {},
   "outputs": [
    {
     "name": "stdout",
     "output_type": "stream",
     "text": [
      "[0, 1, 4, 9, 16, 25, 36, 49, 64, 81]\n"
     ]
    }
   ],
   "source": [
    "# Example of generating squares of numbers from 0 to 9\n",
    "sqrs=[]\n",
    "for i in range(0,10):\n",
    "    sqrs.append(i**2)\n",
    "print(sqrs)"
   ]
  },
  {
   "cell_type": "code",
   "execution_count": 8,
   "id": "6df2ca29-ced6-4b09-94ad-6b0ed79b466b",
   "metadata": {},
   "outputs": [
    {
     "name": "stdout",
     "output_type": "stream",
     "text": [
      "[1331, 1728, 2197, 2744, 3375, 4096, 4913, 5832, 6859, 8000]\n"
     ]
    }
   ],
   "source": [
    "# cubes of numbers from 11 to 20\n",
    "cubes=[i**3 for i in range(11,21)]\n",
    "print(cubes)"
   ]
  },
  {
   "cell_type": "code",
   "execution_count": 10,
   "id": "dceeff4a-75a4-43f2-b289-d13d52b206f7",
   "metadata": {},
   "outputs": [
    {
     "name": "stdout",
     "output_type": "stream",
     "text": [
      "[0, 1, 4, 9, 16, 25, 36, 49, 64, 81, 100]\n"
     ]
    }
   ],
   "source": [
    "squares=[i**2 for i in range(0,11)]\n",
    "print(squares)"
   ]
  },
  {
   "cell_type": "markdown",
   "id": "b6d937d9-834d-4d3a-90a6-2f1fc8121d15",
   "metadata": {},
   "source": [
    "## Tuple"
   ]
  },
  {
   "cell_type": "code",
   "execution_count": null,
   "id": "985c5601-50c8-429c-9e52-39abe2bbbb95",
   "metadata": {},
   "outputs": [],
   "source": [
    "-> it is an immutable, ordered collection of elements enclosed in parenthesis ().\n",
    "-> and values are separated by comma (,)\n",
    "-> once created ,its contents can be modified(no add,del,update)\n",
    "-> syntax:\n",
    "       Tuple=()\n",
    "-> Properties:\n",
    "   - allows duplicates\n",
    "   - separated by comma\n",
    "   - faster than list\n",
    "   - heterogeneous\n",
    "   - ordered\n",
    "   - fixed size\n",
    "   - Immutable\n",
    "   - requires less memory"
   ]
  },
  {
   "cell_type": "code",
   "execution_count": 11,
   "id": "426338cc-6f04-418a-850d-5dd503dc5925",
   "metadata": {},
   "outputs": [
    {
     "name": "stdout",
     "output_type": "stream",
     "text": [
      "(1, 2, 3, 4)\n"
     ]
    }
   ],
   "source": [
    "# Example 1. from a list\n",
    "list1=[1,2,3,4]\n",
    "Tuple=tuple(list1)\n",
    "print(Tuple)"
   ]
  },
  {
   "cell_type": "markdown",
   "id": "4f5e2ecb-9ce7-47da-8653-6138a4573ee8",
   "metadata": {},
   "source": [
    "### How to access the elements from tuple"
   ]
  },
  {
   "cell_type": "code",
   "execution_count": null,
   "id": "1c5f9b8a-8b67-4894-a27b-9c23a39b0dc0",
   "metadata": {},
   "outputs": [],
   "source": [
    "-> use indexing (like lists on;y)"
   ]
  },
  {
   "cell_type": "markdown",
   "id": "60fa08af-e6d1-4940-8d0f-870dc343a1c8",
   "metadata": {},
   "source": [
    "## Tuple functions/methods"
   ]
  },
  {
   "cell_type": "code",
   "execution_count": null,
   "id": "9c72c507-0aa0-4e8b-91f8-faa7f4ff8f7e",
   "metadata": {},
   "outputs": [],
   "source": [
    "-> count(),index()"
   ]
  },
  {
   "cell_type": "markdown",
   "id": "afb3e30d-0892-4d19-80eb-f36ad018dcf3",
   "metadata": {},
   "source": [
    "## 1. count(item)"
   ]
  },
  {
   "cell_type": "code",
   "execution_count": 12,
   "id": "3329421d-3fe6-4972-ab1d-bbd8077e2cdd",
   "metadata": {},
   "outputs": [
    {
     "data": {
      "text/plain": [
       "2"
      ]
     },
     "execution_count": 12,
     "metadata": {},
     "output_type": "execute_result"
    }
   ],
   "source": [
    "my_tuple=(1,2,3,4,2)\n",
    "my_tuple.count(2)"
   ]
  },
  {
   "cell_type": "markdown",
   "id": "591fe2bb-df47-4c04-91f9-9d4140bade60",
   "metadata": {},
   "source": [
    "## 2. index(item)"
   ]
  },
  {
   "cell_type": "code",
   "execution_count": 15,
   "id": "068a1305-b663-4653-942c-5bb83f9b08b2",
   "metadata": {},
   "outputs": [
    {
     "name": "stdout",
     "output_type": "stream",
     "text": [
      "4\n"
     ]
    }
   ],
   "source": [
    "my_tuple=(1,2,3,4,3.14,'r')\n",
    "r=my_tuple.index(3.14)\n",
    "print(r)"
   ]
  },
  {
   "cell_type": "code",
   "execution_count": 22,
   "id": "34021a2a-b565-453b-942b-5b4e6ec61c6a",
   "metadata": {},
   "outputs": [
    {
     "name": "stdout",
     "output_type": "stream",
     "text": [
      "2\n",
      "0\n"
     ]
    }
   ],
   "source": [
    "# Example\n",
    "my_tuple=('a','b','c','d','a')\n",
    "print(my_tuple.count('a'))\n",
    "print(my_tuple.index('a'))"
   ]
  },
  {
   "cell_type": "markdown",
   "id": "0244126e-d7c6-4a15-934a-8b840fcd7a8d",
   "metadata": {},
   "source": [
    "## In-built functions "
   ]
  },
  {
   "cell_type": "code",
   "execution_count": null,
   "id": "150f9e68-288e-4341-b7ec-01174df230e1",
   "metadata": {},
   "outputs": [],
   "source": [
    "-> same as list\n",
    "-> len,min,max,sorted"
   ]
  },
  {
   "cell_type": "code",
   "execution_count": 24,
   "id": "57580a08-d537-45f9-84f2-0c94dcad7846",
   "metadata": {},
   "outputs": [
    {
     "name": "stdout",
     "output_type": "stream",
     "text": [
      "9\n",
      "1\n",
      "9\n",
      "[1, 2, 3, 4, 5, 6, 7, 8, 9]\n"
     ]
    }
   ],
   "source": [
    "# example\n",
    "my_tuple=(1,2,3,4,7,6,5,8,9)\n",
    "print(len(my_tuple))\n",
    "print(min(my_tuple))\n",
    "print(max(my_tuple))\n",
    "print(sorted(my_tuple))"
   ]
  },
  {
   "cell_type": "markdown",
   "id": "6b52e974-db42-49a8-9203-e5bfc773b932",
   "metadata": {},
   "source": [
    "## How to update Tuple??"
   ]
  },
  {
   "cell_type": "markdown",
   "id": "380dfbe2-e24a-42a5-a760-2950473f0353",
   "metadata": {},
   "source": [
    "## converting the tuple into list,performing operations, then converting the list into Tuple"
   ]
  },
  {
   "cell_type": "code",
   "execution_count": 25,
   "id": "becb3f8b-9a90-408a-b66e-81e787bf8653",
   "metadata": {},
   "outputs": [
    {
     "name": "stdout",
     "output_type": "stream",
     "text": [
      "(1, 2, 3, 4, 5, 6)\n"
     ]
    }
   ],
   "source": [
    "my_tuple=(1,2,3,4,5)\n",
    "List=list(my_tuple)\n",
    "List.append(6)\n",
    "my_tuple=tuple(List)\n",
    "print(my_tuple)"
   ]
  },
  {
   "cell_type": "markdown",
   "id": "212e630a-656c-4d55-a16a-3657a08dcef5",
   "metadata": {},
   "source": [
    "## Concatenation: combining two or more tuples"
   ]
  },
  {
   "cell_type": "code",
   "execution_count": 26,
   "id": "0a8b303e-b3eb-4019-b7ce-5b364fe5486a",
   "metadata": {},
   "outputs": [
    {
     "name": "stdout",
     "output_type": "stream",
     "text": [
      "(1, 2, 3, 4, 5, 6)\n"
     ]
    }
   ],
   "source": [
    "tup1=(1,2,3)\n",
    "tup2=(4,5,6)\n",
    "tup3=tup1+tup2\n",
    "print(tup3)"
   ]
  },
  {
   "cell_type": "markdown",
   "id": "df46d920-e245-40a7-bd3b-1dd67ed0ec50",
   "metadata": {},
   "source": [
    "## shallow copy and deep copy"
   ]
  },
  {
   "cell_type": "code",
   "execution_count": null,
   "id": "3b8fce20-c454-4eeb-a26f-3f427d35600f",
   "metadata": {},
   "outputs": [],
   "source": [
    "-> Shallow copy: creates a new copy,but contents are still linked to original.\n",
    "                 changes in items does not affect shallow copy\n",
    "                 changes in the inner items of one,affects the other\n",
    "-> syntax: List.copy()"
   ]
  },
  {
   "cell_type": "code",
   "execution_count": 29,
   "id": "360c36d3-57e8-40e2-837c-7f6f8e44f589",
   "metadata": {},
   "outputs": [
    {
     "name": "stdout",
     "output_type": "stream",
     "text": [
      "[1, 2, [3, 4], 5]\n",
      "[0, 2, [33, 4]]\n"
     ]
    }
   ],
   "source": [
    "list1=[1,2,[3,4]]\n",
    "c=list1.copy()  # shallow copy\n",
    "list1[0]=0\n",
    "c.append(5)\n",
    "print(c)\n",
    "list1[2][0]=33\n",
    "print(list1)"
   ]
  },
  {
   "cell_type": "code",
   "execution_count": null,
   "id": "96c13c96-d33b-4efd-b118-e3a856c80e6d",
   "metadata": {},
   "outputs": [],
   "source": [
    "-> Deep copy: creates a completely independent copies of all the contents\n",
    "    changes in one do not affect the other.\n",
    "-> syntax: copy.deepcopy(original_list)\n",
    "-> we have to import copy"
   ]
  },
  {
   "cell_type": "code",
   "execution_count": 4,
   "id": "2e9ae051-6dcd-4cb9-af99-9e6d2cdbbd27",
   "metadata": {},
   "outputs": [
    {
     "name": "stdout",
     "output_type": "stream",
     "text": [
      "Original list :  [0, 2, 3, [4, 5]]\n",
      "Deep copy list:  [1, 2, 3, [4, 6]]\n"
     ]
    }
   ],
   "source": [
    "# Example\n",
    "import copy\n",
    "list1=[1,2,3,[4,5]]\n",
    "deep_copy=copy.deepcopy(list1)\n",
    "list1[0]=0\n",
    "print(\"Original list : \",list1)\n",
    "deep_copy[3][1]=6\n",
    "print(\"Deep copy list: \",deep_copy)"
   ]
  },
  {
   "cell_type": "code",
   "execution_count": null,
   "id": "f8a6c691-e1e4-4748-8b16-162f4d276c14",
   "metadata": {},
   "outputs": [],
   "source": []
  }
 ],
 "metadata": {
  "kernelspec": {
   "display_name": "Python 3 (ipykernel)",
   "language": "python",
   "name": "python3"
  },
  "language_info": {
   "codemirror_mode": {
    "name": "ipython",
    "version": 3
   },
   "file_extension": ".py",
   "mimetype": "text/x-python",
   "name": "python",
   "nbconvert_exporter": "python",
   "pygments_lexer": "ipython3",
   "version": "3.13.5"
  }
 },
 "nbformat": 4,
 "nbformat_minor": 5
}
