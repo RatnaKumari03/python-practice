{
 "cells": [
  {
   "cell_type": "markdown",
   "id": "aacb6328-9596-4dd4-94be-9d2be2872ff7",
   "metadata": {},
   "source": [
    "## Conditional statements in Python"
   ]
  },
  {
   "cell_type": "code",
   "execution_count": null,
   "id": "4909d5f0-8f41-4b3d-9203-3440368b46cb",
   "metadata": {},
   "outputs": [],
   "source": [
    "-> they allow the program to make a decision based on conditions\n",
    "-> True/false and control the flow of execution\n"
   ]
  },
  {
   "cell_type": "markdown",
   "id": "a445007a-617e-4787-b097-af39cfa3b8c0",
   "metadata": {},
   "source": [
    "## if statement"
   ]
  },
  {
   "cell_type": "code",
   "execution_count": null,
   "id": "c46aef0f-7971-4049-8b86-c7a54a9a5b05",
   "metadata": {},
   "outputs": [],
   "source": [
    "syntax:\n",
    "       if condition:\n",
    "         operation we want to perform"
   ]
  },
  {
   "cell_type": "code",
   "execution_count": 2,
   "id": "401d487b-f4c8-4d9e-b493-e35ad1a4e0b2",
   "metadata": {},
   "outputs": [],
   "source": [
    "age=16\n",
    "if age>=18:\n",
    "    print(\"Eligible to vote\") # executes if the condition is true"
   ]
  },
  {
   "cell_type": "code",
   "execution_count": 4,
   "id": "91c230dc-39fd-48d0-a360-bf30081e544e",
   "metadata": {},
   "outputs": [
    {
     "name": "stdin",
     "output_type": "stream",
     "text": [
      "Enter your age:  22\n"
     ]
    },
    {
     "name": "stdout",
     "output_type": "stream",
     "text": [
      "You are eligible to vote\n"
     ]
    }
   ],
   "source": [
    "Age=int(input(\"Enter your age: \"))\n",
    "if Age>=18:\n",
    "    print(\"You are eligible to vote\")"
   ]
  },
  {
   "cell_type": "markdown",
   "id": "304e4769-3667-41b7-ab39-e6e551bff5df",
   "metadata": {},
   "source": [
    "## if-else statement"
   ]
  },
  {
   "cell_type": "code",
   "execution_count": null,
   "id": "5b0300e6-64bc-497b-b0ca-7851b173651f",
   "metadata": {},
   "outputs": [],
   "source": [
    "->adds an alternate block to execute when the condition is false"
   ]
  },
  {
   "cell_type": "code",
   "execution_count": 5,
   "id": "ff0a0be8-dc71-4e92-9b9c-22178145a76f",
   "metadata": {},
   "outputs": [
    {
     "name": "stdout",
     "output_type": "stream",
     "text": [
      "Number is Positive\n"
     ]
    }
   ],
   "source": [
    "num=10\n",
    "if num>=0:\n",
    "    print(\"Number is Positive\")\n",
    "else:\n",
    "    print(\"Number is Negative\")"
   ]
  },
  {
   "cell_type": "markdown",
   "id": "85186762-7206-4e5a-bac3-2979fb118902",
   "metadata": {},
   "source": [
    "## nested if-else statements"
   ]
  },
  {
   "cell_type": "code",
   "execution_count": null,
   "id": "21774300-9b6b-4751-845f-39d17443ee67",
   "metadata": {},
   "outputs": [],
   "source": [
    "-> multiple if-else blocks inside each other for complex logic\n",
    "-> if-else\n",
    "-> if-elif-else\n",
    "-> if-elif-elif-elif-else"
   ]
  },
  {
   "cell_type": "code",
   "execution_count": 6,
   "id": "a947e839-5810-4cf3-aece-d49bab960cb0",
   "metadata": {},
   "outputs": [
    {
     "name": "stdout",
     "output_type": "stream",
     "text": [
      "Number is Positive\n"
     ]
    }
   ],
   "source": [
    "# program to find if the number is positive, negative or zero (if-elif-else)\n",
    "num=19\n",
    "if num>0:\n",
    "    print(\"Number is Positive\")\n",
    "elif num<0:\n",
    "    print(\"Number is Negative\")\n",
    "else:\n",
    "    print(\"Number is Zero\")"
   ]
  },
  {
   "cell_type": "code",
   "execution_count": 8,
   "id": "6e3e1e03-1606-4c1a-9ba9-f3153c5f70dd",
   "metadata": {},
   "outputs": [
    {
     "name": "stdin",
     "output_type": "stream",
     "text": [
      "Enter the Number:  19\n"
     ]
    },
    {
     "name": "stdout",
     "output_type": "stream",
     "text": [
      "Number is Positive\n",
      "And it is also an odd number\n"
     ]
    }
   ],
   "source": [
    "num=int(input(\"Enter the Number: \")) # nested if-else statements\n",
    "if num>0:\n",
    "    print(\"Number is Positive\")\n",
    "    if num%2==0:\n",
    "        print(\"And it is also an even number\")\n",
    "    else:\n",
    "        print(\"And it is also an odd number\")\n",
    "elif num<0:\n",
    "    print(\"Number is Negative\")\n",
    "else:\n",
    "    print(\"Number is Zero\")"
   ]
  },
  {
   "cell_type": "code",
   "execution_count": null,
   "id": "12a50cc3-35d7-4264-9583-7aec35c96d5a",
   "metadata": {},
   "outputs": [],
   "source": []
  }
 ],
 "metadata": {
  "kernelspec": {
   "display_name": "Python 3 (ipykernel)",
   "language": "python",
   "name": "python3"
  },
  "language_info": {
   "codemirror_mode": {
    "name": "ipython",
    "version": 3
   },
   "file_extension": ".py",
   "mimetype": "text/x-python",
   "name": "python",
   "nbconvert_exporter": "python",
   "pygments_lexer": "ipython3",
   "version": "3.13.5"
  }
 },
 "nbformat": 4,
 "nbformat_minor": 5
}
