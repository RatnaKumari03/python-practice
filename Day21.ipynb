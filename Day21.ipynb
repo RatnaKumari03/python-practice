{
 "cells": [
  {
   "cell_type": "markdown",
   "id": "bbefb346-e754-41de-a918-da1048d2466d",
   "metadata": {},
   "source": [
    "## Datetime"
   ]
  },
  {
   "cell_type": "code",
   "execution_count": null,
   "id": "1d5903fa-0e29-41bc-9a99-cdd1b84c75e6",
   "metadata": {},
   "outputs": [],
   "source": [
    "-> datetime module supplies classes to work with dates and times\n",
    "-> These classes provide a way to represent and manipulate date and time information\n",
    "-> the primary classes within datetime module are:"
   ]
  },
  {
   "cell_type": "code",
   "execution_count": null,
   "id": "8d31dbe3-408b-442c-86bc-385479be617a",
   "metadata": {},
   "outputs": [],
   "source": [
    "Various functions in datetime module:"
   ]
  },
  {
   "cell_type": "code",
   "execution_count": null,
   "id": "060d8753-554c-48a8-b4e8-62dd6ba959b5",
   "metadata": {},
   "outputs": [],
   "source": [
    "log file>>>\n",
    "facebook:\n",
    "    1st login\n",
    "    last successful\n",
    "    last unsuccessful\n",
    "    active session\n",
    "upload time and date\n",
    "logistic regression >> 30 min start and end\n",
    "KNN >> 50 min"
   ]
  },
  {
   "cell_type": "code",
   "execution_count": null,
   "id": "789034de-42dc-43df-bbd7-349ce3a020e7",
   "metadata": {},
   "outputs": [],
   "source": [
    "-> Date can be represented in following ways:\n",
    "date1=15-08-2025\n",
    "date2=15 Aug 2025\n",
    "date3=15 August 2025\n",
    "date4=15.08.2025\n",
    "date5= 2025-08-15"
   ]
  },
  {
   "cell_type": "code",
   "execution_count": null,
   "id": "97d38e89-c3da-4603-a3a5-e430bb39cc60",
   "metadata": {},
   "outputs": [],
   "source": [
    "import time >> for time\n",
    "import datetime >> for datetime"
   ]
  },
  {
   "cell_type": "code",
   "execution_count": 1,
   "id": "ea8c9202-ff55-4793-b202-5aff622a2567",
   "metadata": {},
   "outputs": [],
   "source": [
    "import time\n",
    "import datetime"
   ]
  },
  {
   "cell_type": "markdown",
   "id": "96227d85-c49a-4121-9a76-63190688b1ea",
   "metadata": {},
   "source": [
    "## Time()"
   ]
  },
  {
   "cell_type": "code",
   "execution_count": 2,
   "id": "033f26a6-c925-47ea-b8ac-a1d03663e536",
   "metadata": {},
   "outputs": [
    {
     "data": {
      "text/plain": [
       "1756040898.5030591"
      ]
     },
     "execution_count": 2,
     "metadata": {},
     "output_type": "execute_result"
    }
   ],
   "source": [
    "time.time() # epoch time in seconds since 1 Jan 1970 UTC"
   ]
  },
  {
   "cell_type": "code",
   "execution_count": 3,
   "id": "baecd1c4-ccf5-4e5a-9b28-f0a37036f4d6",
   "metadata": {},
   "outputs": [
    {
     "data": {
      "text/plain": [
       "1756040927.7558107"
      ]
     },
     "execution_count": 3,
     "metadata": {},
     "output_type": "execute_result"
    }
   ],
   "source": [
    "time.time()"
   ]
  },
  {
   "cell_type": "markdown",
   "id": "96323f38-0e4e-4791-a178-2d3a2ea1280c",
   "metadata": {},
   "source": [
    "## 1.time.time()"
   ]
  },
  {
   "cell_type": "code",
   "execution_count": 6,
   "id": "74c337b3-f68e-4df5-8171-e53665ff00f6",
   "metadata": {},
   "outputs": [
    {
     "name": "stdout",
     "output_type": "stream",
     "text": [
      "Total time required for processing  0.2749512195587158\n"
     ]
    }
   ],
   "source": [
    "start_time=time.time()\n",
    "for i in range(2000000):\n",
    "    pass\n",
    "end_time=time.time()\n",
    "total_time=end_time-start_time\n",
    "print('Total time required for processing ',total_time)"
   ]
  },
  {
   "cell_type": "code",
   "execution_count": 9,
   "id": "223f3248-d90c-43f2-86a4-52e963cdc799",
   "metadata": {},
   "outputs": [
    {
     "name": "stdout",
     "output_type": "stream",
     "text": [
      "Total time required for processing  26.640641450881958\n"
     ]
    }
   ],
   "source": [
    "start_time=time.time()\n",
    "for i in range(200000000):\n",
    "    pass\n",
    "end_time=time.time()\n",
    "total_time=end_time-start_time\n",
    "print('Total time required for processing ',total_time)"
   ]
  },
  {
   "cell_type": "markdown",
   "id": "7b21a74b-88c3-442f-a49d-999b4a1cfa49",
   "metadata": {},
   "source": [
    "## 2. time.perf_counter()"
   ]
  },
  {
   "cell_type": "code",
   "execution_count": null,
   "id": "5eb14e7e-c9e1-4458-853b-23ede06b9b76",
   "metadata": {},
   "outputs": [],
   "source": [
    "-> measures the time elapsed between two points in your code"
   ]
  },
  {
   "cell_type": "code",
   "execution_count": 10,
   "id": "82aed200-d384-479b-bc1c-fb543c2c02f6",
   "metadata": {},
   "outputs": [
    {
     "name": "stdout",
     "output_type": "stream",
     "text": [
      "Testing time taken by function\n",
      "Testing time taken by function 17.016016299952753\n"
     ]
    }
   ],
   "source": [
    "start_time=time.perf_counter()\n",
    "def test_time():\n",
    "    print('Testing time taken by function')\n",
    "    for i in range(300000000):\n",
    "        pass\n",
    "test_time()\n",
    "end_time=time.perf_counter()\n",
    "total_time=end_time-start_time\n",
    "print('Testing time taken by function',total_time)"
   ]
  },
  {
   "cell_type": "markdown",
   "id": "dd63df40-2a8e-4db3-be4c-98174b6665c9",
   "metadata": {},
   "source": [
    "## 3. time.sleep()"
   ]
  },
  {
   "cell_type": "code",
   "execution_count": 11,
   "id": "c95dce05-2314-451b-9c6a-17d8662cdb10",
   "metadata": {},
   "outputs": [
    {
     "name": "stdout",
     "output_type": "stream",
     "text": [
      "python\n",
      "full stack\n"
     ]
    }
   ],
   "source": [
    "print('python')\n",
    "print('full stack')"
   ]
  },
  {
   "cell_type": "code",
   "execution_count": 12,
   "id": "7ea33432-f7c1-487d-b799-496279c55d5e",
   "metadata": {},
   "outputs": [
    {
     "name": "stdout",
     "output_type": "stream",
     "text": [
      "first line\n",
      "second line\n"
     ]
    }
   ],
   "source": [
    "print('first line')\n",
    "time.sleep(3)\n",
    "print('second line')\n",
    "time.sleep(3)"
   ]
  },
  {
   "cell_type": "code",
   "execution_count": 14,
   "id": "6029ffb0-554d-445e-9e47-e593809eb8a5",
   "metadata": {},
   "outputs": [
    {
     "name": "stdout",
     "output_type": "stream",
     "text": [
      "python\n",
      "full stack\n",
      "sleep function\n"
     ]
    }
   ],
   "source": [
    "print('python')\n",
    "time.sleep(0.003)\n",
    "print('full stack')\n",
    "time.sleep(0.4)\n",
    "print('sleep function')\n",
    "time.sleep(0.3)"
   ]
  },
  {
   "cell_type": "markdown",
   "id": "9c8e394a-c1e2-4e8d-9b13-d14cca6c2071",
   "metadata": {},
   "source": [
    "## Datetime"
   ]
  },
  {
   "cell_type": "markdown",
   "id": "d2307a69-0a5a-4a49-a135-6986f4954abe",
   "metadata": {},
   "source": [
    "## 1. Current Datetime"
   ]
  },
  {
   "cell_type": "code",
   "execution_count": 16,
   "id": "6d5a23c5-552c-4c6d-afb3-18bb287c1fbb",
   "metadata": {},
   "outputs": [
    {
     "data": {
      "text/plain": [
       "datetime.datetime(2025, 8, 24, 18, 54, 21, 388225)"
      ]
     },
     "execution_count": 16,
     "metadata": {},
     "output_type": "execute_result"
    }
   ],
   "source": [
    "import datetime\n",
    "current_datetime=datetime.datetime.now()\n",
    "current_datetime  # year,month,date,hour,minute,sec,nanosec"
   ]
  },
  {
   "cell_type": "markdown",
   "id": "e6357dcd-b6b3-47ed-a5db-b7bdc5644fbc",
   "metadata": {},
   "source": [
    "## now()"
   ]
  },
  {
   "cell_type": "code",
   "execution_count": 17,
   "id": "4de66e29-6df9-4745-9704-03393ec62091",
   "metadata": {},
   "outputs": [
    {
     "name": "stdout",
     "output_type": "stream",
     "text": [
      "Current datetime:  2025-08-24 18:57:09.308639\n"
     ]
    }
   ],
   "source": [
    "current_datetime=datetime.datetime.now()\n",
    "print('Current datetime: ',current_datetime)"
   ]
  },
  {
   "cell_type": "markdown",
   "id": "ca98f6d0-8e37-4619-aea9-5dc80216b732",
   "metadata": {},
   "source": [
    "## today()"
   ]
  },
  {
   "cell_type": "code",
   "execution_count": 18,
   "id": "d5e95885-360c-4b42-9c79-941c8040bfb6",
   "metadata": {},
   "outputs": [
    {
     "name": "stdout",
     "output_type": "stream",
     "text": [
      "2025-08-24 18:58:19.174052\n"
     ]
    }
   ],
   "source": [
    "current_datetime=datetime.datetime.today()\n",
    "print(current_datetime)"
   ]
  },
  {
   "cell_type": "markdown",
   "id": "5dce8dcf-3e14-4530-a039-aa5fa83b5124",
   "metadata": {},
   "source": [
    "## current_date()"
   ]
  },
  {
   "cell_type": "code",
   "execution_count": 19,
   "id": "92dadf3f-0075-4c97-b1ac-f9ccd59ffd97",
   "metadata": {},
   "outputs": [
    {
     "name": "stdout",
     "output_type": "stream",
     "text": [
      "Current date:  2025-08-24\n"
     ]
    }
   ],
   "source": [
    "current_date=datetime.datetime.now().date()\n",
    "print('Current date: ',current_date)"
   ]
  },
  {
   "cell_type": "markdown",
   "id": "c561162b-85d7-432d-b851-101c5c8ef443",
   "metadata": {},
   "source": [
    "## current_time()"
   ]
  },
  {
   "cell_type": "code",
   "execution_count": 20,
   "id": "bfa3684f-c413-48ea-8530-c8acd8017af1",
   "metadata": {},
   "outputs": [
    {
     "name": "stdout",
     "output_type": "stream",
     "text": [
      "Current time:  19:00:20.575234\n"
     ]
    }
   ],
   "source": [
    "current_time=datetime.datetime.now().time()\n",
    "print('Current time: ',current_time)"
   ]
  },
  {
   "cell_type": "markdown",
   "id": "0ff58bcc-a307-471c-b070-7697e712d6ad",
   "metadata": {},
   "source": [
    "## current time"
   ]
  },
  {
   "cell_type": "code",
   "execution_count": 24,
   "id": "e24178ef-a5bb-47ce-9f4b-453c9219f9ed",
   "metadata": {},
   "outputs": [
    {
     "data": {
      "text/plain": [
       "8"
      ]
     },
     "execution_count": 24,
     "metadata": {},
     "output_type": "execute_result"
    }
   ],
   "source": [
    "datetime.datetime.today().month"
   ]
  },
  {
   "cell_type": "code",
   "execution_count": 25,
   "id": "780a7d8c-bc03-49dc-bcfe-602fa55a41e1",
   "metadata": {},
   "outputs": [
    {
     "data": {
      "text/plain": [
       "2025"
      ]
     },
     "execution_count": 25,
     "metadata": {},
     "output_type": "execute_result"
    }
   ],
   "source": [
    "datetime.datetime.today().year"
   ]
  },
  {
   "cell_type": "code",
   "execution_count": 27,
   "id": "704e3638-bf9a-4710-b887-b1f0e37cb003",
   "metadata": {},
   "outputs": [
    {
     "data": {
      "text/plain": [
       "datetime.time(19, 3, 32, 436978)"
      ]
     },
     "execution_count": 27,
     "metadata": {},
     "output_type": "execute_result"
    }
   ],
   "source": [
    "datetime.datetime.today().time()"
   ]
  },
  {
   "cell_type": "markdown",
   "id": "6face02f-860a-4a19-9997-2ba9ac17f79e",
   "metadata": {},
   "source": [
    "## Timedelta"
   ]
  },
  {
   "cell_type": "code",
   "execution_count": null,
   "id": "e25d7020-7261-4a18-b4b6-e613a0c1d9da",
   "metadata": {},
   "outputs": [],
   "source": [
    "-> calculates the time between dates"
   ]
  },
  {
   "cell_type": "code",
   "execution_count": 35,
   "id": "a5bae1a4-1a31-4bb4-bf09-382f0fe249ed",
   "metadata": {},
   "outputs": [],
   "source": [
    "from datetime import datetime,timedelta"
   ]
  },
  {
   "cell_type": "code",
   "execution_count": 34,
   "id": "cdf00614-8e88-4fcb-a0a8-0011a8a63c12",
   "metadata": {},
   "outputs": [],
   "source": [
    "import datetime"
   ]
  },
  {
   "cell_type": "code",
   "execution_count": 37,
   "id": "523b461e-0fb3-4a15-8542-4442f73f1b14",
   "metadata": {},
   "outputs": [
    {
     "name": "stdout",
     "output_type": "stream",
     "text": [
      "Current date: 2025-08-24 19:09:58.963577\n",
      "Future date: 2025-08-31 19:09:58.963577\n",
      "Past date: 2025-08-22 14:09:58.963577\n"
     ]
    }
   ],
   "source": [
    "# Example\n",
    "now=datetime.now()\n",
    "print('Current date:',now)\n",
    "\n",
    "future_date=now+timedelta(weeks=1)\n",
    "print('Future date:',future_date)\n",
    "\n",
    "past_date=now-timedelta(days=2,hours=5)\n",
    "print('Past date:',past_date)"
   ]
  },
  {
   "cell_type": "code",
   "execution_count": 39,
   "id": "4c3948c8-0850-4c9a-9fe1-3d1638744a6f",
   "metadata": {},
   "outputs": [
    {
     "name": "stdout",
     "output_type": "stream",
     "text": [
      "New date: 2025-08-14 18:58:19.174052\n"
     ]
    }
   ],
   "source": [
    "import datetime\n",
    "new_date=current_datetime+datetime.timedelta(days=-10)\n",
    "print('New date:',new_date)"
   ]
  },
  {
   "cell_type": "code",
   "execution_count": 40,
   "id": "1944aa2d-dca7-4612-8ece-6248aa3e043a",
   "metadata": {},
   "outputs": [
    {
     "name": "stdout",
     "output_type": "stream",
     "text": [
      "Deadline: 2025-09-03 19:13:50.963199\n"
     ]
    }
   ],
   "source": [
    "# Schedule tasks\n",
    "today=datetime.datetime.now()\n",
    "deadline=today+timedelta(days=10)\n",
    "print('Deadline:',deadline)"
   ]
  },
  {
   "cell_type": "markdown",
   "id": "d1e37a46-c3c2-4b43-b058-c106e4034eff",
   "metadata": {},
   "source": [
    "## 1.strftime()"
   ]
  },
  {
   "cell_type": "code",
   "execution_count": null,
   "id": "751e3f90-47d8-4e6b-af1e-8cfbd4913a08",
   "metadata": {},
   "outputs": [],
   "source": [
    "-> strftime() function in python is used to format date and time objects\n",
    "   into readable strings based on specified format codes"
   ]
  },
  {
   "cell_type": "code",
   "execution_count": null,
   "id": "c9eefb3a-01fd-4114-8445-b1da95578100",
   "metadata": {},
   "outputs": [],
   "source": [
    "strftime  -> string from time object"
   ]
  },
  {
   "cell_type": "code",
   "execution_count": 46,
   "id": "03bd13eb-b9df-41fb-a0bc-ed0b15b77147",
   "metadata": {},
   "outputs": [
    {
     "name": "stdout",
     "output_type": "stream",
     "text": [
      "Current time:  2025-08-24 19:25:47.020581\n"
     ]
    },
    {
     "data": {
      "text/plain": [
       "'08'"
      ]
     },
     "execution_count": 46,
     "metadata": {},
     "output_type": "execute_result"
    }
   ],
   "source": [
    "# Example\n",
    "current_datetime=datetime.datetime.today()\n",
    "print('Current time: ',current_datetime)\n",
    "current_datetime.strftime('%Y')  # year 2025\n",
    "current_datetime.strftime('%y')  # year 25\n",
    "current_datetime.strftime('%m')  # month 08\n"
   ]
  },
  {
   "cell_type": "markdown",
   "id": "e5bc8707-0bfc-4c1a-9478-d1a72e88305c",
   "metadata": {},
   "source": [
    "## 2. strptime()"
   ]
  },
  {
   "cell_type": "code",
   "execution_count": null,
   "id": "7d2ca5ef-41c4-447b-b65c-33edff6f9edd",
   "metadata": {},
   "outputs": [],
   "source": [
    "-> it is used to convert a string representing a date and time into a datetime object\n",
    "-> when parsing dates/times from strings(e.g., logs,CSVs,user input)"
   ]
  },
  {
   "cell_type": "code",
   "execution_count": 45,
   "id": "df142b36-18c3-4516-b827-f3db9bbb45d3",
   "metadata": {},
   "outputs": [
    {
     "name": "stdout",
     "output_type": "stream",
     "text": [
      "2028-08-15\n"
     ]
    }
   ],
   "source": [
    "date1=\"15/08/28\"\n",
    "date_format=\"%d/%m/%y\"\n",
    "new_date=datetime.datetime.strptime(date1,date_format).date()\n",
    "print(new_date)"
   ]
  },
  {
   "cell_type": "code",
   "execution_count": null,
   "id": "c80a500e-7857-4e0c-8412-23268a9727b5",
   "metadata": {},
   "outputs": [],
   "source": []
  }
 ],
 "metadata": {
  "kernelspec": {
   "display_name": "Python 3 (ipykernel)",
   "language": "python",
   "name": "python3"
  },
  "language_info": {
   "codemirror_mode": {
    "name": "ipython",
    "version": 3
   },
   "file_extension": ".py",
   "mimetype": "text/x-python",
   "name": "python",
   "nbconvert_exporter": "python",
   "pygments_lexer": "ipython3",
   "version": "3.13.5"
  }
 },
 "nbformat": 4,
 "nbformat_minor": 5
}
