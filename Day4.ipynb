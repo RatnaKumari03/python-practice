{
 "cells": [
  {
   "cell_type": "markdown",
   "id": "7c68d0ed-9d6b-41ff-9644-c69946b77013",
   "metadata": {},
   "source": [
    "### length of the string"
   ]
  },
  {
   "cell_type": "code",
   "execution_count": null,
   "id": "7eb0f0d6-c22f-465f-9de5-7176ddff9b42",
   "metadata": {},
   "outputs": [],
   "source": [
    "-> keyword 'len'"
   ]
  },
  {
   "cell_type": "code",
   "execution_count": 1,
   "id": "1dc78271-a766-4760-96b8-8e34d4446004",
   "metadata": {},
   "outputs": [
    {
     "data": {
      "text/plain": [
       "6"
      ]
     },
     "execution_count": 1,
     "metadata": {},
     "output_type": "execute_result"
    }
   ],
   "source": [
    "string='python'\n",
    "len(string)"
   ]
  },
  {
   "cell_type": "markdown",
   "id": "588d3b6c-1d54-48ec-8b6e-249f79830038",
   "metadata": {},
   "source": [
    "## Slicing"
   ]
  },
  {
   "cell_type": "code",
   "execution_count": null,
   "id": "6c02ec44-948d-47ec-9d07-b45095f04fcd",
   "metadata": {},
   "outputs": [],
   "source": [
    "-> allows us to extract a substring of string by specifying a range of indices \n",
    "-> syntax:\n",
    "         String[start_index(include):end_index(exclude):[step_size]]"
   ]
  },
  {
   "cell_type": "code",
   "execution_count": 3,
   "id": "820fa10a-49be-42b0-b316-a30cbea0c156",
   "metadata": {},
   "outputs": [
    {
     "name": "stdout",
     "output_type": "stream",
     "text": [
      "pyt\n"
     ]
    },
    {
     "data": {
      "text/plain": [
       "'pyt'"
      ]
     },
     "execution_count": 3,
     "metadata": {},
     "output_type": "execute_result"
    }
   ],
   "source": [
    "str1=\"python\"\n",
    "print(str1[0:3])\n",
    "str1[0:3]"
   ]
  },
  {
   "cell_type": "code",
   "execution_count": 4,
   "id": "5ef69a19-f9dc-4c4a-86b4-325d0cc8d473",
   "metadata": {},
   "outputs": [
    {
     "data": {
      "text/plain": [
       "'pto'"
      ]
     },
     "execution_count": 4,
     "metadata": {},
     "output_type": "execute_result"
    }
   ],
   "source": [
    "str1=\"python\"\n",
    "str1[0:6:2] #gives alternate characters"
   ]
  },
  {
   "cell_type": "code",
   "execution_count": 9,
   "id": "8e277110-97b4-4a8e-af3f-ec3f8b8de6b0",
   "metadata": {},
   "outputs": [
    {
     "data": {
      "text/plain": [
       "'This is Python Class'"
      ]
     },
     "execution_count": 9,
     "metadata": {},
     "output_type": "execute_result"
    }
   ],
   "source": [
    "# example\n",
    "str1=\"This is Python Class\"\n",
    "str1[0:20:1]"
   ]
  },
  {
   "cell_type": "code",
   "execution_count": 10,
   "id": "dc3c201d-2604-482c-87cd-61ee33a53ab1",
   "metadata": {},
   "outputs": [
    {
     "data": {
      "text/plain": [
       "'Ti sPto ls'"
      ]
     },
     "execution_count": 10,
     "metadata": {},
     "output_type": "execute_result"
    }
   ],
   "source": [
    "str1[0:20:2]"
   ]
  },
  {
   "cell_type": "code",
   "execution_count": 11,
   "id": "da33f1d0-2eac-40f8-9c85-1142d96ef151",
   "metadata": {},
   "outputs": [
    {
     "data": {
      "text/plain": [
       "'TssyoCs'"
      ]
     },
     "execution_count": 11,
     "metadata": {},
     "output_type": "execute_result"
    }
   ],
   "source": [
    "str1[0:20:3]"
   ]
  },
  {
   "cell_type": "code",
   "execution_count": 12,
   "id": "d87d0361-2866-4bae-bb38-2e928b94f121",
   "metadata": {},
   "outputs": [
    {
     "data": {
      "text/plain": [
       "'Tt'"
      ]
     },
     "execution_count": 12,
     "metadata": {},
     "output_type": "execute_result"
    }
   ],
   "source": [
    "str1[0:20:10]"
   ]
  },
  {
   "cell_type": "code",
   "execution_count": 13,
   "id": "f1793c87-193d-4789-a9b6-b56d94e8cf35",
   "metadata": {},
   "outputs": [
    {
     "data": {
      "text/plain": [
       "'This is Python Class'"
      ]
     },
     "execution_count": 13,
     "metadata": {},
     "output_type": "execute_result"
    }
   ],
   "source": [
    "str1[::1] # another method "
   ]
  },
  {
   "cell_type": "code",
   "execution_count": 14,
   "id": "6e79d33a-4fe2-4ebf-b7ab-2797e53a0116",
   "metadata": {},
   "outputs": [
    {
     "data": {
      "text/plain": [
       "'Ti sPto ls'"
      ]
     },
     "execution_count": 14,
     "metadata": {},
     "output_type": "execute_result"
    }
   ],
   "source": [
    "str1[::2]"
   ]
  },
  {
   "cell_type": "markdown",
   "id": "5c978783-e455-47e9-8c79-7cf74b35aa6f",
   "metadata": {},
   "source": [
    "# Operators"
   ]
  },
  {
   "cell_type": "code",
   "execution_count": null,
   "id": "1e3a8ad5-3d40-4b54-b1e7-b2bbe76edabf",
   "metadata": {},
   "outputs": [],
   "source": [
    "-> special symbols or keywords that tells python interpretor to perform some kind of operation on values or variables\n",
    "-> + - / *\n"
   ]
  },
  {
   "cell_type": "code",
   "execution_count": null,
   "id": "957b96e0-220d-4bce-826f-56e6de6a95b6",
   "metadata": {},
   "outputs": [],
   "source": [
    "Arithmetic Operators:\n",
    "+ Addition\n",
    "- Subtraction\n",
    "* Multiplication\n",
    "/ Division (always return float)\n",
    "% Modulus (returns the remainder of the division)\n",
    "** Exponentiation (power)"
   ]
  },
  {
   "cell_type": "code",
   "execution_count": 11,
   "id": "0af215c6-88af-40f9-a36a-e219c7db3bd3",
   "metadata": {},
   "outputs": [
    {
     "name": "stdout",
     "output_type": "stream",
     "text": [
      "15\n",
      "5\n",
      "50\n",
      "2.0\n",
      "0\n",
      "2.0\n"
     ]
    }
   ],
   "source": [
    "a=10\n",
    "b=5\n",
    "c=a+b # addition\n",
    "d=a-b # subtraction\n",
    "e=a*b # multiplication\n",
    "f=a/b # division\n",
    "g=a%b # modulo division\n",
    "h=a**b # power\n",
    "print(c)\n",
    "print(d)\n",
    "print(e)\n",
    "print(f)\n",
    "print(g)\n",
    "print(f)"
   ]
  },
  {
   "cell_type": "code",
   "execution_count": null,
   "id": "1b8ae0d9-fba2-4b38-83d3-973ea2b7ba00",
   "metadata": {},
   "outputs": [],
   "source": [
    "Assignment Operators:\n",
    "-> used to assign values to variables\n",
    "= Assign \n",
    "+= Add and Assign x+=3-> x=x+3\n",
    "-= Subt and Assign x-=3-> x=x-3\n",
    "*=\n",
    "/="
   ]
  },
  {
   "cell_type": "code",
   "execution_count": 2,
   "id": "6d4e742f-910f-405f-813a-150f2a8cefd8",
   "metadata": {},
   "outputs": [
    {
     "name": "stdout",
     "output_type": "stream",
     "text": [
      "13\n"
     ]
    }
   ],
   "source": [
    "a=10 # assigning a value\n",
    "a+=3\n",
    "print(a)"
   ]
  },
  {
   "cell_type": "code",
   "execution_count": 19,
   "id": "56638059-af04-4231-b1e3-83f68b3e6844",
   "metadata": {},
   "outputs": [
    {
     "name": "stdout",
     "output_type": "stream",
     "text": [
      "7\n"
     ]
    }
   ],
   "source": [
    "a=10\n",
    "a-=3\n",
    "print(a)"
   ]
  },
  {
   "cell_type": "code",
   "execution_count": 20,
   "id": "8f981997-fc68-4846-bbe2-181b375c4e33",
   "metadata": {},
   "outputs": [
    {
     "name": "stdout",
     "output_type": "stream",
     "text": [
      "30\n"
     ]
    }
   ],
   "source": [
    "a=10\n",
    "a*=3\n",
    "print(a)"
   ]
  },
  {
   "cell_type": "code",
   "execution_count": 21,
   "id": "1c637f21-936f-457c-9bca-f60e888c9477",
   "metadata": {},
   "outputs": [
    {
     "name": "stdout",
     "output_type": "stream",
     "text": [
      "5.0\n"
     ]
    }
   ],
   "source": [
    "a=10\n",
    "a/=2\n",
    "print(a)"
   ]
  },
  {
   "cell_type": "code",
   "execution_count": null,
   "id": "5923ffb9-99c1-455c-bfa1-d233fe32e2d9",
   "metadata": {},
   "outputs": [],
   "source": [
    "Comparison(Relational) Operators:\n",
    "-> used to compare two values or variables\n",
    "-> and returns Boolean (True/False)\n",
    "==\n",
    ">=\n",
    "<=\n",
    "!=\n",
    "<\n",
    ">\n",
    "!"
   ]
  },
  {
   "cell_type": "code",
   "execution_count": 26,
   "id": "8996db36-fa69-4472-a817-f3fafae7c3fc",
   "metadata": {},
   "outputs": [
    {
     "name": "stdout",
     "output_type": "stream",
     "text": [
      "True\n",
      "True\n",
      "True\n",
      "False\n",
      "False\n",
      "False\n"
     ]
    }
   ],
   "source": [
    "a=10\n",
    "b=10\n",
    "print(a==b)\n",
    "print(a>=b)\n",
    "print(a<=b)\n",
    "print(a<b)\n",
    "print(a>b)\n",
    "print(a!=b)"
   ]
  },
  {
   "cell_type": "code",
   "execution_count": null,
   "id": "ede835b4-64d4-4605-b81a-762e60f4e0b2",
   "metadata": {},
   "outputs": [],
   "source": [
    "Logical Operators:\n",
    "-> used to combine conditional statements\n",
    "and returns True if both statements are satisfied or true\n",
    "or returns True if one statement is true or satisfied\n",
    "not reverses the result, i.e., if result is True it returns as False"
   ]
  },
  {
   "cell_type": "code",
   "execution_count": 36,
   "id": "f4f5dbd9-859b-4057-8d6d-3e9697ff6223",
   "metadata": {},
   "outputs": [
    {
     "name": "stdout",
     "output_type": "stream",
     "text": [
      "True\n",
      "False\n",
      "True\n",
      "False\n",
      "False\n"
     ]
    }
   ],
   "source": [
    "a=10\n",
    "print(a>5 and a<15)\n",
    "print(a>5 and a>15)\n",
    "print(a>5 or a<15)\n",
    "print(a<5 or a>15)\n",
    "print(not(a))"
   ]
  },
  {
   "cell_type": "code",
   "execution_count": null,
   "id": "ad737be3-a351-4971-8b87-27685785de85",
   "metadata": {},
   "outputs": [],
   "source": [
    "Membership Operators:\n",
    "-> used to test if a sequence (like string, list, or tuple) has a particular/specified value\n",
    "in returns True if the particular value is present in the sequence\n",
    "not in returns True if the particular value is not present in the sequence"
   ]
  },
  {
   "cell_type": "code",
   "execution_count": 40,
   "id": "e9c56bc3-d9ba-4c02-b20c-be28ed1ec111",
   "metadata": {},
   "outputs": [
    {
     "name": "stdout",
     "output_type": "stream",
     "text": [
      "True\n",
      "False\n"
     ]
    }
   ],
   "source": [
    "str1=\"Hello! Welcome to Python Class\"\n",
    "print('to' in str1)\n",
    "print('world' in str1)"
   ]
  },
  {
   "cell_type": "code",
   "execution_count": 45,
   "id": "0781b71d-a47f-49de-8216-e00bfa4c0fdd",
   "metadata": {},
   "outputs": [
    {
     "name": "stdout",
     "output_type": "stream",
     "text": [
      "True\n",
      "False\n"
     ]
    }
   ],
   "source": [
    "str1=\"Hello! Welcome to Python Class\"\n",
    "print('world' not in str1)\n",
    "print('to' not in str1)"
   ]
  },
  {
   "cell_type": "markdown",
   "id": "fd9af21a-831b-411b-930a-84df30a9b2b0",
   "metadata": {},
   "source": [
    "# if else"
   ]
  },
  {
   "cell_type": "code",
   "execution_count": 16,
   "id": "b375cac8-25d1-462b-b122-c0871f356df1",
   "metadata": {},
   "outputs": [
    {
     "name": "stdout",
     "output_type": "stream",
     "text": [
      "The nunber is positive\n"
     ]
    }
   ],
   "source": [
    "num=10\n",
    "if num>0:\n",
    "    print(\"The nunber is positive\")\n",
    "else:\n",
    "    print(\"The number is not positive\")"
   ]
  },
  {
   "cell_type": "code",
   "execution_count": 1,
   "id": "f18e6a48-df65-42fb-9c6e-0822cde6dfd2",
   "metadata": {},
   "outputs": [
    {
     "name": "stdout",
     "output_type": "stream",
     "text": [
      "The number is negative\n"
     ]
    }
   ],
   "source": [
    "num=-1\n",
    "if num>0:\n",
    "    print(\"The number is positive\")\n",
    "else:\n",
    "    print(\"The number is negative\")"
   ]
  },
  {
   "cell_type": "code",
   "execution_count": null,
   "id": "94416caa-b94a-4b44-9656-20bc0a0e8eed",
   "metadata": {},
   "outputs": [],
   "source": []
  }
 ],
 "metadata": {
  "kernelspec": {
   "display_name": "Python 3 (ipykernel)",
   "language": "python",
   "name": "python3"
  },
  "language_info": {
   "codemirror_mode": {
    "name": "ipython",
    "version": 3
   },
   "file_extension": ".py",
   "mimetype": "text/x-python",
   "name": "python",
   "nbconvert_exporter": "python",
   "pygments_lexer": "ipython3",
   "version": "3.13.5"
  }
 },
 "nbformat": 4,
 "nbformat_minor": 5
}
