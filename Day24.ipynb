{
 "cells": [
  {
   "cell_type": "markdown",
   "id": "046d11f8-e499-4a16-a84d-e25f35a053b9",
   "metadata": {},
   "source": [
    "## Numpy"
   ]
  },
  {
   "cell_type": "code",
   "execution_count": null,
   "id": "a0d2aa16-ef8c-41a8-9a24-9bfe34486548",
   "metadata": {},
   "outputs": [],
   "source": [
    "-> numpy is considered for high level data\n",
    "-> numpy array is a collection of homogeneous datatypes\n",
    "-> numpy is faster than list\n",
    "-> "
   ]
  },
  {
   "cell_type": "code",
   "execution_count": 3,
   "id": "8679cad7-c97f-44e3-a404-ebb9117eed24",
   "metadata": {},
   "outputs": [],
   "source": [
    "import numpy as np\n",
    "import pandas as pd"
   ]
  },
  {
   "cell_type": "code",
   "execution_count": 4,
   "id": "09a0c357-2ce0-492d-8987-bf46a6b01650",
   "metadata": {},
   "outputs": [],
   "source": [
    "import numpy as np"
   ]
  },
  {
   "cell_type": "markdown",
   "id": "4f6f8733-c71d-47eb-ae10-254f8ce79a1d",
   "metadata": {},
   "source": [
    "## How to create numpy array"
   ]
  },
  {
   "cell_type": "code",
   "execution_count": 5,
   "id": "fffa3a0a-d956-4718-9288-597258d58af6",
   "metadata": {},
   "outputs": [
    {
     "name": "stdout",
     "output_type": "stream",
     "text": [
      "[1 2 3 4 5]\n"
     ]
    }
   ],
   "source": [
    "array1=np.array([1,2,3,4,5])\n",
    "print(array1)"
   ]
  },
  {
   "cell_type": "code",
   "execution_count": 6,
   "id": "053895ce-5419-46a8-ae8d-5cefe177e6dc",
   "metadata": {},
   "outputs": [
    {
     "data": {
      "text/plain": [
       "numpy.ndarray"
      ]
     },
     "execution_count": 6,
     "metadata": {},
     "output_type": "execute_result"
    }
   ],
   "source": [
    "type(array1)"
   ]
  },
  {
   "cell_type": "code",
   "execution_count": 7,
   "id": "38d8b9ac-8071-4941-b54e-34ec1e6ddf51",
   "metadata": {},
   "outputs": [
    {
     "data": {
      "text/plain": [
       "dtype('int64')"
      ]
     },
     "execution_count": 7,
     "metadata": {},
     "output_type": "execute_result"
    }
   ],
   "source": [
    "array1.dtype"
   ]
  },
  {
   "cell_type": "markdown",
   "id": "7d6baba4-12f8-4afe-b1cd-994b47ccacb8",
   "metadata": {},
   "source": [
    "## various functions to create arrays"
   ]
  },
  {
   "cell_type": "markdown",
   "id": "dbcfa908-85ab-46c6-9b99-adaece22bfbf",
   "metadata": {},
   "source": [
    "## zeros()"
   ]
  },
  {
   "cell_type": "code",
   "execution_count": 8,
   "id": "3d343677-3f97-4de6-98a4-5ea39a822dfb",
   "metadata": {},
   "outputs": [
    {
     "data": {
      "text/plain": [
       "array([[0., 0.],\n",
       "       [0., 0.]])"
      ]
     },
     "execution_count": 8,
     "metadata": {},
     "output_type": "execute_result"
    }
   ],
   "source": [
    "a11=np.zeros((2,2))\n",
    "a11    # creates array with all zeroes"
   ]
  },
  {
   "cell_type": "code",
   "execution_count": 10,
   "id": "01cd0488-730a-4a8d-83ba-b0578a6c9503",
   "metadata": {},
   "outputs": [
    {
     "data": {
      "text/plain": [
       "array([[0., 0.],\n",
       "       [0., 0.],\n",
       "       [0., 0.]])"
      ]
     },
     "execution_count": 10,
     "metadata": {},
     "output_type": "execute_result"
    }
   ],
   "source": [
    "a22=np.zeros((3,2))\n",
    "a22"
   ]
  },
  {
   "cell_type": "markdown",
   "id": "8a84e6b7-f14c-4321-9994-597da5e0bf57",
   "metadata": {},
   "source": [
    "## ones()"
   ]
  },
  {
   "cell_type": "code",
   "execution_count": 11,
   "id": "ae2582e8-d21c-45ae-8015-0d7826123f86",
   "metadata": {},
   "outputs": [
    {
     "data": {
      "text/plain": [
       "array([[1., 1.],\n",
       "       [1., 1.]])"
      ]
     },
     "execution_count": 11,
     "metadata": {},
     "output_type": "execute_result"
    }
   ],
   "source": [
    "one1=np.ones((2,2))\n",
    "one1   # creates array with ones"
   ]
  },
  {
   "cell_type": "markdown",
   "id": "796361ca-4623-4ca3-bbf0-9900066ab821",
   "metadata": {},
   "source": [
    "## np.arange()"
   ]
  },
  {
   "cell_type": "code",
   "execution_count": 12,
   "id": "591e3527-be33-4149-a797-faeb40e703d4",
   "metadata": {},
   "outputs": [
    {
     "data": {
      "text/plain": [
       "array([10, 11, 12, 13, 14, 15, 16, 17, 18, 19])"
      ]
     },
     "execution_count": 12,
     "metadata": {},
     "output_type": "execute_result"
    }
   ],
   "source": [
    "a1=np.arange(10,20)\n",
    "a1  # creates array of given range"
   ]
  },
  {
   "cell_type": "markdown",
   "id": "eb4e66f9-90f0-4b30-b357-f035733b7026",
   "metadata": {},
   "source": [
    "## np.linspace()"
   ]
  },
  {
   "cell_type": "code",
   "execution_count": 14,
   "id": "4df081d6-92df-45f1-909f-9b6d5d1da0ff",
   "metadata": {},
   "outputs": [
    {
     "data": {
      "text/plain": [
       "array([10.        , 10.90909091, 11.81818182, 12.72727273, 13.63636364,\n",
       "       14.54545455, 15.45454545, 16.36363636, 17.27272727, 18.18181818,\n",
       "       19.09090909, 20.        ])"
      ]
     },
     "execution_count": 14,
     "metadata": {},
     "output_type": "execute_result"
    }
   ],
   "source": [
    "s1=np.linspace(10,20,12)\n",
    "s1"
   ]
  },
  {
   "cell_type": "markdown",
   "id": "4b398f61-c8de-4170-a577-eed09d434622",
   "metadata": {},
   "source": [
    "## np.random.rand()"
   ]
  },
  {
   "cell_type": "code",
   "execution_count": 15,
   "id": "8f597563-1927-473b-817a-c25b7486d4e4",
   "metadata": {},
   "outputs": [
    {
     "data": {
      "text/plain": [
       "array([[0.7627002 , 0.24778378, 0.64317598],\n",
       "       [0.58548581, 0.68033059, 0.53949573]])"
      ]
     },
     "execution_count": 15,
     "metadata": {},
     "output_type": "execute_result"
    }
   ],
   "source": [
    "a1=np.random.rand(2,3)\n",
    "a1 # creates array of random numbers between 0 and 1"
   ]
  },
  {
   "cell_type": "markdown",
   "id": "321f9e9a-1db1-445a-8704-bedebe794acc",
   "metadata": {},
   "source": [
    "## np.random.randint()"
   ]
  },
  {
   "cell_type": "code",
   "execution_count": 18,
   "id": "82d15a65-f422-4e2e-a32d-8c9a6391b94c",
   "metadata": {},
   "outputs": [
    {
     "data": {
      "text/plain": [
       "array([[93, 36, 61],\n",
       "       [20, 63, 41],\n",
       "       [40, 37, 27]], dtype=int32)"
      ]
     },
     "execution_count": 18,
     "metadata": {},
     "output_type": "execute_result"
    }
   ],
   "source": [
    "a11=np.random.randint(10,100,(3,3))\n",
    "a11"
   ]
  },
  {
   "cell_type": "markdown",
   "id": "70d273b4-8d47-4a43-8097-96ae6af20fe2",
   "metadata": {},
   "source": [
    "## Typecasting in Numpy Array"
   ]
  },
  {
   "cell_type": "code",
   "execution_count": 19,
   "id": "2ab224ad-5dfa-4f12-90e0-c5964f86d2bf",
   "metadata": {},
   "outputs": [],
   "source": [
    "import numpy as np"
   ]
  },
  {
   "cell_type": "code",
   "execution_count": 20,
   "id": "88dd0669-bb36-47bb-b214-c1275f5598c2",
   "metadata": {},
   "outputs": [
    {
     "data": {
      "text/plain": [
       "dtype('int64')"
      ]
     },
     "execution_count": 20,
     "metadata": {},
     "output_type": "execute_result"
    }
   ],
   "source": [
    "array1=np.array([1,2,3,4,5])\n",
    "array1.dtype"
   ]
  },
  {
   "cell_type": "code",
   "execution_count": 21,
   "id": "a67aab54-9c90-42c3-82f7-1f6093f03cd2",
   "metadata": {},
   "outputs": [
    {
     "data": {
      "text/plain": [
       "array([1., 2., 3., 4.])"
      ]
     },
     "execution_count": 21,
     "metadata": {},
     "output_type": "execute_result"
    }
   ],
   "source": [
    "array1=np.array([1,2,3,4],dtype=float)\n",
    "array1"
   ]
  },
  {
   "cell_type": "code",
   "execution_count": 22,
   "id": "7ca78aa3-ae5e-451b-b8c2-d21f3673cf6f",
   "metadata": {},
   "outputs": [
    {
     "data": {
      "text/plain": [
       "array(['1', '2', '3', '4'], dtype='<U1')"
      ]
     },
     "execution_count": 22,
     "metadata": {},
     "output_type": "execute_result"
    }
   ],
   "source": [
    "array1=np.array([1,2,3,4],dtype=str)\n",
    "array1"
   ]
  },
  {
   "cell_type": "markdown",
   "id": "0d7965cd-c424-4573-aaa1-11d3ab2e1613",
   "metadata": {},
   "source": [
    "## Dimensions in numpy array"
   ]
  },
  {
   "cell_type": "markdown",
   "id": "081b8c78-bf00-48a7-b1e0-c86a6ca54579",
   "metadata": {},
   "source": [
    "## 1. 0-D array"
   ]
  },
  {
   "cell_type": "code",
   "execution_count": 23,
   "id": "c2c264e0-d39f-47d0-869e-86cadc6f14b4",
   "metadata": {},
   "outputs": [
    {
     "data": {
      "text/plain": [
       "0"
      ]
     },
     "execution_count": 23,
     "metadata": {},
     "output_type": "execute_result"
    }
   ],
   "source": [
    "z1=np.array(30)\n",
    "z1.ndim"
   ]
  },
  {
   "cell_type": "markdown",
   "id": "5e926653-c228-42b5-b6e3-a784dfa6f08d",
   "metadata": {},
   "source": [
    "## 2. 1-D array"
   ]
  },
  {
   "cell_type": "code",
   "execution_count": 25,
   "id": "acdef6da-1330-4973-ac7a-2b624cd19cca",
   "metadata": {},
   "outputs": [
    {
     "name": "stdout",
     "output_type": "stream",
     "text": [
      "[1 2 3 4 5 6 7 8]\n"
     ]
    },
    {
     "data": {
      "text/plain": [
       "1"
      ]
     },
     "execution_count": 25,
     "metadata": {},
     "output_type": "execute_result"
    }
   ],
   "source": [
    "a1=np.array([1,2,3,4,5,6,7,8])\n",
    "print(a1)\n",
    "a1.ndim"
   ]
  },
  {
   "cell_type": "markdown",
   "id": "c9712e09-2623-4443-8dca-0cea7fff9775",
   "metadata": {},
   "source": [
    "## 3. 2-D array"
   ]
  },
  {
   "cell_type": "code",
   "execution_count": 27,
   "id": "513fa103-ce8e-4506-9902-fd6d5298cf23",
   "metadata": {},
   "outputs": [
    {
     "name": "stdout",
     "output_type": "stream",
     "text": [
      "[[1 2 3]\n",
      " [4 5 6]]\n"
     ]
    },
    {
     "data": {
      "text/plain": [
       "2"
      ]
     },
     "execution_count": 27,
     "metadata": {},
     "output_type": "execute_result"
    }
   ],
   "source": [
    "a1=np.array([[1,2,3],[4,5,6]])\n",
    "print(a1)\n",
    "a1.ndim"
   ]
  },
  {
   "cell_type": "markdown",
   "id": "b1955489-620e-4c54-be19-53fe80f8d393",
   "metadata": {},
   "source": [
    "## 4. 3-D array"
   ]
  },
  {
   "cell_type": "code",
   "execution_count": 29,
   "id": "62f3d53e-4c71-4b6c-b57a-640e5753531b",
   "metadata": {},
   "outputs": [
    {
     "name": "stdout",
     "output_type": "stream",
     "text": [
      "[[[1 2 3]\n",
      "  [4 5 6]]]\n"
     ]
    },
    {
     "data": {
      "text/plain": [
       "3"
      ]
     },
     "execution_count": 29,
     "metadata": {},
     "output_type": "execute_result"
    }
   ],
   "source": [
    "a1=np.array([[[1,2,3],[4,5,6]]])\n",
    "print(a1)\n",
    "a1.ndim"
   ]
  },
  {
   "cell_type": "markdown",
   "id": "c46b6b8e-bdcc-477e-a613-732cad4051e3",
   "metadata": {},
   "source": [
    "## Indexing and Slicing"
   ]
  },
  {
   "cell_type": "code",
   "execution_count": 30,
   "id": "a8541cdf-789d-4809-baf7-8652059a0225",
   "metadata": {},
   "outputs": [
    {
     "data": {
      "text/plain": [
       "np.int64(1)"
      ]
     },
     "execution_count": 30,
     "metadata": {},
     "output_type": "execute_result"
    }
   ],
   "source": [
    "a1=np.array([1,2,3,4,5,6,7,8])\n",
    "a1[0]"
   ]
  },
  {
   "cell_type": "code",
   "execution_count": 31,
   "id": "5e872ef4-fb7b-4f5b-b79f-20c04f4b3b06",
   "metadata": {},
   "outputs": [
    {
     "data": {
      "text/plain": [
       "np.int64(8)"
      ]
     },
     "execution_count": 31,
     "metadata": {},
     "output_type": "execute_result"
    }
   ],
   "source": [
    "a1[-1]"
   ]
  },
  {
   "cell_type": "code",
   "execution_count": 32,
   "id": "48527c25-54ec-4f17-8a4f-8125ae00e2b0",
   "metadata": {},
   "outputs": [
    {
     "data": {
      "text/plain": [
       "array([2, 4, 6, 8])"
      ]
     },
     "execution_count": 32,
     "metadata": {},
     "output_type": "execute_result"
    }
   ],
   "source": [
    "a1[1::2]"
   ]
  },
  {
   "cell_type": "code",
   "execution_count": 34,
   "id": "e91e89af-119e-4e14-aeee-f43a5c11a109",
   "metadata": {},
   "outputs": [
    {
     "data": {
      "text/plain": [
       "array([2, 5, 8])"
      ]
     },
     "execution_count": 34,
     "metadata": {},
     "output_type": "execute_result"
    }
   ],
   "source": [
    "a1[1:8:3]"
   ]
  },
  {
   "cell_type": "code",
   "execution_count": 35,
   "id": "23b33b42-0982-4d41-b223-0c399f67d6c3",
   "metadata": {},
   "outputs": [
    {
     "name": "stdout",
     "output_type": "stream",
     "text": [
      "[[1 2 3 4]\n",
      " [5 6 7 8]]\n",
      "2\n"
     ]
    }
   ],
   "source": [
    "a1=np.array([[1,2,3,4],[5,6,7,8]])\n",
    "print(a1)\n",
    "print(a1.ndim)"
   ]
  },
  {
   "cell_type": "code",
   "execution_count": 36,
   "id": "574d223e-3e9e-451b-8dbc-59ad6d4e43ca",
   "metadata": {},
   "outputs": [
    {
     "data": {
      "text/plain": [
       "array([2, 3, 4])"
      ]
     },
     "execution_count": 36,
     "metadata": {},
     "output_type": "execute_result"
    }
   ],
   "source": [
    "a1[0][1:]"
   ]
  },
  {
   "cell_type": "code",
   "execution_count": null,
   "id": "ae87feee-8255-47da-a050-50e8445eb1f0",
   "metadata": {},
   "outputs": [],
   "source": []
  }
 ],
 "metadata": {
  "kernelspec": {
   "display_name": "Python 3 (ipykernel)",
   "language": "python",
   "name": "python3"
  },
  "language_info": {
   "codemirror_mode": {
    "name": "ipython",
    "version": 3
   },
   "file_extension": ".py",
   "mimetype": "text/x-python",
   "name": "python",
   "nbconvert_exporter": "python",
   "pygments_lexer": "ipython3",
   "version": "3.13.5"
  }
 },
 "nbformat": 4,
 "nbformat_minor": 5
}
