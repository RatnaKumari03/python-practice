{
 "cells": [
  {
   "cell_type": "markdown",
   "id": "5369335f-ddbc-4a8d-9cda-996041a023f5",
   "metadata": {},
   "source": [
    "## 1. split()"
   ]
  },
  {
   "cell_type": "code",
   "execution_count": null,
   "id": "a6c64683-4203-4dab-a056-7cedb319485f",
   "metadata": {},
   "outputs": [],
   "source": [
    "-> It is like taking a whole sentence and chopping it up into individual words (or pieces) based on special separator\n",
    "-> divides a string into a list of substrings\n",
    "-> we can tell the split where to break the string. \n",
    "-> if we don't specify a separator, it defaults on whitespaces (spaces,tabs,newlines)\n",
    "-> synatx:\n",
    "        variable_name.split()"
   ]
  },
  {
   "cell_type": "code",
   "execution_count": 3,
   "id": "10c7c248-488f-45d4-a8a5-0b7e7fd315c5",
   "metadata": {},
   "outputs": [
    {
     "name": "stdout",
     "output_type": "stream",
     "text": [
      "['this', 'is', 'python', 'class']\n"
     ]
    }
   ],
   "source": [
    "# Example\n",
    "str1=\"this is python class\"\n",
    "list1=str1.split()\n",
    "print(list1)"
   ]
  },
  {
   "cell_type": "markdown",
   "id": "8d357d91-29b5-4229-b09b-e3403055aaf5",
   "metadata": {},
   "source": [
    "## 2. join()"
   ]
  },
  {
   "cell_type": "code",
   "execution_count": null,
   "id": "4803b2ee-7eeb-4ee8-ac1d-679c8fbc16a5",
   "metadata": {},
   "outputs": [],
   "source": [
    "-> putting strings back together\n",
    "-> it is opposite of split().\n",
    "-> it takes list of strings and joins them "
   ]
  },
  {
   "cell_type": "code",
   "execution_count": 3,
   "id": "430ed462-f028-464b-9de2-6fd62903c024",
   "metadata": {},
   "outputs": [
    {
     "name": "stdout",
     "output_type": "stream",
     "text": [
      "Hello World from Python\n",
      "Hello*World*from*Python\n"
     ]
    }
   ],
   "source": [
    "# Example\n",
    "word_list=['Hello','World','from','Python']\n",
    "sentence=\" \".join(word_list)\n",
    "print(sentence)\n",
    "sentence1=\"*\".join(word_list)\n",
    "print(sentence1)"
   ]
  },
  {
   "cell_type": "markdown",
   "id": "ce1e0735-766b-4014-87e3-c624a0c96a0e",
   "metadata": {},
   "source": [
    "## Set"
   ]
  },
  {
   "cell_type": "code",
   "execution_count": null,
   "id": "ce987a29-74eb-444f-96b9-e6cb256b162d",
   "metadata": {},
   "outputs": [],
   "source": [
    "-> it is an unordered collection of unique elements\n",
    "-> they are defined by enclosing a sequence of items by flower brackets {}\n",
    "-> properties:\n",
    "       -- unordered\n",
    "       -- Unique elements\n",
    "       -- mutable\n",
    "       -- heterogeneous items\n",
    "       -- not sequence type (menas can't access elements using indeces or slicing)"
   ]
  },
  {
   "cell_type": "markdown",
   "id": "61971fea-01cb-4079-bdc5-df9f9cbb4a12",
   "metadata": {},
   "source": [
    "## how to create a set"
   ]
  },
  {
   "cell_type": "code",
   "execution_count": 4,
   "id": "ca01d69a-88ae-4236-b320-60320e78bcc2",
   "metadata": {},
   "outputs": [
    {
     "name": "stdout",
     "output_type": "stream",
     "text": [
      "<class 'set'>\n",
      "<class 'set'>\n",
      "{1, 2.0, 'ratna'}\n"
     ]
    }
   ],
   "source": [
    "set1={1,2,3,4,5}\n",
    "set2={'r','a','t','n','a'}\n",
    "print(type(set1))\n",
    "print(type(set2))\n",
    "set3={1,2.0,\"ratna\",1} # different datatypes and it removes duplicates by default\n",
    "print(set3)"
   ]
  },
  {
   "cell_type": "markdown",
   "id": "4a1e8604-2271-4e60-842c-29b4f33754d5",
   "metadata": {},
   "source": [
    "## How to access elements from set"
   ]
  },
  {
   "cell_type": "code",
   "execution_count": null,
   "id": "36d4ea20-cb1b-4da4-b659-487967304412",
   "metadata": {},
   "outputs": [],
   "source": [
    "-> can't access like we do in lists or tuple\n",
    "-> two ways to access or work with the elements of set by:\n",
    "       -- Iteration using for loop\n",
    "       -- checking for membership using iterator operator"
   ]
  },
  {
   "cell_type": "markdown",
   "id": "20e91e1c-2167-460a-850d-5d40a40bc096",
   "metadata": {},
   "source": [
    "## list of set functions"
   ]
  },
  {
   "cell_type": "code",
   "execution_count": null,
   "id": "f9d9f686-f9dd-4280-8e77-953dad79dcaa",
   "metadata": {},
   "outputs": [],
   "source": [
    "-> add(),update(),remove(),discard(),pop(),clear(),union(),intersection(),difference(),symmetric_difference(),isdisjoint(),issuperset()"
   ]
  },
  {
   "cell_type": "code",
   "execution_count": 14,
   "id": "61c3e6f2-eb48-4bd3-8224-c9130febde29",
   "metadata": {},
   "outputs": [
    {
     "name": "stdout",
     "output_type": "stream",
     "text": [
      "{1, 2, 3, 4, 6}\n",
      "{1, 2, 3, 4, 5, 6}\n",
      "{1, 2, 3, 4, 5}\n",
      "{1, 2, 3, 4, 5}\n",
      "{2, 3, 4, 5}\n",
      "set()\n"
     ]
    }
   ],
   "source": [
    "set1={1,2,3,4}\n",
    "set1.add(6)\n",
    "print(set1)\n",
    "set1.update([5,6])\n",
    "print(set1)\n",
    "set1.remove(6)  # raise error if element if found\n",
    "print(set1)\n",
    "set1.discard(7) # doesn't raise any error if element is nit found\n",
    "print(set1)\n",
    "set1.pop()  # randomly element is removed because set in unordered\n",
    "print(set1)\n",
    "set1.clear()  # clears all elements in the set\n",
    "print(set1)"
   ]
  },
  {
   "cell_type": "code",
   "execution_count": 22,
   "id": "7995545c-357c-4a77-9301-0f6cd2c1b09f",
   "metadata": {},
   "outputs": [
    {
     "name": "stdout",
     "output_type": "stream",
     "text": [
      "{1, 2, 3, 4, 5}\n",
      "{3}\n",
      "{1, 2}\n",
      "{1, 2, 4, 5}\n"
     ]
    }
   ],
   "source": [
    "set1={1,2,3}\n",
    "set2={3,4,5}\n",
    "union_set=set1.union(set2)\n",
    "print(union_set)\n",
    "intersection_set=set1.intersection(set2)\n",
    "print(intersection_set)\n",
    "difference_set=set1.difference(set2) # returns different elements from set1\n",
    "print(difference_set)\n",
    "symm_diff=set1.symmetric_difference(set2)\n",
    "print(symm_diff)"
   ]
  },
  {
   "cell_type": "code",
   "execution_count": 25,
   "id": "728b842f-0207-48d5-91b7-00c4fc601c61",
   "metadata": {},
   "outputs": [
    {
     "name": "stdout",
     "output_type": "stream",
     "text": [
      "True\n"
     ]
    }
   ],
   "source": [
    "set1={1,2}\n",
    "set2={3,4}\n",
    "disjoint_set=set1.isdisjoint(set2)\n",
    "print(disjoint_set)"
   ]
  },
  {
   "cell_type": "code",
   "execution_count": 26,
   "id": "d236c61d-e90e-43e0-835a-67b21aaaa9d4",
   "metadata": {},
   "outputs": [
    {
     "name": "stdout",
     "output_type": "stream",
     "text": [
      "True\n"
     ]
    }
   ],
   "source": [
    "set1={1,2,3}\n",
    "set2={1,2}\n",
    "super_set=set1.issuperset(set2)\n",
    "print(super_set)"
   ]
  },
  {
   "cell_type": "markdown",
   "id": "24bc96ed-e47c-4509-85c2-a2c4a2aad9c0",
   "metadata": {},
   "source": [
    "## frozenset"
   ]
  },
  {
   "cell_type": "code",
   "execution_count": null,
   "id": "89b72967-b6d7-470a-b6ae-74de914a6135",
   "metadata": {},
   "outputs": [],
   "source": [
    "-> immutable version of python set\n",
    "-> it is an unordered collection of unique and immutable elements\n",
    "-> once created cannot be modified\n",
    "-> they are created by using frozenset() constructor\n",
    "-> properties:\n",
    "      -- unordered\n",
    "      -- unique elements\n",
    "      -- immutable\n",
    "      -- it can contain different immutable datatypes"
   ]
  },
  {
   "cell_type": "markdown",
   "id": "0e06d50a-d794-4466-a79c-2792bfc8e926",
   "metadata": {},
   "source": [
    "## How to create a frozen set"
   ]
  },
  {
   "cell_type": "code",
   "execution_count": 4,
   "id": "6d1d9ae7-53c2-443b-bc0e-e1959d6d78cc",
   "metadata": {},
   "outputs": [
    {
     "name": "stdout",
     "output_type": "stream",
     "text": [
      "frozenset({1, 2, 3, 4})\n"
     ]
    }
   ],
   "source": [
    "list1=[1,2,3,4]\n",
    "frozen_set=frozenset(list1)\n",
    "print(frozen_set)"
   ]
  },
  {
   "cell_type": "code",
   "execution_count": null,
   "id": "051994b2-b5c9-45aa-8fcb-52cedf5d596e",
   "metadata": {},
   "outputs": [],
   "source": [
    "-> we can create frozen set from lists,strings,tuples,regular sets etc..."
   ]
  },
  {
   "cell_type": "markdown",
   "id": "84f3e868-db99-4ae0-8821-5a9c0418bd8a",
   "metadata": {},
   "source": [
    "## Functions for frozenset"
   ]
  },
  {
   "cell_type": "code",
   "execution_count": null,
   "id": "20a08c05-0cc3-4d0d-abbf-8ab80bb96598",
   "metadata": {},
   "outputs": [],
   "source": [
    "-> copy(),union(),intersection(),difference(),symmetric_difference(),isdisjoint(),issubset(),issuperset()"
   ]
  },
  {
   "cell_type": "markdown",
   "id": "fcddc5df-665a-46b9-9e0d-3ecb3eba5c98",
   "metadata": {},
   "source": [
    "## In-built functions"
   ]
  },
  {
   "cell_type": "code",
   "execution_count": null,
   "id": "e11c18ec-0556-4477-b87f-2caefd6bbf5b",
   "metadata": {},
   "outputs": [],
   "source": [
    "-> min(),max(),len(),sum(),sorted()"
   ]
  },
  {
   "cell_type": "code",
   "execution_count": null,
   "id": "fd8ab3a8-b0d3-4789-8b11-924ffe687bb3",
   "metadata": {},
   "outputs": [],
   "source": []
  }
 ],
 "metadata": {
  "kernelspec": {
   "display_name": "Python 3 (ipykernel)",
   "language": "python",
   "name": "python3"
  },
  "language_info": {
   "codemirror_mode": {
    "name": "ipython",
    "version": 3
   },
   "file_extension": ".py",
   "mimetype": "text/x-python",
   "name": "python",
   "nbconvert_exporter": "python",
   "pygments_lexer": "ipython3",
   "version": "3.13.5"
  }
 },
 "nbformat": 4,
 "nbformat_minor": 5
}
