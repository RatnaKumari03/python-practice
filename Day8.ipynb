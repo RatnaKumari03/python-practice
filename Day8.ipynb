{
 "cells": [
  {
   "cell_type": "markdown",
   "id": "8533105a-9f24-47ba-a130-90b8f5d02437",
   "metadata": {},
   "source": [
    "## Loops"
   ]
  },
  {
   "cell_type": "code",
   "execution_count": null,
   "id": "c1a3daf2-9b71-4d7e-96cd-047401426a80",
   "metadata": {},
   "outputs": [],
   "source": [
    "-> loops automate repetitive tasks by executing a block of code multiple times\n",
    "-> instead of writing the same code again and again, loops execute this code for how many times we want\n",
    "-> Types of loops:\n",
    "     --> for loop:\n",
    "           - used to iterate over a sequence(list,tuple,string,or the result of the range() function) one item at a time\n",
    "     --> while loop:\n",
    "           - used for repeating a block of code as long as a certain condition remains True"
   ]
  },
  {
   "cell_type": "markdown",
   "id": "ca728fe6-cbd2-4aef-bd7a-5648e7124ce4",
   "metadata": {},
   "source": [
    "## For loop"
   ]
  },
  {
   "cell_type": "code",
   "execution_count": 2,
   "id": "c7d719c8-ad1a-4493-9d12-ef38f72d5938",
   "metadata": {},
   "outputs": [
    {
     "name": "stdout",
     "output_type": "stream",
     "text": [
      "l\n",
      "***\n",
      "o\n",
      "***\n",
      "o\n",
      "***\n",
      "p\n",
      "***\n",
      "s\n",
      "***\n",
      "Program End\n"
     ]
    }
   ],
   "source": [
    "# example of for loop\n",
    "msg=\"loops\"\n",
    "for i in msg:\n",
    "    print(i)\n",
    "    print(\"***\")\n",
    "print(\"Program End\")"
   ]
  },
  {
   "cell_type": "code",
   "execution_count": 6,
   "id": "2602e74f-84d2-4335-afca-6a14f1e584ea",
   "metadata": {},
   "outputs": [
    {
     "name": "stdout",
     "output_type": "stream",
     "text": [
      "1 3 5 7 9 11 13 15 17 19 21 23 25 27 29 31 33 35 37 39 41 43 45 47 49 "
     ]
    }
   ],
   "source": [
    "# program generates numbers 1,3,5,.....50\n",
    "for i in range(1,51,2):\n",
    "    print(i,end=\" \")"
   ]
  },
  {
   "cell_type": "code",
   "execution_count": 13,
   "id": "69deaf2e-f817-4212-b6b7-cdf9b5377cf5",
   "metadata": {},
   "outputs": [
    {
     "name": "stdout",
     "output_type": "stream",
     "text": [
      "0\n",
      " Total is: 1\n",
      " Total is: 3\n",
      " Total is: 6\n",
      " Total is: 10\n",
      " Total is: 15\n",
      " Total is: 21\n",
      " Total is: 28\n",
      " Total is: 36\n",
      " Total is: 45\n",
      " Total is: 55\n",
      "Sum of first 10 numbers is :  55\n"
     ]
    }
   ],
   "source": [
    "# program to find sum of first 10 numbers\n",
    "total=0\n",
    "print(total)\n",
    "for i in range(1,11):\n",
    "    total+=i\n",
    "    print(f\" Total is: {total}\")\n",
    "print(\"Sum of first 10 numbers is : \",total)"
   ]
  },
  {
   "cell_type": "code",
   "execution_count": 14,
   "id": "423bfe6e-4a7b-4c37-9a11-082374984708",
   "metadata": {},
   "outputs": [
    {
     "name": "stdout",
     "output_type": "stream",
     "text": [
      "Numbers divisible by 3: \n",
      "3\n",
      "9\n",
      "15\n"
     ]
    }
   ],
   "source": [
    "# program to find Numbers divisible by 3\n",
    "numbers=[10,3,20,9,7,15]\n",
    "print(\"Numbers divisible by 3: \")\n",
    "for i in numbers:\n",
    "    if i%3==0:\n",
    "        print(i)"
   ]
  },
  {
   "cell_type": "markdown",
   "id": "0a352362-08ab-4b77-961b-cd8bc1d75bd9",
   "metadata": {},
   "source": [
    "## Loop control statements"
   ]
  },
  {
   "cell_type": "code",
   "execution_count": null,
   "id": "23872794-e044-4dfa-a4c5-72540a448e01",
   "metadata": {},
   "outputs": [],
   "source": [
    "-> break : Exits the loop immediately\n",
    "-> continue : skips the current iteration and proceeds to next\n",
    "-> pass : a placeholder for empty loops (avoids syntax errors)"
   ]
  },
  {
   "cell_type": "code",
   "execution_count": 16,
   "id": "d279735e-2e19-4560-8d7f-76263a8719ff",
   "metadata": {},
   "outputs": [
    {
     "name": "stdout",
     "output_type": "stream",
     "text": [
      "10\n",
      "9\n",
      "41\n",
      "19\n"
     ]
    }
   ],
   "source": [
    "# to check if number \"3\" is present or not, if present then stop the loop\n",
    "numbers=[10,9,41,19,3,5,20]\n",
    "for i in numbers:\n",
    "    if i==3:\n",
    "        break\n",
    "    print(i)"
   ]
  },
  {
   "cell_type": "code",
   "execution_count": 19,
   "id": "b9a1a099-c2c9-4a73-a734-b28e16f91b65",
   "metadata": {},
   "outputs": [
    {
     "name": "stdout",
     "output_type": "stream",
     "text": [
      "1\n",
      "3\n"
     ]
    }
   ],
   "source": [
    "# program to find odd between 0 to 5\n",
    "for num in range(0,5):\n",
    "    if num%2==0:\n",
    "        continue\n",
    "    print(num)"
   ]
  },
  {
   "cell_type": "markdown",
   "id": "68d48831-b3ea-4177-ba92-d25bfdee3b84",
   "metadata": {},
   "source": [
    "## While loop"
   ]
  },
  {
   "cell_type": "code",
   "execution_count": null,
   "id": "222274fd-f767-4e68-96cb-85236c841d62",
   "metadata": {},
   "outputs": [],
   "source": [
    "# syntax\n",
    "while condition:\n",
    "    # code to execute or want to repeat"
   ]
  },
  {
   "cell_type": "code",
   "execution_count": 20,
   "id": "8b4a9665-2cde-4828-8449-32c5b4e7053a",
   "metadata": {},
   "outputs": [
    {
     "name": "stdout",
     "output_type": "stream",
     "text": [
      "1\n",
      "2\n",
      "3\n",
      "4\n",
      "5\n"
     ]
    }
   ],
   "source": [
    "# example\n",
    "count=1\n",
    "while count<=5:\n",
    "    print(count)\n",
    "    count+=1   # increment to avoid infinite loop. Don't forget to add/update "
   ]
  },
  {
   "cell_type": "markdown",
   "id": "50e0b604-342f-43af-9a3a-812d300e79c6",
   "metadata": {},
   "source": [
    "## String function methods"
   ]
  },
  {
   "cell_type": "code",
   "execution_count": null,
   "id": "341152c4-e4a8-49c5-a269-c69e32ed6b04",
   "metadata": {},
   "outputs": [],
   "source": [
    "String functions:\n",
    "  - capitalize()\n",
    "  - lower()\n",
    "  - upper()\n",
    "  - title()\n",
    "  - lstrip()\n",
    "  - rstrip()\n",
    "  - strip()\n",
    "  - "
   ]
  }
 ],
 "metadata": {
  "kernelspec": {
   "display_name": "Python 3 (ipykernel)",
   "language": "python",
   "name": "python3"
  },
  "language_info": {
   "codemirror_mode": {
    "name": "ipython",
    "version": 3
   },
   "file_extension": ".py",
   "mimetype": "text/x-python",
   "name": "python",
   "nbconvert_exporter": "python",
   "pygments_lexer": "ipython3",
   "version": "3.13.5"
  }
 },
 "nbformat": 4,
 "nbformat_minor": 5
}
