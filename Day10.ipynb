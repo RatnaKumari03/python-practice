{
 "cells": [
  {
   "cell_type": "markdown",
   "id": "89f16f35-083c-439d-8eee-80bd526f3227",
   "metadata": {},
   "source": [
    "## index()"
   ]
  },
  {
   "cell_type": "code",
   "execution_count": null,
   "id": "571868e3-2557-4618-a2d1-02429c8f931a",
   "metadata": {},
   "outputs": [],
   "source": [
    "-> searches the string for a substring and returns the position \n",
    "-> syntax:\n",
    "       string.index(\"substring\")"
   ]
  },
  {
   "cell_type": "code",
   "execution_count": 3,
   "id": "a6c04537-04fd-4c68-9c4b-71f31620260c",
   "metadata": {},
   "outputs": [
    {
     "data": {
      "text/plain": [
       "9"
      ]
     },
     "execution_count": 3,
     "metadata": {},
     "output_type": "execute_result"
    }
   ],
   "source": [
    "# Example\n",
    "str1=\"This is python practice\"\n",
    "str1.index('y')"
   ]
  },
  {
   "cell_type": "markdown",
   "id": "a1a83502-e5f6-4306-acf0-d0667b19a08b",
   "metadata": {},
   "source": [
    "## find()"
   ]
  },
  {
   "cell_type": "code",
   "execution_count": null,
   "id": "dc49d53e-f839-401d-97bc-6433da4341ad",
   "metadata": {},
   "outputs": [],
   "source": [
    "-> returns the index of the first occurance of the substring\n",
    "-> returns -1 if not present/found\n",
    "-> syntax:\n",
    "        string.find(substring,start,end)"
   ]
  },
  {
   "cell_type": "code",
   "execution_count": 8,
   "id": "e0b863ba-e593-4d9a-b7a5-4b97e8bdaa14",
   "metadata": {},
   "outputs": [
    {
     "data": {
      "text/plain": [
       "13"
      ]
     },
     "execution_count": 8,
     "metadata": {},
     "output_type": "execute_result"
    }
   ],
   "source": [
    "# Example\n",
    "str1=\"python and data science\"\n",
    "str1.find('t',5,15)"
   ]
  },
  {
   "cell_type": "code",
   "execution_count": 9,
   "id": "babc7641-fc68-4384-a37e-537c51df2576",
   "metadata": {},
   "outputs": [
    {
     "data": {
      "text/plain": [
       "-1"
      ]
     },
     "execution_count": 9,
     "metadata": {},
     "output_type": "execute_result"
    }
   ],
   "source": [
    "str1.find('q')"
   ]
  },
  {
   "cell_type": "markdown",
   "id": "4b256c52-e64d-48b0-b755-8e362796d929",
   "metadata": {},
   "source": [
    "## split()"
   ]
  },
  {
   "cell_type": "code",
   "execution_count": null,
   "id": "6ee7c716-e985-4822-9d78-a21859eb0dc2",
   "metadata": {},
   "outputs": [],
   "source": [
    "-> breaks a string into a list of substrings based on a specific delimiter.\n",
    "-> if no delimiter is specified, it defaults to whitespace\n",
    "-> used to convert string into list\n",
    "-> syntax:\n",
    "        string.split()"
   ]
  },
  {
   "cell_type": "code",
   "execution_count": 10,
   "id": "9418d32e-78e8-45c4-8515-7f43d4b6995d",
   "metadata": {},
   "outputs": [
    {
     "data": {
      "text/plain": [
       "['This', 'is', 'a', 'sentence']"
      ]
     },
     "execution_count": 10,
     "metadata": {},
     "output_type": "execute_result"
    }
   ],
   "source": [
    "# Example\n",
    "sentence=\"This is a sentence\"\n",
    "sentence.split()"
   ]
  },
  {
   "cell_type": "markdown",
   "id": "686e23f1-b248-4684-9ab2-12261458a5a8",
   "metadata": {},
   "source": [
    "## endswith()"
   ]
  },
  {
   "cell_type": "code",
   "execution_count": null,
   "id": "55e100e3-5985-4d9a-9a30-520e29b0d4d0",
   "metadata": {},
   "outputs": [],
   "source": [
    "-> checks if a string ends with a specified suffix\n",
    "-> returns True if it does or False otherwise\n",
    "-> syntax:\n",
    "        string.endswith(suffix,start,end)"
   ]
  },
  {
   "cell_type": "code",
   "execution_count": 1,
   "id": "fa84c91f-899b-451c-b80c-1533861a7289",
   "metadata": {},
   "outputs": [
    {
     "name": "stdout",
     "output_type": "stream",
     "text": [
      "True\n"
     ]
    }
   ],
   "source": [
    "#example\n",
    "filename=\"document.txt\"\n",
    "print(filename.endswith(\".txt\"))"
   ]
  },
  {
   "cell_type": "code",
   "execution_count": null,
   "id": "2a8af349-08bc-4d67-8a02-8b837cc722e4",
   "metadata": {},
   "outputs": [],
   "source": [
    "-> in real life we may have 1000's of files with \"txt\"\n",
    "-> we can't check each one manually\n",
    "-> so we use \"os\" module"
   ]
  },
  {
   "cell_type": "markdown",
   "id": "323d644b-5d07-4a58-995a-5eb2428e76ef",
   "metadata": {},
   "source": [
    "## startswith()"
   ]
  },
  {
   "cell_type": "code",
   "execution_count": null,
   "id": "79ebab26-11d1-4efc-9fc2-72a2c37a1da0",
   "metadata": {},
   "outputs": [],
   "source": [
    "-> checks if a string begins with a specified prefix.\n",
    "-> returns True if it does\n",
    "-> returns False otherwise\n",
    "-> syntax:\n",
    "        string.startswith(prefix,start,end)"
   ]
  },
  {
   "cell_type": "code",
   "execution_count": 20,
   "id": "8f58d866-2ff1-4e01-99c8-7e38e02c1236",
   "metadata": {},
   "outputs": [
    {
     "name": "stdout",
     "output_type": "stream",
     "text": [
      "True\n",
      "False\n",
      "True\n"
     ]
    }
   ],
   "source": [
    "# Example\n",
    "str1=\"Hello world\"\n",
    "print(str1.startswith(\"Hello\"))\n",
    "print(str1.startswith(\"hello\"))\n",
    "print(str1.startswith(\"world\",6))"
   ]
  },
  {
   "cell_type": "markdown",
   "id": "65b2a89f-b8b2-4a1b-bb87-3530ecfd450a",
   "metadata": {},
   "source": [
    "## isalnum()"
   ]
  },
  {
   "cell_type": "code",
   "execution_count": null,
   "id": "80753789-5f79-4217-a9bb-08663ec2e672",
   "metadata": {},
   "outputs": [],
   "source": [
    "-> returns True if all charcaters in the string are alphanumeric (letters or numbers)\n",
    "   and the string is not empty\n",
    "-> otherwise returns False\n",
    "-> syntax: \n",
    "        string.isalnum()"
   ]
  },
  {
   "cell_type": "code",
   "execution_count": 21,
   "id": "4716d9c2-f32a-4576-98a1-16c5d47e2a8d",
   "metadata": {},
   "outputs": [
    {
     "name": "stdout",
     "output_type": "stream",
     "text": [
      "True\n"
     ]
    }
   ],
   "source": [
    "# example\n",
    "str1=\"abcd1234\"\n",
    "print(str1.isalnum())"
   ]
  },
  {
   "cell_type": "code",
   "execution_count": 22,
   "id": "9e5aed18-c5fc-4cec-9717-4612df0af281",
   "metadata": {},
   "outputs": [
    {
     "name": "stdout",
     "output_type": "stream",
     "text": [
      "False\n"
     ]
    }
   ],
   "source": [
    "str2=\"   \"\n",
    "print(str2.isalnum())"
   ]
  },
  {
   "cell_type": "markdown",
   "id": "808886b9-24aa-4aac-8257-351931a1b796",
   "metadata": {},
   "source": [
    "## isaplha()"
   ]
  },
  {
   "cell_type": "code",
   "execution_count": null,
   "id": "7448aca0-893a-463a-8679-8d2e1a0f3a01",
   "metadata": {},
   "outputs": [],
   "source": [
    "-> returns True if all characters in the string are aplhabetic(letters only)\n",
    "    and the string is not empty\n",
    "-> returns False otherwise\n",
    "-> syntax:\n",
    "        string.isalpha()"
   ]
  },
  {
   "cell_type": "code",
   "execution_count": 23,
   "id": "203c9ef4-1c7c-448e-903c-e4dbc939057c",
   "metadata": {},
   "outputs": [
    {
     "name": "stdout",
     "output_type": "stream",
     "text": [
      "True\n"
     ]
    }
   ],
   "source": [
    "# example\n",
    "str1=\"Helloworld\"\n",
    "print(str1.isalpha())"
   ]
  },
  {
   "cell_type": "code",
   "execution_count": 24,
   "id": "ad9b48da-07c2-41a1-8e3f-a107c5090eb6",
   "metadata": {},
   "outputs": [
    {
     "name": "stdout",
     "output_type": "stream",
     "text": [
      "False\n"
     ]
    }
   ],
   "source": [
    "str2=\"hello world 123\"\n",
    "print(str2.isalpha())"
   ]
  },
  {
   "cell_type": "markdown",
   "id": "65e3a4b2-fdf3-4fbd-bb21-a4310cc236df",
   "metadata": {},
   "source": [
    "## isdecimal()"
   ]
  },
  {
   "cell_type": "code",
   "execution_count": null,
   "id": "76549ea4-a77c-41ec-bb23-ad138c1216af",
   "metadata": {},
   "outputs": [],
   "source": [
    "-> returns True if all characters in the string are decimals digits (numbers only 0-9)\n",
    "   and the string is not empty\n",
    "-> returns False otherwise\n",
    "-> only considers Unicode decimal digits (no float)\n",
    "-> syntax:\n",
    "        string.isdecimal()"
   ]
  },
  {
   "cell_type": "code",
   "execution_count": 25,
   "id": "397af94c-9d41-4d85-9c38-f31fdd4535ec",
   "metadata": {},
   "outputs": [
    {
     "name": "stdout",
     "output_type": "stream",
     "text": [
      "True\n"
     ]
    }
   ],
   "source": [
    "# Example\n",
    "str1=\"02347373\"\n",
    "print(str1.isdecimal())"
   ]
  },
  {
   "cell_type": "code",
   "execution_count": 26,
   "id": "326738ef-bab9-4ec2-a049-b9137af4009f",
   "metadata": {},
   "outputs": [
    {
     "name": "stdout",
     "output_type": "stream",
     "text": [
      "False\n"
     ]
    }
   ],
   "source": [
    "str2=\"0123  str  \"\n",
    "print(str2.isdecimal())"
   ]
  },
  {
   "cell_type": "markdown",
   "id": "e45e8c66-63ff-484a-8491-2c1aaabd78b1",
   "metadata": {},
   "source": [
    "## isdigit()"
   ]
  },
  {
   "cell_type": "code",
   "execution_count": null,
   "id": "e5ca33d2-6e11-4499-9bc1-4d189263f919",
   "metadata": {},
   "outputs": [],
   "source": [
    "-> returns True if the characters in the string are decimal digits (0-9,unicode digits too)\n",
    "   and the string is not empty\n",
    "-> syntax:\n",
    "        string.isdigit()"
   ]
  },
  {
   "cell_type": "code",
   "execution_count": 27,
   "id": "902263df-df26-404f-89a4-6ce6396545f2",
   "metadata": {},
   "outputs": [
    {
     "data": {
      "text/plain": [
       "65"
      ]
     },
     "execution_count": 27,
     "metadata": {},
     "output_type": "execute_result"
    }
   ],
   "source": [
    "ord('A')"
   ]
  },
  {
   "cell_type": "code",
   "execution_count": 28,
   "id": "8ff06410-53e1-4170-9a01-f9e9c593f0ec",
   "metadata": {},
   "outputs": [
    {
     "name": "stdout",
     "output_type": "stream",
     "text": [
      "False\n"
     ]
    }
   ],
   "source": [
    "str1=\"123AB\"\n",
    "print(str1.isdigit())"
   ]
  },
  {
   "cell_type": "code",
   "execution_count": 29,
   "id": "75c15322-052c-4e2d-a642-4e78c3f78683",
   "metadata": {},
   "outputs": [
    {
     "name": "stdout",
     "output_type": "stream",
     "text": [
      "True\n"
     ]
    }
   ],
   "source": [
    "str2=\"12345\"\n",
    "print(str2.isdigit())"
   ]
  },
  {
   "cell_type": "markdown",
   "id": "6b88e87a-5664-4f84-9cf8-281cb8f77f21",
   "metadata": {},
   "source": [
    "## isnumeric()"
   ]
  },
  {
   "cell_type": "code",
   "execution_count": 30,
   "id": "8f59be7d-10d3-48bf-8cf2-0f873690a58f",
   "metadata": {},
   "outputs": [
    {
     "name": "stdout",
     "output_type": "stream",
     "text": [
      "True\n"
     ]
    }
   ],
   "source": [
    "num_str=\"12345\"\n",
    "print(num_str.isnumeric())"
   ]
  },
  {
   "cell_type": "code",
   "execution_count": 31,
   "id": "49adb295-b67f-4843-bbdf-aac1320441c7",
   "metadata": {},
   "outputs": [
    {
     "name": "stdout",
     "output_type": "stream",
     "text": [
      "False\n"
     ]
    }
   ],
   "source": [
    "num_str1=\"1/2\"\n",
    "print(num_str1.isnumeric())"
   ]
  },
  {
   "cell_type": "markdown",
   "id": "5683ed2c-2845-4bd2-805a-9a3d8439aa2d",
   "metadata": {},
   "source": [
    "## islower()"
   ]
  },
  {
   "cell_type": "code",
   "execution_count": null,
   "id": "e31e7d85-6572-4b8d-a235-9844c1d59033",
   "metadata": {},
   "outputs": [],
   "source": [
    "-> returns True if all cased characters in the string are lowercase \n",
    "-> and string contains atleast one cased character returns False otherwise\n",
    "-> syntax:\n",
    "        string.islower()"
   ]
  },
  {
   "cell_type": "code",
   "execution_count": 1,
   "id": "3cb21664-4948-4444-a4c7-2381857e294a",
   "metadata": {},
   "outputs": [
    {
     "data": {
      "text/plain": [
       "True"
      ]
     },
     "execution_count": 1,
     "metadata": {},
     "output_type": "execute_result"
    }
   ],
   "source": [
    "# example\n",
    "str1=\"hello world\"\n",
    "str1.islower()"
   ]
  },
  {
   "cell_type": "code",
   "execution_count": 2,
   "id": "252586d1-c833-4c1c-b2b2-14e98d09aee6",
   "metadata": {},
   "outputs": [
    {
     "data": {
      "text/plain": [
       "True"
      ]
     },
     "execution_count": 2,
     "metadata": {},
     "output_type": "execute_result"
    }
   ],
   "source": [
    "str2=\"Hello world\"\n",
    "str1.islower()"
   ]
  },
  {
   "cell_type": "markdown",
   "id": "6b62fdd4-d820-4de4-8e35-189d5ab6d523",
   "metadata": {},
   "source": [
    "## isupper()"
   ]
  },
  {
   "cell_type": "code",
   "execution_count": 4,
   "id": "b86a9d59-0635-45d8-9ec2-44b934912f62",
   "metadata": {},
   "outputs": [],
   "source": [
    "-> returns True if all cased characters in the string are uppercase\n",
    "-> and string contains atleast one cased character returns False\n",
    "-> syntax:\n",
    "        string.isupper()"
   ]
  },
  {
   "cell_type": "code",
   "execution_count": 6,
   "id": "be5ade03-e88a-4543-851b-194c80645bd5",
   "metadata": {},
   "outputs": [
    {
     "data": {
      "text/plain": [
       "True"
      ]
     },
     "execution_count": 6,
     "metadata": {},
     "output_type": "execute_result"
    }
   ],
   "source": [
    "# example\n",
    "str1=\"HELLO WORLD\"\n",
    "str1.isupper()"
   ]
  },
  {
   "cell_type": "code",
   "execution_count": 7,
   "id": "73c6576c-06fa-41c6-ad8b-19532dabbc22",
   "metadata": {},
   "outputs": [
    {
     "data": {
      "text/plain": [
       "False"
      ]
     },
     "execution_count": 7,
     "metadata": {},
     "output_type": "execute_result"
    }
   ],
   "source": [
    "str2=\"HELLO worLD\"\n",
    "str2.isupper()"
   ]
  },
  {
   "cell_type": "markdown",
   "id": "a2018adc-e7bc-48d6-8f1c-54e48a0930fe",
   "metadata": {},
   "source": [
    "## istitle()"
   ]
  },
  {
   "cell_type": "code",
   "execution_count": null,
   "id": "5ef28a9a-efbf-49d6-9acb-edd9d349f302",
   "metadata": {},
   "outputs": [],
   "source": [
    "-> returns True if first letter of each word is uppercase and remaining are lowercase\n",
    "-> otherwise returns False\n",
    "-> string.istitle()"
   ]
  },
  {
   "cell_type": "code",
   "execution_count": 8,
   "id": "aef4701e-de60-41f5-8dc0-72ef3f9c5574",
   "metadata": {},
   "outputs": [
    {
     "data": {
      "text/plain": [
       "True"
      ]
     },
     "execution_count": 8,
     "metadata": {},
     "output_type": "execute_result"
    }
   ],
   "source": [
    "# Example\n",
    "str1=\"Hello World\"\n",
    "str1.istitle()"
   ]
  },
  {
   "cell_type": "code",
   "execution_count": 9,
   "id": "0185b9f1-afad-4922-b204-fde8fdc6ae98",
   "metadata": {},
   "outputs": [
    {
     "data": {
      "text/plain": [
       "False"
      ]
     },
     "execution_count": 9,
     "metadata": {},
     "output_type": "execute_result"
    }
   ],
   "source": [
    "str2=\"hello WorlD\"\n",
    "str2.istitle()"
   ]
  },
  {
   "cell_type": "markdown",
   "id": "36f3ab10-8e2b-439c-a1db-ad860bbdfbdf",
   "metadata": {},
   "source": [
    "## isspace()"
   ]
  },
  {
   "cell_type": "code",
   "execution_count": null,
   "id": "a77ef920-35d8-4f6f-9c13-231fdae1486c",
   "metadata": {},
   "outputs": [],
   "source": [
    "-> returns True is all the characters in the string are white spaces only and the string is not empty\n",
    "-> otherwise returns False\n",
    "-> syntax:\n",
    "        string.isspace()"
   ]
  },
  {
   "cell_type": "code",
   "execution_count": 10,
   "id": "70faee56-1fcf-4801-a230-0dad621c83fa",
   "metadata": {},
   "outputs": [
    {
     "data": {
      "text/plain": [
       "True"
      ]
     },
     "execution_count": 10,
     "metadata": {},
     "output_type": "execute_result"
    }
   ],
   "source": [
    "# Example\n",
    "str1=\"    \"\n",
    "str1.isspace()"
   ]
  },
  {
   "cell_type": "code",
   "execution_count": 11,
   "id": "9ab13ccd-9f48-4ba8-9149-81a2e4f81a22",
   "metadata": {},
   "outputs": [
    {
     "data": {
      "text/plain": [
       "False"
      ]
     },
     "execution_count": 11,
     "metadata": {},
     "output_type": "execute_result"
    }
   ],
   "source": [
    "str2=\"\"\n",
    "str2.isspace()"
   ]
  },
  {
   "cell_type": "markdown",
   "id": "249424fd-74f4-4d1b-ba7a-ee1a6625259b",
   "metadata": {},
   "source": [
    "## zfill()"
   ]
  },
  {
   "cell_type": "code",
   "execution_count": null,
   "id": "eb65eaa0-bd7b-4c6e-a615-38200869cdee",
   "metadata": {},
   "outputs": [],
   "source": [
    "-> used to adjust the length of the string\n",
    "-> adds 0's at the beginning of the string to reach a specific width\n",
    "-> if original string's length is already greater or equal to the width, it returns to the original sting"
   ]
  },
  {
   "cell_type": "code",
   "execution_count": 12,
   "id": "b2928aa9-3b08-4268-8368-eb6669754e3a",
   "metadata": {},
   "outputs": [
    {
     "name": "stdout",
     "output_type": "stream",
     "text": [
      "3\n",
      "0000000567\n"
     ]
    }
   ],
   "source": [
    "# example\n",
    "str1=\"567\"\n",
    "print(len(str1))\n",
    "print(str1.zfill(10))"
   ]
  },
  {
   "cell_type": "code",
   "execution_count": 13,
   "id": "febfd86c-41be-454c-98f1-56b5dda1a76c",
   "metadata": {},
   "outputs": [
    {
     "data": {
      "text/plain": [
       "'12345678'"
      ]
     },
     "execution_count": 13,
     "metadata": {},
     "output_type": "execute_result"
    }
   ],
   "source": [
    "str2=\"12345678\"\n",
    "str2.zfill(5)"
   ]
  },
  {
   "cell_type": "markdown",
   "id": "65348b3c-c64c-419e-8366-79bd6116699b",
   "metadata": {},
   "source": [
    "## center()"
   ]
  },
  {
   "cell_type": "code",
   "execution_count": null,
   "id": "9560565d-058f-4caf-8da0-21d6788c3df7",
   "metadata": {},
   "outputs": [],
   "source": [
    "-> returns a centered string with a specified width\n",
    "-> original string is centered, remaining space is filled with a specified fill character\n",
    "   (default is a space)\n",
    "-> syntax:\n",
    "        string.center() # in braces we give character to fill"
   ]
  },
  {
   "cell_type": "code",
   "execution_count": 17,
   "id": "a73222a2-f198-42df-8e1e-40fd20c30420",
   "metadata": {},
   "outputs": [
    {
     "name": "stdout",
     "output_type": "stream",
     "text": [
      "  PYTHON  \n",
      "**PYTHON**\n",
      "__PYTHON__\n"
     ]
    }
   ],
   "source": [
    "# Example\n",
    "str1=\"PYTHON\"\n",
    "print(str1.center(10))\n",
    "print(str1.center(10,\"*\"))\n",
    "print(str1.center(10,\"_\"))"
   ]
  },
  {
   "cell_type": "markdown",
   "id": "bf17f674-bfa1-4d0f-970a-4678d516645b",
   "metadata": {},
   "source": []
  }
 ],
 "metadata": {
  "kernelspec": {
   "display_name": "Python 3 (ipykernel)",
   "language": "python",
   "name": "python3"
  },
  "language_info": {
   "codemirror_mode": {
    "name": "ipython",
    "version": 3
   },
   "file_extension": ".py",
   "mimetype": "text/x-python",
   "name": "python",
   "nbconvert_exporter": "python",
   "pygments_lexer": "ipython3",
   "version": "3.13.5"
  }
 },
 "nbformat": 4,
 "nbformat_minor": 5
}
