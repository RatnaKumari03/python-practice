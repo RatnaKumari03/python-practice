{
 "cells": [
  {
   "cell_type": "markdown",
   "id": "25f0a182-f317-40f0-9dfb-24c8617a14e4",
   "metadata": {},
   "source": [
    "## Exception Handling"
   ]
  },
  {
   "cell_type": "code",
   "execution_count": null,
   "id": "1dcd2840-56d5-4dc2-a387-3352b6cb982c",
   "metadata": {},
   "outputs": [],
   "source": [
    "-> When we run codes there will be some types of errors like:\n",
    "NameError\n",
    "IndexError\n",
    "FileNotFoundError\n"
   ]
  },
  {
   "cell_type": "code",
   "execution_count": 1,
   "id": "b8134ab8-7a84-4073-a4b1-275983d9a236",
   "metadata": {},
   "outputs": [
    {
     "ename": "NameError",
     "evalue": "name 'python' is not defined",
     "output_type": "error",
     "traceback": [
      "\u001b[1;31m---------------------------------------------------------------------------\u001b[0m",
      "\u001b[1;31mNameError\u001b[0m                                 Traceback (most recent call last)",
      "Cell \u001b[1;32mIn[1], line 1\u001b[0m\n\u001b[1;32m----> 1\u001b[0m \u001b[38;5;28mprint\u001b[39m(python)\n\u001b[0;32m      2\u001b[0m \u001b[38;5;28mprint\u001b[39m(\u001b[38;5;124m'\u001b[39m\u001b[38;5;124mpython\u001b[39m\u001b[38;5;124m'\u001b[39m)\n",
      "\u001b[1;31mNameError\u001b[0m: name 'python' is not defined"
     ]
    }
   ],
   "source": [
    "print(python)\n",
    "print('python')"
   ]
  },
  {
   "cell_type": "code",
   "execution_count": 2,
   "id": "2f620fbf-1e43-4a5c-8c98-b3923f2a533d",
   "metadata": {},
   "outputs": [
    {
     "ename": "IndentationError",
     "evalue": "unexpected indent (3303488590.py, line 2)",
     "output_type": "error",
     "traceback": [
      "\u001b[1;36m  Cell \u001b[1;32mIn[2], line 2\u001b[1;36m\u001b[0m\n\u001b[1;33m    print('python')\u001b[0m\n\u001b[1;37m    ^\u001b[0m\n\u001b[1;31mIndentationError\u001b[0m\u001b[1;31m:\u001b[0m unexpected indent\n"
     ]
    }
   ],
   "source": [
    "print('python')\n",
    "   print('python')"
   ]
  },
  {
   "cell_type": "code",
   "execution_count": 3,
   "id": "5276bbd8-8860-44e5-ade4-d6b1eefbad7b",
   "metadata": {},
   "outputs": [
    {
     "ename": "ZeroDivisionError",
     "evalue": "division by zero",
     "output_type": "error",
     "traceback": [
      "\u001b[1;31m---------------------------------------------------------------------------\u001b[0m",
      "\u001b[1;31mZeroDivisionError\u001b[0m                         Traceback (most recent call last)",
      "Cell \u001b[1;32mIn[3], line 1\u001b[0m\n\u001b[1;32m----> 1\u001b[0m a\u001b[38;5;241m=\u001b[39m\u001b[38;5;241m10\u001b[39m\u001b[38;5;241m/\u001b[39m\u001b[38;5;241m0\u001b[39m\n\u001b[0;32m      2\u001b[0m \u001b[38;5;28mprint\u001b[39m(a)\n",
      "\u001b[1;31mZeroDivisionError\u001b[0m: division by zero"
     ]
    }
   ],
   "source": [
    "a=10/0\n",
    "print(a)"
   ]
  },
  {
   "cell_type": "code",
   "execution_count": 4,
   "id": "138ccdcf-56ef-45d5-9a11-faeab3efd545",
   "metadata": {},
   "outputs": [
    {
     "ename": "IndexError",
     "evalue": "list index out of range",
     "output_type": "error",
     "traceback": [
      "\u001b[1;31m---------------------------------------------------------------------------\u001b[0m",
      "\u001b[1;31mIndexError\u001b[0m                                Traceback (most recent call last)",
      "Cell \u001b[1;32mIn[4], line 2\u001b[0m\n\u001b[0;32m      1\u001b[0m list1\u001b[38;5;241m=\u001b[39m[\u001b[38;5;241m1\u001b[39m,\u001b[38;5;241m2\u001b[39m,\u001b[38;5;241m3\u001b[39m,\u001b[38;5;241m4\u001b[39m]\n\u001b[1;32m----> 2\u001b[0m list1[\u001b[38;5;241m4\u001b[39m]\n",
      "\u001b[1;31mIndexError\u001b[0m: list index out of range"
     ]
    }
   ],
   "source": [
    "list1=[1,2,3,4]\n",
    "list1[4]"
   ]
  },
  {
   "cell_type": "code",
   "execution_count": null,
   "id": "42e6932a-2996-4139-8d95-5e1530996a41",
   "metadata": {},
   "outputs": [],
   "source": [
    "-> exception handling is a way handling the errors during program execution,preventing\n",
    "   crashes and ensuring smooth operation\n",
    "-> it allows us to write code that can 'catch' issues like above, invalid inputs,\n",
    "   missing files, or division by zero etc... and respond gracefully"
   ]
  },
  {
   "cell_type": "code",
   "execution_count": null,
   "id": "426ded5b-bc2a-46f5-9042-61ab9dfcdf88",
   "metadata": {},
   "outputs": [],
   "source": [
    "Exception: An error that disrupts normal program flow"
   ]
  },
  {
   "cell_type": "code",
   "execution_count": null,
   "id": "4d0582be-1934-4f67-acf9-c0c49e240273",
   "metadata": {},
   "outputs": [],
   "source": [
    "try--> code that might raise an exception(error)\n",
    "except--> code that handles the exception\n",
    "else--> code that runs if no exception occurs\n",
    "finally--> code that always runs,regardless of error"
   ]
  },
  {
   "cell_type": "code",
   "execution_count": null,
   "id": "8bfada72-3ed3-4b70-8249-8aa6fd626365",
   "metadata": {},
   "outputs": [],
   "source": [
    "#structure\n",
    "try:\n",
    "    #main code\n",
    "    ....\n",
    "    ....\n",
    "except:\n",
    "    #exception block\n",
    "else:\n",
    "    #code when we don't get error\n",
    "finally:\n",
    "    #here we write the final code which will be executed"
   ]
  },
  {
   "cell_type": "code",
   "execution_count": 6,
   "id": "fd387a73-024c-4e79-bbc2-d67c781e3dd0",
   "metadata": {},
   "outputs": [
    {
     "name": "stdout",
     "output_type": "stream",
     "text": [
      "try block\n",
      "else block\n",
      "This is finally block\n"
     ]
    }
   ],
   "source": [
    "try:\n",
    "    print(\"try block\")\n",
    "except:\n",
    "    print(\"except block\")\n",
    "else:\n",
    "    print(\"else block\")\n",
    "finally:\n",
    "    print(\"This is finally block\")"
   ]
  },
  {
   "cell_type": "code",
   "execution_count": 10,
   "id": "0cf46266-b3f1-4b94-b0d9-53ab134c4691",
   "metadata": {},
   "outputs": [
    {
     "name": "stdout",
     "output_type": "stream",
     "text": [
      "try block\n",
      "list1 [1, 2, 3, 4]\n",
      "except block\n"
     ]
    }
   ],
   "source": [
    "try:\n",
    "    print(\"try block\")\n",
    "    list1=[1,2,3,4]\n",
    "    print('list1',list1)\n",
    "    print(list1[5])\n",
    "    print(\"hello\")\n",
    "except:\n",
    "    print(\"except block\")\n",
    "# else:\n",
    "#     print(\"else block\")\n",
    "# finally:\n",
    "#     print(\"This is finally block\")"
   ]
  },
  {
   "cell_type": "code",
   "execution_count": 12,
   "id": "90ab11ac-22d4-47c7-bfaa-7d945ea55fd2",
   "metadata": {},
   "outputs": [
    {
     "name": "stdout",
     "output_type": "stream",
     "text": [
      "file does not exist\n"
     ]
    }
   ],
   "source": [
    "try:\n",
    "    f=open('data.csv','r')\n",
    "    data=f.read()\n",
    "    print(data)\n",
    "except FileNotFoundError:\n",
    "    print(\"file does not exist\")"
   ]
  },
  {
   "cell_type": "code",
   "execution_count": 17,
   "id": "336bfefa-d570-4cab-b9cf-35afa26db190",
   "metadata": {},
   "outputs": [
    {
     "name": "stdin",
     "output_type": "stream",
     "text": [
      "Enter a number:  10\n"
     ]
    },
    {
     "name": "stdout",
     "output_type": "stream",
     "text": [
      "result 2.0\n"
     ]
    }
   ],
   "source": [
    "try:\n",
    "    num=int(input(\"Enter a number: \"))\n",
    "    print(\"result\",num/5)\n",
    "except ValueError:\n",
    "    print(\"Invalid input...please enter a number\")\n",
    "except ZeroDivisionError:   # if we have 0 in denominator then only it works\n",
    "    print(\"error: cannot divide by zero\")"
   ]
  },
  {
   "cell_type": "markdown",
   "id": "b3254476-4fed-4bf2-b0a2-fb4a8b169a26",
   "metadata": {},
   "source": [
    "## try except else"
   ]
  },
  {
   "cell_type": "code",
   "execution_count": 18,
   "id": "d873677a-8ae5-443d-963c-541c8344646b",
   "metadata": {},
   "outputs": [
    {
     "name": "stdin",
     "output_type": "stream",
     "text": [
      "Enter a number:  10\n"
     ]
    },
    {
     "name": "stdout",
     "output_type": "stream",
     "text": [
      "result 2.0\n",
      "division result\n"
     ]
    }
   ],
   "source": [
    "try:\n",
    "    num=int(input(\"Enter a number: \"))\n",
    "    print(\"result\",num/5)\n",
    "except ValueError:\n",
    "    print(\"Invalid input...please enter a number\")\n",
    "except ZeroDivisionError:   # if we have 0 in denominator then only it works\n",
    "    print(\"error: cannot divide by zero\")\n",
    "else:\n",
    "    print(\"division result\")"
   ]
  },
  {
   "cell_type": "code",
   "execution_count": 19,
   "id": "2443f1f5-4e7e-47c9-927c-5c83c06c3832",
   "metadata": {},
   "outputs": [
    {
     "name": "stdout",
     "output_type": "stream",
     "text": [
      "File was not found\n"
     ]
    }
   ],
   "source": [
    "try:\n",
    "    f=open(\"data.txt\",'r')\n",
    "    content=f.read()\n",
    "except FileNotFoundError:\n",
    "    print(\"File was not found\")\n",
    "else:\n",
    "    print(\"File Content: \",content)"
   ]
  },
  {
   "cell_type": "code",
   "execution_count": 23,
   "id": "e6559f94-fcf5-4341-9f51-781794a89f82",
   "metadata": {},
   "outputs": [
    {
     "name": "stdin",
     "output_type": "stream",
     "text": [
      "Enter index number:  5\n"
     ]
    },
    {
     "name": "stdout",
     "output_type": "stream",
     "text": [
      "You got error: list index out of range\n",
      "the type of error that you got is:  IndexError\n"
     ]
    }
   ],
   "source": [
    "# when we don't know which type of error will occur\n",
    "numbers=[100,200,300,400]\n",
    "try:\n",
    "    index=int(input(\"Enter index number: \"))\n",
    "    print(\"Value at index is: \",numbers[index])\n",
    "except Exception as e:\n",
    "    print(f\"You got error: {e}\")\n",
    "    print(\"the type of error that you got is: \",type(e).__name__) "
   ]
  },
  {
   "cell_type": "markdown",
   "id": "42b32c73-226f-4f76-868b-9e1353a83f91",
   "metadata": {},
   "source": [
    "## try except else finally"
   ]
  },
  {
   "cell_type": "code",
   "execution_count": null,
   "id": "b1f70721-e044-43ff-af2b-b4378de57b6d",
   "metadata": {},
   "outputs": [],
   "source": [
    "-> finally blocks executes regardless of errors"
   ]
  },
  {
   "cell_type": "code",
   "execution_count": 24,
   "id": "33d7d6bf-1d46-4b10-a4a0-89616f09e56a",
   "metadata": {},
   "outputs": [
    {
     "name": "stdout",
     "output_type": "stream",
     "text": [
      "try block\n",
      "Finally block\n"
     ]
    }
   ],
   "source": [
    "try:\n",
    "    print('try block')\n",
    "    f=open(\"data_science.txt\",'x')\n",
    "    f.write(\"Python and data science in try block\")\n",
    "except:\n",
    "    f=open('data_science.txt','w')\n",
    "    f.write(\"Python and data science in except block\")\n",
    "finally:\n",
    "    print('Finally block')\n",
    "    f.close()"
   ]
  },
  {
   "cell_type": "markdown",
   "id": "b251c22a-054b-4417-82d3-088e7f4ecd6f",
   "metadata": {},
   "source": [
    "## raise"
   ]
  },
  {
   "cell_type": "code",
   "execution_count": null,
   "id": "34dfecd9-be1c-44c3-a384-eed200b3f038",
   "metadata": {},
   "outputs": [],
   "source": [
    "-> The raise keyword in Python is used to manually trigger exceptions (errors) \n",
    "   during program execution.\n",
    "->raise >> keyword is used to raise an error"
   ]
  },
  {
   "cell_type": "code",
   "execution_count": 26,
   "id": "cac7eace-5475-4e1d-a259-92a72090fbd2",
   "metadata": {},
   "outputs": [
    {
     "name": "stdout",
     "output_type": "stream",
     "text": [
      "Addition of x and y is :  30\n"
     ]
    }
   ],
   "source": [
    "x=10\n",
    "y=20\n",
    "if type(x)==int and type(y)==int:\n",
    "    add=x+y\n",
    "    print(f\"Addition of x and y is : \",add)\n",
    "else:\n",
    "    raise TypeError(f'Either {x} or {y} is not an integer')"
   ]
  },
  {
   "cell_type": "code",
   "execution_count": null,
   "id": "a4c0fd49-65c1-4074-bfef-9314b8874f43",
   "metadata": {},
   "outputs": [],
   "source": []
  }
 ],
 "metadata": {
  "kernelspec": {
   "display_name": "Python 3 (ipykernel)",
   "language": "python",
   "name": "python3"
  },
  "language_info": {
   "codemirror_mode": {
    "name": "ipython",
    "version": 3
   },
   "file_extension": ".py",
   "mimetype": "text/x-python",
   "name": "python",
   "nbconvert_exporter": "python",
   "pygments_lexer": "ipython3",
   "version": "3.13.5"
  }
 },
 "nbformat": 4,
 "nbformat_minor": 5
}
